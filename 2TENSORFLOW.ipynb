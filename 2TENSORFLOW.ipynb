{
 "cells": [
  {
   "cell_type": "markdown",
   "metadata": {},
   "source": [
    "# ⭐Imports\n"
   ]
  },
  {
   "cell_type": "code",
   "execution_count": 1,
   "metadata": {},
   "outputs": [
    {
     "name": "stdout",
     "output_type": "stream",
     "text": [
      "TensorFlow Version:  2.1.0\n"
     ]
    }
   ],
   "source": [
    "from FUNCTIONS import *\n",
    "%matplotlib inline"
   ]
  },
  {
   "cell_type": "markdown",
   "metadata": {},
   "source": [
    "---"
   ]
  },
  {
   "cell_type": "markdown",
   "metadata": {},
   "source": [
    "# ⭐ Building Classifier"
   ]
  },
  {
   "cell_type": "markdown",
   "metadata": {
    "jupyter": {
     "source_hidden": true
    }
   },
   "source": [
    "## 🔵 Step 1: Preprocess Data (Create Dataset)"
   ]
  },
  {
   "cell_type": "markdown",
   "metadata": {
    "jupyter": {
     "source_hidden": true
    }
   },
   "source": [
    "1. Preprocess Signal & Background Data\n",
    "2. Concatenate & Shuffle signal/background data\n",
    "3. Convert to tf.data.Dataset object\n",
    "\n"
   ]
  },
  {
   "cell_type": "markdown",
   "metadata": {
    "jupyter": {
     "source_hidden": true
    }
   },
   "source": [
    "## 🔵 Step 2: Create Batches"
   ]
  },
  {
   "cell_type": "markdown",
   "metadata": {
    "jupyter": {
     "source_hidden": true
    }
   },
   "source": [
    "Batches: number of events with which you update trained parameters once\n",
    "\n",
    "- `Dataset.prefetch()` overlaps data preprocessing and model execution while training.\n",
    "\n",
    "- `Dataset.cache()` keeps the images in memory after they're loaded off disk during the first epoch. This will ensure the dataset does not become a bottleneck while training your model. If your dataset is too large to fit into memory, you can also use this method to create a performant on-disk cache.\n",
    "\n",
    "Theory guide: https://www.tensorflow.org/guide/data_performance#prefetching"
   ]
  },
  {
   "cell_type": "markdown",
   "metadata": {
    "jupyter": {
     "source_hidden": true
    }
   },
   "source": [
    "## 🔵 ML Notes\n",
    "### 🔴 Compile the Model\n"
   ]
  },
  {
   "cell_type": "markdown",
   "metadata": {
    "jupyter": {
     "source_hidden": true
    }
   },
   "source": [
    "- **Optimizer** -- Determines how the model is updated based on the data it sees and its loss function\n",
    "- **Loss Function** -- Measures how accurate the model is during training\n",
    "- **Metrics** -- Monitors the training and testing steps. "
   ]
  },
  {
   "cell_type": "markdown",
   "metadata": {},
   "source": [
    "### 🔴 Fit the Model"
   ]
  },
  {
   "cell_type": "markdown",
   "metadata": {
    "jupyter": {
     "source_hidden": true
    }
   },
   "source": [
    "## Notes"
   ]
  },
  {
   "cell_type": "markdown",
   "metadata": {
    "jupyter": {
     "source_hidden": true
    }
   },
   "source": [
    "**Early Stopping**: <br /> \n",
    "Stop training when there is no improvement in the validation loss for 5 consecutive epochs or when metric gain is less than 0.001\n",
    "\n",
    "**Save Best**: <br />\n",
    "Saves the best model"
   ]
  },
  {
   "cell_type": "markdown",
   "metadata": {
    "jupyter": {
     "source_hidden": true
    }
   },
   "source": [
    "## Notes\n",
    "#### Activation Function (non normalised)\n",
    "- **Relu**: sometimes results in all predictions being 0 \n",
    "- **tanh**: solves this issue; accuracy (n = 1): 73\n",
    "- **softsign**: solves and performs similarly to tanh\n",
    "- **elu**: solves and performs slightly better than tanh\n",
    "\n",
    "#### Activation Function (log)\n",
    "- **softsign**: only softsign works. accuracy: 67\n",
    "\n",
    "#### Activation Function (normal)\n",
    "- Nothing has worked\n",
    "\n",
    "### Other hyperparameters\n",
    "- kernel_size = 2, 3, 5, 7 perform best (very similarly to one another)\n",
    "- padding = 'valid', 'same' result in very similar performance\n",
    "- filters: tried small (8 in all) to large (256 in all) and they perform similarly to one another. "
   ]
  },
  {
   "cell_type": "markdown",
   "metadata": {
    "jupyter": {
     "source_hidden": true
    }
   },
   "source": [
    "Create Dataset"
   ]
  },
  {
   "cell_type": "code",
   "execution_count": 3,
   "metadata": {
    "jupyter": {
     "source_hidden": true
    }
   },
   "outputs": [
    {
     "name": "stdout",
     "output_type": "stream",
     "text": [
      "Time taken for signal: 83.347 minutes\n"
     ]
    }
   ],
   "source": [
    "# # # Create Datasets\n",
    "# start = time.time()\n",
    "# data_s = create_dataset('data/dataset_s_180k.dat')\n",
    "# data_b = create_dataset('data/dataset_b_180k.dat')\n",
    "# end = time.time()\n",
    "# print('Time taken for signal: {:.3f} minutes'.format((end-start)/60))\n",
    "\n",
    "# # Save Datasets\n",
    "# pd.DataFrame(data_s).to_csv('data_s_180k')\n",
    "# pd.DataFrame(data_b).to_csv('data_b_180k')"
   ]
  },
  {
   "cell_type": "markdown",
   "metadata": {},
   "source": [
    "Load "
   ]
  },
  {
   "cell_type": "code",
   "execution_count": 9,
   "metadata": {},
   "outputs": [],
   "source": [
    "# MAIN\n",
    "data_s = np.array(pd.read_csv('data/data_s_500k').iloc[:, 1:])\n",
    "data_b = np.array(pd.read_csv('data/data_b_500k').iloc[:, 1:])\n",
    "\n",
    "# Slice & Save\n",
    "events_no = int(100000)\n",
    "data_s = data_s[0:events_no*40, 0:40]\n",
    "data_b = data_b[0:events_no*40, 0:40]"
   ]
  },
  {
   "cell_type": "code",
   "execution_count": 9,
   "metadata": {},
   "outputs": [
    {
     "name": "stdout",
     "output_type": "stream",
     "text": [
      "Time taken: 232.061 minutes\n"
     ]
    }
   ],
   "source": [
    "# # Create Datasets\n",
    "# start = time.time()\n",
    "# data_s = create_dataset('data/dataset_s_500k.dat')\n",
    "# data_b = create_dataset('data/dataset_b_500k.dat')\n",
    "# end = time.time()\n",
    "# print('Time taken: {:.3f} minutes'.format((end-start)/60))\n",
    "\n",
    "# # Save Datasets\n",
    "# pd.DataFrame(data_s).to_csv('data_s_500k')\n",
    "# pd.DataFrame(data_b).to_csv('data_b_500k')"
   ]
  },
  {
   "cell_type": "markdown",
   "metadata": {},
   "source": [
    "ML Preprocess"
   ]
  },
  {
   "cell_type": "code",
   "execution_count": 10,
   "metadata": {},
   "outputs": [
    {
     "name": "stdout",
     "output_type": "stream",
     "text": [
      "Total Events: 200000\n",
      "Total Labels: 200000\n",
      "Shape:  (200000, 40, 40, 1)\n",
      " \n",
      "Train:  (139400, 40, 40, 1) (139400,)\n",
      "Val:  (30600, 40, 40, 1) (30600,)\n",
      "Test:  (30000, 40, 40, 1) (30000,)\n",
      " \n",
      "<TensorSliceDataset shapes: ((40, 40, 1), ()), types: (tf.float64, tf.float64)>\n",
      "<TensorSliceDataset shapes: ((40, 40, 1), ()), types: (tf.float64, tf.float64)>\n",
      "<TensorSliceDataset shapes: ((40, 40, 1), ()), types: (tf.float64, tf.float64)>\n",
      "<PrefetchDataset shapes: ((64, 40, 40, 1), (64,)), types: (tf.int64, tf.int64)>\n",
      "\n",
      "train, val, test:  2178 478 468\n"
     ]
    },
    {
     "data": {
      "image/png": "[encoded data removed]",
      "text/plain": [
       "<Figure size 1080x720 with 6 Axes>"
      ]
     },
     "metadata": {
      "needs_background": "light"
     },
     "output_type": "display_data"
    }
   ],
   "source": [
    "batch_size=64\n",
    "train_batches, val_batches, test_batches, num_of_batches_train, num_of_batches_val, num_of_batches_test = preprocess_ML_tf(data_s, data_b, batch_size=batch_size)"
   ]
  },
  {
   "cell_type": "markdown",
   "metadata": {},
   "source": [
    "#### 🔴 Confusion Matrix & ROC Curve (unseen test data)\n",
    "\n",
    "Note ROC: For relu activation function (i.e. model outputs two probabilities per event, [P(background), P(signal)]"
   ]
  },
  {
   "cell_type": "code",
   "execution_count": 8,
   "metadata": {},
   "outputs": [
    {
     "data": {
      "text/plain": [
       "<tensorflow.python.keras.engine.sequential.Sequential at 0x2267cb12a88>"
      ]
     },
     "execution_count": 8,
     "metadata": {},
     "output_type": "execute_result"
    }
   ],
   "source": [
    "model1"
   ]
  },
  {
   "cell_type": "code",
   "execution_count": 15,
   "metadata": {},
   "outputs": [
    {
     "name": "stderr",
     "output_type": "stream",
     "text": [
      "ERROR:root:Internal Python error in the inspect module.\n",
      "Below is the traceback from this internal error.\n",
      "\n"
     ]
    },
    {
     "name": "stdout",
     "output_type": "stream",
     "text": [
      "Traceback (most recent call last):\n",
      "  File \"C:\\Users\\johng\\anaconda3\\lib\\site-packages\\IPython\\core\\interactiveshell.py\", line 3331, in run_code\n",
      "    exec(code_obj, self.user_global_ns, self.user_ns)\n",
      "  File \"<ipython-input-15-189cc6854889>\", line 1, in <module>\n",
      "    model0 = tf.keras.models.load_model('models/model_relu_7579_1mil.h5')\n",
      "  File \"C:\\Users\\johng\\anaconda3\\lib\\site-packages\\tensorflow_core\\python\\keras\\saving\\save.py\", line 146, in load_model\n",
      "    return hdf5_format.load_model_from_hdf5(filepath, custom_objects, compile)\n",
      "  File \"C:\\Users\\johng\\anaconda3\\lib\\site-packages\\tensorflow_core\\python\\keras\\saving\\hdf5_format.py\", line 168, in load_model_from_hdf5\n",
      "    custom_objects=custom_objects)\n",
      "  File \"C:\\Users\\johng\\anaconda3\\lib\\site-packages\\tensorflow_core\\python\\keras\\saving\\model_config.py\", line 55, in model_from_config\n",
      "    return deserialize(config, custom_objects=custom_objects)\n",
      "  File \"C:\\Users\\johng\\anaconda3\\lib\\site-packages\\tensorflow_core\\python\\keras\\layers\\serialization.py\", line 106, in deserialize\n",
      "    printable_module_name='layer')\n",
      "  File \"C:\\Users\\johng\\anaconda3\\lib\\site-packages\\tensorflow_core\\python\\keras\\utils\\generic_utils.py\", line 303, in deserialize_keras_object\n",
      "    list(custom_objects.items())))\n",
      "  File \"C:\\Users\\johng\\anaconda3\\lib\\site-packages\\tensorflow_core\\python\\keras\\engine\\sequential.py\", line 377, in from_config\n",
      "    custom_objects=custom_objects)\n",
      "  File \"C:\\Users\\johng\\anaconda3\\lib\\site-packages\\tensorflow_core\\python\\keras\\layers\\serialization.py\", line 106, in deserialize\n",
      "    printable_module_name='layer')\n",
      "  File \"C:\\Users\\johng\\anaconda3\\lib\\site-packages\\tensorflow_core\\python\\keras\\utils\\generic_utils.py\", line 305, in deserialize_keras_object\n",
      "    return cls.from_config(cls_config)\n",
      "  File \"C:\\Users\\johng\\anaconda3\\lib\\site-packages\\tensorflow_core\\python\\keras\\engine\\base_layer.py\", line 519, in from_config\n",
      "    return cls(**config)\n",
      "  File \"C:\\Users\\johng\\anaconda3\\lib\\site-packages\\tensorflow_core\\python\\keras\\layers\\convolutional.py\", line 527, in __init__\n",
      "    **kwargs)\n",
      "  File \"C:\\Users\\johng\\anaconda3\\lib\\site-packages\\tensorflow_core\\python\\keras\\layers\\convolutional.py\", line 122, in __init__\n",
      "    **kwargs)\n",
      "  File \"C:\\Users\\johng\\anaconda3\\lib\\site-packages\\tensorflow_core\\python\\training\\tracking\\base.py\", line 457, in _method_wrapper\n",
      "    result = method(self, *args, **kwargs)\n",
      "  File \"C:\\Users\\johng\\anaconda3\\lib\\site-packages\\tensorflow_core\\python\\keras\\engine\\base_layer.py\", line 186, in __init__\n",
      "    generic_utils.validate_kwargs(kwargs, allowed_kwargs)\n",
      "  File \"C:\\Users\\johng\\anaconda3\\lib\\site-packages\\tensorflow_core\\python\\keras\\utils\\generic_utils.py\", line 718, in validate_kwargs\n",
      "    raise TypeError(error_message, kwarg)\n",
      "TypeError: ('Keyword argument not understood:', 'groups')\n",
      "\n",
      "During handling of the above exception, another exception occurred:\n",
      "\n",
      "Traceback (most recent call last):\n",
      "  File \"C:\\Users\\johng\\anaconda3\\lib\\site-packages\\IPython\\core\\interactiveshell.py\", line 2044, in showtraceback\n",
      "    stb = value._render_traceback_()\n",
      "AttributeError: 'TypeError' object has no attribute '_render_traceback_'\n",
      "\n",
      "During handling of the above exception, another exception occurred:\n",
      "\n",
      "Traceback (most recent call last):\n",
      "  File \"C:\\Users\\johng\\anaconda3\\lib\\site-packages\\IPython\\core\\ultratb.py\", line 1148, in get_records\n",
      "    return _fixed_getinnerframes(etb, number_of_lines_of_context, tb_offset)\n",
      "  File \"C:\\Users\\johng\\anaconda3\\lib\\site-packages\\IPython\\core\\ultratb.py\", line 316, in wrapped\n",
      "    return f(*args, **kwargs)\n",
      "  File \"C:\\Users\\johng\\anaconda3\\lib\\site-packages\\IPython\\core\\ultratb.py\", line 350, in _fixed_getinnerframes\n",
      "    records = fix_frame_records_filenames(inspect.getinnerframes(etb, context))\n",
      "  File \"C:\\Users\\johng\\anaconda3\\lib\\inspect.py\", line 1502, in getinnerframes\n",
      "    frameinfo = (tb.tb_frame,) + getframeinfo(tb, context)\n",
      "  File \"C:\\Users\\johng\\anaconda3\\lib\\inspect.py\", line 1460, in getframeinfo\n",
      "    filename = getsourcefile(frame) or getfile(frame)\n",
      "  File \"C:\\Users\\johng\\anaconda3\\lib\\inspect.py\", line 696, in getsourcefile\n",
      "    if getattr(getmodule(object, filename), '__loader__', None) is not None:\n",
      "  File \"C:\\Users\\johng\\anaconda3\\lib\\inspect.py\", line 733, in getmodule\n",
      "    if ismodule(module) and hasattr(module, '__file__'):\n",
      "  File \"C:\\Users\\johng\\anaconda3\\lib\\site-packages\\tensorflow\\__init__.py\", line 50, in __getattr__\n",
      "    module = self._load()\n",
      "  File \"C:\\Users\\johng\\anaconda3\\lib\\site-packages\\tensorflow\\__init__.py\", line 44, in _load\n",
      "    module = _importlib.import_module(self.__name__)\n",
      "  File \"C:\\Users\\johng\\anaconda3\\lib\\importlib\\__init__.py\", line 127, in import_module\n",
      "    return _bootstrap._gcd_import(name[level:], package, level)\n",
      "  File \"<frozen importlib._bootstrap>\", line 1006, in _gcd_import\n",
      "  File \"<frozen importlib._bootstrap>\", line 983, in _find_and_load\n",
      "  File \"<frozen importlib._bootstrap>\", line 965, in _find_and_load_unlocked\n",
      "ModuleNotFoundError: No module named 'tensorflow_core.estimator'\n"
     ]
    },
    {
     "ename": "TypeError",
     "evalue": "('Keyword argument not understood:', 'groups')",
     "output_type": "error",
     "traceback": [
      "\u001b[1;31m---------------------------------------------------------------------------\u001b[0m"
     ]
    }
   ],
   "source": [
    "model0 = tf.keras.models.load_model('models/model_relu_7579_1mil.h5')\n",
    "model1 = tf.keras.models.load_model('models/model_7774.h5')\n",
    "model2 = tf.keras.models.load_model('models/model_7971.h5')\n",
    "\n",
    "models = [model0, model1, model2]"
   ]
  },
  {
   "cell_type": "code",
   "execution_count": 19,
   "metadata": {},
   "outputs": [
    {
     "name": "stdout",
     "output_type": "stream",
     "text": [
      "Model: \"sequential_1\"\n",
      "_________________________________________________________________\n",
      "Layer (type)                 Output Shape              Param #   \n",
      "=================================================================\n",
      "conv2d_3 (Conv2D)            (None, 38, 38, 16)        160       \n",
      "_________________________________________________________________\n",
      "max_pooling2d_3 (MaxPooling2 (None, 19, 19, 16)        0         \n",
      "_________________________________________________________________\n",
      "conv2d_4 (Conv2D)            (None, 17, 17, 32)        4640      \n",
      "_________________________________________________________________\n",
      "max_pooling2d_4 (MaxPooling2 (None, 8, 8, 32)          0         \n",
      "_________________________________________________________________\n",
      "conv2d_5 (Conv2D)            (None, 6, 6, 64)          18496     \n",
      "_________________________________________________________________\n",
      "max_pooling2d_5 (MaxPooling2 (None, 3, 3, 64)          0         \n",
      "_________________________________________________________________\n",
      "flatten_1 (Flatten)          (None, 576)               0         \n",
      "_________________________________________________________________\n",
      "dense_2 (Dense)              (None, 128)               73856     \n",
      "_________________________________________________________________\n",
      "dense_3 (Dense)              (None, 2)                 258       \n",
      "=================================================================\n",
      "Total params: 97,410\n",
      "Trainable params: 97,410\n",
      "Non-trainable params: 0\n",
      "_________________________________________________________________\n"
     ]
    }
   ],
   "source": []
  },
  {
   "cell_type": "code",
   "execution_count": 12,
   "metadata": {},
   "outputs": [
    {
     "name": "stdout",
     "output_type": "stream",
     "text": [
      "[[0.77006767 0.22993233]\n",
      " [0.25870413 0.74129587]]\n"
     ]
    },
    {
     "data": {
      "image/png": "[encoded data removed]",
      "text/plain": [
       "<Figure size 432x288 with 2 Axes>"
      ]
     },
     "metadata": {
      "needs_background": "light"
     },
     "output_type": "display_data"
    },
    {
     "name": "stdout",
     "output_type": "stream",
     "text": [
      "[[0.79353811 0.20646189]\n",
      " [0.29242557 0.70757443]]\n"
     ]
    },
    {
     "data": {
      "image/png": "[encoded data removed]",
      "text/plain": [
       "<Figure size 432x288 with 2 Axes>"
      ]
     },
     "metadata": {
      "needs_background": "light"
     },
     "output_type": "display_data"
    }
   ],
   "source": [
    "cmx_tf(models, test_batches, num_of_batches_test)"
   ]
  },
  {
   "cell_type": "code",
   "execution_count": null,
   "metadata": {},
   "outputs": [],
   "source": [
    "cmx_tf(models, test_batches, num_of_batches_test)"
   ]
  },
  {
   "cell_type": "code",
   "execution_count": null,
   "metadata": {},
   "outputs": [],
   "source": [
    "ROC3_tf(model0, model1, model2, test_batches, num_of_batches_test)"
   ]
  },
  {
   "cell_type": "markdown",
   "metadata": {},
   "source": [
    "---\n",
    "\n",
    "---"
   ]
  },
  {
   "cell_type": "markdown",
   "metadata": {},
   "source": [
    "---\n",
    "\n",
    "---"
   ]
  },
  {
   "cell_type": "markdown",
   "metadata": {},
   "source": [
    "---\n",
    "\n",
    "---"
   ]
  },
  {
   "cell_type": "markdown",
   "metadata": {},
   "source": [
    "---\n",
    "\n",
    "---"
   ]
  },
  {
   "cell_type": "markdown",
   "metadata": {},
   "source": [
    "# 🔵 Build the Model"
   ]
  },
  {
   "cell_type": "markdown",
   "metadata": {},
   "source": [
    "### 🔴 Learning Curve (underfitting test)\n",
    "Determine whether a larger dataset could improve performance"
   ]
  },
  {
   "cell_type": "code",
   "execution_count": 5,
   "metadata": {},
   "outputs": [
    {
     "name": "stdout",
     "output_type": "stream",
     "text": [
      "\n",
      "\n",
      " 0.1 \n",
      "\n",
      "Accuracy on the Test Set: 74.0%\n",
      "\n",
      "\n",
      " 0.2 \n",
      "\n",
      "Accuracy on the Test Set: 74.2%\n",
      "\n",
      "\n",
      " 0.4 \n",
      "\n",
      "Accuracy on the Test Set: 74.5%\n",
      "\n",
      "\n",
      " 0.6 \n",
      "\n",
      "Accuracy on the Test Set: 75.5%\n",
      "\n",
      "\n",
      " 0.8 \n",
      "\n",
      "Accuracy on the Test Set: 73.6%\n",
      "\n",
      "\n",
      " 1 \n",
      "\n",
      "Accuracy on the Test Set: 75.6%\n"
     ]
    },
    {
     "data": {
      "image/png": "[encoded data removed]",
      "text/plain": [
       "<Figure size 432x288 with 1 Axes>"
      ]
     },
     "metadata": {
      "needs_background": "light"
     },
     "output_type": "display_data"
    }
   ],
   "source": [
    "learning_curve(train_batches, val_batches, test_batches, num_of_batches_train, num_of_batches_val)"
   ]
  },
  {
   "cell_type": "markdown",
   "metadata": {},
   "source": [
    "### 🔴 Train Model (with Hyperparameter Tuning)"
   ]
  },
  {
   "cell_type": "code",
   "execution_count": 23,
   "metadata": {},
   "outputs": [
    {
     "name": "stdout",
     "output_type": "stream",
     "text": [
      "\n",
      "\n",
      " relu \n",
      "\n",
      "Train for 108 steps, validate for 23 steps\n",
      "Epoch 1/25\n",
      "108/108 [==============================] - 4s 41ms/step - loss: 0.6559 - accuracy: 0.6529 - val_loss: 0.6297 - val_accuracy: 0.6787\n",
      "Epoch 2/25\n",
      "108/108 [==============================] - 4s 37ms/step - loss: 0.6341 - accuracy: 0.6772 - val_loss: 0.6190 - val_accuracy: 0.6916\n",
      "Epoch 3/25\n",
      "108/108 [==============================] - 4s 37ms/step - loss: 0.6230 - accuracy: 0.6892 - val_loss: 0.6283 - val_accuracy: 0.6807\n",
      "Epoch 4/25\n",
      "108/108 [==============================] - 4s 37ms/step - loss: 0.6255 - accuracy: 0.6856 - val_loss: 0.6174 - val_accuracy: 0.6936\n",
      "Epoch 5/25\n",
      "108/108 [==============================] - 4s 37ms/step - loss: 0.6281 - accuracy: 0.6836 - val_loss: 0.6156 - val_accuracy: 0.6957\n",
      "Epoch 6/25\n",
      "108/108 [==============================] - 4s 38ms/step - loss: 0.6144 - accuracy: 0.6982 - val_loss: 0.6238 - val_accuracy: 0.6868\n",
      "Epoch 7/25\n",
      "108/108 [==============================] - 4s 37ms/step - loss: 0.6319 - accuracy: 0.6807 - val_loss: 0.6121 - val_accuracy: 0.7004\n",
      "Epoch 8/25\n",
      "108/108 [==============================] - 4s 37ms/step - loss: 0.6220 - accuracy: 0.6907 - val_loss: 0.6230 - val_accuracy: 0.6889\n",
      "Epoch 9/25\n",
      "108/108 [==============================] - 4s 37ms/step - loss: 0.6455 - accuracy: 0.6668 - val_loss: 0.6112 - val_accuracy: 0.7004\n",
      "Epoch 10/25\n",
      "108/108 [==============================] - 4s 37ms/step - loss: 0.6194 - accuracy: 0.6937 - val_loss: 0.6230 - val_accuracy: 0.6895\n",
      "Epoch 11/25\n",
      "108/108 [==============================] - 4s 37ms/step - loss: 0.6166 - accuracy: 0.6962 - val_loss: 0.6229 - val_accuracy: 0.6902\n",
      "Epoch 12/25\n",
      "108/108 [==============================] - 4s 37ms/step - loss: 0.6260 - accuracy: 0.6869 - val_loss: 0.6369 - val_accuracy: 0.6760\n",
      "Epoch 13/25\n",
      "108/108 [==============================] - 4s 37ms/step - loss: 0.6386 - accuracy: 0.6742 - val_loss: 0.6167 - val_accuracy: 0.6957\n",
      "Epoch 14/25\n",
      "108/108 [==============================] - 4s 37ms/step - loss: 0.6195 - accuracy: 0.6937 - val_loss: 0.6148 - val_accuracy: 0.6990\n",
      "Epoch 15/25\n",
      "108/108 [==============================] - 4s 37ms/step - loss: 0.6256 - accuracy: 0.6872 - val_loss: 0.6228 - val_accuracy: 0.6902\n",
      "Epoch 16/25\n",
      "108/108 [==============================] - 4s 37ms/step - loss: 0.6270 - accuracy: 0.6861 - val_loss: 0.6277 - val_accuracy: 0.6855\n",
      "Epoch 17/25\n",
      "108/108 [==============================] - 4s 37ms/step - loss: 0.6223 - accuracy: 0.6908 - val_loss: 0.6163 - val_accuracy: 0.6970\n",
      "Epoch 18/25\n",
      "108/108 [==============================] - 4s 37ms/step - loss: 0.6182 - accuracy: 0.6949 - val_loss: 0.6199 - val_accuracy: 0.6923\n",
      "Epoch 19/25\n",
      "108/108 [==============================] - 4s 37ms/step - loss: 0.6423 - accuracy: 0.6707 - val_loss: 0.6167 - val_accuracy: 0.6957\n",
      "Epoch 20/25\n",
      "108/108 [==============================] - 4s 38ms/step - loss: 0.6805 - accuracy: 0.6325 - val_loss: 0.8167 - val_accuracy: 0.4966\n",
      "Epoch 21/25\n",
      "108/108 [==============================] - 4s 37ms/step - loss: 0.6632 - accuracy: 0.6499 - val_loss: 0.6153 - val_accuracy: 0.6977\n",
      "Epoch 22/25\n",
      "108/108 [==============================] - 4s 37ms/step - loss: 0.6213 - accuracy: 0.6920 - val_loss: 0.6149 - val_accuracy: 0.6984\n",
      "Epoch 23/25\n",
      "108/108 [==============================] - 4s 37ms/step - loss: 0.6211 - accuracy: 0.6920 - val_loss: 0.6219 - val_accuracy: 0.6909\n",
      "Epoch 24/25\n",
      "108/108 [==============================] - 4s 37ms/step - loss: 0.6290 - accuracy: 0.6842 - val_loss: 0.6620 - val_accuracy: 0.6515\n",
      "Epoch 25/25\n",
      "108/108 [==============================] - 4s 37ms/step - loss: 0.6397 - accuracy: 0.6736 - val_loss: 0.6155 - val_accuracy: 0.6977\n",
      "\n",
      "Loss on the Test Set: 0.619\n",
      "Accuracy on the Test Set: 69.4%\n"
     ]
    }
   ],
   "source": [
    "input_shape=(40, 40, 1)\n",
    "kernel_size = 2\n",
    "padding='valid'\n",
    "activation = 'relu'\n",
    "\n",
    "activations = ['elu', 'exponential', 'hard_sigmoid', 'linear', 'relu', 'selu', 'sigmoid', 'softmax', 'softplus', 'softsign', 'tanh']\n",
    "kernels = [1, 3, 5, 7, 9, 11]\n",
    "paddings = ['valid', 'same']\n",
    "paddings = ['valid']\n",
    "filters = [8, 16, 64, 256, 512]\n",
    "\n",
    "for padding in paddings:\n",
    "\n",
    "    model = tf.keras.Sequential([\n",
    "              tf.keras.Input(shape=input_shape),\n",
    "              tf.keras.layers.Conv2D(16, kernel_size=kernel_size, padding=padding, activation=activation),\n",
    "              tf.keras.layers.Dropout(0.4),\n",
    "              tf.keras.layers.MaxPooling2D(),\n",
    "              tf.keras.layers.Conv2D(32, kernel_size=kernel_size, padding=padding, activation=activation),\n",
    "              tf.keras.layers.Dropout(0.4),\n",
    "              tf.keras.layers.MaxPooling2D(),\n",
    "              tf.keras.layers.Conv2D(64, kernel_size=kernel_size, padding=padding, activation=activation),\n",
    "              tf.keras.layers.Dropout(0.4),\n",
    "              tf.keras.layers.MaxPooling2D(),\n",
    "              tf.keras.layers.Flatten(),\n",
    "              tf.keras.layers.Dense(128, activation=activation),\n",
    "              tf.keras.layers.Dropout(0.4),\n",
    "              tf.keras.layers.Dense(2, activation = 'softmax')\n",
    "    ])\n",
    "\n",
    "\n",
    "    # Compile Model\n",
    "    model.compile(optimizer='adam',\n",
    "                  loss=tf.keras.losses.SparseCategoricalCrossentropy(from_logits=True),\n",
    "                  metrics=['accuracy'])\n",
    "\n",
    "    \n",
    "    # Callbacks\n",
    "    early_stopping = tf.keras.callbacks.EarlyStopping(monitor='loss', patience=111, min_delta = 0.001)\n",
    "    save_best = tf.keras.callbacks.ModelCheckpoint('./model_recent.h5', monitor='loss', save_best_only=True)\n",
    "\n",
    "    print('\\n\\n', activation, '\\n')\n",
    "\n",
    "    # Fit model to training data\n",
    "    EPOCHS = 25\n",
    "\n",
    "    history = model.fit(train_batches, \n",
    "              epochs=EPOCHS,\n",
    "              callbacks= [early_stopping, save_best],\n",
    "              validation_data=val_batches, \n",
    "              verbose=1\n",
    "              )\n",
    "    \n",
    "    loss, accuracy = model.evaluate(test_batches, verbose=0)\n",
    "\n",
    "    print('\\nLoss on the Test Set: {:,.3f}'.format(loss))\n",
    "    print('Accuracy on the Test Set: {:.1%}'.format(accuracy))"
   ]
  },
  {
   "cell_type": "code",
   "execution_count": 16,
   "metadata": {},
   "outputs": [
    {
     "name": "stdout",
     "output_type": "stream",
     "text": [
      "\n",
      "\n",
      " relu \n",
      "\n",
      "Train for 108 steps, validate for 23 steps\n",
      "Epoch 1/5\n",
      "108/108 [==============================] - 4s 41ms/step - loss: 0.6526 - accuracy: 0.6534 - val_loss: 0.6273 - val_accuracy: 0.6841\n",
      "Epoch 2/5\n",
      "108/108 [==============================] - 4s 37ms/step - loss: 0.6197 - accuracy: 0.6904 - val_loss: 0.6249 - val_accuracy: 0.6855\n",
      "Epoch 3/5\n",
      "108/108 [==============================] - 4s 37ms/step - loss: 0.6195 - accuracy: 0.6923 - val_loss: 0.6101 - val_accuracy: 0.6997\n",
      "Epoch 4/5\n",
      "108/108 [==============================] - 4s 37ms/step - loss: 0.6140 - accuracy: 0.6975 - val_loss: 0.6083 - val_accuracy: 0.7018\n",
      "Epoch 5/5\n",
      "108/108 [==============================] - 4s 37ms/step - loss: 0.6114 - accuracy: 0.7001 - val_loss: 0.6113 - val_accuracy: 0.6990\n",
      "\n",
      "Loss on the Test Set: 0.618\n",
      "Accuracy on the Test Set: 69.2%\n"
     ]
    }
   ],
   "source": [
    "input_shape=(40, 40, 1)\n",
    "kernel_size = 2\n",
    "padding='valid'\n",
    "activation = 'relu'\n",
    "\n",
    "activations = ['elu', 'exponential', 'hard_sigmoid', 'linear', 'relu', 'selu', 'sigmoid', 'softmax', 'softplus', 'softsign', 'tanh']\n",
    "kernels = [1, 3, 5, 7, 9, 11]\n",
    "paddings = ['valid', 'same']\n",
    "paddings = ['valid']\n",
    "filters = [8, 16, 64, 256, 512]\n",
    "\n",
    "for padding in paddings:\n",
    "\n",
    "    model = tf.keras.Sequential([\n",
    "              tf.keras.Input(shape=input_shape),\n",
    "              tf.keras.layers.Conv2D(16, kernel_size=kernel_size, padding=padding, activation=activation),\n",
    "              tf.keras.layers.Dropout(0.2),\n",
    "              tf.keras.layers.MaxPooling2D(),\n",
    "              tf.keras.layers.Conv2D(32, kernel_size=kernel_size, padding=padding, activation=activation),\n",
    "              tf.keras.layers.Dropout(0.2),\n",
    "              tf.keras.layers.MaxPooling2D(),\n",
    "              tf.keras.layers.Conv2D(64, kernel_size=kernel_size, padding=padding, activation=activation),\n",
    "              tf.keras.layers.Dropout(0.2),\n",
    "              tf.keras.layers.MaxPooling2D(),\n",
    "              tf.keras.layers.Flatten(),\n",
    "              tf.keras.layers.Dense(128, activation=activation),\n",
    "              tf.keras.layers.Dropout(0.2),\n",
    "              tf.keras.layers.Dense(2, activation = 'softmax')\n",
    "    ])\n",
    "\n",
    "\n",
    "    # Compile Model\n",
    "    model.compile(optimizer='adam',\n",
    "                  loss=tf.keras.losses.SparseCategoricalCrossentropy(from_logits=True),\n",
    "                  metrics=['accuracy'])\n",
    "\n",
    "    \n",
    "    # Callbacks\n",
    "    early_stopping = tf.keras.callbacks.EarlyStopping(monitor='loss', patience=5, min_delta = 0.001)\n",
    "    save_best = tf.keras.callbacks.ModelCheckpoint('./model_recent.h5', monitor='loss', save_best_only=True)\n",
    "\n",
    "    print('\\n\\n', activation, '\\n')\n",
    "\n",
    "    # Fit model to training data\n",
    "    EPOCHS = 5\n",
    "\n",
    "    history = model.fit(train_batches, \n",
    "              epochs=EPOCHS,\n",
    "              callbacks= [early_stopping, save_best],\n",
    "              validation_data=val_batches, \n",
    "              verbose=1\n",
    "              )\n",
    "    \n",
    "    loss, accuracy = model.evaluate(test_batches, verbose=0)\n",
    "\n",
    "    print('\\nLoss on the Test Set: {:,.3f}'.format(loss))\n",
    "    print('Accuracy on the Test Set: {:.1%}'.format(accuracy))"
   ]
  },
  {
   "cell_type": "markdown",
   "metadata": {},
   "source": [
    "#### 🔴 Model-Complexity Graph \n",
    "\n",
    "How performance changes with epochs"
   ]
  },
  {
   "cell_type": "code",
   "execution_count": null,
   "metadata": {},
   "outputs": [],
   "source": [
    "model_complexity_graph(history)"
   ]
  },
  {
   "cell_type": "markdown",
   "metadata": {},
   "source": [
    "#### 🔴 Evaluate Model"
   ]
  },
  {
   "cell_type": "code",
   "execution_count": null,
   "metadata": {},
   "outputs": [],
   "source": [
    "model = tf.keras.models.load_model('model_relu_7570.h5')\n",
    "#model.summary()\n",
    "\n",
    "loss, accuracy = model.evaluate(test_batches, verbose=0)\n",
    "\n",
    "print('\\nLoss on the TEST Set: {:,.3f}'.format(loss))\n",
    "print('Accuracy on the TEST Set: {:.1%}'.format(accuracy))"
   ]
  },
  {
   "cell_type": "markdown",
   "metadata": {},
   "source": [
    "#### 🔴 Visualise Predictions"
   ]
  },
  {
   "cell_type": "code",
   "execution_count": null,
   "metadata": {},
   "outputs": [],
   "source": [
    "visualise_preds(model, test_batches)"
   ]
  },
  {
   "cell_type": "code",
   "execution_count": null,
   "metadata": {},
   "outputs": [],
   "source": []
  },
  {
   "cell_type": "code",
   "execution_count": null,
   "metadata": {},
   "outputs": [],
   "source": []
  },
  {
   "cell_type": "code",
   "execution_count": null,
   "metadata": {},
   "outputs": [],
   "source": []
  },
  {
   "cell_type": "code",
   "execution_count": null,
   "metadata": {},
   "outputs": [],
   "source": []
  }
 ],
 "metadata": {
  "kernelspec": {
   "display_name": "Python 3",
   "language": "python",
   "name": "python3"
  },
  "language_info": {
   "codemirror_mode": {
    "name": "ipython",
    "version": 3
   },
   "file_extension": ".py",
   "mimetype": "text/x-python",
   "name": "python",
   "nbconvert_exporter": "python",
   "pygments_lexer": "ipython3",
   "version": "3.7.7"
  }
 },
 "nbformat": 4,
 "nbformat_minor": 4
}

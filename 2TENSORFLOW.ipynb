{
 "cells": [
  {
   "cell_type": "markdown",
   "metadata": {},
   "source": [
    "# ⭐Imports\n"
   ]
  },
  {
   "cell_type": "code",
   "execution_count": 1,
   "metadata": {},
   "outputs": [
    {
     "name": "stdout",
     "output_type": "stream",
     "text": [
      "TensorFlow Version:  2.1.0\n"
     ]
    }
   ],
   "source": [
    "from processing_functions import *\n",
    "%matplotlib inline"
   ]
  },
  {
   "cell_type": "markdown",
   "metadata": {},
   "source": [
    "---"
   ]
  },
  {
   "cell_type": "markdown",
   "metadata": {},
   "source": [
    "# ⭐ Building Classifier"
   ]
  },
  {
   "cell_type": "markdown",
   "metadata": {},
   "source": [
    "## 🔵 Step 1: Preprocess Data (Create Dataset)"
   ]
  },
  {
   "cell_type": "markdown",
   "metadata": {},
   "source": [
    "1. Preprocess Signal & Background Data\n",
    "2. Concatenate & Shuffle signal/background data\n",
    "3. Convert to tf.data.Dataset object\n",
    "\n"
   ]
  },
  {
   "cell_type": "markdown",
   "metadata": {},
   "source": [
    "## 🔵 Step 2: Create Batches"
   ]
  },
  {
   "cell_type": "markdown",
   "metadata": {},
   "source": [
    "Batches: number of events with which you update trained parameters once\n",
    "\n",
    "- `Dataset.prefetch()` overlaps data preprocessing and model execution while training.\n",
    "\n",
    "- `Dataset.cache()` keeps the images in memory after they're loaded off disk during the first epoch. This will ensure the dataset does not become a bottleneck while training your model. If your dataset is too large to fit into memory, you can also use this method to create a performant on-disk cache.\n",
    "\n",
    "Theory guide: https://www.tensorflow.org/guide/data_performance#prefetching"
   ]
  },
  {
   "cell_type": "markdown",
   "metadata": {},
   "source": [
    "## 🔵 ML Notes\n",
    "### 🔴 Compile the Model\n"
   ]
  },
  {
   "cell_type": "markdown",
   "metadata": {},
   "source": [
    "- **Optimizer** -- Determines how the model is updated based on the data it sees and its loss function\n",
    "- **Loss Function** -- Measures how accurate the model is during training\n",
    "- **Metrics** -- Monitors the training and testing steps. "
   ]
  },
  {
   "cell_type": "markdown",
   "metadata": {},
   "source": [
    "### 🔴 Fit the Model"
   ]
  },
  {
   "cell_type": "markdown",
   "metadata": {},
   "source": [
    "## Notes"
   ]
  },
  {
   "cell_type": "markdown",
   "metadata": {},
   "source": [
    "**Early Stopping**: <br /> \n",
    "Stop training when there is no improvement in the validation loss for 5 consecutive epochs or when metric gain is less than 0.001\n",
    "\n",
    "**Save Best**: <br />\n",
    "Saves the best model"
   ]
  },
  {
   "cell_type": "markdown",
   "metadata": {},
   "source": [
    "## Notes\n",
    "#### Activation Function (non normalised)\n",
    "- **Relu**: sometimes results in all predictions being 0 \n",
    "- **tanh**: solves this issue; accuracy (n = 1): 73\n",
    "- **softsign**: solves and performs similarly to tanh\n",
    "- **elu**: solves and performs slightly better than tanh\n",
    "\n",
    "#### Activation Function (log)\n",
    "- **softsign**: only softsign works. accuracy: 67\n",
    "\n",
    "#### Activation Function (normal)\n",
    "- Nothing has worked\n",
    "\n",
    "### Other hyperparameters\n",
    "- kernel_size = 2, 3, 5, 7 perform best (very similarly to one another)\n",
    "- padding = 'valid', 'same' result in very similar performance\n",
    "- filters: tried small (8 in all) to large (256 in all) and they perform similarly to one another. "
   ]
  },
  {
   "cell_type": "markdown",
   "metadata": {},
   "source": [
    "Create Dataset"
   ]
  },
  {
   "cell_type": "code",
   "execution_count": 2,
   "metadata": {},
   "outputs": [
    {
     "name": "stdout",
     "output_type": "stream",
     "text": [
      "Time taken for signal: 11.583 minutes\n"
     ]
    }
   ],
   "source": [
    "# # Create Datasets\n",
    "# start = time.time()\n",
    "# data_s = create_dataset('dataset_signal_50000.dat')\n",
    "# data_b = create_dataset('dataset_background_50000.dat')\n",
    "# end = time.time()\n",
    "# print('Time taken for signal: {:.3f} minutes'.format((end-start)/60))\n",
    "\n",
    "# # Save Datasets\n",
    "# pd.DataFrame(data_s).to_csv('data_s_1000')\n",
    "# pd.DataFrame(data_b).to_csv('data_b_1000')"
   ]
  },
  {
   "cell_type": "markdown",
   "metadata": {},
   "source": [
    "Load "
   ]
  },
  {
   "cell_type": "code",
   "execution_count": 2,
   "metadata": {},
   "outputs": [],
   "source": [
    "# MAIN\n",
    "data_s = np.array(pd.read_csv('data/data_s_100k_log').iloc[:, 1:])\n",
    "data_b = np.array(pd.read_csv('data/data_b_100k_log').iloc[:, 1:])\n",
    "\n",
    "# Slice & Save\n",
    "data_s = data_s[0:50000*40, 0:40]\n",
    "data_b = data_b[0:50000*40, 0:40]\n",
    "\n",
    "# # Save Datasets\n",
    "# pd.DataFrame(data_s).to_csv('data_s_1000')\n",
    "# pd.DataFrame(data_b).to_csv('data_b_1000')"
   ]
  },
  {
   "cell_type": "markdown",
   "metadata": {},
   "source": [
    "ML Preprocess"
   ]
  },
  {
   "cell_type": "code",
   "execution_count": 6,
   "metadata": {},
   "outputs": [
    {
     "name": "stdout",
     "output_type": "stream",
     "text": [
      "Total Events: 100000\n",
      "Total Labels: 100000\n",
      "Shape:  (100000, 40, 40, 1)\n",
      " \n",
      "Train:  (69700, 40, 40, 1) (69700,)\n",
      "Val:  (15300, 40, 40, 1) (15300,)\n",
      "Test:  (15000, 40, 40, 1) (15000,)\n",
      " \n",
      "<TensorSliceDataset shapes: ((40, 40, 1), ()), types: (tf.float64, tf.float64)>\n",
      "<TensorSliceDataset shapes: ((40, 40, 1), ()), types: (tf.float64, tf.float64)>\n",
      "<TensorSliceDataset shapes: ((40, 40, 1), ()), types: (tf.float64, tf.float64)>\n",
      "WARNING:tensorflow:AutoGraph could not transform <function normalise at 0x00000150C3573678> and will run it as-is.\n",
      "Please report this to the TensorFlow team. When filing the bug, set the verbosity to 10 (on Linux, `export AUTOGRAPH_VERBOSITY=10`) and attach the full output.\n",
      "Cause: No module named 'tensorflow_core.estimator'\n",
      "WARNING: AutoGraph could not transform <function normalise at 0x00000150C3573678> and will run it as-is.\n",
      "Please report this to the TensorFlow team. When filing the bug, set the verbosity to 10 (on Linux, `export AUTOGRAPH_VERBOSITY=10`) and attach the full output.\n",
      "Cause: No module named 'tensorflow_core.estimator'\n",
      "<PrefetchDataset shapes: ((64, 40, 40, 1), (64,)), types: (tf.int64, tf.int64)>\n",
      "\n",
      "train, val, test:  1089 239 234\n"
     ]
    },
    {
     "data": {
      "image/png": "[encoded data removed]",
      "text/plain": [
       "<Figure size 1080x720 with 6 Axes>"
      ]
     },
     "metadata": {
      "needs_background": "light"
     },
     "output_type": "display_data"
    }
   ],
   "source": [
    "batch_size=64\n",
    "train_batches, val_batches, test_batches, num_of_batches_train, num_of_batches_val, num_of_batches_test = preprocess_ML_tf(data_s, data_b, batch_size=batch_size)"
   ]
  },
  {
   "cell_type": "markdown",
   "metadata": {},
   "source": [
    "#### 🔴 Confusion Matrix & ROC Curve (unseen test data)\n",
    "\n",
    "Note ROC: For relu activation function (i.e. model outputs two probabilities per event, [P(background), P(signal)]"
   ]
  },
  {
   "cell_type": "code",
   "execution_count": null,
   "metadata": {},
   "outputs": [],
   "source": [
    "model0 = tf.keras.models.load_model('model_recent.h5')\n",
    "model1 = tf.keras.models.load_model('models/model_80-73_log.h5')\n",
    "model2 = tf.keras.models.load_model('models/model_78-75_log.h5')\n",
    "\n",
    "models = [model0, model1, model2]"
   ]
  },
  {
   "cell_type": "code",
   "execution_count": null,
   "metadata": {},
   "outputs": [],
   "source": [
    "cmx_tf(models, test_batches, num_of_batches_test)"
   ]
  },
  {
   "cell_type": "code",
   "execution_count": null,
   "metadata": {},
   "outputs": [],
   "source": [
    "cmx_tf(models, test_batches, num_of_batches_test)"
   ]
  },
  {
   "cell_type": "code",
   "execution_count": null,
   "metadata": {},
   "outputs": [],
   "source": [
    "ROC3_tf(model0, model1, model2, test_batches, num_of_batches_test)"
   ]
  },
  {
   "cell_type": "markdown",
   "metadata": {},
   "source": [
    "---\n",
    "\n",
    "---"
   ]
  },
  {
   "cell_type": "markdown",
   "metadata": {},
   "source": [
    "---\n",
    "\n",
    "---"
   ]
  },
  {
   "cell_type": "markdown",
   "metadata": {},
   "source": [
    "---\n",
    "\n",
    "---"
   ]
  },
  {
   "cell_type": "markdown",
   "metadata": {},
   "source": [
    "---\n",
    "\n",
    "---"
   ]
  },
  {
   "cell_type": "markdown",
   "metadata": {},
   "source": [
    "# 🔵 Build the Model"
   ]
  },
  {
   "cell_type": "markdown",
   "metadata": {},
   "source": [
    "### 🔴 Learning Curve (underfitting test)\n",
    "Determine whether a larger dataset could improve performance"
   ]
  },
  {
   "cell_type": "code",
   "execution_count": 7,
   "metadata": {},
   "outputs": [
    {
     "name": "stdout",
     "output_type": "stream",
     "text": [
      "\n",
      "\n",
      " 0.1 \n",
      "\n",
      "Accuracy on the Test Set: 72.7%\n",
      "\n",
      "\n",
      " 0.2 \n",
      "\n",
      "Accuracy on the Test Set: 72.5%\n",
      "\n",
      "\n",
      " 0.4 \n",
      "\n",
      "Accuracy on the Test Set: 73.7%\n",
      "\n",
      "\n",
      " 0.6 \n",
      "\n",
      "Accuracy on the Test Set: 74.2%\n",
      "\n",
      "\n",
      " 0.8 \n",
      "\n",
      "Accuracy on the Test Set: 73.6%\n",
      "\n",
      "\n",
      " 1 \n",
      "\n",
      "Accuracy on the Test Set: 74.9%\n"
     ]
    },
    {
     "data": {
      "image/png": "[encoded data removed]",
      "text/plain": [
       "<Figure size 432x288 with 1 Axes>"
      ]
     },
     "metadata": {
      "needs_background": "light"
     },
     "output_type": "display_data"
    }
   ],
   "source": [
    "learning_curve(train_batches, val_batches, test_batches, num_of_batches_train, num_of_batches_val)"
   ]
  },
  {
   "cell_type": "markdown",
   "metadata": {},
   "source": [
    "### 🔴 Train Model (with Hyperparameter Tuning)"
   ]
  },
  {
   "cell_type": "code",
   "execution_count": 8,
   "metadata": {},
   "outputs": [
    {
     "name": "stdout",
     "output_type": "stream",
     "text": [
      "\n",
      "\n",
      " relu \n",
      "\n",
      "Train for 1089 steps, validate for 239 steps\n",
      "Epoch 1/5\n",
      "1089/1089 [==============================] - 38s 35ms/step - loss: 0.6363 - accuracy: 0.6756 - val_loss: 0.6938 - val_accuracy: 0.6191\n",
      "Epoch 2/5\n",
      "1089/1089 [==============================] - 38s 35ms/step - loss: 0.6251 - accuracy: 0.6879 - val_loss: 0.6149 - val_accuracy: 0.6981\n",
      "Epoch 3/5\n",
      "1089/1089 [==============================] - 38s 35ms/step - loss: 0.6241 - accuracy: 0.6890 - val_loss: 0.6213 - val_accuracy: 0.6917\n",
      "Epoch 4/5\n",
      "1089/1089 [==============================] - 37s 34ms/step - loss: 0.6223 - accuracy: 0.6908 - val_loss: 0.6379 - val_accuracy: 0.6753\n",
      "Epoch 5/5\n",
      "1089/1089 [==============================] - 37s 34ms/step - loss: 0.6282 - accuracy: 0.6851 - val_loss: 0.6118 - val_accuracy: 0.7015\n",
      "\n",
      "Loss on the Test Set: 0.623\n",
      "Accuracy on the Test Set: 69.0%\n"
     ]
    }
   ],
   "source": [
    "input_shape=(40, 40, 1)\n",
    "kernel_size = 2\n",
    "padding='valid'\n",
    "activation = 'relu'\n",
    "\n",
    "activations = ['elu', 'exponential', 'hard_sigmoid', 'linear', 'relu', 'selu', 'sigmoid', 'softmax', 'softplus', 'softsign', 'tanh']\n",
    "kernels = [1, 3, 5, 7, 9, 11]\n",
    "paddings = ['valid', 'same']\n",
    "paddings = ['valid']\n",
    "filters = [8, 16, 64, 256, 512]\n",
    "\n",
    "for padding in paddings:\n",
    "\n",
    "    model = tf.keras.Sequential([\n",
    "              tf.keras.Input(shape=input_shape),\n",
    "              tf.keras.layers.Conv2D(16, kernel_size=kernel_size, padding=padding, activation=activation),\n",
    "              tf.keras.layers.Dropout(0.2),\n",
    "              tf.keras.layers.MaxPooling2D(),\n",
    "              tf.keras.layers.Conv2D(32, kernel_size=kernel_size, padding=padding, activation=activation),\n",
    "              tf.keras.layers.Dropout(0.2),\n",
    "              tf.keras.layers.MaxPooling2D(),\n",
    "              tf.keras.layers.Conv2D(64, kernel_size=kernel_size, padding=padding, activation=activation),\n",
    "              tf.keras.layers.Dropout(0.2),\n",
    "              tf.keras.layers.MaxPooling2D(),\n",
    "              tf.keras.layers.Flatten(),\n",
    "              tf.keras.layers.Dense(128, activation=activation),\n",
    "              tf.keras.layers.Dropout(0.2),\n",
    "              tf.keras.layers.Dense(2, activation = 'softmax')\n",
    "    ])\n",
    "\n",
    "\n",
    "    # Compile Model\n",
    "    model.compile(optimizer='adam',\n",
    "                  loss=tf.keras.losses.SparseCategoricalCrossentropy(from_logits=True),\n",
    "                  metrics=['accuracy'])\n",
    "\n",
    "    \n",
    "    # Callbacks\n",
    "    early_stopping = tf.keras.callbacks.EarlyStopping(monitor='loss', patience=5, min_delta = 0.001)\n",
    "    save_best = tf.keras.callbacks.ModelCheckpoint('./model_recent.h5', monitor='loss', save_best_only=True)\n",
    "\n",
    "    print('\\n\\n', activation, '\\n')\n",
    "\n",
    "    # Fit model to training data\n",
    "    EPOCHS = 5\n",
    "\n",
    "    history = model.fit(train_batches, \n",
    "              epochs=EPOCHS,\n",
    "              callbacks= [early_stopping, save_best],\n",
    "              validation_data=val_batches, \n",
    "              verbose=1\n",
    "              )\n",
    "    \n",
    "    loss, accuracy = model.evaluate(test_batches, verbose=0)\n",
    "\n",
    "    print('\\nLoss on the Test Set: {:,.3f}'.format(loss))\n",
    "    print('Accuracy on the Test Set: {:.1%}'.format(accuracy))"
   ]
  },
  {
   "cell_type": "code",
   "execution_count": 9,
   "metadata": {},
   "outputs": [
    {
     "data": {
      "image/png": "[encoded data removed]",
      "text/plain": [
       "<Figure size 432x288 with 2 Axes>"
      ]
     },
     "metadata": {
      "needs_background": "light"
     },
     "output_type": "display_data"
    },
    {
     "data": {
      "image/png": "[encoded data removed]",
      "text/plain": [
       "<Figure size 432x288 with 2 Axes>"
      ]
     },
     "metadata": {
      "needs_background": "light"
     },
     "output_type": "display_data"
    },
    {
     "data": {
      "image/png": "[encoded data removed]",
      "text/plain": [
       "<Figure size 432x288 with 2 Axes>"
      ]
     },
     "metadata": {
      "needs_background": "light"
     },
     "output_type": "display_data"
    }
   ],
   "source": [
    "model0 = tf.keras.models.load_model('model_recent.h5')\n",
    "model1 = tf.keras.models.load_model('model_tanh_7360.h5')\n",
    "model2 = tf.keras.models.load_model('model_relu_7570.h5')\n",
    "\n",
    "models = [model0, model1, model2]\n",
    "\n",
    "cmx_tf(models, test_batches, num_of_batches_test)"
   ]
  },
  {
   "cell_type": "code",
   "execution_count": 10,
   "metadata": {},
   "outputs": [
    {
     "data": {
      "image/png": "[encoded data removed]",
      "text/plain": [
       "<Figure size 432x288 with 2 Axes>"
      ]
     },
     "metadata": {
      "needs_background": "light"
     },
     "output_type": "display_data"
    },
    {
     "data": {
      "image/png": "[encoded data removed]",
      "text/plain": [
       "<Figure size 432x288 with 2 Axes>"
      ]
     },
     "metadata": {
      "needs_background": "light"
     },
     "output_type": "display_data"
    },
    {
     "data": {
      "image/png": "[encoded data removed]",
      "text/plain": [
       "<Figure size 432x288 with 2 Axes>"
      ]
     },
     "metadata": {
      "needs_background": "light"
     },
     "output_type": "display_data"
    }
   ],
   "source": [
    "model0 = tf.keras.models.load_model('model_recent.h5')\n",
    "model1 = tf.keras.models.load_model('model_tanh_7360.h5')\n",
    "model2 = tf.keras.models.load_model('model_relu_7570.h5')\n",
    "\n",
    "models = [model0, model1, model2]\n",
    "\n",
    "cmx_tf(models, test_batches, num_of_batches_test)"
   ]
  },
  {
   "cell_type": "markdown",
   "metadata": {},
   "source": [
    "#### 🔴 Model-Complexity Graph \n",
    "\n",
    "How performance changes with epochs"
   ]
  },
  {
   "cell_type": "code",
   "execution_count": null,
   "metadata": {},
   "outputs": [],
   "source": [
    "# model_complexity_graph(history)"
   ]
  },
  {
   "cell_type": "markdown",
   "metadata": {},
   "source": [
    "#### 🔴 Evaluate Model"
   ]
  },
  {
   "cell_type": "code",
   "execution_count": null,
   "metadata": {},
   "outputs": [],
   "source": [
    "model = tf.keras.models.load_model('model_relu_7570.h5')\n",
    "#model.summary()\n",
    "\n",
    "loss, accuracy = model.evaluate(test_batches, verbose=0)\n",
    "\n",
    "print('\\nLoss on the TEST Set: {:,.3f}'.format(loss))\n",
    "print('Accuracy on the TEST Set: {:.1%}'.format(accuracy))"
   ]
  },
  {
   "cell_type": "markdown",
   "metadata": {},
   "source": [
    "#### 🔴 Visualise Predictions"
   ]
  },
  {
   "cell_type": "code",
   "execution_count": null,
   "metadata": {},
   "outputs": [],
   "source": [
    "visualise_preds(model, test_batches)"
   ]
  },
  {
   "cell_type": "code",
   "execution_count": null,
   "metadata": {},
   "outputs": [],
   "source": []
  },
  {
   "cell_type": "code",
   "execution_count": null,
   "metadata": {},
   "outputs": [],
   "source": []
  },
  {
   "cell_type": "code",
   "execution_count": null,
   "metadata": {},
   "outputs": [],
   "source": []
  },
  {
   "cell_type": "code",
   "execution_count": null,
   "metadata": {},
   "outputs": [],
   "source": []
  }
 ],
 "metadata": {
  "kernelspec": {
   "display_name": "Python 3",
   "language": "python",
   "name": "python3"
  },
  "language_info": {
   "codemirror_mode": {
    "name": "ipython",
    "version": 3
   },
   "file_extension": ".py",
   "mimetype": "text/x-python",
   "name": "python",
   "nbconvert_exporter": "python",
   "pygments_lexer": "ipython3",
   "version": "3.7.7"
  }
 },
 "nbformat": 4,
 "nbformat_minor": 4
}

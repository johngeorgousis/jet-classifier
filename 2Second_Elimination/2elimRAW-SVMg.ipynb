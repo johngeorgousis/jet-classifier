{
 "cells": [
  {
   "cell_type": "code",
   "execution_count": 8,
   "metadata": {},
   "outputs": [],
   "source": [
    "from FUNCTIONS import *\n",
    "%matplotlib inline\n",
    "\n",
    "import sklearn.discriminant_analysis\n",
    "random.seed(42)"
   ]
  },
  {
   "cell_type": "code",
   "execution_count": 14,
   "metadata": {},
   "outputs": [
    {
     "name": "stdout",
     "output_type": "stream",
     "text": [
      "Total Events: 200000\n",
      "Total Labels: 200000\n",
      "\n",
      "Shape:  (200000, 1600)\n",
      "\n",
      "Train:  (139400, 1600) (139400,)\n",
      "Val:  (30600, 1600) (30600,)\n",
      "Test:  (30000, 1600) (30000,)\n",
      " \n"
     ]
    },
    {
     "data": {
      "image/png": "[encoded data removed]",
      "text/plain": [
       "<Figure size 432x288 with 2 Axes>"
      ]
     },
     "metadata": {
      "needs_background": "light"
     },
     "output_type": "display_data"
    }
   ],
   "source": [
    "# MAIN\n",
    "data_s = np.array(pd.read_csv('data_s_180k').iloc[:, 1:])\n",
    "data_b = np.array(pd.read_csv('data_b_180k').iloc[:, 1:])\n",
    "\n",
    "# Slice & Save\n",
    "events_no = int(100000)\n",
    "data_s = data_s[0:events_no*40, 0:40]\n",
    "data_b = data_b[0:events_no*40, 0:40]\n",
    "\n",
    "# # Save Datasets\n",
    "# pd.DataFrame(data_s).to_csv('data_s_1000')\n",
    "# pd.DataFrame(data_b).to_csv('data_b_1000')\n",
    "\n",
    "train_examples, train_labels, val_examples, val_labels, test_examples, test_labels = preprocess_ML_sklearn(data_s, data_b)\n",
    "\n",
    "\n"
   ]
  },
  {
   "cell_type": "code",
   "execution_count": 15,
   "metadata": {},
   "outputs": [],
   "source": [
    "SVM = SVC(random_state=42)"
   ]
  },
  {
   "cell_type": "code",
   "execution_count": 16,
   "metadata": {},
   "outputs": [],
   "source": [
    "from sklearn.metrics import accuracy_score\n",
    "from sklearn.model_selection import GridSearchCV\n",
    "from sklearn.metrics import make_scorer\n",
    "import time\n",
    "\n",
    "\n",
    "# SVM\n",
    "c_parameter = [5]\n",
    "gamma = ['scale']\n",
    "# Hyperparameters\n",
    "SVM_parameters = {'C': c_parameter, 'gamma': gamma}\n",
    "# Scoring object using accuracy\n",
    "scorer = make_scorer(accuracy_score)\n",
    "clfs_param =[(SVM, SVM_parameters)]"
   ]
  },
  {
   "cell_type": "code",
   "execution_count": null,
   "metadata": {},
   "outputs": [
    {
     "name": "stdout",
     "output_type": "stream",
     "text": [
      "\n",
      "SVC\n",
      "\n",
      "Time to tune: 41107s\n"
     ]
    }
   ],
   "source": [
    "# Create list to store models\n",
    "models = []\n",
    "unopt_accuracy = []\n",
    "accuracies = []\n",
    "\n",
    "# Perform grid search\n",
    "for clf, parameter in clfs_param:\n",
    "    print('\\n{}\\n'.format(clf.__class__.__name__))\n",
    "    \n",
    "    grid_obj = GridSearchCV(clf, parameter, scoring=scorer, n_jobs = -3)\n",
    "    \n",
    "    # Perform grid search\n",
    "    start = time.time()\n",
    "    grid_fit = grid_obj.fit(train_examples, train_labels)\n",
    "    end = time.time()\n",
    "    print('Time to tune: {}s'.format(round(end - start), 2))\n",
    "    \n",
    "    # Get best estimator\n",
    "    best_clf = grid_fit.best_estimator_\n",
    "    models.append(best_clf)\n",
    "    \n",
    "    # Make predictions using the unoptimized and model\n",
    "    start = time.time()\n",
    "    predictions = (clf.fit(train_examples, train_labels)).predict(val_examples)\n",
    "    best_predictions = best_clf.predict(val_examples)\n",
    "    \n",
    "    predictions_train = (clf.fit(train_examples, train_labels)).predict(train_examples)\n",
    "    best_predictions_train = best_clf.predict(train_examples)\n",
    "    end = time.time()\n",
    "    print('Time to fit-predict: {}s\\n'.format(round(end - start), 2))\n",
    "    \n",
    "    # Check hyperparameters\n",
    "    print('Unoptimised: {}\\n'.format(clf.get_params(deep = True)))\n",
    "    print('Optimised: {}\\n'.format(best_clf.get_params(deep = True)))\n",
    "    \n",
    "    # Print Results\n",
    "    print(\"\\nUnoptimised-accuracy-training: {:.4f}\".format(accuracy_score(train_labels, predictions_train)))\n",
    "    print(\"Optimised-accuracy-training: {:.4f}\".format(accuracy_score(train_labels, best_predictions_train)))\n",
    "    \n",
    "    print(\"\\nUnoptimised-accuracy-validation: {:.4f}\".format(accuracy_score(val_labels, predictions)))\n",
    "    print(\"Optimised-accuracy-validation: {:.4f}\".format(accuracy_score(val_labels, best_predictions)))\n",
    "    \n",
    "    print('\\n\\n=============================================================================================')\n",
    "    \n",
    "    unopt_accuracy.append(accuracy_score(val_labels, predictions))\n",
    "    accuracies.append(accuracy_score(val_labels, best_predictions))\n",
    "    \n",
    "print('All unoptimised accuracy (validation): {}'.format(unopt_accuracy))\n",
    "print('Best unoptimised accuracy (validation): {}\\n'.format(max(unopt_accuracy)))\n",
    "print('All optimised accuracy (validation): {}'.format(accuracies))\n",
    "print('Best optimised accuracy (validation): {}'.format(max(accuracies)))"
   ]
  },
  {
   "cell_type": "code",
   "execution_count": null,
   "metadata": {},
   "outputs": [],
   "source": [
    "cmxx = sklearn.metrics.confusion_matrix(test_labels, models[0].predict(test_examples))\n",
    "sns.heatmap(cmxx)\n",
    "cmxx"
   ]
  },
  {
   "cell_type": "code",
   "execution_count": null,
   "metadata": {},
   "outputs": [],
   "source": [
    "print(models)\n",
    "cmx_sklearn(models, test_examples, test_labels, dim=4)"
   ]
  },
  {
   "cell_type": "code",
   "execution_count": null,
   "metadata": {},
   "outputs": [],
   "source": []
  },
  {
   "cell_type": "code",
   "execution_count": null,
   "metadata": {},
   "outputs": [],
   "source": []
  },
  {
   "cell_type": "code",
   "execution_count": null,
   "metadata": {},
   "outputs": [],
   "source": []
  }
 ],
 "metadata": {
  "environment": {
   "name": "common-cpu.m69",
   "type": "gcloud",
   "uri": "gcr.io/deeplearning-platform-release/base-cpu:m69"
  },
  "kernelspec": {
   "display_name": "Python 3",
   "language": "python",
   "name": "python3"
  },
  "language_info": {
   "codemirror_mode": {
    "name": "ipython",
    "version": 3
   },
   "file_extension": ".py",
   "mimetype": "text/x-python",
   "name": "python",
   "nbconvert_exporter": "python",
   "pygments_lexer": "ipython3",
   "version": "3.7.7"
  }
 },
 "nbformat": 4,
 "nbformat_minor": 4
}

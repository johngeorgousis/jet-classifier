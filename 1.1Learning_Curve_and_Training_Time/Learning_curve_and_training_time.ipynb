{
 "cells": [
  {
   "cell_type": "code",
   "execution_count": null,
   "metadata": {},
   "outputs": [],
   "source": [
    "from processing_functions import *\n",
    "%matplotlib inline"
   ]
  },
  {
   "cell_type": "code",
   "execution_count": null,
   "metadata": {},
   "outputs": [],
   "source": [
    "# MAIN\n",
    "data_s = np.array(pd.read_csv('data/data_s_180k').iloc[:, 1:])\n",
    "data_b = np.array(pd.read_csv('data/data_b_180k').iloc[:, 1:])\n",
    "\n",
    "# Slice & Save\n",
    "events_no = int(1e5)\n",
    "data_s = data_s[0:events_no*40, 0:40]\n",
    "data_b = data_b[0:events_no*40, 0:40]\n",
    "\n",
    "# # Save Datasets\n",
    "# pd.DataFrame(data_s).to_csv('data_s_1000')\n",
    "# pd.DataFrame(data_b).to_csv('data_b_1000')\n",
    "\n",
    "train_examples, train_labels, val_examples, val_labels, test_examples, test_labels = preprocess_ML_sklearn(data_s, data_b)\n",
    "\n",
    "import sklearn.discriminant_analysis\n",
    "random.seed(42)\n",
    "\n",
    "random_forest = RandomForestClassifier(random_state=42, n_jobs=-1)\n",
    "svm = SVC(random_state=42)\n",
    "adaboost = AdaBoostClassifier(random_state=42)\n",
    "KNN = sklearn.neighbors.KNeighborsClassifier()\n",
    "naive_bayes = MultinomialNB()\n",
    "BDT = sklearn.ensemble.GradientBoostingClassifier()\n",
    "decision_tree = DecisionTreeClassifier(random_state=42)\n",
    "naive_bayes_g = GaussianNB()\n",
    "bagging = BaggingClassifier(random_state=42, n_jobs=-1)\n",
    "SGD = sklearn.linear_model.SGDClassifier(random_state=42)\n",
    "LDA = sklearn.discriminant_analysis.LinearDiscriminantAnalysis()\n",
    "\n",
    "\n",
    "models = [naive_bayes, random_forest, svm, adaboost, KNN, BDT, decision_tree, naive_bayes_g, bagging, SGD, LDA]"
   ]
  },
  {
   "cell_type": "code",
   "execution_count": null,
   "metadata": {},
   "outputs": [],
   "source": [
    "learning_curve_sklearn(models, train_examples, train_labels, val_examples, val_labels)"
   ]
  }
 ],
 "metadata": {
  "kernelspec": {
   "display_name": "Python 3",
   "language": "python",
   "name": "python3"
  },
  "language_info": {
   "codemirror_mode": {
    "name": "ipython",
    "version": 3
   },
   "file_extension": ".py",
   "mimetype": "text/x-python",
   "name": "python",
   "nbconvert_exporter": "python",
   "pygments_lexer": "ipython3",
   "version": "3.7.7"
  }
 },
 "nbformat": 4,
 "nbformat_minor": 4
}

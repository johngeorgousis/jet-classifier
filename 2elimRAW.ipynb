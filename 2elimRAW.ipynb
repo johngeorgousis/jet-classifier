{
 "cells": [
  {
   "cell_type": "code",
   "execution_count": 2,
   "metadata": {},
   "outputs": [
    {
     "name": "stdout",
     "output_type": "stream",
     "text": [
      "TensorFlow Version:  2.1.0\n"
     ]
    }
   ],
   "source": [
    "from FUNCTIONS import *\n",
    "%matplotlib inline\n",
    "\n",
    "import sklearn.discriminant_analysis\n",
    "random.seed(42)"
   ]
  },
  {
   "cell_type": "code",
   "execution_count": 3,
   "metadata": {},
   "outputs": [
    {
     "name": "stdout",
     "output_type": "stream",
     "text": [
      "Total Events: 100\n",
      "Total Labels: 100\n",
      "\n",
      "Shape:  (100, 1600)\n",
      "\n",
      "Train:  (69, 1600) (69,)\n",
      "Val:  (16, 1600) (16,)\n",
      "Test:  (15, 1600) (15,)\n",
      " \n"
     ]
    },
    {
     "data": {
      "image/png": "[encoded data removed]",
      "text/plain": [
       "<Figure size 432x288 with 2 Axes>"
      ]
     },
     "metadata": {
      "needs_background": "light"
     },
     "output_type": "display_data"
    }
   ],
   "source": [
    "# MAIN\n",
    "data_s = np.array(pd.read_csv('data/data_s_180k').iloc[:, 1:])\n",
    "data_b = np.array(pd.read_csv('data/data_b_180k').iloc[:, 1:])\n",
    "\n",
    "# Slice & Save\n",
    "events_no = int(50)\n",
    "data_s = data_s[0:events_no*40, 0:40]\n",
    "data_b = data_b[0:events_no*40, 0:40]\n",
    "\n",
    "# # Save Datasets\n",
    "# pd.DataFrame(data_s).to_csv('data_s_1000')\n",
    "# pd.DataFrame(data_b).to_csv('data_b_1000')\n",
    "\n",
    "train_examples, train_labels, val_examples, val_labels, test_examples, test_labels = preprocess_ML_sklearn(data_s, data_b)\n",
    "\n",
    "\n"
   ]
  },
  {
   "cell_type": "code",
   "execution_count": 4,
   "metadata": {},
   "outputs": [],
   "source": [
    "naive_bayes = MultinomialNB()\n",
    "random_forest = RandomForestClassifier(random_state=42, n_jobs=-1)\n",
    "SVM = SVC(random_state=42)\n",
    "KNN = sklearn.neighbors.KNeighborsClassifier(n_jobs=-1)\n",
    "bagging = BaggingClassifier(random_state=42, n_jobs=-1)"
   ]
  },
  {
   "cell_type": "code",
   "execution_count": 5,
   "metadata": {},
   "outputs": [],
   "source": [
    "from sklearn.metrics import accuracy_score\n",
    "from sklearn.model_selection import GridSearchCV\n",
    "from sklearn.metrics import make_scorer\n",
    "import time\n",
    "\n",
    "\n",
    "# Naive Bayes\n",
    "alpha = [0, 0.001, 0.01, 0.1, 0.5, 1, 1.5, 2, 5, 10, 15, 20, 30, 40, 50, 80, 100, 150]\n",
    "\n",
    "# Random Forest\n",
    "criterion = ['gini', 'entropy']\n",
    "n_estimators_rf = [10, 50, 100, 200]\n",
    "max_depth_rf = [5, 20, 50, None]\n",
    "min_samples_leaf_rf = [1, 2, 15, 40]\n",
    "min_samples_split_rf = [2, 5, 10, 50]\n",
    "\n",
    "# KNN\n",
    "n_neighbors=[1, 3, 5, 12] \n",
    "weights_knn=['uniform', 'distance']\n",
    "leaf_size_knn=[10, 30, 60]\n",
    "p= [1, 2]\n",
    "\n",
    "\n",
    "# Bagging\n",
    "n_estimators_bagging = [10, 20, 50, 100, 200]\n",
    "max_samples_bagging = [0.1, 0.2, 1.0, 2.0, 3.0]\n",
    "max_features_bagging = [0.5, 1.0, 2.0, 50.0]\n",
    "\n",
    "\n",
    "# SVM\n",
    "c_parameter = [0.1, 1, 10]\n",
    "gamma = [0.001, 0.01, 0.1, 1, 5]\n",
    "\n",
    "\n",
    "\n",
    "\n",
    "# Hyperparameters\n",
    "naive_bayes_parameters = {'alpha': alpha}\n",
    "random_forest_parameters = {'criterion': criterion, 'n_estimators': n_estimators_rf, 'max_depth': max_depth_rf, 'min_samples_leaf': min_samples_leaf_rf, 'min_samples_split': min_samples_split_rf}\n",
    "KNN_parameters = {'n_neighbors': n_neighbors, 'weights': weights_knn, 'leaf_size': leaf_size_knn, 'p': p}\n",
    "bagging_parameters = {'n_estimators': n_estimators_bagging, 'max_samples': max_samples_bagging, 'max_features': max_features_bagging}\n",
    "SVM_parameters = {'c_parameter': c_parameter, 'gamma': gamma}\n",
    "\n",
    "# Scoring object using accuracy\n",
    "scorer = make_scorer(accuracy_score)\n",
    "\n",
    "\n",
    "clfs_param =[(naive_bayes, naive_bayes_parameters), \n",
    "             (random_forest, random_forest_parameters),\n",
    "             (KNN, KNN_parameters),\n",
    "             (bagging, bagging_parameters,\n",
    "             (SVM, SVM_parameters)\n",
    "            )]"
   ]
  },
  {
   "cell_type": "code",
   "execution_count": 6,
   "metadata": {},
   "outputs": [
    {
     "name": "stdout",
     "output_type": "stream",
     "text": [
      "\n",
      "MultinomialNB\n",
      "\n",
      "Time to tune: 1s\n",
      "Time to fit-predict: 0s\n",
      "\n",
      "Unoptimised: {'alpha': 1.0, 'class_prior': None, 'fit_prior': True}\n",
      "\n",
      "Optimised: {'alpha': 10, 'class_prior': None, 'fit_prior': True}\n",
      "\n",
      "\n",
      "Unoptimised-accuracy-training: 0.9855\n",
      "Optimised-accuracy-training: 0.9565\n",
      "\n",
      "Unoptimised-accuracy-validation: 0.6875\n",
      "Optimised-accuracy-validation: 0.6250\n",
      "\n",
      "\n",
      "=============================================================================================\n",
      "\n",
      "RandomForestClassifier\n",
      "\n",
      "Time to tune: 119s\n",
      "Time to fit-predict: 1s\n",
      "\n",
      "Unoptimised: {'bootstrap': True, 'ccp_alpha': 0.0, 'class_weight': None, 'criterion': 'gini', 'max_depth': None, 'max_features': 'auto', 'max_leaf_nodes': None, 'max_samples': None, 'min_impurity_decrease': 0.0, 'min_impurity_split': None, 'min_samples_leaf': 1, 'min_samples_split': 2, 'min_weight_fraction_leaf': 0.0, 'n_estimators': 100, 'n_jobs': -1, 'oob_score': False, 'random_state': 42, 'verbose': 0, 'warm_start': False}\n",
      "\n",
      "Optimised: {'bootstrap': True, 'ccp_alpha': 0.0, 'class_weight': None, 'criterion': 'gini', 'max_depth': 20, 'max_features': 'auto', 'max_leaf_nodes': None, 'max_samples': None, 'min_impurity_decrease': 0.0, 'min_impurity_split': None, 'min_samples_leaf': 1, 'min_samples_split': 2, 'min_weight_fraction_leaf': 0.0, 'n_estimators': 10, 'n_jobs': -1, 'oob_score': False, 'random_state': 42, 'verbose': 0, 'warm_start': False}\n",
      "\n",
      "\n",
      "Unoptimised-accuracy-training: 1.0000\n",
      "Optimised-accuracy-training: 0.9855\n",
      "\n",
      "Unoptimised-accuracy-validation: 0.5625\n",
      "Optimised-accuracy-validation: 0.6250\n",
      "\n",
      "\n",
      "=============================================================================================\n",
      "\n",
      "KNeighborsClassifier\n",
      "\n",
      "Time to tune: 5s\n"
     ]
    },
    {
     "name": "stderr",
     "output_type": "stream",
     "text": [
      "ERROR:root:Internal Python error in the inspect module.\n",
      "Below is the traceback from this internal error.\n",
      "\n"
     ]
    },
    {
     "name": "stdout",
     "output_type": "stream",
     "text": [
      "Time to fit-predict: 0s\n",
      "\n",
      "Unoptimised: {'algorithm': 'auto', 'leaf_size': 30, 'metric': 'minkowski', 'metric_params': None, 'n_jobs': -1, 'n_neighbors': 5, 'p': 2, 'weights': 'uniform'}\n",
      "\n",
      "Optimised: {'algorithm': 'auto', 'leaf_size': 10, 'metric': 'minkowski', 'metric_params': None, 'n_jobs': -1, 'n_neighbors': 3, 'p': 2, 'weights': 'uniform'}\n",
      "\n",
      "\n",
      "Unoptimised-accuracy-training: 0.7826\n",
      "Optimised-accuracy-training: 0.7826\n",
      "\n",
      "Unoptimised-accuracy-validation: 0.6250\n",
      "Optimised-accuracy-validation: 0.6875\n",
      "\n",
      "\n",
      "=============================================================================================\n",
      "Traceback (most recent call last):\n",
      "  File \"C:\\Users\\johng\\anaconda3\\lib\\site-packages\\IPython\\core\\interactiveshell.py\", line 3331, in run_code\n",
      "    exec(code_obj, self.user_global_ns, self.user_ns)\n",
      "  File \"<ipython-input-6-58205b3194a5>\", line 7, in <module>\n",
      "    for clf, parameter in clfs_param:\n",
      "ValueError: too many values to unpack (expected 2)\n",
      "\n",
      "During handling of the above exception, another exception occurred:\n",
      "\n",
      "Traceback (most recent call last):\n",
      "  File \"C:\\Users\\johng\\anaconda3\\lib\\site-packages\\IPython\\core\\interactiveshell.py\", line 2044, in showtraceback\n",
      "    stb = value._render_traceback_()\n",
      "AttributeError: 'ValueError' object has no attribute '_render_traceback_'\n",
      "\n",
      "During handling of the above exception, another exception occurred:\n",
      "\n",
      "Traceback (most recent call last):\n",
      "  File \"C:\\Users\\johng\\anaconda3\\lib\\site-packages\\IPython\\core\\ultratb.py\", line 1148, in get_records\n",
      "    return _fixed_getinnerframes(etb, number_of_lines_of_context, tb_offset)\n",
      "  File \"C:\\Users\\johng\\anaconda3\\lib\\site-packages\\IPython\\core\\ultratb.py\", line 316, in wrapped\n",
      "    return f(*args, **kwargs)\n",
      "  File \"C:\\Users\\johng\\anaconda3\\lib\\site-packages\\IPython\\core\\ultratb.py\", line 350, in _fixed_getinnerframes\n",
      "    records = fix_frame_records_filenames(inspect.getinnerframes(etb, context))\n",
      "  File \"C:\\Users\\johng\\anaconda3\\lib\\inspect.py\", line 1502, in getinnerframes\n",
      "    frameinfo = (tb.tb_frame,) + getframeinfo(tb, context)\n",
      "  File \"C:\\Users\\johng\\anaconda3\\lib\\inspect.py\", line 1460, in getframeinfo\n",
      "    filename = getsourcefile(frame) or getfile(frame)\n",
      "  File \"C:\\Users\\johng\\anaconda3\\lib\\inspect.py\", line 696, in getsourcefile\n",
      "    if getattr(getmodule(object, filename), '__loader__', None) is not None:\n",
      "  File \"C:\\Users\\johng\\anaconda3\\lib\\inspect.py\", line 733, in getmodule\n",
      "    if ismodule(module) and hasattr(module, '__file__'):\n",
      "  File \"C:\\Users\\johng\\anaconda3\\lib\\site-packages\\tensorflow\\__init__.py\", line 50, in __getattr__\n",
      "    module = self._load()\n",
      "  File \"C:\\Users\\johng\\anaconda3\\lib\\site-packages\\tensorflow\\__init__.py\", line 44, in _load\n",
      "    module = _importlib.import_module(self.__name__)\n",
      "  File \"C:\\Users\\johng\\anaconda3\\lib\\importlib\\__init__.py\", line 127, in import_module\n",
      "    return _bootstrap._gcd_import(name[level:], package, level)\n",
      "  File \"<frozen importlib._bootstrap>\", line 1006, in _gcd_import\n",
      "  File \"<frozen importlib._bootstrap>\", line 983, in _find_and_load\n",
      "  File \"<frozen importlib._bootstrap>\", line 965, in _find_and_load_unlocked\n",
      "ModuleNotFoundError: No module named 'tensorflow_core.estimator'\n"
     ]
    },
    {
     "ename": "ValueError",
     "evalue": "too many values to unpack (expected 2)",
     "output_type": "error",
     "traceback": [
      "\u001b[1;31m---------------------------------------------------------------------------\u001b[0m"
     ]
    }
   ],
   "source": [
    "# Create list to store models\n",
    "models = []\n",
    "unopt_accuracy = []\n",
    "accuracies = []\n",
    "\n",
    "# Perform grid search\n",
    "for clf, parameter in clfs_param:\n",
    "    print('\\n{}\\n'.format(clf.__class__.__name__))\n",
    "    \n",
    "    grid_obj = GridSearchCV(clf, parameter, scoring=scorer, n_jobs = 6)\n",
    "    \n",
    "    # Perform grid search\n",
    "    start = time.time()\n",
    "    grid_fit = grid_obj.fit(train_examples, train_labels)\n",
    "    end = time.time()\n",
    "    print('Time to tune: {}s'.format(round(end - start), 2))\n",
    "    \n",
    "    # Get best estimator\n",
    "    best_clf = grid_fit.best_estimator_\n",
    "    models.append(best_clf)\n",
    "    \n",
    "    # Make predictions using the unoptimized and model\n",
    "    start = time.time()\n",
    "    predictions = (clf.fit(train_examples, train_labels)).predict(val_examples)\n",
    "    best_predictions = best_clf.predict(val_examples)\n",
    "    \n",
    "    predictions_train = (clf.fit(train_examples, train_labels)).predict(train_examples)\n",
    "    best_predictions_train = best_clf.predict(train_examples)\n",
    "    end = time.time()\n",
    "    print('Time to fit-predict: {}s\\n'.format(round(end - start), 2))\n",
    "    \n",
    "    # Check hyperparameters\n",
    "    print('Unoptimised: {}\\n'.format(clf.get_params(deep = True)))\n",
    "    print('Optimised: {}\\n'.format(best_clf.get_params(deep = True)))\n",
    "    \n",
    "    # Print Results\n",
    "    print(\"\\nUnoptimised-accuracy-training: {:.4f}\".format(accuracy_score(train_labels, predictions_train)))\n",
    "    print(\"Optimised-accuracy-training: {:.4f}\".format(accuracy_score(train_labels, best_predictions_train)))\n",
    "    \n",
    "    print(\"\\nUnoptimised-accuracy-validation: {:.4f}\".format(accuracy_score(val_labels, predictions)))\n",
    "    print(\"Optimised-accuracy-validation: {:.4f}\".format(accuracy_score(val_labels, best_predictions)))\n",
    "    \n",
    "    print('\\n\\n=============================================================================================')\n",
    "    \n",
    "    unopt_accuracy.append(accuracy_score(val_labels, predictions))\n",
    "    accuracies.append(accuracy_score(val_labels, best_predictions))\n",
    "    \n",
    "print('All unoptimised f1 (validation): {}'.format(unopt_f1))\n",
    "print('Best unoptimised f1 (validation): {}\\n'.format(max(unopt_f1)))\n",
    "print('All optimised f1 (validation): {}'.format(f1))\n",
    "print('Best optimised f1 (validation): {}'.format(max(f1)))"
   ]
  },
  {
   "cell_type": "code",
   "execution_count": null,
   "metadata": {},
   "outputs": [],
   "source": [
    "cmx(models)"
   ]
  },
  {
   "cell_type": "code",
   "execution_count": null,
   "metadata": {},
   "outputs": [],
   "source": []
  },
  {
   "cell_type": "code",
   "execution_count": null,
   "metadata": {},
   "outputs": [],
   "source": []
  },
  {
   "cell_type": "code",
   "execution_count": null,
   "metadata": {},
   "outputs": [],
   "source": []
  }
 ],
 "metadata": {
  "kernelspec": {
   "display_name": "Python 3",
   "language": "python",
   "name": "python3"
  },
  "language_info": {
   "codemirror_mode": {
    "name": "ipython",
    "version": 3
   },
   "file_extension": ".py",
   "mimetype": "text/x-python",
   "name": "python",
   "nbconvert_exporter": "python",
   "pygments_lexer": "ipython3",
   "version": "3.7.7"
  }
 },
 "nbformat": 4,
 "nbformat_minor": 4
}

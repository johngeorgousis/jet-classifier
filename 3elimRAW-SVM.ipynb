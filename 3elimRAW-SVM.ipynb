{
 "cells": [
  {
   "cell_type": "code",
   "execution_count": null,
   "metadata": {},
   "outputs": [],
   "source": [
    "array([[2182,  796],\n",
    "       [ 839, 2183]])"
   ]
  },
  {
   "cell_type": "code",
   "execution_count": null,
   "metadata": {},
   "outputs": [],
   "source": [
    "\n",
    "cmxs = []\n",
    "\n",
    "for model in models:\n",
    "\n",
    "        preds = model.predict(test_examples)\n",
    "        labels = test_labels\n",
    "\n",
    "        cmx_non_normal = tf.math.confusion_matrix(labels, preds).numpy() # Create Confusion Matrix\n",
    "        cmx0 = cmx_non_normal[0] / cmx_non_normal[0].sum()\n",
    "        cmx1 = cmx_non_normal[1] / cmx_non_normal[1].sum()\n",
    "        cmx = np.stack((cmx0, cmx1), axis=0)\n",
    "        cmxs.append(cmx)\n",
    "\n",
    "plt.figure(figsize=(25,20))\n",
    "for n in range(len(cmxs)):\n",
    "    # Plot confusion matrix\n",
    "    ax = plt.subplot(dim, dim, n+1)\n",
    "    sns.heatmap(cmxs[n], cmap=['skyblue', 'deepskyblue', 'dodgerblue', 'blue',  'darkblue'])\n",
    "\n",
    "    # xylabels and title\n",
    "    plt.title(remove_text_inside_brackets(str(models[n])))\n",
    "    plt.xlabel('PREDICTIONS')\n",
    "    plt.ylabel('LABELS')\n",
    "\n",
    "    # Label ticks\n",
    "    ax.set_xticklabels(['Background', 'Signal'])\n",
    "    ax.set_yticklabels(['Background', 'Signal'])\n",
    "    # Align ticks\n",
    "    plt.setp(ax.get_xticklabels(), rotation=0, ha=\"center\",\n",
    "             rotation_mode=\"anchor\")\n",
    "    plt.setp(ax.get_yticklabels(), rotation=90, ha=\"center\",\n",
    "             rotation_mode=\"anchor\")\n",
    "\n",
    "    # Text Annotations for Blocks in CMX\n",
    "    for i in range(2):\n",
    "        for j in range(2):\n",
    "\n",
    "            value = int(np.round(100*cmxs[n][i, j], 0))\n",
    "\n",
    "            text = ax.text(j+0.5, \n",
    "                           i+0.5, \n",
    "                           value,\n",
    "                           ha=\"center\", \n",
    "                           va=\"center\", \n",
    "                           color=\"orangered\", \n",
    "                           fontsize = 20)\n",
    "    plt.axis(\"off\")\n",
    "plt.show()      \n",
    "print(cmxs)"
   ]
  },
  {
   "cell_type": "code",
   "execution_count": 9,
   "metadata": {},
   "outputs": [],
   "source": [
    "from FUNCTIONS import *\n",
    "%matplotlib inline\n",
    "\n",
    "import sklearn.discriminant_analysis\n",
    "random.seed(42)"
   ]
  },
  {
   "cell_type": "code",
   "execution_count": 10,
   "metadata": {},
   "outputs": [
    {
     "name": "stdout",
     "output_type": "stream",
     "text": [
      "Total Events: 200000\n",
      "Total Labels: 200000\n",
      "\n",
      "Shape:  (200000, 1600)\n",
      "\n",
      "Train:  (139400, 1600) (139400,)\n",
      "Val:  (30600, 1600) (30600,)\n",
      "Test:  (30000, 1600) (30000,)\n",
      " \n"
     ]
    },
    {
     "data": {
      "image/png": "[encoded data removed]",
      "text/plain": [
       "<Figure size 432x288 with 2 Axes>"
      ]
     },
     "metadata": {
      "needs_background": "light"
     },
     "output_type": "display_data"
    }
   ],
   "source": [
    "# MAIN\n",
    "data_s = np.array(pd.read_csv('data/data_s_180k').iloc[:, 1:])\n",
    "data_b = np.array(pd.read_csv('data/data_b_180k').iloc[:, 1:])\n",
    "\n",
    "# Slice & Save\n",
    "events_no = int(100000)\n",
    "data_s = data_s[0:events_no*40, 0:40]\n",
    "data_b = data_b[0:events_no*40, 0:40]\n",
    "\n",
    "# # Save Datasets\n",
    "# pd.DataFrame(data_s).to_csv('data_s_1000')\n",
    "# pd.DataFrame(data_b).to_csv('data_b_1000')\n",
    "\n",
    "train_examples, train_labels, val_examples, val_labels, test_examples, test_labels = preprocess_ML_sklearn(data_s, data_b)\n",
    "\n",
    "\n"
   ]
  },
  {
   "cell_type": "code",
   "execution_count": 11,
   "metadata": {},
   "outputs": [],
   "source": [
    "SVM = SVC(random_state=42)"
   ]
  },
  {
   "cell_type": "code",
   "execution_count": 12,
   "metadata": {},
   "outputs": [],
   "source": [
    "from sklearn.metrics import accuracy_score\n",
    "from sklearn.model_selection import GridSearchCV\n",
    "from sklearn.metrics import make_scorer\n",
    "import time\n",
    "\n",
    "\n",
    "# SVM\n",
    "c_parameter = [5]\n",
    "# Hyperparameters\n",
    "SVM_parameters = {'C': c_parameter}\n",
    "# Scoring object using accuracy\n",
    "scorer = make_scorer(accuracy_score)\n",
    "clfs_param =[(SVM, SVM_parameters)]"
   ]
  },
  {
   "cell_type": "code",
   "execution_count": 13,
   "metadata": {},
   "outputs": [
    {
     "name": "stdout",
     "output_type": "stream",
     "text": [
      "\n",
      "SVC\n",
      "\n",
      "Time to tune: 57139s\n",
      "Time to fit-predict: 77590s\n",
      "\n",
      "Unoptimised: {'C': 1.0, 'break_ties': False, 'cache_size': 200, 'class_weight': None, 'coef0': 0.0, 'decision_function_shape': 'ovr', 'degree': 3, 'gamma': 'scale', 'kernel': 'rbf', 'max_iter': -1, 'probability': False, 'random_state': 42, 'shrinking': True, 'tol': 0.001, 'verbose': False}\n",
      "\n",
      "Optimised: {'C': 5, 'break_ties': False, 'cache_size': 200, 'class_weight': None, 'coef0': 0.0, 'decision_function_shape': 'ovr', 'degree': 3, 'gamma': 'scale', 'kernel': 'rbf', 'max_iter': -1, 'probability': False, 'random_state': 42, 'shrinking': True, 'tol': 0.001, 'verbose': False}\n",
      "\n",
      "\n",
      "Unoptimised-accuracy-training: 0.7488\n",
      "Optimised-accuracy-training: 0.7703\n",
      "\n",
      "Unoptimised-accuracy-validation: 0.7380\n",
      "Optimised-accuracy-validation: 0.7435\n",
      "\n",
      "\n",
      "=============================================================================================\n",
      "All unoptimised accuracy (validation): [0.7380065359477124]\n",
      "Best unoptimised accuracy (validation): 0.7380065359477124\n",
      "\n",
      "All optimised accuracy (validation): [0.7435294117647059]\n",
      "Best optimised accuracy (validation): 0.7435294117647059\n"
     ]
    }
   ],
   "source": [
    "# Create list to store models\n",
    "models = []\n",
    "unopt_accuracy = []\n",
    "accuracies = []\n",
    "\n",
    "# Perform grid search\n",
    "for clf, parameter in clfs_param:\n",
    "    print('\\n{}\\n'.format(clf.__class__.__name__))\n",
    "    \n",
    "    grid_obj = GridSearchCV(clf, parameter, scoring=scorer, n_jobs = -3)\n",
    "    \n",
    "    # Perform grid search\n",
    "    start = time.time()\n",
    "    grid_fit = grid_obj.fit(train_examples, train_labels)\n",
    "    end = time.time()\n",
    "    print('Time to tune: {}s'.format(round(end - start), 2))\n",
    "    \n",
    "    # Get best estimator\n",
    "    best_clf = grid_fit.best_estimator_\n",
    "    models.append(best_clf)\n",
    "    \n",
    "    # Make predictions using the unoptimized and model\n",
    "    start = time.time()\n",
    "    predictions = (clf.fit(train_examples, train_labels)).predict(val_examples)\n",
    "    best_predictions = best_clf.predict(val_examples)\n",
    "    \n",
    "    predictions_train = (clf.fit(train_examples, train_labels)).predict(train_examples)\n",
    "    best_predictions_train = best_clf.predict(train_examples)\n",
    "    end = time.time()\n",
    "    print('Time to fit-predict: {}s\\n'.format(round(end - start), 2))\n",
    "    \n",
    "    # Check hyperparameters\n",
    "    print('Unoptimised: {}\\n'.format(clf.get_params(deep = True)))\n",
    "    print('Optimised: {}\\n'.format(best_clf.get_params(deep = True)))\n",
    "    \n",
    "    # Print Results\n",
    "    print(\"\\nUnoptimised-accuracy-training: {:.4f}\".format(accuracy_score(train_labels, predictions_train)))\n",
    "    print(\"Optimised-accuracy-training: {:.4f}\".format(accuracy_score(train_labels, best_predictions_train)))\n",
    "    \n",
    "    print(\"\\nUnoptimised-accuracy-validation: {:.4f}\".format(accuracy_score(val_labels, predictions)))\n",
    "    print(\"Optimised-accuracy-validation: {:.4f}\".format(accuracy_score(val_labels, best_predictions)))\n",
    "    \n",
    "    print('\\n\\n=============================================================================================')\n",
    "    \n",
    "    unopt_accuracy.append(accuracy_score(val_labels, predictions))\n",
    "    accuracies.append(accuracy_score(val_labels, best_predictions))\n",
    "    \n",
    "print('All unoptimised accuracy (validation): {}'.format(unopt_accuracy))\n",
    "print('Best unoptimised accuracy (validation): {}\\n'.format(max(unopt_accuracy)))\n",
    "print('All optimised accuracy (validation): {}'.format(accuracies))\n",
    "print('Best optimised accuracy (validation): {}'.format(max(accuracies)))"
   ]
  },
  {
   "cell_type": "code",
   "execution_count": 14,
   "metadata": {},
   "outputs": [
    {
     "name": "stdout",
     "output_type": "stream",
     "text": [
      "[SVC(C=5, break_ties=False, cache_size=200, class_weight=None, coef0=0.0,\n",
      "    decision_function_shape='ovr', degree=3, gamma='scale', kernel='rbf',\n",
      "    max_iter=-1, probability=False, random_state=42, shrinking=True, tol=0.001,\n",
      "    verbose=False)]\n"
     ]
    },
    {
     "data": {
      "image/png": "[encoded data removed]",
      "text/plain": [
       "<Figure size 1800x1440 with 2 Axes>"
      ]
     },
     "metadata": {
      "needs_background": "light"
     },
     "output_type": "display_data"
    },
    {
     "name": "stdout",
     "output_type": "stream",
     "text": [
      "[array([[0.72837462, 0.27162538],\n",
      "       [0.23829016, 0.76170984]])]\n"
     ]
    }
   ],
   "source": [
    "print(models)\n",
    "cmx_sklearn(models, test_examples, test_labels, dim=4)"
   ]
  },
  {
   "cell_type": "code",
   "execution_count": null,
   "metadata": {},
   "outputs": [],
   "source": []
  },
  {
   "cell_type": "code",
   "execution_count": null,
   "metadata": {},
   "outputs": [],
   "source": []
  },
  {
   "cell_type": "code",
   "execution_count": null,
   "metadata": {},
   "outputs": [],
   "source": []
  }
 ],
 "metadata": {
  "kernelspec": {
   "display_name": "Python 3",
   "language": "python",
   "name": "python3"
  },
  "language_info": {
   "codemirror_mode": {
    "name": "ipython",
    "version": 3
   },
   "file_extension": ".py",
   "mimetype": "text/x-python",
   "name": "python",
   "nbconvert_exporter": "python",
   "pygments_lexer": "ipython3",
   "version": "3.7.7"
  }
 },
 "nbformat": 4,
 "nbformat_minor": 4
}

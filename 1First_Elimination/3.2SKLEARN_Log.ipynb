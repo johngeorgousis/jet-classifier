{
 "cells": [
  {
   "cell_type": "code",
   "execution_count": 1,
   "metadata": {},
   "outputs": [
    {
     "name": "stdout",
     "output_type": "stream",
     "text": [
      "TensorFlow Version:  2.1.0\n"
     ]
    }
   ],
   "source": [
    "from processing_functions import *\n",
    "%matplotlib inline"
   ]
  },
  {
   "cell_type": "code",
   "execution_count": 2,
   "metadata": {},
   "outputs": [
    {
     "name": "stdout",
     "output_type": "stream",
     "text": [
      "Total Events: 200000\n",
      "Total Labels: 200000\n",
      "\n",
      "Shape:  (200000, 1600)\n",
      "\n",
      "Train:  (139400, 1600) (139400,)\n",
      "Val:  (30600, 1600) (30600,)\n",
      "Test:  (30000, 1600) (30000,)\n",
      " \n"
     ]
    },
    {
     "data": {
      "image/png": "[encoded data removed]",
      "text/plain": [
       "<Figure size 432x288 with 2 Axes>"
      ]
     },
     "metadata": {
      "needs_background": "light"
     },
     "output_type": "display_data"
    }
   ],
   "source": [
    "# MAIN\n",
    "data_s = np.array(pd.read_csv('data/data_s_100k_log').iloc[:, 1:])\n",
    "data_b = np.array(pd.read_csv('data/data_b_100k_log').iloc[:, 1:])\n",
    "\n",
    "# Slice & Save\n",
    "events_no = int(1e5)\n",
    "data_s = data_s[0:events_no*40, 0:40]\n",
    "data_b = data_b[0:events_no*40, 0:40]\n",
    "\n",
    "# # Save Datasets\n",
    "# pd.DataFrame(data_s).to_csv('data_s_1000')\n",
    "# pd.DataFrame(data_b).to_csv('data_b_1000')\n",
    "\n",
    "train_examples, train_labels, val_examples, val_labels, test_examples, test_labels = preprocess_ML_sklearn(data_s, data_b)\n",
    "\n",
    "import sklearn.discriminant_analysis\n",
    "random.seed(42)\n",
    "\n",
    "random_forest = RandomForestClassifier(random_state=42, n_jobs=-1)\n",
    "svm = SVC(random_state=42)\n",
    "adaboost = AdaBoostClassifier(random_state=42)\n",
    "KNN = sklearn.neighbors.KNeighborsClassifier()\n",
    "#naive_bayes = MultinomialNB()\n",
    "BDT = sklearn.ensemble.GradientBoostingClassifier()\n",
    "decision_tree = DecisionTreeClassifier(random_state=42)\n",
    "naive_bayes_g = GaussianNB()\n",
    "bagging = BaggingClassifier(random_state=42, n_jobs=-1)\n",
    "SGD = sklearn.linear_model.SGDClassifier(random_state=42)\n",
    "LDA = sklearn.discriminant_analysis.LinearDiscriminantAnalysis()\n",
    "\n",
    "\n",
    "models = [random_forest, svm, adaboost, KNN, BDT, decision_tree, naive_bayes_g, bagging, SGD, LDA]"
   ]
  },
  {
   "cell_type": "code",
   "execution_count": null,
   "metadata": {},
   "outputs": [],
   "source": [
    "# Fit Models\n",
    "for model in models:\n",
    "    model.fit(train_examples, train_labels)"
   ]
  },
  {
   "cell_type": "code",
   "execution_count": null,
   "metadata": {},
   "outputs": [],
   "source": [
    "compare_accuracy(models, test_examples, test_labels)\n",
    "compare_f1(models, test_examples, test_labels)\n",
    "cmx_sklearn(models, test_examples, test_labels, dim=4)"
   ]
  },
  {
   "cell_type": "code",
   "execution_count": null,
   "metadata": {},
   "outputs": [],
   "source": []
  }
 ],
 "metadata": {
  "kernelspec": {
   "display_name": "Python 3",
   "language": "python",
   "name": "python3"
  },
  "language_info": {
   "codemirror_mode": {
    "name": "ipython",
    "version": 3
   },
   "file_extension": ".py",
   "mimetype": "text/x-python",
   "name": "python",
   "nbconvert_exporter": "python",
   "pygments_lexer": "ipython3",
   "version": "3.7.7"
  }
 },
 "nbformat": 4,
 "nbformat_minor": 4
}

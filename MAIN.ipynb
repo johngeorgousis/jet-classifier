{
 "cells": [
  {
   "cell_type": "code",
   "execution_count": 1,
   "metadata": {},
   "outputs": [],
   "source": [
    "import numpy as np\n",
    "import scipy as sp\n",
    "import pandas as pd\n",
    "import seaborn as sns\n",
    "import matplotlib.pyplot as plt\n",
    "\n",
    "\n",
    "%matplotlib inline\n",
    "from IPython.display import display\n",
    "import time\n",
    "\n",
    "# Possibly Redundant\n",
    "from scipy import ndimage, misc\n",
    "from skimage.feature import peak_local_max\n",
    "from skimage import data, img_as_float"
   ]
  },
  {
   "cell_type": "markdown",
   "metadata": {},
   "source": [
    "# Questions\n"
   ]
  },
  {
   "cell_type": "markdown",
   "metadata": {},
   "source": [
    "# 🟡Step 1: Read the data (tar.gz file)\n",
    "As a first step, we unzipped the tar.gz file into a .dat file using 7-zip. \n",
    "Then, we convert the .dat file into a string and then into a DataFrame."
   ]
  },
  {
   "cell_type": "markdown",
   "metadata": {},
   "source": [
    ".strip() --> remove spaces on the sides\n",
    "\n",
    ".split() --> separate values by spaces (otherwise we'd get a single conlumn)"
   ]
  },
  {
   "cell_type": "code",
   "execution_count": 2,
   "metadata": {},
   "outputs": [],
   "source": [
    "# Convert .dat file into string (list comprehension)\n",
    "datContent = [i.strip().split() for i in open(\"tth_semihad.dat\").readlines()]\n",
    "\n",
    "# Convert list into DataFrame\n",
    "mydata = pd.DataFrame(datContent)"
   ]
  },
  {
   "cell_type": "markdown",
   "metadata": {},
   "source": [
    "# 🟡Step 2: Explore the data\n",
    "**Physics**\n",
    "\n",
    "Jonas: \"The file was produced from a simulation of pp->tt~H where the top decays hadronically\n",
    "and the anti-top decays leptonically. I selected events with exactly 1 fat jet with R=1.5.\"\n",
    "\n",
    "\n",
    "**Notes**\n",
    "- The rows represent events (of 1 fat jet each, R = 1.5) \n",
    "- The first column represents the number of constituents of the jet  \n",
    "- The following columns represent the coordinates of the constituents, η, φ, pT, cycling in that order. (e.g. columns 1, 2, 3 are η, φ, pT for the 1st constituent, columns 4, 5, 6 are η, φ, pT for the 2nd constituent etc.)\n",
    "\n",
    "<br />\n",
    "\n",
    "- -infinity < η < infinity \n",
    "- -π < φ < π\n",
    "- pT[GeV] > 0\n",
    "\n"
   ]
  },
  {
   "cell_type": "code",
   "execution_count": 3,
   "metadata": {},
   "outputs": [
    {
     "data": {
      "text/html": [
       "<div>\n",
       "<style scoped>\n",
       "    .dataframe tbody tr th:only-of-type {\n",
       "        vertical-align: middle;\n",
       "    }\n",
       "\n",
       "    .dataframe tbody tr th {\n",
       "        vertical-align: top;\n",
       "    }\n",
       "\n",
       "    .dataframe thead th {\n",
       "        text-align: right;\n",
       "    }\n",
       "</style>\n",
       "<table border=\"1\" class=\"dataframe\">\n",
       "  <thead>\n",
       "    <tr style=\"text-align: right;\">\n",
       "      <th></th>\n",
       "      <th>Const</th>\n",
       "      <th>1</th>\n",
       "      <th>2</th>\n",
       "      <th>3</th>\n",
       "      <th>4</th>\n",
       "      <th>5</th>\n",
       "      <th>6</th>\n",
       "      <th>7</th>\n",
       "      <th>8</th>\n",
       "      <th>9</th>\n",
       "      <th>...</th>\n",
       "      <th>99</th>\n",
       "      <th>100</th>\n",
       "      <th>101</th>\n",
       "      <th>102</th>\n",
       "      <th>103</th>\n",
       "      <th>104</th>\n",
       "      <th>105</th>\n",
       "      <th>106</th>\n",
       "      <th>107</th>\n",
       "      <th>108</th>\n",
       "    </tr>\n",
       "  </thead>\n",
       "  <tbody>\n",
       "    <tr>\n",
       "      <th>0</th>\n",
       "      <td>4</td>\n",
       "      <td>2.30474</td>\n",
       "      <td>0.221042</td>\n",
       "      <td>78.9436</td>\n",
       "      <td>1.00519</td>\n",
       "      <td>0.736657</td>\n",
       "      <td>61.9115</td>\n",
       "      <td>1.25546</td>\n",
       "      <td>0.748395</td>\n",
       "      <td>48.9755</td>\n",
       "      <td>...</td>\n",
       "      <td>None</td>\n",
       "      <td>None</td>\n",
       "      <td>None</td>\n",
       "      <td>None</td>\n",
       "      <td>None</td>\n",
       "      <td>None</td>\n",
       "      <td>None</td>\n",
       "      <td>None</td>\n",
       "      <td>None</td>\n",
       "      <td>None</td>\n",
       "    </tr>\n",
       "    <tr>\n",
       "      <th>1</th>\n",
       "      <td>2</td>\n",
       "      <td>2.35134</td>\n",
       "      <td>-2.18449</td>\n",
       "      <td>176.076</td>\n",
       "      <td>2.46233</td>\n",
       "      <td>-1.50073</td>\n",
       "      <td>47.3355</td>\n",
       "      <td>None</td>\n",
       "      <td>None</td>\n",
       "      <td>None</td>\n",
       "      <td>...</td>\n",
       "      <td>None</td>\n",
       "      <td>None</td>\n",
       "      <td>None</td>\n",
       "      <td>None</td>\n",
       "      <td>None</td>\n",
       "      <td>None</td>\n",
       "      <td>None</td>\n",
       "      <td>None</td>\n",
       "      <td>None</td>\n",
       "      <td>None</td>\n",
       "    </tr>\n",
       "    <tr>\n",
       "      <th>2</th>\n",
       "      <td>6</td>\n",
       "      <td>0.492933</td>\n",
       "      <td>0.766876</td>\n",
       "      <td>51.5247</td>\n",
       "      <td>-0.984489</td>\n",
       "      <td>2.29985</td>\n",
       "      <td>13.7463</td>\n",
       "      <td>0.103217</td>\n",
       "      <td>1.40088</td>\n",
       "      <td>5.31666</td>\n",
       "      <td>...</td>\n",
       "      <td>None</td>\n",
       "      <td>None</td>\n",
       "      <td>None</td>\n",
       "      <td>None</td>\n",
       "      <td>None</td>\n",
       "      <td>None</td>\n",
       "      <td>None</td>\n",
       "      <td>None</td>\n",
       "      <td>None</td>\n",
       "      <td>None</td>\n",
       "    </tr>\n",
       "    <tr>\n",
       "      <th>3</th>\n",
       "      <td>10</td>\n",
       "      <td>-0.624329</td>\n",
       "      <td>0.566723</td>\n",
       "      <td>130.197</td>\n",
       "      <td>-0.602316</td>\n",
       "      <td>0.573666</td>\n",
       "      <td>38.5226</td>\n",
       "      <td>-0.541426</td>\n",
       "      <td>0.449072</td>\n",
       "      <td>15.3244</td>\n",
       "      <td>...</td>\n",
       "      <td>None</td>\n",
       "      <td>None</td>\n",
       "      <td>None</td>\n",
       "      <td>None</td>\n",
       "      <td>None</td>\n",
       "      <td>None</td>\n",
       "      <td>None</td>\n",
       "      <td>None</td>\n",
       "      <td>None</td>\n",
       "      <td>None</td>\n",
       "    </tr>\n",
       "    <tr>\n",
       "      <th>4</th>\n",
       "      <td>15</td>\n",
       "      <td>-0.538961</td>\n",
       "      <td>-0.617644</td>\n",
       "      <td>0.819517</td>\n",
       "      <td>0.527734</td>\n",
       "      <td>1.53319</td>\n",
       "      <td>1.94989</td>\n",
       "      <td>0.20174</td>\n",
       "      <td>0.916744</td>\n",
       "      <td>5.63418</td>\n",
       "      <td>...</td>\n",
       "      <td>None</td>\n",
       "      <td>None</td>\n",
       "      <td>None</td>\n",
       "      <td>None</td>\n",
       "      <td>None</td>\n",
       "      <td>None</td>\n",
       "      <td>None</td>\n",
       "      <td>None</td>\n",
       "      <td>None</td>\n",
       "      <td>None</td>\n",
       "    </tr>\n",
       "  </tbody>\n",
       "</table>\n",
       "<p>5 rows × 109 columns</p>\n",
       "</div>"
      ],
      "text/plain": [
       "  Const          1          2         3          4         5        6  \\\n",
       "0     4    2.30474   0.221042   78.9436    1.00519  0.736657  61.9115   \n",
       "1     2    2.35134   -2.18449   176.076    2.46233  -1.50073  47.3355   \n",
       "2     6   0.492933   0.766876   51.5247  -0.984489   2.29985  13.7463   \n",
       "3    10  -0.624329   0.566723   130.197  -0.602316  0.573666  38.5226   \n",
       "4    15  -0.538961  -0.617644  0.819517   0.527734   1.53319  1.94989   \n",
       "\n",
       "           7         8        9  ...    99   100   101   102   103   104  \\\n",
       "0    1.25546  0.748395  48.9755  ...  None  None  None  None  None  None   \n",
       "1       None      None     None  ...  None  None  None  None  None  None   \n",
       "2   0.103217   1.40088  5.31666  ...  None  None  None  None  None  None   \n",
       "3  -0.541426  0.449072  15.3244  ...  None  None  None  None  None  None   \n",
       "4    0.20174  0.916744  5.63418  ...  None  None  None  None  None  None   \n",
       "\n",
       "    105   106   107   108  \n",
       "0  None  None  None  None  \n",
       "1  None  None  None  None  \n",
       "2  None  None  None  None  \n",
       "3  None  None  None  None  \n",
       "4  None  None  None  None  \n",
       "\n",
       "[5 rows x 109 columns]"
      ]
     },
     "metadata": {},
     "output_type": "display_data"
    },
    {
     "name": "stdout",
     "output_type": "stream",
     "text": [
      "There are 12177 events.\n",
      "The maximum number of constituents in an event is 36.\n"
     ]
    }
   ],
   "source": [
    "# Display the data\n",
    "mydata = mydata.rename(columns={0: 'Const'})\n",
    "display(mydata.head())\n",
    "\n",
    "# Print statements\n",
    "print('There are {} events.'.format(mydata.shape[0]))\n",
    "print('The maximum number of constituents in an event is {}.'.format((mydata.shape[1] - 1) // 3))\n",
    "\n",
    "# Display data types\n",
    "#print('\\nData Types: \\n', mydata.dtypes)\n",
    "\n",
    "# Descriptive statistics on data\n",
    "#mydata.describe()"
   ]
  },
  {
   "cell_type": "markdown",
   "metadata": {},
   "source": [
    "# 🟡Step 3: Construct Average Jet Image\n",
    "\n",
    "**Jonas:**\n",
    "\n",
    "The data in each row represents all the constituents of a fat jet in the original (φ,η,pT) coordinate system of the detector. \n",
    "You should now transform all the constituents of one fat jet (i.e. individually for each row in the data file) into a new coordinate system \n",
    "(φ',η’,pT). Consequently you transform/bin this information into a two-dimensional image/Heat Map.   \n",
    "\n",
    "The steps in detail are\n",
    "\n",
    "1. Find the constituent with the highest pT\n",
    "2. Choose the center of the new coordinate system such that this constituent has the coordinates (φ’,η’)=0. This operation corresponds to rotating and boosting along the beam direction to center the jet.  \n",
    "3. Rotate all constituents around (φ’,η’)=0 such that the constituent with the 2nd highest pT is at 12 o’clock, i.e. at  (φ’,η’)=(0,e) with e > 0.\n",
    "4. Flip all the constituents such that the constituents with the 3rd highest pT is on the right, i.e. at (φ’,η’)=(f,e) with f > 0\n",
    "5. Define a 2-dim image with 40x40 pixels which correspond to η', φ' ∈ (−R, R). The jets we are looking at are approximately cone-shaped with radius R. I.e. all the constituents of the jet should end up within this image. For each pixel you now store the sum of the pT of all constituents that are located within this pixel. I.e. you discretise the (φ’,η’) coordinates into pixels and the intensity of the pixel corresponds to the sum of the energy of all constituents in the pixel.\n",
    "\n",
    "As a very first step you can plot the images constructed from just steps 1)+2)+5) for a couple of jets. All the images will only have a few pixels filled. Subsequently you should plot the sum of all these images. This should give a broad peak at the center. \n",
    "\n",
    "Finally you should apply 1)-5) and plot the sum. This should hopefully look like the image from the reference. \n",
    "\n"
   ]
  },
  {
   "cell_type": "markdown",
   "metadata": {},
   "source": [
    "---"
   ]
  },
  {
   "cell_type": "markdown",
   "metadata": {},
   "source": [
    "#### 🔵 1. Extract Maxima\n",
    "For each row, extract the maximum pT and its corresponding η and φ."
   ]
  },
  {
   "cell_type": "code",
   "execution_count": 4,
   "metadata": {},
   "outputs": [],
   "source": [
    "# Separate Constituents from Coordinates\n",
    "const = mydata['Const']\n",
    "mydata = mydata.drop('Const', axis=1)\n",
    "\n",
    "# Replace NaN with 0\n",
    "mydata = mydata.fillna(0)\n",
    "\n",
    "# Convert values to floats\n",
    "mydata = mydata.astype(float)"
   ]
  },
  {
   "cell_type": "markdown",
   "metadata": {},
   "source": [
    "---"
   ]
  },
  {
   "cell_type": "markdown",
   "metadata": {},
   "source": [
    "🔴 Separate pT and extract pT, φ, η "
   ]
  },
  {
   "cell_type": "code",
   "execution_count": 5,
   "metadata": {},
   "outputs": [],
   "source": [
    "# Separate η, φ, pT\n",
    "hdata = mydata[mydata.columns[::3]]\n",
    "fdata = mydata[mydata.columns[1::3]]\n",
    "pdata = mydata[mydata.columns[2::3]]"
   ]
  },
  {
   "cell_type": "code",
   "execution_count": 6,
   "metadata": {},
   "outputs": [],
   "source": [
    "# Extract column number of maximum pT\n",
    "maxid = list(pdata.idxmax(axis=1))\n",
    "\n",
    "maxlist = []\n",
    "\n",
    "# Iterate through all rows(events) and all max pT columns to extract η, φ, pT\n",
    "for rowno, colid in zip(range(mydata.shape[0]), maxid):\n",
    "    maxlist.append([mydata.iloc[rowno, colid-1], mydata.iloc[rowno, colid-2], mydata.iloc[rowno, colid-3]])\n",
    "\n",
    "# Create dataframe of maxima, η, φ\n",
    "mydata_max = pd.DataFrame(maxlist, columns=['pT', 'φ', 'η'])\n",
    "\n",
    "# Display DataFrame\n",
    "#display(mydata_max)"
   ]
  },
  {
   "cell_type": "markdown",
   "metadata": {},
   "source": [
    "---"
   ]
  },
  {
   "cell_type": "markdown",
   "metadata": {},
   "source": [
    "#### 🔵2. Centre New Coordinate System\n",
    "For each row, we centre a new coordinate system so that the highest pT constituent's coordinates are (φ', η') = 0. <br />\n",
    "This corresponds to rotating and boosting along the beam direction to center the jet."
   ]
  },
  {
   "cell_type": "code",
   "execution_count": 7,
   "metadata": {},
   "outputs": [
    {
     "name": "stdout",
     "output_type": "stream",
     "text": [
      "Time taken to centre new coordinate system: 6.86s\n"
     ]
    }
   ],
   "source": [
    "# Create centred dataframe\n",
    "mydata_prime = mydata.copy(deep=True)\n",
    "\n",
    "start = time.time()\n",
    "\n",
    "# Centre new coordinate system\n",
    "for i, j, k in zip(range(mydata_max.shape[0]), mydata_max['η'], mydata_max['φ']):\n",
    "    mydata_prime.loc[i][::3] -= j\n",
    "    mydata_prime.loc[i][1::3] -= k\n",
    "    \n",
    "end = time.time()\n",
    "print('Time taken to centre new coordinate system: {0:.2f}s'.format(end - start))"
   ]
  },
  {
   "cell_type": "markdown",
   "metadata": {},
   "source": [
    "#### 🔵5. Create 40x40 Image\n",
    "1. Define Data that will create the bins (η, φ) and will weigh the bins (pT)\n",
    "2. Using the bins, create a 2D histogram using numpy's histogram2d()\n",
    "3. Input the histogram as a DataFrame into Seaborn's heatmap()\n",
    "4. Tadaaaa\n"
   ]
  },
  {
   "cell_type": "markdown",
   "metadata": {},
   "source": [
    "---"
   ]
  },
  {
   "cell_type": "markdown",
   "metadata": {},
   "source": [
    "🔴 Define Bins Data\n",
    "\n",
    "This is done by combining all rows (events) into a single row for each coordinate (η, φ, pT). <br />"
   ]
  },
  {
   "cell_type": "code",
   "execution_count": 8,
   "metadata": {},
   "outputs": [
    {
     "name": "stdout",
     "output_type": "stream",
     "text": [
      "Time taken for bin_p:0.91 minutes\n",
      "Time taken for bin_p:0.91 minutes\n",
      "Time taken for bin_p:0.91 minutes\n",
      "\n",
      "Bin lengths match! :D\n"
     ]
    }
   ],
   "source": [
    "# Initiate bin lists\n",
    "bin_h = []\n",
    "bin_f = []\n",
    "bin_p = []\n",
    "\n",
    "# Define max number of constituents \n",
    "max_const = mydata_prime.shape[1] // 3\n",
    "\n",
    "#######################################################################################################################\n",
    "# η Bin \n",
    "#######################################################################################################################\n",
    "\n",
    "start = time.time()\n",
    "\n",
    "for i in range(mydata_prime.shape[0]):\n",
    "\n",
    "    for j in range(max_const):\n",
    "        bin_h.append(list(mydata_prime.loc[i][::3])[j])\n",
    "        \n",
    "end = time.time()\n",
    "\n",
    "print('Time taken for bin_h: {0:.2f} minutes'.format((end-start) / 60))\n",
    "\n",
    "\n",
    "#######################################################################################################################\n",
    "# φ Bin \n",
    "#######################################################################################################################\n",
    "\n",
    "start = time.time()\n",
    "\n",
    "for i in range(mydata_prime.shape[0]):\n",
    "\n",
    "    for j in range(max_const):\n",
    "        bin_f.append(list(mydata_prime.loc[i][2::3])[j])\n",
    "        \n",
    "end = time.time()\n",
    "\n",
    "print('Time taken for bin_f: {0:.2f} minutes'.format((end-start) / 60))\n",
    "\n",
    "#######################################################################################################################\n",
    "# pT Bin \n",
    "#######################################################################################################################\n",
    "\n",
    "start = time.time()\n",
    "\n",
    "for i in range(mydata_prime.shape[0]):\n",
    "\n",
    "    for j in range(max_const):\n",
    "        bin_p.append(list(mydata_prime.loc[i][2::3])[j])\n",
    "        \n",
    "end = time.time()\n",
    "\n",
    "print('Time taken for bin_p: {0:.2f} minutes'.format((end-start) / 60))\n",
    "\n",
    "#######################################################################################################################\n",
    "\n",
    "if (len(bin_h) == len(bin_h)) and (len(bin_h) == len(bin_h)):\n",
    "    print('\\nBin lengths match! :D')"
   ]
  },
  {
   "cell_type": "markdown",
   "metadata": {},
   "source": [
    "---"
   ]
  },
  {
   "cell_type": "markdown",
   "metadata": {},
   "source": [
    "🔴 Create 2D Histogram\n"
   ]
  },
  {
   "cell_type": "code",
   "execution_count": 9,
   "metadata": {},
   "outputs": [],
   "source": [
    "# Define bins data\n",
    "bin_h = pd.Series(bin_h)\n",
    "bin_f = pd.Series(bin_f)\n",
    "bin_p = pd.Series(bin_p)\n",
    "\n",
    "# Define bins count vector (jet radius: R, image pixels: 40x40)\n",
    "R = 1.5\n",
    "pixels = 40\n",
    "bin_count = np.linspace(-R, R, pixels + 1)\n",
    "\n",
    "# Create bins from -R to R (using bins vector)\n",
    "bins = np.histogram2d(bin_h, bin_f, bins=bin_count, weights=bin_p)[0]\n",
    "\n",
    "# Convert to DataFrame\n",
    "bins = pd.DataFrame(bins)\n",
    "\n",
    "# Display Full bins DataFrame\n",
    "#display(bins)"
   ]
  },
  {
   "cell_type": "markdown",
   "metadata": {},
   "source": [
    "---"
   ]
  },
  {
   "cell_type": "markdown",
   "metadata": {},
   "source": [
    "🔴 Create Heatmap\n"
   ]
  },
  {
   "cell_type": "code",
   "execution_count": 10,
   "metadata": {},
   "outputs": [
    {
     "data": {
      "text/plain": [
       "<matplotlib.axes._subplots.AxesSubplot at 0x1d1443ff108>"
      ]
     },
     "execution_count": 10,
     "metadata": {},
     "output_type": "execute_result"
    },
    {
     "data": {
      "image/png": "[encoded data removed]",
      "text/plain": [
       "<Figure size 432x288 with 2 Axes>"
      ]
     },
     "metadata": {
      "needs_background": "light"
     },
     "output_type": "display_data"
    }
   ],
   "source": [
    "sns.heatmap(bins)"
   ]
  },
  {
   "cell_type": "markdown",
   "metadata": {},
   "source": [
    "---"
   ]
  }
 ],
 "metadata": {
  "kernelspec": {
   "display_name": "Python 3",
   "language": "python",
   "name": "python3"
  },
  "language_info": {
   "codemirror_mode": {
    "name": "ipython",
    "version": 3
   },
   "file_extension": ".py",
   "mimetype": "text/x-python",
   "name": "python",
   "nbconvert_exporter": "python",
   "pygments_lexer": "ipython3",
   "version": "3.7.7"
  }
 },
 "nbformat": 4,
 "nbformat_minor": 4
}

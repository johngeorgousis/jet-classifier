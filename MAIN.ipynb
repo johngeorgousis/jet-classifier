{
 "cells": [
  {
   "cell_type": "markdown",
   "metadata": {},
   "source": [
    "# ⭐Imports\n"
   ]
  },
  {
   "cell_type": "markdown",
   "metadata": {},
   "source": [
    "**Most Relevant Papers** <br />\n",
    "https://arxiv.org/pdf/1407.5675.pdf <br />\n",
    "https://arxiv.org/pdf/1701.08784.pdf"
   ]
  },
  {
   "cell_type": "code",
   "execution_count": 1,
   "metadata": {},
   "outputs": [],
   "source": [
    "from processing_functions import *\n",
    "\n",
    "import numpy as np\n",
    "import scipy as sp\n",
    "import pandas as pd\n",
    "import seaborn as sns\n",
    "import matplotlib.pyplot as plt\n",
    "import time\n",
    "from IPython.display import display\n",
    "\n",
    "%matplotlib inline"
   ]
  },
  {
   "cell_type": "markdown",
   "metadata": {},
   "source": [
    "# ⭐Jonas Questions\n",
    "- Should the functions be applied on a vector (Series) or on an image (ndarray)? Is there a preference? (e.g. should I center the image by operations on the pixels or operations on the raw data) \n",
    "- What data is going to be fed to the machine learning algorithm? Individual Events or Average Images?\n",
    "- Is my flipping transformation correct? If φ of 2nd highest momentum is negative, multiply all φ in event with -1 \n"
   ]
  },
  {
   "cell_type": "markdown",
   "metadata": {},
   "source": [
    "---"
   ]
  },
  {
   "cell_type": "markdown",
   "metadata": {},
   "source": [
    "# ⭐(Ignore) Step 0: Read the data (tar.gz file) & Explore it\n",
    "**Read**\n",
    "\n",
    "As a first step, we unzipped the tar.gz file into a .dat file using 7-zip. \n",
    "Then, we convert the .dat file into a string and then into a DataFrame."
   ]
  },
  {
   "cell_type": "markdown",
   "metadata": {},
   "source": [
    ".strip() --> remove spaces on the sides\n",
    "\n",
    ".split() --> separate values by spaces (otherwise we'd get a single conlumn)"
   ]
  },
  {
   "cell_type": "code",
   "execution_count": 2,
   "metadata": {},
   "outputs": [],
   "source": [
    "# Convert .dat file into string (list comprehension)\n",
    "datContent = [i.strip().split() for i in open(\"tth_semihad.dat\").readlines()]\n",
    "\n",
    "# Convert list into DataFrame\n",
    "mydata = pd.DataFrame(datContent)"
   ]
  },
  {
   "cell_type": "markdown",
   "metadata": {},
   "source": [
    "**Explore**\n",
    "\n",
    "**Physics**\n",
    "\n",
    "Jonas: \"The file was produced from a simulation of pp->tt~H where the top decays hadronically\n",
    "and the anti-top decays leptonically. <br /> I selected events with exactly 1 fat jet with R=1.5.\"\n",
    "\n",
    "\n",
    "**Notes**\n",
    "- The rows represent events (of 1 fat jet each, R = 1.5) \n",
    "- The first column represents the number of constituents of the jet  \n",
    "- The following columns represent the coordinates of the constituents, η, φ, pT, cycling in that order. <br />(e.g. columns 1, 2, 3 are η, φ, pT for the 1st constituent, columns 4, 5, 6 are η, φ, pT for the 2nd constituent etc.)\n",
    "\n",
    "\n",
    "- -infinity < η < infinity \n",
    "- -π < φ < π\n",
    "- pT[GeV] > 0\n"
   ]
  },
  {
   "cell_type": "code",
   "execution_count": 3,
   "metadata": {},
   "outputs": [],
   "source": [
    "# # Display the data\n",
    "# mydata = mydata.rename(columns={0: 'Const'})\n",
    "# display(mydata.head())\n",
    "\n",
    "# # Print statements\n",
    "# events = mydata.shape[0]\n",
    "# print('There are {} rows (events).'.format(events))\n",
    "# print('The maximum number of constituents in an event is {}.'.format((mydata.shape[1] - 1) // 3))\n",
    "\n",
    "## Display data types\n",
    "#print('\\nData Types: \\n', mydata.dtypes)\n",
    "\n",
    "## Descriptive statistics on data\n",
    "#mydata.describe()"
   ]
  },
  {
   "cell_type": "markdown",
   "metadata": {},
   "source": [
    "---"
   ]
  },
  {
   "cell_type": "markdown",
   "metadata": {},
   "source": [
    "# ⭐Step 1: Preprocessing"
   ]
  },
  {
   "cell_type": "markdown",
   "metadata": {},
   "source": [
    "🔴 Define helper function that\n",
    "- drops the constituents column \n",
    "- converts NaN to 0\n",
    "- converts values to floats"
   ]
  },
  {
   "cell_type": "code",
   "execution_count": 4,
   "metadata": {},
   "outputs": [],
   "source": [
    "# preprocess(event)"
   ]
  },
  {
   "cell_type": "markdown",
   "metadata": {},
   "source": [
    "# ⭐Step 2: Create Image & Average Image"
   ]
  },
  {
   "cell_type": "markdown",
   "metadata": {},
   "source": [
    "### 🔵 Create Image"
   ]
  },
  {
   "cell_type": "markdown",
   "metadata": {},
   "source": [
    "🔴 Define Helper Function that takes an event as input and returns an image\n",
    "- Bins coordinates (η, φ, pT)\n",
    "- Creates image using np.histogram2d()"
   ]
  },
  {
   "cell_type": "code",
   "execution_count": 5,
   "metadata": {},
   "outputs": [],
   "source": [
    "#create_image(event, R=1.5, pixels=60)"
   ]
  },
  {
   "cell_type": "markdown",
   "metadata": {},
   "source": [
    "### 🔵 Create Average Image"
   ]
  },
  {
   "cell_type": "markdown",
   "metadata": {},
   "source": [
    "🔴 Define Helper Function that reads events directly from a file and returns an average image\n",
    "\n",
    "\n",
    "**NOTE:** event_no list implementation for multiple images is not working properly"
   ]
  },
  {
   "cell_type": "code",
   "execution_count": 6,
   "metadata": {},
   "outputs": [],
   "source": [
    "#average_image(pixels=60, R=1.5, event_no=12178, display=False):"
   ]
  },
  {
   "cell_type": "markdown",
   "metadata": {},
   "source": [
    "Example (Image Progression)"
   ]
  },
  {
   "cell_type": "code",
   "execution_count": 7,
   "metadata": {},
   "outputs": [],
   "source": [
    "#average_image(pixels = 100, event_no=[25, 300, 3000, 12000], display=True)"
   ]
  },
  {
   "cell_type": "markdown",
   "metadata": {},
   "source": [
    "# ⭐Step 3: Extract Maxima"
   ]
  },
  {
   "cell_type": "markdown",
   "metadata": {},
   "source": [
    "🔴 Define Helper Function that \n",
    "\n",
    "returns 3 vectors, one for each pT and its η, φ. (For the three maximum pT's)\n",
    "\n",
    "- **1st vector**: 1st maximum pT and its η, φ\n",
    "- **2nd vector**: 2nd maximum pT and its η, φ\n",
    "- **3rd vector**: 3rd maximum pT and its η, φ"
   ]
  },
  {
   "cell_type": "code",
   "execution_count": 8,
   "metadata": {},
   "outputs": [],
   "source": [
    "#extract_max123(event)"
   ]
  },
  {
   "cell_type": "markdown",
   "metadata": {},
   "source": [
    "**Why the if statement?** (note to self) <br />\n",
    "Because if maximum pT is 0 in the pdata vector, it picks the ID of the first pT by default as the max (because they're all 0). <br />\n",
    "Then, it goes to the non-zero'd event vector and adds its non-zero pT as the max, when the value of that max should clearly have been 0.\n",
    "\n",
    "So the if statement fixes this: <br />\n",
    "- If max pT != 0, then add it as normal.\n",
    "- If max pT = 0, then add '0' as its value instead. (with the coordinates of the first pT, which is incorrect, but this doesn't matter since pT = 0 are not taken into account in the image) <br />\n"
   ]
  },
  {
   "cell_type": "markdown",
   "metadata": {},
   "source": [
    "---"
   ]
  },
  {
   "cell_type": "markdown",
   "metadata": {},
   "source": [
    "# ⭐Step 4: Centre Image"
   ]
  },
  {
   "cell_type": "markdown",
   "metadata": {},
   "source": [
    "For each row, we centre a new coordinate system so that the highest pT constituent's coordinates are (φ', η') = (0, 0). <br />\n",
    "This corresponds to rotating and boosting along the beam direction to center the jet.\n",
    "\n",
    "**φ Tranformation**<br />\n",
    "For the φ transformation, we subtract the φ (of the max pT) from all φ's in that row. <br />\n",
    "If the values exceed [-π, π], we add 2π to the final result (if it's <-π) or subtract 2π from the final result (if it's >π). This makes sure that no values exceed the original φ interval. <br />\n",
    "This has the effect of making the φ (corresponding to the max pT for that row) equal to 0 in each row, and shifting the other φ's by that same angle, while maintaining a range of 2π. <br />\n",
    "\n",
    "**η Transformation**<br />\n",
    "How does η transform? We need a Lorentz Transformation. \n",
    "\n",
    "**Paper** (E) <br />\n",
    "Histograms binned in\n",
    "either the angular separation of events or the rapidity separation of events can\n",
    "be contributed to by events whose centre of mass frames are boosted by arbitrary velocities with respect to the rest frame of the detector, the lab frame.\n",
    "The resulting histograms are undistorted by these centre of mass frame boosts\n",
    "parallel to the beam axis, as the dependent variable is invariant with respect\n",
    "to this sub–class of Lorentz boosts.\n",
    "\n",
    "**Paper** (F): make code cell below markdown to display\n"
   ]
  },
  {
   "cell_type": "code",
   "execution_count": 9,
   "metadata": {},
   "outputs": [],
   "source": [
    "#<img src=\"h1.png\" width=\"500\"> <img src=\"h2.png\" width=\"500\">"
   ]
  },
  {
   "cell_type": "markdown",
   "metadata": {},
   "source": [
    "🔴 Define Helper Function <br />\n",
    "Centers image around (φ', η') = (0, 0). Both transformations are linear (so far). \n"
   ]
  },
  {
   "cell_type": "code",
   "execution_count": 10,
   "metadata": {},
   "outputs": [],
   "source": [
    "#center(event, max123, output='event', R=1.5, pixels=60):"
   ]
  },
  {
   "cell_type": "markdown",
   "metadata": {},
   "source": [
    "# ⭐Step 5: Rotate Image\n",
    "\n",
    "Rotate all constituents around (φ’,η’)=0 such that the constituent with the 2nd highest pT is at 12 o’clock, i.e. at  (φ’,η’)=(0,e) with e > 0.\n",
    "\n",
    "**Paper (C)** <br />\n",
    "\"Rotation: Rotation is performed to remove the stochastic nature of the decay\n",
    "angle relative to the η − φ coordinate system. This alignment can be done very\n",
    "generally, by determining the principal axis [48] of the original image and rotating the image around the jet-energy centroid such that the principal axis\n",
    "is always vertical.\"\n",
    "\n",
    "#### Resources\n",
    "https://stackoverflow.com/questions/53854066/pythonhow-to-rotate-an-image-so-that-a-feature-becomes-vertical\n",
    "\n",
    "https://alyssaq.github.io/2015/computing-the-axes-or-orientation-of-a-blob/\n",
    "\n",
    "https://pythontic.com/image-processing/pillow/rotate\n",
    "\n",
    "https://www.askpython.com/python/examples/rotate-an-image-by-an-angle-in-python\n",
    "\n",
    "https://www.pyimagesearch.com/2017/01/02/rotate-images-correctly-with-opencv-and-python/\n",
    "\n",
    "\n"
   ]
  },
  {
   "cell_type": "markdown",
   "metadata": {},
   "source": [
    "🔴 Define Helper Function that\n",
    "\n",
    "- \n",
    "- \n",
    "- "
   ]
  },
  {
   "cell_type": "markdown",
   "metadata": {},
   "source": [
    "---"
   ]
  },
  {
   "cell_type": "markdown",
   "metadata": {},
   "source": [
    "### **Image**"
   ]
  },
  {
   "cell_type": "code",
   "execution_count": 24,
   "metadata": {},
   "outputs": [],
   "source": [
    "from scipy import ndimage\n",
    "\n",
    "def rotate(image, max2):\n",
    "    \n",
    "    hmax=max2.loc['η']\n",
    "    fmax=max2.loc['φ']\n",
    "    \n",
    "#     print('fmax: ', fmax)\n",
    "#     print('hmax: ', hmax)\n",
    "    \n",
    "    if (hmax == 0) and (fmax > 0):\n",
    "        angle = 90\n",
    "    \n",
    "    elif (hmax == 0) and (fmax < 0):\n",
    "        angle = -90\n",
    "        \n",
    "    elif hmax > 0:\n",
    "        angle = np.arctan(fmax/hmax) / np.pi * 180\n",
    "        \n",
    "    elif hmax < 0:\n",
    "        angle = np.arctan(fmax/hmax) / np.pi * 180 + 180\n",
    "    \n",
    "    print('angle: ', angle)\n",
    "    \n",
    "    image = ndimage.rotate(image, angle, reshape=False, order=1) #reshape: keep same amount of pixels, #order=1: first order iterpolation (same as paper)\n",
    "    \n",
    "    return image\n"
   ]
  },
  {
   "cell_type": "markdown",
   "metadata": {},
   "source": [
    "### **Series**"
   ]
  },
  {
   "cell_type": "code",
   "execution_count": 30,
   "metadata": {},
   "outputs": [],
   "source": [
    "from scipy import ndimage\n",
    "\n",
    "def rotate(evenτ, max2):\n",
    "    \n",
    "    # Define η, φ indices to be used later\n",
    "    h_indices = event[::3].index\n",
    "    f_indices = event[1::3].index\n",
    "    \n",
    "    hmax=max2.loc['η']\n",
    "    fmax=max2.loc['φ']\n",
    "    \n",
    "    if (hmax == 0) and (fmax > 0):\n",
    "        angle = 90\n",
    "    \n",
    "    elif (hmax == 0) and (fmax < 0):\n",
    "        angle = -90\n",
    "        \n",
    "    elif hmax > 0:\n",
    "        angle = np.arctan(fmax/hmax) / np.pi * 180\n",
    "        \n",
    "    elif hmax < 0:\n",
    "        angle = np.arctan(fmax/hmax) / np.pi * 180 + 180\n",
    "\n",
    "    print('\\n Angle: ', angle)\n",
    "    print('\\n')\n",
    "    \n",
    "    \n",
    "    \n",
    "    # For all η, φ in the event\n",
    "    for h_index, f_index in zip(h_indices, f_indices): \n",
    "        \n",
    "        \n",
    "        h = event.iloc[0::3][h_index]\n",
    "        f = event.iloc[1::3][f_index]\n",
    "      \n",
    "        \n",
    "        event.iloc[::3][h_index] = f*np.sin(angle) + h*np.cos(angle) \n",
    "        event.iloc[1::3][f_index] = f*np.cos(angle) - h*np.sin(angle)\n",
    "    \n",
    "        \n",
    "    return event"
   ]
  },
  {
   "cell_type": "markdown",
   "metadata": {},
   "source": [
    "#### Code Testing"
   ]
  },
  {
   "cell_type": "code",
   "execution_count": 36,
   "metadata": {},
   "outputs": [
    {
     "name": "stdout",
     "output_type": "stream",
     "text": [
      "pT    176.07600\n",
      "φ      -2.18449\n",
      "η       2.35134\n",
      "dtype: float64 \n",
      "\n",
      " pT    47.33550\n",
      "φ      0.68376\n",
      "η      0.11099\n",
      "dtype: float64 \n",
      "\n",
      "\n",
      "max1 after centering \n",
      " pT    176.076\n",
      "φ       0.000\n",
      "η       0.000\n",
      "dtype: float64\n"
     ]
    },
    {
     "data": {
      "image/png": "[encoded data removed]",
      "text/plain": [
       "<Figure size 432x288 with 2 Axes>"
      ]
     },
     "metadata": {
      "needs_background": "light"
     },
     "output_type": "display_data"
    },
    {
     "name": "stdout",
     "output_type": "stream",
     "text": [
      "\n",
      " Angle:  80.77999239691317\n",
      "\n",
      "\n",
      "pT    176.07600\n",
      "φ      -2.18449\n",
      "η       2.35134\n",
      "dtype: float64 \n",
      "\n",
      " pT    47.33550\n",
      "φ      0.68376\n",
      "η      0.11099\n",
      "dtype: float64 \n",
      "\n",
      "\n",
      "after \n",
      " pT    176.076\n",
      "φ       0.000\n",
      "η       0.000\n",
      "dtype: float64 \n",
      "\n",
      " pT    47.335500\n",
      "φ      0.511312\n",
      "η     -0.467340\n",
      "dtype: float64 \n",
      "\n",
      "\n"
     ]
    },
    {
     "data": {
      "image/png": "[encoded data removed]",
      "text/plain": [
       "<Figure size 432x288 with 2 Axes>"
      ]
     },
     "metadata": {
      "needs_background": "light"
     },
     "output_type": "display_data"
    },
    {
     "name": "stdout",
     "output_type": "stream",
     "text": [
      "\n",
      "\n",
      "----------------------------------------------------------------------------------------------------------------------------------------------\n",
      "\n",
      "\n",
      "pT    111.488000\n",
      "φ       1.396430\n",
      "η      -0.620303\n",
      "dtype: float64 \n",
      "\n",
      " pT    87.822600\n",
      "φ     -0.004410\n",
      "η     -0.008132\n",
      "dtype: float64 \n",
      "\n",
      "\n",
      "max1 after centering \n",
      " pT    111.488\n",
      "φ       0.000\n",
      "η       0.000\n",
      "dtype: float64\n"
     ]
    },
    {
     "data": {
      "image/png": "[encoded data removed]",
      "text/plain": [
       "<Figure size 432x288 with 2 Axes>"
      ]
     },
     "metadata": {
      "needs_background": "light"
     },
     "output_type": "display_data"
    },
    {
     "name": "stdout",
     "output_type": "stream",
     "text": [
      "\n",
      " Angle:  208.4710661782789\n",
      "\n",
      "\n",
      "pT    111.488000\n",
      "φ       1.396430\n",
      "η      -0.620303\n",
      "dtype: float64 \n",
      "\n",
      " pT    87.822600\n",
      "φ     -0.004410\n",
      "η     -0.008132\n",
      "dtype: float64 \n",
      "\n",
      "\n",
      "after \n",
      " pT    111.488\n",
      "φ       0.000\n",
      "η       0.000\n",
      "dtype: float64 \n",
      "\n",
      " pT    87.822600\n",
      "φ      0.005443\n",
      "η     -0.007480\n",
      "dtype: float64 \n",
      "\n",
      "\n"
     ]
    },
    {
     "data": {
      "image/png": "[encoded data removed]",
      "text/plain": [
       "<Figure size 432x288 with 2 Axes>"
      ]
     },
     "metadata": {
      "needs_background": "light"
     },
     "output_type": "display_data"
    },
    {
     "name": "stdout",
     "output_type": "stream",
     "text": [
      "\n",
      "\n",
      "----------------------------------------------------------------------------------------------------------------------------------------------\n",
      "\n",
      "\n",
      "pT    130.197000\n",
      "φ       0.566723\n",
      "η      -0.624329\n",
      "dtype: float64 \n",
      "\n",
      " pT    38.522600\n",
      "φ      0.006943\n",
      "η      0.022013\n",
      "dtype: float64 \n",
      "\n",
      "\n",
      "max1 after centering \n",
      " pT    130.197\n",
      "φ       0.000\n",
      "η       0.000\n",
      "dtype: float64\n"
     ]
    },
    {
     "data": {
      "image/png": "[encoded data removed]",
      "text/plain": [
       "<Figure size 432x288 with 2 Axes>"
      ]
     },
     "metadata": {
      "needs_background": "light"
     },
     "output_type": "display_data"
    },
    {
     "name": "stdout",
     "output_type": "stream",
     "text": [
      "\n",
      " Angle:  17.50551070936879\n",
      "\n",
      "\n",
      "pT    130.197000\n",
      "φ       0.566723\n",
      "η      -0.624329\n",
      "dtype: float64 \n",
      "\n",
      " pT    38.522600\n",
      "φ      0.006943\n",
      "η      0.022013\n",
      "dtype: float64 \n",
      "\n",
      "\n",
      "after \n",
      " pT    130.197\n",
      "φ       0.000\n",
      "η       0.000\n",
      "dtype: float64 \n",
      "\n",
      " pT    38.522600\n",
      "φ      0.023010\n",
      "η     -0.001816\n",
      "dtype: float64 \n",
      "\n",
      "\n"
     ]
    },
    {
     "data": {
      "image/png": "[encoded data removed]",
      "text/plain": [
       "<Figure size 432x288 with 2 Axes>"
      ]
     },
     "metadata": {
      "needs_background": "light"
     },
     "output_type": "display_data"
    },
    {
     "name": "stdout",
     "output_type": "stream",
     "text": [
      "\n",
      "\n",
      "----------------------------------------------------------------------------------------------------------------------------------------------\n",
      "\n",
      "\n",
      "pT    258.940000\n",
      "φ       0.304648\n",
      "η       0.191801\n",
      "dtype: float64 \n",
      "\n",
      " pT    153.919000\n",
      "φ       0.053541\n",
      "η      -0.018472\n",
      "dtype: float64 \n",
      "\n",
      "\n",
      "max1 after centering \n",
      " pT    258.94\n",
      "φ       0.00\n",
      "η       0.00\n",
      "dtype: float64\n"
     ]
    },
    {
     "data": {
      "image/png": "[encoded data removed]",
      "text/plain": [
       "<Figure size 432x288 with 2 Axes>"
      ]
     },
     "metadata": {
      "needs_background": "light"
     },
     "output_type": "display_data"
    },
    {
     "name": "stdout",
     "output_type": "stream",
     "text": [
      "\n",
      " Angle:  109.03477384236805\n",
      "\n",
      "\n",
      "pT    258.940000\n",
      "φ       0.304648\n",
      "η       0.191801\n",
      "dtype: float64 \n",
      "\n",
      " pT    153.919000\n",
      "φ       0.053541\n",
      "η      -0.018472\n",
      "dtype: float64 \n",
      "\n",
      "\n",
      "after \n",
      " pT    258.94\n",
      "φ      -0.00\n",
      "η       0.00\n",
      "dtype: float64 \n",
      "\n",
      " pT    153.919000\n",
      "φ      -0.017688\n",
      "η       0.053805\n",
      "dtype: float64 \n",
      "\n",
      "\n"
     ]
    },
    {
     "data": {
      "image/png": "[encoded data removed]",
      "text/plain": [
       "<Figure size 432x288 with 2 Axes>"
      ]
     },
     "metadata": {
      "needs_background": "light"
     },
     "output_type": "display_data"
    },
    {
     "name": "stdout",
     "output_type": "stream",
     "text": [
      "\n",
      "\n",
      "----------------------------------------------------------------------------------------------------------------------------------------------\n",
      "\n",
      "\n",
      "pT    189.256000\n",
      "φ       0.507969\n",
      "η      -0.459871\n",
      "dtype: float64 \n",
      "\n",
      " pT    21.714200\n",
      "φ      0.035755\n",
      "η     -0.039293\n",
      "dtype: float64 \n",
      "\n",
      "\n",
      "max1 after centering \n",
      " pT    189.256\n",
      "φ       0.000\n",
      "η       0.000\n",
      "dtype: float64\n"
     ]
    },
    {
     "data": {
      "image/png": "[encoded data removed]",
      "text/plain": [
       "<Figure size 432x288 with 2 Axes>"
      ]
     },
     "metadata": {
      "needs_background": "light"
     },
     "output_type": "display_data"
    },
    {
     "name": "stdout",
     "output_type": "stream",
     "text": [
      "\n",
      " Angle:  137.69910581507298\n",
      "\n",
      "\n",
      "pT    189.256000\n",
      "φ       0.507969\n",
      "η      -0.459871\n",
      "dtype: float64 \n",
      "\n",
      " pT    21.714200\n",
      "φ      0.035755\n",
      "η     -0.039293\n",
      "dtype: float64 \n",
      "\n",
      "\n",
      "after \n",
      " pT    189.256\n",
      "φ       0.000\n",
      "η       0.000\n",
      "dtype: float64 \n",
      "\n",
      " pT    21.714200\n",
      "φ      0.010935\n",
      "η     -0.051988\n",
      "dtype: float64 \n",
      "\n",
      "\n"
     ]
    },
    {
     "data": {
      "image/png": "[encoded data removed]",
      "text/plain": [
       "<Figure size 432x288 with 2 Axes>"
      ]
     },
     "metadata": {
      "needs_background": "light"
     },
     "output_type": "display_data"
    },
    {
     "name": "stdout",
     "output_type": "stream",
     "text": [
      "\n",
      "\n",
      "----------------------------------------------------------------------------------------------------------------------------------------------\n",
      "\n",
      "\n",
      "pT    94.767000\n",
      "φ     -0.522596\n",
      "η      0.272213\n",
      "dtype: float64 \n",
      "\n",
      " pT    48.462000\n",
      "φ     -0.224386\n",
      "η     -0.733652\n",
      "dtype: float64 \n",
      "\n",
      "\n",
      "max1 after centering \n",
      " pT    94.767\n",
      "φ      0.000\n",
      "η      0.000\n",
      "dtype: float64\n"
     ]
    },
    {
     "data": {
      "image/png": "[encoded data removed]",
      "text/plain": [
       "<Figure size 432x288 with 2 Axes>"
      ]
     },
     "metadata": {
      "needs_background": "light"
     },
     "output_type": "display_data"
    },
    {
     "name": "stdout",
     "output_type": "stream",
     "text": [
      "\n",
      " Angle:  197.0061472847761\n",
      "\n",
      "\n",
      "pT    94.767000\n",
      "φ     -0.522596\n",
      "η      0.272213\n",
      "dtype: float64 \n",
      "\n",
      " pT    48.462000\n",
      "φ     -0.224386\n",
      "η     -0.733652\n",
      "dtype: float64 \n",
      "\n",
      "\n",
      "after \n",
      " pT    94.767\n",
      "φ     -0.000\n",
      "η      0.000\n",
      "dtype: float64 \n",
      "\n",
      " pT    48.462000\n",
      "φ      0.718075\n",
      "η      0.270116\n",
      "dtype: float64 \n",
      "\n",
      "\n"
     ]
    },
    {
     "data": {
      "image/png": "[encoded data removed]",
      "text/plain": [
       "<Figure size 432x288 with 2 Axes>"
      ]
     },
     "metadata": {
      "needs_background": "light"
     },
     "output_type": "display_data"
    },
    {
     "name": "stdout",
     "output_type": "stream",
     "text": [
      "\n",
      "\n",
      "----------------------------------------------------------------------------------------------------------------------------------------------\n",
      "\n",
      "\n",
      "pT    90.29720\n",
      "φ     -1.40215\n",
      "η      1.06426\n",
      "dtype: float64 \n",
      "\n",
      " pT    37.01080\n",
      "φ     -0.00939\n",
      "η      0.03774\n",
      "dtype: float64 \n",
      "\n",
      "\n",
      "max1 after centering \n",
      " pT    90.2972\n",
      "φ      0.0000\n",
      "η      0.0000\n",
      "dtype: float64\n"
     ]
    },
    {
     "data": {
      "image/png": "[encoded data removed]",
      "text/plain": [
       "<Figure size 432x288 with 2 Axes>"
      ]
     },
     "metadata": {
      "needs_background": "light"
     },
     "output_type": "display_data"
    },
    {
     "name": "stdout",
     "output_type": "stream",
     "text": [
      "\n",
      " Angle:  -13.971926436554876\n",
      "\n",
      "\n",
      "pT    90.29720\n",
      "φ     -1.40215\n",
      "η      1.06426\n",
      "dtype: float64 \n",
      "\n",
      " pT    37.01080\n",
      "φ     -0.00939\n",
      "η      0.03774\n",
      "dtype: float64 \n",
      "\n",
      "\n",
      "after \n",
      " pT    90.2972\n",
      "φ      0.0000\n",
      "η      0.0000\n",
      "dtype: float64 \n",
      "\n",
      " pT    37.010800\n",
      "φ      0.035681\n",
      "η      0.015470\n",
      "dtype: float64 \n",
      "\n",
      "\n"
     ]
    },
    {
     "data": {
      "image/png": "[encoded data removed]",
      "text/plain": [
       "<Figure size 432x288 with 2 Axes>"
      ]
     },
     "metadata": {
      "needs_background": "light"
     },
     "output_type": "display_data"
    },
    {
     "name": "stdout",
     "output_type": "stream",
     "text": [
      "\n",
      "\n",
      "----------------------------------------------------------------------------------------------------------------------------------------------\n",
      "\n",
      "\n",
      "pT    100.28000\n",
      "φ       3.03186\n",
      "η       0.89708\n",
      "dtype: float64 \n",
      "\n",
      " pT    54.141400\n",
      "φ      0.477295\n",
      "η     -0.032168\n",
      "dtype: float64 \n",
      "\n",
      "\n",
      "max1 after centering \n",
      " pT    100.28\n",
      "φ       0.00\n",
      "η       0.00\n",
      "dtype: float64\n"
     ]
    },
    {
     "data": {
      "image/png": "[encoded data removed]",
      "text/plain": [
       "<Figure size 432x288 with 2 Axes>"
      ]
     },
     "metadata": {
      "needs_background": "light"
     },
     "output_type": "display_data"
    },
    {
     "name": "stdout",
     "output_type": "stream",
     "text": [
      "\n",
      " Angle:  93.85570018814433\n",
      "\n",
      "\n",
      "pT    100.28000\n",
      "φ       3.03186\n",
      "η       0.89708\n",
      "dtype: float64 \n",
      "\n",
      " pT    54.141400\n",
      "φ      0.477295\n",
      "η     -0.032168\n",
      "dtype: float64 \n",
      "\n",
      "\n",
      "after \n",
      " pT    100.28\n",
      "φ       0.00\n",
      "η       0.00\n",
      "dtype: float64 \n",
      "\n",
      " pT    54.141400\n",
      "φ      0.428785\n",
      "η     -0.212107\n",
      "dtype: float64 \n",
      "\n",
      "\n"
     ]
    },
    {
     "data": {
      "image/png": "[encoded data removed]",
      "text/plain": [
       "<Figure size 432x288 with 2 Axes>"
      ]
     },
     "metadata": {
      "needs_background": "light"
     },
     "output_type": "display_data"
    },
    {
     "name": "stdout",
     "output_type": "stream",
     "text": [
      "\n",
      "\n",
      "----------------------------------------------------------------------------------------------------------------------------------------------\n",
      "\n",
      "\n",
      "pT    68.068800\n",
      "φ      1.212440\n",
      "η      0.336005\n",
      "dtype: float64 \n",
      "\n",
      " pT    64.002500\n",
      "φ      0.800870\n",
      "η     -0.644321\n",
      "dtype: float64 \n",
      "\n",
      "\n",
      "max1 after centering \n",
      " pT    68.0688\n",
      "φ      0.0000\n",
      "η      0.0000\n",
      "dtype: float64\n"
     ]
    },
    {
     "data": {
      "image/png": "[encoded data removed]",
      "text/plain": [
       "<Figure size 432x288 with 2 Axes>"
      ]
     },
     "metadata": {
      "needs_background": "light"
     },
     "output_type": "display_data"
    },
    {
     "name": "stdout",
     "output_type": "stream",
     "text": [
      "\n",
      " Angle:  128.81759329325405\n",
      "\n",
      "\n",
      "pT    68.068800\n",
      "φ      1.212440\n",
      "η      0.336005\n",
      "dtype: float64 \n",
      "\n",
      " pT    64.002500\n",
      "φ      0.800870\n",
      "η     -0.644321\n",
      "dtype: float64 \n",
      "\n",
      "\n",
      "after \n",
      " pT    68.0688\n",
      "φ      0.0000\n",
      "η     -0.0000\n",
      "dtype: float64 \n",
      "\n",
      " pT    64.002500\n",
      "φ     -0.808731\n",
      "η      0.634426\n",
      "dtype: float64 \n",
      "\n",
      "\n"
     ]
    },
    {
     "data": {
      "image/png": "[encoded data removed]",
      "text/plain": [
       "<Figure size 432x288 with 2 Axes>"
      ]
     },
     "metadata": {
      "needs_background": "light"
     },
     "output_type": "display_data"
    },
    {
     "name": "stdout",
     "output_type": "stream",
     "text": [
      "\n",
      "\n",
      "----------------------------------------------------------------------------------------------------------------------------------------------\n",
      "\n",
      "\n"
     ]
    }
   ],
   "source": [
    "\n",
    "pixels = 60\n",
    "R = 1.5\n",
    "\n",
    "for e in range(1, 10):\n",
    "    ############################                        \n",
    "    event = preprocess(mydata.iloc[e])                         \n",
    "    max1 = find_max1(event) \n",
    "    event = center(event, max1)  \n",
    "    max2 = find_max2(event)\n",
    "    print(max1, '\\n\\n', max2, '\\n\\n')\n",
    "    max1 = find_max1(event) \n",
    "    print('max1 after centering \\n', max1)\n",
    "    ############################\n",
    "\n",
    "    ###\n",
    "    event = create_image(event, pixels=pixels, R=R)  \n",
    "    sns.heatmap(event)\n",
    "    plt.title('ORIGINAL IMAGE')\n",
    "    plt.show()\n",
    "    ###\n",
    "\n",
    "    ############################\n",
    "    event = preprocess(mydata.iloc[e])                                               \n",
    "    max1 = find_max1(event)  \n",
    "    event = center(event, max1) \n",
    "    max2 = find_max2(event)\n",
    "    event = rotate(event, max2) \n",
    "    print(max1, '\\n\\n', max2, '\\n\\n')\n",
    "    max1 = find_max1(event)  \n",
    "    max2 = find_max2(event)\n",
    "\n",
    "    print('after \\n', max1, '\\n\\n', max2, '\\n\\n')\n",
    "\n",
    "    ############################\n",
    "\n",
    "    ###\n",
    "    event = create_image(event, pixels=pixels, R=R) \n",
    "    #event = rotate(event, max2) \n",
    "    sns.heatmap(event)\n",
    "    plt.title('ROTATED IMAGE')\n",
    "    plt.show()\n",
    "    print('\\n\\n----------------------------------------------------------------------------------------------------------------------------------------------\\n\\n')\n",
    "    ###"
   ]
  },
  {
   "cell_type": "markdown",
   "metadata": {},
   "source": [
    "# ---"
   ]
  },
  {
   "cell_type": "markdown",
   "metadata": {},
   "source": [
    "# ⭐Step 6: Flip Image"
   ]
  },
  {
   "cell_type": "markdown",
   "metadata": {},
   "source": [
    "Flip all the constituents such that the constituents with the 3rd highest pT is on the right-half plane, i.e. at (φ’,η’)=(f,e) with f > 0"
   ]
  },
  {
   "cell_type": "markdown",
   "metadata": {},
   "source": [
    "🔴 Define Helper Function that\n",
    "\n",
    "- \n",
    "- \n",
    "- "
   ]
  },
  {
   "cell_type": "code",
   "execution_count": 14,
   "metadata": {},
   "outputs": [],
   "source": [
    "#flip(event, flip_img)"
   ]
  },
  {
   "cell_type": "code",
   "execution_count": null,
   "metadata": {},
   "outputs": [],
   "source": []
  },
  {
   "cell_type": "code",
   "execution_count": null,
   "metadata": {},
   "outputs": [],
   "source": []
  },
  {
   "cell_type": "code",
   "execution_count": null,
   "metadata": {},
   "outputs": [],
   "source": []
  },
  {
   "cell_type": "code",
   "execution_count": null,
   "metadata": {},
   "outputs": [],
   "source": []
  },
  {
   "cell_type": "code",
   "execution_count": null,
   "metadata": {},
   "outputs": [],
   "source": []
  },
  {
   "cell_type": "code",
   "execution_count": null,
   "metadata": {},
   "outputs": [],
   "source": []
  },
  {
   "cell_type": "code",
   "execution_count": null,
   "metadata": {},
   "outputs": [],
   "source": []
  },
  {
   "cell_type": "code",
   "execution_count": null,
   "metadata": {},
   "outputs": [],
   "source": []
  },
  {
   "cell_type": "code",
   "execution_count": null,
   "metadata": {},
   "outputs": [],
   "source": []
  },
  {
   "cell_type": "code",
   "execution_count": null,
   "metadata": {},
   "outputs": [],
   "source": []
  },
  {
   "cell_type": "code",
   "execution_count": null,
   "metadata": {},
   "outputs": [],
   "source": []
  },
  {
   "cell_type": "code",
   "execution_count": null,
   "metadata": {},
   "outputs": [],
   "source": []
  },
  {
   "cell_type": "code",
   "execution_count": null,
   "metadata": {},
   "outputs": [],
   "source": []
  },
  {
   "cell_type": "code",
   "execution_count": null,
   "metadata": {},
   "outputs": [],
   "source": []
  },
  {
   "cell_type": "code",
   "execution_count": null,
   "metadata": {},
   "outputs": [],
   "source": []
  },
  {
   "cell_type": "code",
   "execution_count": null,
   "metadata": {},
   "outputs": [],
   "source": []
  },
  {
   "cell_type": "code",
   "execution_count": null,
   "metadata": {},
   "outputs": [],
   "source": []
  },
  {
   "cell_type": "code",
   "execution_count": null,
   "metadata": {},
   "outputs": [],
   "source": []
  },
  {
   "cell_type": "code",
   "execution_count": null,
   "metadata": {},
   "outputs": [],
   "source": []
  },
  {
   "cell_type": "code",
   "execution_count": null,
   "metadata": {},
   "outputs": [],
   "source": []
  },
  {
   "cell_type": "code",
   "execution_count": null,
   "metadata": {},
   "outputs": [],
   "source": []
  },
  {
   "cell_type": "code",
   "execution_count": null,
   "metadata": {},
   "outputs": [],
   "source": []
  },
  {
   "cell_type": "code",
   "execution_count": null,
   "metadata": {},
   "outputs": [],
   "source": []
  },
  {
   "cell_type": "code",
   "execution_count": null,
   "metadata": {},
   "outputs": [],
   "source": []
  },
  {
   "cell_type": "code",
   "execution_count": null,
   "metadata": {},
   "outputs": [],
   "source": []
  },
  {
   "cell_type": "code",
   "execution_count": null,
   "metadata": {},
   "outputs": [],
   "source": []
  },
  {
   "cell_type": "code",
   "execution_count": null,
   "metadata": {},
   "outputs": [],
   "source": []
  },
  {
   "cell_type": "code",
   "execution_count": null,
   "metadata": {},
   "outputs": [],
   "source": []
  },
  {
   "cell_type": "code",
   "execution_count": null,
   "metadata": {},
   "outputs": [],
   "source": []
  },
  {
   "cell_type": "code",
   "execution_count": null,
   "metadata": {},
   "outputs": [],
   "source": []
  },
  {
   "cell_type": "code",
   "execution_count": null,
   "metadata": {},
   "outputs": [],
   "source": []
  },
  {
   "cell_type": "code",
   "execution_count": null,
   "metadata": {},
   "outputs": [],
   "source": []
  },
  {
   "cell_type": "code",
   "execution_count": null,
   "metadata": {},
   "outputs": [],
   "source": []
  },
  {
   "cell_type": "code",
   "execution_count": null,
   "metadata": {},
   "outputs": [],
   "source": []
  },
  {
   "cell_type": "code",
   "execution_count": null,
   "metadata": {},
   "outputs": [],
   "source": []
  },
  {
   "cell_type": "code",
   "execution_count": null,
   "metadata": {},
   "outputs": [],
   "source": []
  },
  {
   "cell_type": "code",
   "execution_count": null,
   "metadata": {},
   "outputs": [],
   "source": []
  },
  {
   "cell_type": "code",
   "execution_count": null,
   "metadata": {},
   "outputs": [],
   "source": []
  },
  {
   "cell_type": "code",
   "execution_count": null,
   "metadata": {},
   "outputs": [],
   "source": []
  },
  {
   "cell_type": "code",
   "execution_count": null,
   "metadata": {},
   "outputs": [],
   "source": []
  },
  {
   "cell_type": "code",
   "execution_count": null,
   "metadata": {},
   "outputs": [],
   "source": []
  },
  {
   "cell_type": "code",
   "execution_count": null,
   "metadata": {},
   "outputs": [],
   "source": []
  },
  {
   "cell_type": "code",
   "execution_count": null,
   "metadata": {},
   "outputs": [],
   "source": []
  },
  {
   "cell_type": "code",
   "execution_count": null,
   "metadata": {},
   "outputs": [],
   "source": []
  },
  {
   "cell_type": "code",
   "execution_count": null,
   "metadata": {},
   "outputs": [],
   "source": []
  }
 ],
 "metadata": {
  "kernelspec": {
   "display_name": "Python 3",
   "language": "python",
   "name": "python3"
  },
  "language_info": {
   "codemirror_mode": {
    "name": "ipython",
    "version": 3
   },
   "file_extension": ".py",
   "mimetype": "text/x-python",
   "name": "python",
   "nbconvert_exporter": "python",
   "pygments_lexer": "ipython3",
   "version": "3.7.7"
  }
 },
 "nbformat": 4,
 "nbformat_minor": 4
}

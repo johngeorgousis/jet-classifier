{
 "cells": [
  {
   "cell_type": "markdown",
   "metadata": {},
   "source": [
    "# 🟡Step 0: Imports\n"
   ]
  },
  {
   "cell_type": "markdown",
   "metadata": {},
   "source": [
    "**Most Relevant Papers** <br />\n",
    "https://arxiv.org/pdf/1407.5675.pdf <br />\n",
    "https://arxiv.org/pdf/1701.08784.pdf"
   ]
  },
  {
   "cell_type": "code",
   "execution_count": 4,
   "metadata": {},
   "outputs": [],
   "source": [
    "from utils import *\n",
    "%matplotlib inline"
   ]
  },
  {
   "cell_type": "markdown",
   "metadata": {},
   "source": [
    "# 🟡Step 1: Read the data (tar.gz file)\n",
    "As a first step, we unzipped the tar.gz file into a .dat file using 7-zip. \n",
    "Then, we convert the .dat file into a string and then into a DataFrame."
   ]
  },
  {
   "cell_type": "markdown",
   "metadata": {},
   "source": [
    ".strip() --> remove spaces on the sides\n",
    "\n",
    ".split() --> separate values by spaces (otherwise we'd get a single conlumn)"
   ]
  },
  {
   "cell_type": "code",
   "execution_count": 5,
   "metadata": {},
   "outputs": [],
   "source": [
    "# Convert .dat file into string (list comprehension)\n",
    "datContent = [i.strip().split() for i in open(\"tth_semihad.dat\").readlines()]\n",
    "\n",
    "# Convert list into DataFrame\n",
    "mydata = pd.DataFrame(datContent)"
   ]
  },
  {
   "cell_type": "markdown",
   "metadata": {},
   "source": [
    "# 🟡Step 2: Explore the data\n",
    "**Physics**\n",
    "\n",
    "Jonas: \"The file was produced from a simulation of pp->tt~H where the top decays hadronically\n",
    "and the anti-top decays leptonically. <br /> I selected events with exactly 1 fat jet with R=1.5.\"\n",
    "\n",
    "\n",
    "**Notes**\n",
    "- The rows represent events (of 1 fat jet each, R = 1.5) \n",
    "- The first column represents the number of constituents of the jet  \n",
    "- The following columns represent the coordinates of the constituents, η, φ, pT, cycling in that order. <br />(e.g. columns 1, 2, 3 are η, φ, pT for the 1st constituent, columns 4, 5, 6 are η, φ, pT for the 2nd constituent etc.)\n",
    "\n",
    "<br />\n",
    "\n",
    "- -infinity < η < infinity \n",
    "- -π < φ < π\n",
    "- pT[GeV] > 0\n",
    "\n"
   ]
  },
  {
   "cell_type": "code",
   "execution_count": 6,
   "metadata": {},
   "outputs": [
    {
     "data": {
      "text/html": [
       "<div>\n",
       "<style scoped>\n",
       "    .dataframe tbody tr th:only-of-type {\n",
       "        vertical-align: middle;\n",
       "    }\n",
       "\n",
       "    .dataframe tbody tr th {\n",
       "        vertical-align: top;\n",
       "    }\n",
       "\n",
       "    .dataframe thead th {\n",
       "        text-align: right;\n",
       "    }\n",
       "</style>\n",
       "<table border=\"1\" class=\"dataframe\">\n",
       "  <thead>\n",
       "    <tr style=\"text-align: right;\">\n",
       "      <th></th>\n",
       "      <th>Const</th>\n",
       "      <th>1</th>\n",
       "      <th>2</th>\n",
       "      <th>3</th>\n",
       "      <th>4</th>\n",
       "      <th>5</th>\n",
       "      <th>6</th>\n",
       "      <th>7</th>\n",
       "      <th>8</th>\n",
       "      <th>9</th>\n",
       "      <th>...</th>\n",
       "      <th>99</th>\n",
       "      <th>100</th>\n",
       "      <th>101</th>\n",
       "      <th>102</th>\n",
       "      <th>103</th>\n",
       "      <th>104</th>\n",
       "      <th>105</th>\n",
       "      <th>106</th>\n",
       "      <th>107</th>\n",
       "      <th>108</th>\n",
       "    </tr>\n",
       "  </thead>\n",
       "  <tbody>\n",
       "    <tr>\n",
       "      <th>0</th>\n",
       "      <td>4</td>\n",
       "      <td>2.30474</td>\n",
       "      <td>0.221042</td>\n",
       "      <td>78.9436</td>\n",
       "      <td>1.00519</td>\n",
       "      <td>0.736657</td>\n",
       "      <td>61.9115</td>\n",
       "      <td>1.25546</td>\n",
       "      <td>0.748395</td>\n",
       "      <td>48.9755</td>\n",
       "      <td>...</td>\n",
       "      <td>None</td>\n",
       "      <td>None</td>\n",
       "      <td>None</td>\n",
       "      <td>None</td>\n",
       "      <td>None</td>\n",
       "      <td>None</td>\n",
       "      <td>None</td>\n",
       "      <td>None</td>\n",
       "      <td>None</td>\n",
       "      <td>None</td>\n",
       "    </tr>\n",
       "    <tr>\n",
       "      <th>1</th>\n",
       "      <td>2</td>\n",
       "      <td>2.35134</td>\n",
       "      <td>-2.18449</td>\n",
       "      <td>176.076</td>\n",
       "      <td>2.46233</td>\n",
       "      <td>-1.50073</td>\n",
       "      <td>47.3355</td>\n",
       "      <td>None</td>\n",
       "      <td>None</td>\n",
       "      <td>None</td>\n",
       "      <td>...</td>\n",
       "      <td>None</td>\n",
       "      <td>None</td>\n",
       "      <td>None</td>\n",
       "      <td>None</td>\n",
       "      <td>None</td>\n",
       "      <td>None</td>\n",
       "      <td>None</td>\n",
       "      <td>None</td>\n",
       "      <td>None</td>\n",
       "      <td>None</td>\n",
       "    </tr>\n",
       "    <tr>\n",
       "      <th>2</th>\n",
       "      <td>6</td>\n",
       "      <td>0.492933</td>\n",
       "      <td>0.766876</td>\n",
       "      <td>51.5247</td>\n",
       "      <td>-0.984489</td>\n",
       "      <td>2.29985</td>\n",
       "      <td>13.7463</td>\n",
       "      <td>0.103217</td>\n",
       "      <td>1.40088</td>\n",
       "      <td>5.31666</td>\n",
       "      <td>...</td>\n",
       "      <td>None</td>\n",
       "      <td>None</td>\n",
       "      <td>None</td>\n",
       "      <td>None</td>\n",
       "      <td>None</td>\n",
       "      <td>None</td>\n",
       "      <td>None</td>\n",
       "      <td>None</td>\n",
       "      <td>None</td>\n",
       "      <td>None</td>\n",
       "    </tr>\n",
       "    <tr>\n",
       "      <th>3</th>\n",
       "      <td>10</td>\n",
       "      <td>-0.624329</td>\n",
       "      <td>0.566723</td>\n",
       "      <td>130.197</td>\n",
       "      <td>-0.602316</td>\n",
       "      <td>0.573666</td>\n",
       "      <td>38.5226</td>\n",
       "      <td>-0.541426</td>\n",
       "      <td>0.449072</td>\n",
       "      <td>15.3244</td>\n",
       "      <td>...</td>\n",
       "      <td>None</td>\n",
       "      <td>None</td>\n",
       "      <td>None</td>\n",
       "      <td>None</td>\n",
       "      <td>None</td>\n",
       "      <td>None</td>\n",
       "      <td>None</td>\n",
       "      <td>None</td>\n",
       "      <td>None</td>\n",
       "      <td>None</td>\n",
       "    </tr>\n",
       "    <tr>\n",
       "      <th>4</th>\n",
       "      <td>15</td>\n",
       "      <td>-0.538961</td>\n",
       "      <td>-0.617644</td>\n",
       "      <td>0.819517</td>\n",
       "      <td>0.527734</td>\n",
       "      <td>1.53319</td>\n",
       "      <td>1.94989</td>\n",
       "      <td>0.20174</td>\n",
       "      <td>0.916744</td>\n",
       "      <td>5.63418</td>\n",
       "      <td>...</td>\n",
       "      <td>None</td>\n",
       "      <td>None</td>\n",
       "      <td>None</td>\n",
       "      <td>None</td>\n",
       "      <td>None</td>\n",
       "      <td>None</td>\n",
       "      <td>None</td>\n",
       "      <td>None</td>\n",
       "      <td>None</td>\n",
       "      <td>None</td>\n",
       "    </tr>\n",
       "  </tbody>\n",
       "</table>\n",
       "<p>5 rows × 109 columns</p>\n",
       "</div>"
      ],
      "text/plain": [
       "  Const          1          2         3          4         5        6  \\\n",
       "0     4    2.30474   0.221042   78.9436    1.00519  0.736657  61.9115   \n",
       "1     2    2.35134   -2.18449   176.076    2.46233  -1.50073  47.3355   \n",
       "2     6   0.492933   0.766876   51.5247  -0.984489   2.29985  13.7463   \n",
       "3    10  -0.624329   0.566723   130.197  -0.602316  0.573666  38.5226   \n",
       "4    15  -0.538961  -0.617644  0.819517   0.527734   1.53319  1.94989   \n",
       "\n",
       "           7         8        9  ...    99   100   101   102   103   104  \\\n",
       "0    1.25546  0.748395  48.9755  ...  None  None  None  None  None  None   \n",
       "1       None      None     None  ...  None  None  None  None  None  None   \n",
       "2   0.103217   1.40088  5.31666  ...  None  None  None  None  None  None   \n",
       "3  -0.541426  0.449072  15.3244  ...  None  None  None  None  None  None   \n",
       "4    0.20174  0.916744  5.63418  ...  None  None  None  None  None  None   \n",
       "\n",
       "    105   106   107   108  \n",
       "0  None  None  None  None  \n",
       "1  None  None  None  None  \n",
       "2  None  None  None  None  \n",
       "3  None  None  None  None  \n",
       "4  None  None  None  None  \n",
       "\n",
       "[5 rows x 109 columns]"
      ]
     },
     "metadata": {},
     "output_type": "display_data"
    },
    {
     "name": "stdout",
     "output_type": "stream",
     "text": [
      "There are 12177 rows (events).\n",
      "The maximum number of constituents in an event is 36.\n"
     ]
    }
   ],
   "source": [
    "# Display the data\n",
    "mydata = mydata.rename(columns={0: 'Const'})\n",
    "display(mydata.head())\n",
    "\n",
    "# Print statements\n",
    "events = mydata.shape[0]\n",
    "print('There are {} rows (events).'.format(events))\n",
    "print('The maximum number of constituents in an event is {}.'.format((mydata.shape[1] - 1) // 3))\n",
    "\n",
    "# Display data types\n",
    "#print('\\nData Types: \\n', mydata.dtypes)\n",
    "\n",
    "# Descriptive statistics on data\n",
    "#mydata.describe()"
   ]
  },
  {
   "cell_type": "markdown",
   "metadata": {},
   "source": [
    "#### 🔴 Mild Pre-Processing\n",
    "\n",
    "1. Define function to separate constituents from coordinates, deal with NaN values, and convert values to floats.\n",
    "2. Define processed dataframe and constituents vector"
   ]
  },
  {
   "cell_type": "markdown",
   "metadata": {},
   "source": [
    "---"
   ]
  },
  {
   "cell_type": "markdown",
   "metadata": {},
   "source": [
    "**Note: This is for testing only (displaying events throughout)**"
   ]
  },
  {
   "cell_type": "code",
   "execution_count": 7,
   "metadata": {},
   "outputs": [],
   "source": [
    "def preprocessdf(df):\n",
    "    '''\n",
    "    -Extracts no. of constituents\n",
    "    -Drops constituents column\n",
    "    -Replaces NaN values with 0\n",
    "    -Converts all values to floats\n",
    "    \n",
    "    Input: DataFrame to be transformed\n",
    "    Output: Transformed DataFrame, constituents Series \n",
    "    '''\n",
    "    \n",
    "    # Create df copy\n",
    "    df1 = df.copy(deep=True)\n",
    "    \n",
    "    # Extract constituents column\n",
    "    const = df1['Const']\n",
    "    # Drop constituents from df\n",
    "    df1 = df1.drop('Const', axis=1)\n",
    "    \n",
    "    # Replace NaN with 0\n",
    "    df1 = df1.fillna(0)\n",
    "\n",
    "    # Convert values to floats\n",
    "    df1 = df1.astype(float)\n",
    "    \n",
    "    return df1, const"
   ]
  },
  {
   "cell_type": "code",
   "execution_count": 8,
   "metadata": {},
   "outputs": [],
   "source": [
    "# Define processed dataframe and constituents vector\n",
    "mydata_prep = preprocessdf(mydata)[0]"
   ]
  },
  {
   "cell_type": "markdown",
   "metadata": {},
   "source": [
    "# 🟡Step 3: Construct Average Jet Image\n",
    "\n",
    "**Jonas:**\n",
    "\n",
    "The data in each row represents all the constituents of a fat jet in the original (φ,η,pT) coordinate system of the detector. \n",
    "You should now transform all the constituents of one fat jet (i.e. individually for each row in the data file) into a new coordinate system \n",
    "(φ',η’,pT). Consequently you transform/bin this information into a two-dimensional image/Heat Map.   \n",
    "\n",
    "The steps in detail are\n",
    "\n",
    "1. Find the constituent with the highest pT\n",
    "2. Choose the center of the new coordinate system such that this constituent has the coordinates (φ’,η’)=0. This operation corresponds to rotating and boosting along the beam direction to center the jet.  \n",
    "3. Rotate all constituents around (φ’,η’)=0 such that the constituent with the 2nd highest pT is at 12 o’clock, i.e. at  (φ’,η’)=(0,e) with e > 0.\n",
    "4. Flip all the constituents such that the constituents with the 3rd highest pT is on the right, i.e. at (φ’,η’)=(f,e) with f > 0\n",
    "5. Define a 2-dim image with 40x40 pixels which correspond to η', φ' ∈ (−R, R). The jets we are looking at are approximately cone-shaped with radius R. I.e. all the constituents of the jet should end up within this image. For each pixel you now store the sum of the pT of all constituents that are located within this pixel. I.e. you discretise the (φ’,η’) coordinates into pixels and the intensity of the pixel corresponds to the sum of the energy of all constituents in the pixel.\n",
    "\n",
    "As a very first step you can plot the images constructed from just steps 1)+2)+5) for a couple of jets. All the images will only have a few pixels filled. Subsequently you should plot the sum of all these images. This should give a broad peak at the center. \n",
    "\n",
    "Finally you should apply 1)-5) and plot the sum. This should hopefully look like the image from the reference. \n",
    "\n"
   ]
  },
  {
   "cell_type": "markdown",
   "metadata": {},
   "source": [
    "---\n",
    "<br />\n",
    "\n",
    "---\n",
    "<br />\n",
    "\n",
    "---\n",
    "<br />\n",
    "\n",
    "---\n",
    "<br />\n",
    "\n",
    "---"
   ]
  },
  {
   "cell_type": "markdown",
   "metadata": {},
   "source": [
    "### 🔵 0. Define image plotting functions"
   ]
  },
  {
   "cell_type": "markdown",
   "metadata": {},
   "source": [
    "#### 🔴 Helper Function that creates an image of events\n",
    "\n",
    "1. Bins η, φ, p\n",
    "2. Creates Image using np.histogram2d(). pd.DataFrame(), sns.heatmap()"
   ]
  },
  {
   "cell_type": "code",
   "execution_count": 9,
   "metadata": {},
   "outputs": [],
   "source": [
    "# utils.py"
   ]
  },
  {
   "cell_type": "code",
   "execution_count": 10,
   "metadata": {},
   "outputs": [
    {
     "data": {
      "image/png": "[encoded data removed]",
      "text/plain": [
       "<Figure size 432x288 with 2 Axes>"
      ]
     },
     "metadata": {
      "needs_background": "light"
     },
     "output_type": "display_data"
    }
   ],
   "source": [
    "# Single Event Example using the first event\n",
    "plot_events(mydata_prep.iloc[0], title='First Event', ylabel='η', xlabel='φ')"
   ]
  },
  {
   "cell_type": "code",
   "execution_count": null,
   "metadata": {},
   "outputs": [],
   "source": [
    "# # Multiple events example using unprocessed dataframe\n",
    "# plot_events(mydata_prep, title='Unprocessed Image with R = 5', R=5, ylabel='η', xlabel='φ')"
   ]
  },
  {
   "cell_type": "markdown",
   "metadata": {},
   "source": [
    "---\n",
    "<br />\n",
    "\n",
    "---\n",
    "<br />\n",
    "\n",
    "---\n",
    "<br />\n",
    "\n",
    "---\n",
    "<br />\n",
    "\n",
    "---"
   ]
  },
  {
   "cell_type": "markdown",
   "metadata": {},
   "source": [
    "### 🔵 1. Extract Maxima\n",
    "For each row, extract the maximum pT and its corresponding η and φ. <br />\n",
    "We also extract the 2nd and 3rd maximum pT's for future use. "
   ]
  },
  {
   "cell_type": "markdown",
   "metadata": {},
   "source": [
    "---"
   ]
  },
  {
   "cell_type": "markdown",
   "metadata": {},
   "source": [
    "#### 🔴 Define Helper Function that returns 3 vectors, one for each pT and its η, φ. (For the three maximum pT's)\n",
    "\n",
    "- **1st vector**: 1st maximum pT and its η, φ\n",
    "- **2nd vector**: 2nd maximum pT and its η, φ\n",
    "- **3rd vector**: 3rd maximum pT and its η, φ"
   ]
  },
  {
   "cell_type": "code",
   "execution_count": 11,
   "metadata": {},
   "outputs": [
    {
     "data": {
      "text/plain": [
       "(pT    78.943600\n",
       " φ      0.221042\n",
       " η      2.304740\n",
       " dtype: float64,\n",
       " pT    61.911500\n",
       " φ      0.736657\n",
       " η      1.005190\n",
       " dtype: float64,\n",
       " pT    48.975500\n",
       " φ      0.748395\n",
       " η      1.255460\n",
       " dtype: float64)"
      ]
     },
     "execution_count": 11,
     "metadata": {},
     "output_type": "execute_result"
    }
   ],
   "source": [
    "# Example using first event\n",
    "extract_max123(mydata_prep.iloc[0])"
   ]
  },
  {
   "cell_type": "markdown",
   "metadata": {},
   "source": [
    "**Why the if statement?** (note to self) <br />\n",
    "Because if maximum pT is 0 in the pdata vector, it picks the ID of the first pT by default as the max (because they're all 0). <br />\n",
    "Then, it goes to the non-zero'd event vector and adds its non-zero pT as the max, when the value of that max should clearly have been 0.\n",
    "\n",
    "So the if statement fixes this: <br />\n",
    "- If max pT != 0, then add it as normal.\n",
    "- If max pT = 0, then add '0' as its value instead. (with the coordinates of the first pT, which is incorrect, but this doesn't matter since pT = 0 are not taken into account in the image) <br />\n"
   ]
  },
  {
   "cell_type": "markdown",
   "metadata": {},
   "source": [
    "---"
   ]
  },
  {
   "cell_type": "markdown",
   "metadata": {},
   "source": [
    "#### 🔴 Define list of 3 DataFrames containing the maxima (+ η, φ)\n",
    "\n",
    "Note: Try this using the map() function instead"
   ]
  },
  {
   "cell_type": "code",
   "execution_count": 12,
   "metadata": {},
   "outputs": [
    {
     "name": "stdout",
     "output_type": "stream",
     "text": [
      "Time taken: 45.00s\n"
     ]
    }
   ],
   "source": [
    "maxpt1 = []\n",
    "maxpt2 = []\n",
    "maxpt3 = []\n",
    "\n",
    "start = time.time()\n",
    "\n",
    "# For all events, add maxima to & coordinates to list\n",
    "for i in range(events):\n",
    "    maxpt1.append(extract_max123(mydata_prep.iloc[i])[0])\n",
    "    maxpt2.append(extract_max123(mydata_prep.iloc[i])[1])\n",
    "    maxpt3.append(extract_max123(mydata_prep.iloc[i])[2])\n",
    "    \n",
    "# Turn lists into DataFrames\n",
    "max1 = pd.DataFrame(maxpt1)\n",
    "max2 = pd.DataFrame(maxpt2)\n",
    "max3 = pd.DataFrame(maxpt3)\n",
    "\n",
    "# Create list of DataFrames containing all df for the 3 maxima\n",
    "max123 = [max1, max2, max3]\n",
    "\n",
    "end = time.time()\n",
    "print('Time taken: {0:.2f}s'.format(end-start))"
   ]
  },
  {
   "cell_type": "code",
   "execution_count": 13,
   "metadata": {},
   "outputs": [
    {
     "data": {
      "text/plain": [
       "[             pT         φ         η\n",
       " 0       78.9436  0.221042  2.304740\n",
       " 1      176.0760 -2.184490  2.351340\n",
       " 2      111.4880  1.396430 -0.620303\n",
       " 3      130.1970  0.566723 -0.624329\n",
       " 4      258.9400  0.304648  0.191801\n",
       " ...         ...       ...       ...\n",
       " 12172   67.6743 -0.505784  0.307106\n",
       " 12173   80.6389 -0.073204 -2.418710\n",
       " 12174  121.6040 -0.378084  1.392990\n",
       " 12175  148.5020  2.665060  1.192300\n",
       " 12176  300.4430 -2.142970  0.758524\n",
       " \n",
       " [12177 rows x 3 columns],\n",
       "              pT         φ         η\n",
       " 0       61.9115  0.736657  1.005190\n",
       " 1       47.3355 -1.500730  2.462330\n",
       " 2       87.8226  1.392020 -0.628435\n",
       " 3       38.5226  0.573666 -0.602316\n",
       " 4      153.9190  0.358189  0.173329\n",
       " ...         ...       ...       ...\n",
       " 12172   41.7192 -0.475893  0.436089\n",
       " 12173   69.2937 -0.250145 -2.200330\n",
       " 12174   79.3495 -0.508426  0.283491\n",
       " 12175   51.7881  2.663600  1.248160\n",
       " 12176  106.4300 -1.712760  0.945117\n",
       " \n",
       " [12177 rows x 3 columns],\n",
       "               pT         φ         η\n",
       " 0       48.97550  0.748395  1.255460\n",
       " 1        0.00000 -2.184490  2.351340\n",
       " 2       51.52470  0.766876  0.492933\n",
       " 3       15.32440  0.449072 -0.541426\n",
       " 4      120.50100  0.772949  0.225016\n",
       " ...          ...       ...       ...\n",
       " 12172   41.04580 -0.331847  1.439240\n",
       " 12173   36.15440  0.023155 -2.549290\n",
       " 12174   18.04900  1.146560  0.820397\n",
       " 12175    9.38901  2.318350  2.000360\n",
       " 12176   20.90690 -2.206470  0.779592\n",
       " \n",
       " [12177 rows x 3 columns]]"
      ]
     },
     "metadata": {},
     "output_type": "display_data"
    }
   ],
   "source": [
    "# Display max123 DataFrame\n",
    "display(max123)"
   ]
  },
  {
   "cell_type": "markdown",
   "metadata": {},
   "source": [
    "---\n",
    "<br />\n",
    "\n",
    "---\n",
    "<br />\n",
    "\n",
    "---\n",
    "<br />\n",
    "\n",
    "---\n",
    "<br />\n",
    "\n",
    "---"
   ]
  },
  {
   "cell_type": "markdown",
   "metadata": {},
   "source": [
    "### 🔵2. Shift: Centre Image\n",
    "For each row, we centre a new coordinate system so that the highest pT constituent's coordinates are (φ', η') = (0, 0). <br />\n",
    "This corresponds to rotating and boosting along the beam direction to center the jet.\n",
    "\n",
    "**φ Tranformation**<br />\n",
    "For the φ transformation, we subtract the φ (of the max pT) from all φ's in that row. <br />\n",
    "If the values exceed [-π, π], we add 2π to the final result (if it's <-π) or subtract 2π from the final result (if it's >π). This makes sure that no values exceed the original φ interval. <br />\n",
    "This has the effect of making the φ (corresponding to the max pT for that row) equal to 0 in each row, and shifting the other φ's by that same angle, while maintaining a range of 2π. <br />\n",
    "\n",
    "**η Transformation**<br />\n",
    "How does η transform? We need a Lorentz Transformation. \n",
    "\n",
    "**Paper** (E) <br />\n",
    "Histograms binned in\n",
    "either the angular separation of events or the rapidity separation of events can\n",
    "be contributed to by events whose centre of mass frames are boosted by arbitrary velocities with respect to the rest frame of the detector, the lab frame.\n",
    "The resulting histograms are undistorted by these centre of mass frame boosts\n",
    "parallel to the beam axis, as the dependent variable is invariant with respect\n",
    "to this sub–class of Lorentz boosts.\n",
    "\n",
    "**Paper** (F): make code cell below markdown to display\n"
   ]
  },
  {
   "cell_type": "code",
   "execution_count": 18,
   "metadata": {},
   "outputs": [],
   "source": [
    "#<img src=\"h1.png\" width=\"500\"> <img src=\"h2.png\" width=\"500\">"
   ]
  },
  {
   "cell_type": "markdown",
   "metadata": {},
   "source": [
    "φ Only Example Comparison found in utils"
   ]
  },
  {
   "cell_type": "markdown",
   "metadata": {},
   "source": [
    "## 🔴 **Centering Transformation** (η and φ)\n"
   ]
  },
  {
   "cell_type": "markdown",
   "metadata": {},
   "source": [
    "#### 🔴 Helper Function"
   ]
  },
  {
   "cell_type": "code",
   "execution_count": 22,
   "metadata": {},
   "outputs": [],
   "source": [
    "def center(event1, max123, output='event', R=1.5, pixels=60):\n",
    "    \n",
    "    '''\n",
    "    Centers image around (φ', η') = (0, 0). Both transformations are linear (so far). \n",
    "    \n",
    "    event1: the event (row) to be transformed\n",
    "    max123: list of 3 dataframes of max pT, η, φ. Obtained using the extract_max123() function\n",
    "    output: 'event' to return a Series of the transformed event1. 'image' to return a transformed dataframe representing an image \n",
    "    '''\n",
    "    # For testing only. Redundant\n",
    "    mydata_prep = preprocessdf(mydata)[0]\n",
    "    \n",
    "    # Define η, φ indices to be used later\n",
    "    h_indices = mydata_prep.iloc[0][::3].index\n",
    "    f_indices = mydata_prep.iloc[0][1::3].index\n",
    "\n",
    "    # Create copy of event\n",
    "    event = event1.copy(deep=True)\n",
    "\n",
    "    # For all η, φ in the event\n",
    "    for h_index, f_index in zip(h_indices, f_indices):             \n",
    "\n",
    "        # Define Useful Quantities\n",
    "        num_index = event.name                   # index of event, so that we can find its corresponding φ in the max123[0] dataframe of max pT's and φ, η's\n",
    "        maxh = max123[0].iloc[num_index]['η']    # η of max1 pT value\n",
    "        maxf = max123[0].iloc[num_index]['φ']    # φ of max1 pT value\n",
    "        f = event.iloc[1::3][f_index]            # φ original value\n",
    "        \n",
    "        # η Transformation\n",
    "        event.iloc[::3][h_index] -= maxh         # Subtract max η from current η\n",
    "        \n",
    "        # φ Transformation (Note: the if statements take periodicity into account, making sure that range does not exceed 2π)\n",
    "        if (f - maxf) < -np.pi:\n",
    "            event.iloc[1::3][f_index] = f + 2*np.pi - maxf\n",
    "\n",
    "        elif (f - maxf) > np.pi:\n",
    "            event.iloc[1::3][f_index] = f - 2*np.pi - maxf\n",
    "\n",
    "        else: \n",
    "            event.iloc[1::3][f_index] -= maxf     # Subtract max φ from current φ\n",
    "    \n",
    "\n",
    "            \n",
    "\n",
    "    if output == 'event':\n",
    "        return event\n",
    "    \n",
    "    elif output == 'image':\n",
    "        # Initiate bin lists\n",
    "        bin_h = []\n",
    "        bin_f = []\n",
    "        bin_p = []\n",
    "\n",
    "        # Define max number of constituents \n",
    "        max_const = event.shape[0] // 3\n",
    "        # For all constituents\n",
    "        for i in range(max_const):\n",
    "            # Add constituent's η, φ, p to bins\n",
    "            bin_h.append(list(event.iloc[::3])[i])\n",
    "            bin_f.append(list(event.iloc[1::3])[i])\n",
    "            bin_p.append(list(event.iloc[2::3])[i])\n",
    "\n",
    "        # Turn lists into Series\n",
    "        bin_h = pd.Series(bin_h)\n",
    "        bin_f = pd.Series(bin_f)\n",
    "        bin_p = pd.Series(bin_p)\n",
    "\n",
    "        # Define no. of bins\n",
    "        bin_count = np.linspace(-R, R, pixels + 1)\n",
    "\n",
    "        # Create bins from -R to R and convert to DataFrame\n",
    "        bins = np.histogram2d(bin_h, bin_f, bins=bin_count, weights=bin_p)[0] # x and y are switch because when the bins were turned into a Series the shape[0] and shape[1] were switched\n",
    "        bins = pd.DataFrame(bins)\n",
    "        image = bins\n",
    "        \n",
    "        return image"
   ]
  },
  {
   "cell_type": "code",
   "execution_count": 26,
   "metadata": {},
   "outputs": [
    {
     "data": {
      "image/png": "[encoded data removed]",
      "text/plain": [
       "<Figure size 432x288 with 2 Axes>"
      ]
     },
     "metadata": {
      "needs_background": "light"
     },
     "output_type": "display_data"
    },
    {
     "data": {
      "image/png": "[encoded data removed]",
      "text/plain": [
       "<Figure size 432x288 with 2 Axes>"
      ]
     },
     "metadata": {
      "needs_background": "light"
     },
     "output_type": "display_data"
    }
   ],
   "source": [
    "# Test with single event\n",
    "e = 3\n",
    "plot_events(mydata_prep.iloc[e], title='Before Centering', xlabel='φ', ylabel='η')\n",
    "image=center(mydata_prep.iloc[e], max123, output='image')\n",
    "sns.heatmap(image)\n",
    "plt.title('After Centering')\n",
    "plt.xlabel('φ\\'')\n",
    "plt.ylabel('η\\'')\n",
    "plt.show()"
   ]
  },
  {
   "cell_type": "markdown",
   "metadata": {},
   "source": [
    "#### 🔴 Create Centered DataFrame"
   ]
  },
  {
   "cell_type": "code",
   "execution_count": null,
   "metadata": {},
   "outputs": [],
   "source": [
    "def preprocess(event1):\n",
    "    '''\n",
    "    -Extracts no. of constituents\n",
    "    -Drops constituents column\n",
    "    -Replaces NaN values with 0\n",
    "    -Converts all values to floats\n",
    "    \n",
    "    Input: Series (event) to be processed\n",
    "    Output: Processed Series, constituents Series \n",
    "    '''\n",
    "    \n",
    "    # Create series copy\n",
    "    event = event1.copy(deep=True)\n",
    "    \n",
    "    # Extract constituents \n",
    "    const = event['Const']\n",
    "    # Drop constituents from row\n",
    "    event = event.drop(labels='Const')\n",
    "    \n",
    "    # Replace NaN with 0\n",
    "    event = event.fillna(0)\n",
    "\n",
    "    # Convert values to floats\n",
    "    event = event.astype(float)\n",
    "    \n",
    "    return event, const\n",
    "\n"
   ]
  },
  {
   "cell_type": "code",
   "execution_count": null,
   "metadata": {},
   "outputs": [],
   "source": [
    "mydata_prep, const = prep(mydata)"
   ]
  },
  {
   "cell_type": "code",
   "execution_count": null,
   "metadata": {},
   "outputs": [],
   "source": [
    "maxpt1 = []\n",
    "maxpt2 = []\n",
    "maxpt3 = []\n",
    "\n",
    "start = time.time()\n",
    "\n",
    "# For all events, add maxima to & coordinates to list\n",
    "for i in range(events):\n",
    "    maxpt1.append(extract_max123(mydata_prep.iloc[i])[0])\n",
    "    maxpt2.append(extract_max123(mydata_prep.iloc[i])[1])\n",
    "    maxpt3.append(extract_max123(mydata_prep.iloc[i])[2])\n",
    "    \n",
    "# Turn lists into DataFrames\n",
    "max1 = pd.DataFrame(maxpt1)\n",
    "max2 = pd.DataFrame(maxpt2)\n",
    "max3 = pd.DataFrame(maxpt3)\n",
    "\n",
    "# Create list of DataFrames containing all df for the 3 maxima\n",
    "max123 = [max1, max2, max3]\n",
    "\n",
    "end = time.time()\n",
    "print('Time taken: {0:.2f}s'.format(end-start))"
   ]
  },
  {
   "cell_type": "code",
   "execution_count": 50,
   "metadata": {},
   "outputs": [
    {
     "name": "stdout",
     "output_type": "stream",
     "text": [
      "Time taken to centre image: 141.76s\n"
     ]
    }
   ],
   "source": [
    "### φ, η transform all events\n",
    "centered = []\n",
    "\n",
    "start = time.time()\n",
    "\n",
    "# Create matrix of transformed events\n",
    "for i in range(events):\n",
    "    centered.append(center(mydata_prep.iloc[i], max123))\n",
    "\n",
    "end = time.time()\n",
    "\n",
    "# Turn matrix into DataFrame\n",
    "mydata_centered = pd.DataFrame(centered)\n",
    "\n",
    "print('Time taken to centre image: {0:.2f}s'.format(end-start))"
   ]
  },
  {
   "cell_type": "code",
   "execution_count": 55,
   "metadata": {},
   "outputs": [
    {
     "data": {
      "image/png": "[encoded data removed]",
      "text/plain": [
       "<Figure size 432x288 with 2 Axes>"
      ]
     },
     "metadata": {
      "needs_background": "light"
     },
     "output_type": "display_data"
    },
    {
     "data": {
      "image/png": "[encoded data removed]",
      "text/plain": [
       "<Figure size 432x288 with 2 Axes>"
      ]
     },
     "metadata": {
      "needs_background": "light"
     },
     "output_type": "display_data"
    },
    {
     "data": {
      "image/png": "[encoded data removed]",
      "text/plain": [
       "<Figure size 432x288 with 2 Axes>"
      ]
     },
     "metadata": {
      "needs_background": "light"
     },
     "output_type": "display_data"
    },
    {
     "data": {
      "image/png": "[encoded data removed]",
      "text/plain": [
       "<Figure size 432x288 with 2 Axes>"
      ]
     },
     "metadata": {
      "needs_background": "light"
     },
     "output_type": "display_data"
    },
    {
     "name": "stdout",
     "output_type": "stream",
     "text": [
      "Time Taken: 605.08s\n"
     ]
    }
   ],
   "source": [
    "# Average Image\n",
    "start = time.time()\n",
    "plot_events(mydata_prep, R=3, title='Before φ, η transformation with R = 3', xlabel='φ pixels', ylabel='η pixels')\n",
    "plot_events(mydata_fprime, R=3, title='After φ transformation (φ\\') with R = 3', xlabel='φ\\' pixels', ylabel='η pixels')\n",
    "plot_events(mydata_hprime, R=3, title='After η transformation (η\\') with R = 3', xlabel='φ\\' pixels', ylabel='η pixels')\n",
    "plot_events(mydata_centered, R=3, title='After φ and η transformation (φ\\', η\\') with R = 3', xlabel='φ\\' pixels', ylabel='η\\' pixels')\n",
    "end = time.time()\n",
    "print('Time Taken: {0:.2f}s'.format(end-start))"
   ]
  },
  {
   "cell_type": "code",
   "execution_count": 66,
   "metadata": {},
   "outputs": [
    {
     "data": {
      "image/png": "[encoded data removed]",
      "text/plain": [
       "<Figure size 432x288 with 2 Axes>"
      ]
     },
     "metadata": {
      "needs_background": "light"
     },
     "output_type": "display_data"
    }
   ],
   "source": [
    "plot_events(mydata_centered, R=0.01, title='After φ and η transformation (φ\\', η\\') with R = 1', xlabel='φ\\' pixels', ylabel='η\\' pixels')"
   ]
  },
  {
   "cell_type": "code",
   "execution_count": null,
   "metadata": {},
   "outputs": [],
   "source": []
  },
  {
   "cell_type": "code",
   "execution_count": null,
   "metadata": {},
   "outputs": [],
   "source": []
  },
  {
   "cell_type": "code",
   "execution_count": 53,
   "metadata": {},
   "outputs": [],
   "source": []
  },
  {
   "cell_type": "markdown",
   "metadata": {},
   "source": [
    "---\n",
    "<br />\n",
    "\n",
    "---\n",
    "<br />\n",
    "\n",
    "---\n",
    "<br />\n",
    "\n",
    "---\n",
    "<br />\n",
    "\n",
    "---"
   ]
  },
  {
   "cell_type": "markdown",
   "metadata": {},
   "source": [
    "### 🔵(Incomplete) 3. Rotation: Rotate image such that 2nd max pT is at 12 o'clock\n",
    "Rotate all constituents around (φ’,η’)=0 such that the constituent with the 2nd highest pT is at 12 o’clock, i.e. at  (φ’,η’)=(0,e) with e > 0.\n",
    "\n",
    "**Paper (C)** <br />\n",
    "\"Rotation: Rotation is performed to remove the stochastic nature of the decay\n",
    "angle relative to the η − φ coordinate system. This alignment can be done very\n",
    "generally, by determining the principle axis [48] of the original image and rotating the imagine around the jet-energy centroid such that the principle axis\n",
    "is always vertical.\"\n",
    "\n",
    "#### Resources\n",
    "https://stackoverflow.com/questions/53854066/pythonhow-to-rotate-an-image-so-that-a-feature-becomes-vertical\n",
    "\n",
    "https://alyssaq.github.io/2015/computing-the-axes-or-orientation-of-a-blob/\n",
    "\n",
    "https://pythontic.com/image-processing/pillow/rotate\n",
    "\n",
    "https://www.askpython.com/python/examples/rotate-an-image-by-an-angle-in-python\n",
    "\n",
    "https://www.pyimagesearch.com/2017/01/02/rotate-images-correctly-with-opencv-and-python/\n",
    "\n",
    "\n"
   ]
  },
  {
   "cell_type": "code",
   "execution_count": null,
   "metadata": {},
   "outputs": [],
   "source": []
  },
  {
   "cell_type": "markdown",
   "metadata": {},
   "source": [
    "---\n",
    "<br />\n",
    "\n",
    "---\n",
    "<br />\n",
    "\n",
    "---\n",
    "<br />\n",
    "\n",
    "---\n",
    "<br />\n",
    "\n",
    "---"
   ]
  },
  {
   "cell_type": "markdown",
   "metadata": {},
   "source": [
    "### 🔵(Incomplete) 4. Flip: Flip image so that 3rd max pT is in right-half plane\n",
    "Flip all the constituents such that the constituents with the 3rd highest pT is on the right, i.e. at (φ’,η’)=(f,e) with f > 0"
   ]
  },
  {
   "cell_type": "code",
   "execution_count": null,
   "metadata": {},
   "outputs": [],
   "source": []
  },
  {
   "cell_type": "markdown",
   "metadata": {},
   "source": [
    "---\n",
    "<br />\n",
    "\n",
    "---\n",
    "<br />\n",
    "\n",
    "---\n",
    "<br />\n",
    "\n",
    "---\n",
    "<br />\n",
    "\n",
    "---"
   ]
  },
  {
   "cell_type": "markdown",
   "metadata": {},
   "source": [
    "### 🔵5. Image: Create 40x40 Image\n",
    "1. Define Data that will create the bins (η, φ) and will weigh the bins (pT)\n",
    "2. Using the bins, create a 2D histogram using numpy's histogram2d()\n",
    "3. Input the histogram as a DataFrame into Seaborn's heatmap()\n",
    "4. Tadaaaa\n"
   ]
  },
  {
   "cell_type": "markdown",
   "metadata": {},
   "source": [
    "---"
   ]
  },
  {
   "cell_type": "markdown",
   "metadata": {},
   "source": [
    "#### 🔴 Old code to check if bins are crated correctly"
   ]
  },
  {
   "cell_type": "code",
   "execution_count": null,
   "metadata": {},
   "outputs": [],
   "source": [
    "# Test if bin lengths match\n",
    "if (len(bin_h) == len(bin_f)) and (len(bin_f) == len(bin_p)):\n",
    "    print('\\nSuccess: Bin lengths match! :D')\n",
    "else:\n",
    "    print('\\nError: Bin lengths don\\'t match!!! :  -  (')\n",
    "    assert (len(bin_h) == len(bin_f)) and (len(bin_f) == len(bin_p))\n",
    "\n",
    "# Test if max and min values make sense\n",
    "print('\\nη bin range: [', round(min(bin_h), 2), ', ', round(max(bin_h), 2), ']')\n",
    "print('φ bin range: [', round(min(bin_f), 2), ', ', round(max(bin_f), 2), ']')\n",
    "print('p bin range: [', round(min(bin_p), 2), ', ', round(max(bin_p), 2), ']')"
   ]
  },
  {
   "cell_type": "markdown",
   "metadata": {},
   "source": [
    "---"
   ]
  },
  {
   "cell_type": "markdown",
   "metadata": {},
   "source": [
    "---"
   ]
  },
  {
   "cell_type": "markdown",
   "metadata": {},
   "source": [
    "---"
   ]
  },
  {
   "cell_type": "code",
   "execution_count": null,
   "metadata": {},
   "outputs": [],
   "source": []
  }
 ],
 "metadata": {
  "kernelspec": {
   "display_name": "Python 3",
   "language": "python",
   "name": "python3"
  },
  "language_info": {
   "codemirror_mode": {
    "name": "ipython",
    "version": 3
   },
   "file_extension": ".py",
   "mimetype": "text/x-python",
   "name": "python",
   "nbconvert_exporter": "python",
   "pygments_lexer": "ipython3",
   "version": "3.7.7"
  }
 },
 "nbformat": 4,
 "nbformat_minor": 4
}

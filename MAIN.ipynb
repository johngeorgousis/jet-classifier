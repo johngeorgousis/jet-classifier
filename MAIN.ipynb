{
 "cells": [
  {
   "cell_type": "markdown",
   "metadata": {},
   "source": [
    "# 🟡Step 0: Imports\n"
   ]
  },
  {
   "cell_type": "markdown",
   "metadata": {},
   "source": [
    "**Most Relevant Papers** <br />\n",
    "https://arxiv.org/pdf/1407.5675.pdf <br />\n",
    "https://arxiv.org/pdf/1701.08784.pdf"
   ]
  },
  {
   "cell_type": "code",
   "execution_count": 1,
   "metadata": {},
   "outputs": [],
   "source": [
    "import numpy as np\n",
    "import scipy as sp\n",
    "import pandas as pd\n",
    "import seaborn as sns\n",
    "import matplotlib.pyplot as plt\n",
    "\n",
    "\n",
    "%matplotlib inline\n",
    "from IPython.display import display\n",
    "import time\n",
    "\n",
    "# Possibly Redundant\n",
    "from scipy import ndimage, misc\n",
    "from skimage.feature import peak_local_max\n",
    "from skimage import data, img_as_float"
   ]
  },
  {
   "cell_type": "markdown",
   "metadata": {},
   "source": [
    "# 🟡Step 1: Read the data (tar.gz file)\n",
    "As a first step, we unzipped the tar.gz file into a .dat file using 7-zip. \n",
    "Then, we convert the .dat file into a string and then into a DataFrame."
   ]
  },
  {
   "cell_type": "markdown",
   "metadata": {},
   "source": [
    ".strip() --> remove spaces on the sides\n",
    "\n",
    ".split() --> separate values by spaces (otherwise we'd get a single conlumn)"
   ]
  },
  {
   "cell_type": "code",
   "execution_count": 2,
   "metadata": {},
   "outputs": [],
   "source": [
    "# Convert .dat file into string (list comprehension)\n",
    "datContent = [i.strip().split() for i in open(\"tth_semihad.dat\").readlines()]\n",
    "\n",
    "# Convert list into DataFrame\n",
    "mydata = pd.DataFrame(datContent)"
   ]
  },
  {
   "cell_type": "markdown",
   "metadata": {},
   "source": [
    "# 🟡Step 2: Explore the data\n",
    "**Physics**\n",
    "\n",
    "Jonas: \"The file was produced from a simulation of pp->tt~H where the top decays hadronically\n",
    "and the anti-top decays leptonically. <br /> I selected events with exactly 1 fat jet with R=1.5.\"\n",
    "\n",
    "\n",
    "**Notes**\n",
    "- The rows represent events (of 1 fat jet each, R = 1.5) \n",
    "- The first column represents the number of constituents of the jet  \n",
    "- The following columns represent the coordinates of the constituents, η, φ, pT, cycling in that order. <br />(e.g. columns 1, 2, 3 are η, φ, pT for the 1st constituent, columns 4, 5, 6 are η, φ, pT for the 2nd constituent etc.)\n",
    "\n",
    "<br />\n",
    "\n",
    "- -infinity < η < infinity \n",
    "- -π < φ < π\n",
    "- pT[GeV] > 0\n",
    "\n"
   ]
  },
  {
   "cell_type": "code",
   "execution_count": 3,
   "metadata": {},
   "outputs": [
    {
     "data": {
      "text/html": [
       "<div>\n",
       "<style scoped>\n",
       "    .dataframe tbody tr th:only-of-type {\n",
       "        vertical-align: middle;\n",
       "    }\n",
       "\n",
       "    .dataframe tbody tr th {\n",
       "        vertical-align: top;\n",
       "    }\n",
       "\n",
       "    .dataframe thead th {\n",
       "        text-align: right;\n",
       "    }\n",
       "</style>\n",
       "<table border=\"1\" class=\"dataframe\">\n",
       "  <thead>\n",
       "    <tr style=\"text-align: right;\">\n",
       "      <th></th>\n",
       "      <th>Const</th>\n",
       "      <th>1</th>\n",
       "      <th>2</th>\n",
       "      <th>3</th>\n",
       "      <th>4</th>\n",
       "      <th>5</th>\n",
       "      <th>6</th>\n",
       "      <th>7</th>\n",
       "      <th>8</th>\n",
       "      <th>9</th>\n",
       "      <th>...</th>\n",
       "      <th>99</th>\n",
       "      <th>100</th>\n",
       "      <th>101</th>\n",
       "      <th>102</th>\n",
       "      <th>103</th>\n",
       "      <th>104</th>\n",
       "      <th>105</th>\n",
       "      <th>106</th>\n",
       "      <th>107</th>\n",
       "      <th>108</th>\n",
       "    </tr>\n",
       "  </thead>\n",
       "  <tbody>\n",
       "    <tr>\n",
       "      <th>0</th>\n",
       "      <td>4</td>\n",
       "      <td>2.30474</td>\n",
       "      <td>0.221042</td>\n",
       "      <td>78.9436</td>\n",
       "      <td>1.00519</td>\n",
       "      <td>0.736657</td>\n",
       "      <td>61.9115</td>\n",
       "      <td>1.25546</td>\n",
       "      <td>0.748395</td>\n",
       "      <td>48.9755</td>\n",
       "      <td>...</td>\n",
       "      <td>None</td>\n",
       "      <td>None</td>\n",
       "      <td>None</td>\n",
       "      <td>None</td>\n",
       "      <td>None</td>\n",
       "      <td>None</td>\n",
       "      <td>None</td>\n",
       "      <td>None</td>\n",
       "      <td>None</td>\n",
       "      <td>None</td>\n",
       "    </tr>\n",
       "    <tr>\n",
       "      <th>1</th>\n",
       "      <td>2</td>\n",
       "      <td>2.35134</td>\n",
       "      <td>-2.18449</td>\n",
       "      <td>176.076</td>\n",
       "      <td>2.46233</td>\n",
       "      <td>-1.50073</td>\n",
       "      <td>47.3355</td>\n",
       "      <td>None</td>\n",
       "      <td>None</td>\n",
       "      <td>None</td>\n",
       "      <td>...</td>\n",
       "      <td>None</td>\n",
       "      <td>None</td>\n",
       "      <td>None</td>\n",
       "      <td>None</td>\n",
       "      <td>None</td>\n",
       "      <td>None</td>\n",
       "      <td>None</td>\n",
       "      <td>None</td>\n",
       "      <td>None</td>\n",
       "      <td>None</td>\n",
       "    </tr>\n",
       "    <tr>\n",
       "      <th>2</th>\n",
       "      <td>6</td>\n",
       "      <td>0.492933</td>\n",
       "      <td>0.766876</td>\n",
       "      <td>51.5247</td>\n",
       "      <td>-0.984489</td>\n",
       "      <td>2.29985</td>\n",
       "      <td>13.7463</td>\n",
       "      <td>0.103217</td>\n",
       "      <td>1.40088</td>\n",
       "      <td>5.31666</td>\n",
       "      <td>...</td>\n",
       "      <td>None</td>\n",
       "      <td>None</td>\n",
       "      <td>None</td>\n",
       "      <td>None</td>\n",
       "      <td>None</td>\n",
       "      <td>None</td>\n",
       "      <td>None</td>\n",
       "      <td>None</td>\n",
       "      <td>None</td>\n",
       "      <td>None</td>\n",
       "    </tr>\n",
       "    <tr>\n",
       "      <th>3</th>\n",
       "      <td>10</td>\n",
       "      <td>-0.624329</td>\n",
       "      <td>0.566723</td>\n",
       "      <td>130.197</td>\n",
       "      <td>-0.602316</td>\n",
       "      <td>0.573666</td>\n",
       "      <td>38.5226</td>\n",
       "      <td>-0.541426</td>\n",
       "      <td>0.449072</td>\n",
       "      <td>15.3244</td>\n",
       "      <td>...</td>\n",
       "      <td>None</td>\n",
       "      <td>None</td>\n",
       "      <td>None</td>\n",
       "      <td>None</td>\n",
       "      <td>None</td>\n",
       "      <td>None</td>\n",
       "      <td>None</td>\n",
       "      <td>None</td>\n",
       "      <td>None</td>\n",
       "      <td>None</td>\n",
       "    </tr>\n",
       "    <tr>\n",
       "      <th>4</th>\n",
       "      <td>15</td>\n",
       "      <td>-0.538961</td>\n",
       "      <td>-0.617644</td>\n",
       "      <td>0.819517</td>\n",
       "      <td>0.527734</td>\n",
       "      <td>1.53319</td>\n",
       "      <td>1.94989</td>\n",
       "      <td>0.20174</td>\n",
       "      <td>0.916744</td>\n",
       "      <td>5.63418</td>\n",
       "      <td>...</td>\n",
       "      <td>None</td>\n",
       "      <td>None</td>\n",
       "      <td>None</td>\n",
       "      <td>None</td>\n",
       "      <td>None</td>\n",
       "      <td>None</td>\n",
       "      <td>None</td>\n",
       "      <td>None</td>\n",
       "      <td>None</td>\n",
       "      <td>None</td>\n",
       "    </tr>\n",
       "  </tbody>\n",
       "</table>\n",
       "<p>5 rows × 109 columns</p>\n",
       "</div>"
      ],
      "text/plain": [
       "  Const          1          2         3          4         5        6  \\\n",
       "0     4    2.30474   0.221042   78.9436    1.00519  0.736657  61.9115   \n",
       "1     2    2.35134   -2.18449   176.076    2.46233  -1.50073  47.3355   \n",
       "2     6   0.492933   0.766876   51.5247  -0.984489   2.29985  13.7463   \n",
       "3    10  -0.624329   0.566723   130.197  -0.602316  0.573666  38.5226   \n",
       "4    15  -0.538961  -0.617644  0.819517   0.527734   1.53319  1.94989   \n",
       "\n",
       "           7         8        9  ...    99   100   101   102   103   104  \\\n",
       "0    1.25546  0.748395  48.9755  ...  None  None  None  None  None  None   \n",
       "1       None      None     None  ...  None  None  None  None  None  None   \n",
       "2   0.103217   1.40088  5.31666  ...  None  None  None  None  None  None   \n",
       "3  -0.541426  0.449072  15.3244  ...  None  None  None  None  None  None   \n",
       "4    0.20174  0.916744  5.63418  ...  None  None  None  None  None  None   \n",
       "\n",
       "    105   106   107   108  \n",
       "0  None  None  None  None  \n",
       "1  None  None  None  None  \n",
       "2  None  None  None  None  \n",
       "3  None  None  None  None  \n",
       "4  None  None  None  None  \n",
       "\n",
       "[5 rows x 109 columns]"
      ]
     },
     "metadata": {},
     "output_type": "display_data"
    },
    {
     "name": "stdout",
     "output_type": "stream",
     "text": [
      "There are 12177 rows (events).\n",
      "The maximum number of constituents in an event is 36.\n"
     ]
    }
   ],
   "source": [
    "# Display the data\n",
    "mydata = mydata.rename(columns={0: 'Const'})\n",
    "display(mydata.head())\n",
    "\n",
    "# Print statements\n",
    "events = mydata.shape[0]\n",
    "print('There are {} rows (events).'.format(events))\n",
    "print('The maximum number of constituents in an event is {}.'.format((mydata.shape[1] - 1) // 3))\n",
    "\n",
    "# Display data types\n",
    "#print('\\nData Types: \\n', mydata.dtypes)\n",
    "\n",
    "# Descriptive statistics on data\n",
    "#mydata.describe()"
   ]
  },
  {
   "cell_type": "markdown",
   "metadata": {},
   "source": [
    "# 🟡Step 3: Construct Average Jet Image\n",
    "\n",
    "**Jonas:**\n",
    "\n",
    "The data in each row represents all the constituents of a fat jet in the original (φ,η,pT) coordinate system of the detector. \n",
    "You should now transform all the constituents of one fat jet (i.e. individually for each row in the data file) into a new coordinate system \n",
    "(φ',η’,pT). Consequently you transform/bin this information into a two-dimensional image/Heat Map.   \n",
    "\n",
    "The steps in detail are\n",
    "\n",
    "1. Find the constituent with the highest pT\n",
    "2. Choose the center of the new coordinate system such that this constituent has the coordinates (φ’,η’)=0. This operation corresponds to rotating and boosting along the beam direction to center the jet.  \n",
    "3. Rotate all constituents around (φ’,η’)=0 such that the constituent with the 2nd highest pT is at 12 o’clock, i.e. at  (φ’,η’)=(0,e) with e > 0.\n",
    "4. Flip all the constituents such that the constituents with the 3rd highest pT is on the right, i.e. at (φ’,η’)=(f,e) with f > 0\n",
    "5. Define a 2-dim image with 40x40 pixels which correspond to η', φ' ∈ (−R, R). The jets we are looking at are approximately cone-shaped with radius R. I.e. all the constituents of the jet should end up within this image. For each pixel you now store the sum of the pT of all constituents that are located within this pixel. I.e. you discretise the (φ’,η’) coordinates into pixels and the intensity of the pixel corresponds to the sum of the energy of all constituents in the pixel.\n",
    "\n",
    "As a very first step you can plot the images constructed from just steps 1)+2)+5) for a couple of jets. All the images will only have a few pixels filled. Subsequently you should plot the sum of all these images. This should give a broad peak at the center. \n",
    "\n",
    "Finally you should apply 1)-5) and plot the sum. This should hopefully look like the image from the reference. \n",
    "\n"
   ]
  },
  {
   "cell_type": "markdown",
   "metadata": {},
   "source": [
    "---\n",
    "<br />\n",
    "\n",
    "---\n",
    "<br />\n",
    "\n",
    "---\n",
    "<br />\n",
    "\n",
    "---\n",
    "<br />\n",
    "\n",
    "---"
   ]
  },
  {
   "cell_type": "markdown",
   "metadata": {},
   "source": [
    "### 🔵 0. Define image plotting functions"
   ]
  },
  {
   "cell_type": "markdown",
   "metadata": {},
   "source": [
    "#### 🔴 Helper Function that creates an image of EVENT\n",
    "\n",
    "(bins η φ p first)"
   ]
  },
  {
   "cell_type": "code",
   "execution_count": 4,
   "metadata": {},
   "outputs": [],
   "source": [
    "def plot_event(event1, R=1.5, pixels=60):\n",
    "    \n",
    "    '''\n",
    "    Displays an image of a pandas Series (event)\n",
    "    \n",
    "    Input: event (row)\n",
    "    Output: null, just plots image\n",
    "    '''\n",
    "    \n",
    "    # Create copy of event so that it's not accidentally modified\n",
    "    event = event1.copy(deep=True)\n",
    "    \n",
    "    # Initiate bin lists\n",
    "    bin_h = []\n",
    "    bin_f = []\n",
    "    bin_p = []\n",
    "    \n",
    "    # Define max number of constituents \n",
    "    max_const = event.shape[0] // 3\n",
    "    # For all constituents\n",
    "    for i in range(max_const):\n",
    "        # Add constituent's η, φ, p to bins\n",
    "        bin_h.append(list(event.iloc[::3])[i])\n",
    "        bin_f.append(list(event.iloc[1::3])[i])\n",
    "        bin_p.append(list(event.iloc[2::3])[i])\n",
    "\n",
    "    # Turn lists into Series\n",
    "    bin_h = pd.Series(bin_h)\n",
    "    bin_f = pd.Series(bin_f)\n",
    "    bin_p = pd.Series(bin_p)\n",
    "    \n",
    "    # Define no. of bins\n",
    "    bin_count = np.linspace(-R, R, pixels + 1)\n",
    "    \n",
    "    # Create bins from -R to R and convert to DataFrame\n",
    "    bins = np.histogram2d(bin_f, bin_h, bins=bin_count, weights=bin_p)[0]\n",
    "    bins = pd.DataFrame(bins)\n",
    "    \n",
    "    # Plot Image\n",
    "    sns.heatmap(bins)\n",
    "    plt.title('(φ\\', η\\') ∈ [-R, R] with R = {}'.format(R))\n",
    "    plt.xlabel('φ\\' pixels')\n",
    "    plt.ylabel('η\\' pixels')\n",
    "    plt.show()\n",
    "    "
   ]
  },
  {
   "cell_type": "markdown",
   "metadata": {},
   "source": [
    "#### 🔴 Helper Function that creates an image of DATAFRAME"
   ]
  },
  {
   "cell_type": "code",
   "execution_count": 5,
   "metadata": {},
   "outputs": [],
   "source": [
    "def plot_dataframe(df1, R=1.5, pixels=60):\n",
    "    \n",
    "    '''\n",
    "    Displays an image of a pandas DataFrame (many events, average image)\n",
    "    \n",
    "    Input: dataframe (multiple events)\n",
    "    Output: null, just plots image\n",
    "    '''\n",
    "    \n",
    "    # Create copy of df so that it's not accidentally modified\n",
    "    df = df1.copy(deep=True)\n",
    "\n",
    "    # Initiate bin lists\n",
    "    bin_h = []\n",
    "    bin_f = []\n",
    "    bin_p = []\n",
    "\n",
    "    # Define max number of constituents \n",
    "    max_const = df.shape[1] // 3\n",
    "\n",
    "    # For all rows\n",
    "    for i in range(df.shape[0]):             \n",
    "\n",
    "        # For all constituents\n",
    "        for j in range(max_const):\n",
    "            # Add constituent's η to η bin\n",
    "            bin_h.append(list(df.loc[i][::3])[j])\n",
    "            bin_f.append(list(df.loc[i][1::3])[j])\n",
    "            bin_p.append(list(df.loc[i][2::3])[j])\n",
    "\n",
    "    # Turn lists into Series\n",
    "    bin_h = pd.Series(bin_h)\n",
    "    bin_f = pd.Series(bin_f)\n",
    "    bin_p = pd.Series(bin_p)\n",
    "\n",
    "   # Define no. of bins\n",
    "    bin_count = np.linspace(-R, R, pixels + 1)\n",
    "\n",
    "    # Create bins from -R to R (using bins vector)\n",
    "    bins = np.histogram2d(bin_f, bin_h, bins=bin_count, weights=bin_p)[0]\n",
    "\n",
    "    # Convert to DataFrame\n",
    "    bins = pd.DataFrame(bins)\n",
    "\n",
    "    # Plot Heat Map\n",
    "    sns.heatmap(bins)\n",
    "    plt.title('(φ\\', η\\') ∈ [-R, R] with R = {}'.format(R))\n",
    "    plt.xlabel('φ\\' pixels')\n",
    "    plt.ylabel('η\\' pixels')\n",
    "    plt.show()"
   ]
  },
  {
   "cell_type": "markdown",
   "metadata": {},
   "source": [
    "---\n",
    "<br />\n",
    "\n",
    "---\n",
    "<br />\n",
    "\n",
    "---\n",
    "<br />\n",
    "\n",
    "---\n",
    "<br />\n",
    "\n",
    "---"
   ]
  },
  {
   "cell_type": "markdown",
   "metadata": {},
   "source": [
    "### 🔵 1. Extract Maxima\n",
    "For each row, extract the maximum pT and its corresponding η and φ. <br />\n",
    "We also extract the 2nd and 3rd maximum pT's for future use. "
   ]
  },
  {
   "cell_type": "markdown",
   "metadata": {},
   "source": [
    "---"
   ]
  },
  {
   "cell_type": "markdown",
   "metadata": {},
   "source": [
    "#### 🔴 Mild Pre-Processing\n",
    "\n",
    "1. Define function to separate constituents from coordinates, deal with NaN values, and convert values to floats.\n",
    "2. Define processed dataframe and constituents vector"
   ]
  },
  {
   "cell_type": "code",
   "execution_count": 6,
   "metadata": {},
   "outputs": [],
   "source": [
    "def prep(df):\n",
    "    '''\n",
    "    Input: DataFrame to be transformed\n",
    "    Output: Transformed DataFrame, constituents Series \n",
    "    '''\n",
    "    \n",
    "    # Create df copy\n",
    "    df1 = df.copy(deep=True)\n",
    "    \n",
    "    # Extract constituents column\n",
    "    const = df1['Const']\n",
    "    # Drop constituents from df\n",
    "    df1 = df1.drop('Const', axis=1)\n",
    "    \n",
    "    # Replace NaN with 0\n",
    "    df1 = df1.fillna(0)\n",
    "\n",
    "    # Convert values to floats\n",
    "    df1 = df1.astype(float)\n",
    "    \n",
    "    return df1, const"
   ]
  },
  {
   "cell_type": "code",
   "execution_count": 7,
   "metadata": {},
   "outputs": [],
   "source": [
    "# Define processed dataframe and constituents vector\n",
    "mydata_prep, const = prep(mydata)"
   ]
  },
  {
   "cell_type": "markdown",
   "metadata": {},
   "source": [
    "---"
   ]
  },
  {
   "cell_type": "markdown",
   "metadata": {},
   "source": [
    "#### 🔴 Define Helper Function that returns 3 vectors, one for each pT and its η, φ. (For the three maximum pT's)\n",
    "\n",
    "- **1st vector**: 1st maximum pT and its η, φ\n",
    "- **2nd vector**: 2nd maximum pT and its η, φ\n",
    "- **3rd vector**: 3rd maximum pT and its η, φ"
   ]
  },
  {
   "cell_type": "code",
   "execution_count": 8,
   "metadata": {},
   "outputs": [],
   "source": [
    "def extract_max123(event1):\n",
    "    \n",
    "    '''\n",
    "    Input: event (row). \n",
    "    e.g. mydata_prep.iloc[0]\n",
    "    \n",
    "    Output[0]: [Series of 1st max p, φ, η]\n",
    "    Output[1]: [Series of 2nd max p, φ, η]\n",
    "    Output[2]: [Series of 3rd max p, φ, η]\n",
    "    '''\n",
    "    \n",
    "    \n",
    "    # Create event copy\n",
    "    event = event1.copy(deep=True)\n",
    "    \n",
    "    # Separate η, φ, pT\n",
    "    hdata = event[::3]\n",
    "    fdata = event[1::3]\n",
    "    pdata1 = event[2::3]\n",
    "    \n",
    "    \n",
    "    \n",
    "    \n",
    "    # 1. Extract index of maximum pT\n",
    "    maxid1 = pdata1.idxmax()\n",
    "    maxlist1 = []\n",
    "\n",
    "    # 2. Extract max η, φ, pT for event\n",
    "    if pdata1.max() != 0:                                                                     # Brief explanation of if statement below)\n",
    "        maxlist1.append([event.iloc[maxid1-1], event.iloc[maxid1-2], event.iloc[maxid1-3]])   # From event, add to list the max pT and its η, φ\n",
    "    else:\n",
    "        maxlist1.append([0., event.iloc[maxid1-2], event.iloc[maxid1-3]])                    # If max pT is 0, then add it as 0 and not the first value\n",
    "            \n",
    "    # 3. Create & Display dataframe of max pT, η, φ\n",
    "    row_max1 = pd.Series(data=maxlist1[0], index=['pT', 'φ', 'η'])\n",
    "    \n",
    "    \n",
    "    \n",
    "    \n",
    "    \n",
    "    # 0. Set Max pT to 0 to find next Max pT\n",
    "    pdata2 = pdata1.copy(deep=True)\n",
    "    pdata2.loc[maxid1] = 0\n",
    "\n",
    "    # 1. Extract index of maximum pT\n",
    "    maxid2 = pdata2.idxmax()\n",
    "    maxlist2 = []\n",
    "\n",
    "    # 2. Extract max η, φ, pT for event\n",
    "    if pdata2.max() != 0:                                                                     # Brief explanation of if statement below)\n",
    "        maxlist2.append([event.iloc[maxid2-1], event.iloc[maxid2-2], event.iloc[maxid2-3]])   # From event, add to list the max pT and its η, φ\n",
    "    else:\n",
    "        maxlist2.append([0., event.iloc[maxid2-2], event.iloc[maxid2-3]])                    # If max pT is 0, then add it as 0 and not the first value\n",
    "            \n",
    "    # 3. Create & Display dataframe of max pT, η, φ\n",
    "    row_max2 = pd.Series(data=maxlist2[0], index=['pT', 'φ', 'η'])\n",
    "    \n",
    "    \n",
    "    \n",
    "    \n",
    "    \n",
    "    # 0. Set Max pT to 0 to find next Max pT\n",
    "    pdata3 = pdata2.copy(deep=True)\n",
    "    pdata3.loc[maxid2] = 0\n",
    "\n",
    "    # 1. Extract index of maximum pT\n",
    "    maxid3 = pdata3.idxmax()\n",
    "    maxlist3 = []\n",
    "\n",
    "    # 2. Extract max η, φ, pT for event\n",
    "    if pdata3.max() != 0:                                                                     # Brief explanation of if statement below)\n",
    "        maxlist3.append([event.iloc[maxid3-1], event.iloc[maxid3-2], event.iloc[maxid3-3]])   # From event, add to list the max pT and its η, φ\n",
    "    else:\n",
    "        maxlist3.append([0., event.iloc[maxid3-2], event.iloc[maxid3-3]])                    # If max pT is 0, then add it as 0 and not the first value\n",
    "            \n",
    "    # 3. Create & Display dataframe of max pT, η, φ\n",
    "    row_max3 = pd.Series(data=maxlist3[0], index=['pT', 'φ', 'η'])\n",
    "    \n",
    "    \n",
    "    \n",
    "    return row_max1, row_max2, row_max3"
   ]
  },
  {
   "cell_type": "markdown",
   "metadata": {},
   "source": [
    "**Why the if statement?** <br />\n",
    "Because if maximum pT is 0 in the pdata vector, it picks the ID of the first pT by default as the max (because they're all 0). <br />\n",
    "Then, it goes to the non-zero'd event vector and adds its non-zero pT as the max, when the value of that max should clearly have been 0.\n",
    "\n",
    "So the if statement fixes this: <br />\n",
    "- If max pT != 0, then add it as normal.\n",
    "- If max pT = 0, then add '0' as its value instead. (with the coordinates of the first pT, which is incorrect, but this doesn't matter since pT = 0 are not taken into account in the image) <br />\n"
   ]
  },
  {
   "cell_type": "markdown",
   "metadata": {},
   "source": [
    "---"
   ]
  },
  {
   "cell_type": "markdown",
   "metadata": {},
   "source": [
    "#### 🔴 Define 3 DataFrames containing the max p, η, φ for all events \n",
    "\n",
    "Try this using the map() function instead"
   ]
  },
  {
   "cell_type": "code",
   "execution_count": 9,
   "metadata": {},
   "outputs": [
    {
     "name": "stdout",
     "output_type": "stream",
     "text": [
      "Time taken: 44.34s\n"
     ]
    }
   ],
   "source": [
    "maxpt1 = []\n",
    "maxpt2 = []\n",
    "maxpt3 = []\n",
    "\n",
    "start = time.time()\n",
    "\n",
    "# For all events, add maxima to & coordinates to list\n",
    "for i in range(events):\n",
    "    maxpt1.append(extract_max123(mydata_prep.iloc[i])[0])\n",
    "    maxpt2.append(extract_max123(mydata_prep.iloc[i])[1])\n",
    "    maxpt3.append(extract_max123(mydata_prep.iloc[i])[2])\n",
    "    \n",
    "# Turn lists into DataFrames\n",
    "max1 = pd.DataFrame(maxpt1)\n",
    "max2 = pd.DataFrame(maxpt2)\n",
    "max3 = pd.DataFrame(maxpt3)\n",
    "\n",
    "# Create list of DataFrames containing all df for the 3 maxima\n",
    "max123 = [max1, max2, max3]\n",
    "\n",
    "end = time.time()\n",
    "print('Time taken: {0:.2f}s'.format(end-start))"
   ]
  },
  {
   "cell_type": "markdown",
   "metadata": {},
   "source": [
    "---\n",
    "<br />\n",
    "\n",
    "---\n",
    "<br />\n",
    "\n",
    "---\n",
    "<br />\n",
    "\n",
    "---\n",
    "<br />\n",
    "\n",
    "---"
   ]
  },
  {
   "cell_type": "markdown",
   "metadata": {},
   "source": [
    "### 🔵2. Shift: Centre New Coordinate System\n",
    "For each row, we centre a new coordinate system so that the highest pT constituent's coordinates are (φ', η') = (0, 0). <br />\n",
    "This corresponds to rotating and boosting along the beam direction to center the jet.\n",
    "\n",
    "How does η transform? We need a Lorentz Transformation. \n",
    "\n",
    "**Paper** (E) <br />\n",
    "Histograms binned in\n",
    "either the angular separation of events or the rapidity separation of events can\n",
    "be contributed to by events whose centre of mass frames are boosted by arbitrary velocities with respect to the rest frame of the detector, the lab frame.\n",
    "The resulting histograms are undistorted by these centre of mass frame boosts\n",
    "parallel to the beam axis, as the dependent variable is invariant with respect\n",
    "to this sub–class of Lorentz boosts.\n",
    "\n",
    "**Paper** (F):\n",
    "\n",
    "<img src=\"h1.png\" width=\"500\"> <img src=\"h2.png\" width=\"500\">"
   ]
  },
  {
   "cell_type": "markdown",
   "metadata": {},
   "source": [
    "#### 🔴 **φ Tranformation** <br />\n",
    "For the φ transformation, we go to each row and subtract the φ of the max pT from all φ's in that row. <br />\n",
    "If the values exceed [-π, π], we add 2π to the final result (if it's <-π) or subtract 2π from the final result (if it's >π). This makes sure that no values exceed the original φ interval. <br />\n",
    "This has the effect of making the φ (corresponding to the max pT for that row) equal to 0 in each row, and shifting the other φ's by that same angle, while maintaining a range of 2π. <br />"
   ]
  },
  {
   "cell_type": "markdown",
   "metadata": {},
   "source": [
    "#### 🔴 Helper Function & Event"
   ]
  },
  {
   "cell_type": "code",
   "execution_count": 13,
   "metadata": {},
   "outputs": [],
   "source": [
    "def f_transform(event1, max123):\n",
    "    \n",
    "    '''\n",
    "    Input[0]: event (row)\n",
    "    Input[1]: list of 3 dataframes of max pT, η, φ. Obtained using the extract_max123() function\n",
    "    '''\n",
    "    \n",
    "    # Define φ indices to be used later\n",
    "    f_indices = mydata_prep.iloc[0][1::3].index\n",
    "    \n",
    "    # Create copy of event\n",
    "    event = event1.copy(deep=True)\n",
    "\n",
    "    # Transformation (Note: the if statements take periodicity into account, making sure that range does not exceed 2π)\n",
    "    \n",
    "    for f_index in f_indices:                    # For all φ in the row\n",
    "        \n",
    "        f = event.iloc[1::3][f_index]            # φ original value\n",
    "        num_index = event.name                   # index of event, so that we can find its corresponding φ in the max123[0] dataframe of max pT's and φ, η's\n",
    "        k = max123[0].iloc[num_index]['φ']       # φ of max1 pT value\n",
    "        \n",
    "    \n",
    "        if (f - k) < -np.pi:\n",
    "            event.iloc[1::3][f_index] = f + 2*np.pi - k\n",
    "    \n",
    "        elif (f - k) > np.pi:\n",
    "            event.iloc[1::3][f_index] = f - 2*np.pi - k\n",
    "   \n",
    "        else: \n",
    "            event.iloc[1::3][f_index] -= k\n",
    "\n",
    "    \n",
    "    return event"
   ]
  },
  {
   "cell_type": "markdown",
   "metadata": {},
   "source": [
    "#### 🔴 Define η', φ' DataFrame"
   ]
  },
  {
   "cell_type": "code",
   "execution_count": 11,
   "metadata": {},
   "outputs": [
    {
     "name": "stdout",
     "output_type": "stream",
     "text": [
      "Time taken: 82.69s\n"
     ]
    }
   ],
   "source": [
    "ftrans = []\n",
    "\n",
    " \n",
    "start = time.time()\n",
    "\n",
    "# Create matrix of transformed events\n",
    "for i in range(events):\n",
    "    ftrans.append(f_transform(mydata_prep.iloc[i], max123))\n",
    "\n",
    "    \n",
    "end = time.time()\n",
    "\n",
    "    \n",
    "# Turn matrix into DataFrame\n",
    "mydata_prime = pd.DataFrame(ftrans)\n",
    "\n",
    "print('Time taken: {0:.2f}s'.format(end-start))"
   ]
  },
  {
   "cell_type": "markdown",
   "metadata": {},
   "source": [
    "---\n",
    "<br />\n",
    "\n",
    "---\n",
    "<br />\n",
    "\n",
    "---\n",
    "<br />\n",
    "\n",
    "---\n",
    "<br />\n",
    "\n",
    "---"
   ]
  },
  {
   "cell_type": "markdown",
   "metadata": {},
   "source": [
    "### 🔵(Incomplete) 3. Rotation: Rotate image such that 2nd max pT is at 12 o'clock\n",
    "Rotate all constituents around (φ’,η’)=0 such that the constituent with the 2nd highest pT is at 12 o’clock, i.e. at  (φ’,η’)=(0,e) with e > 0.\n",
    "\n",
    "**Paper (C)** <br />\n",
    "\"Rotation: Rotation is performed to remove the stochastic nature of the decay\n",
    "angle relative to the η − φ coordinate system. This alignment can be done very\n",
    "generally, by determining the principle axis [48] of the original image and rotating the imagine around the jet-energy centroid such that the principle axis\n",
    "is always vertical.\"\n",
    "\n",
    "#### Resources\n",
    "https://stackoverflow.com/questions/53854066/pythonhow-to-rotate-an-image-so-that-a-feature-becomes-vertical\n",
    "\n",
    "https://alyssaq.github.io/2015/computing-the-axes-or-orientation-of-a-blob/\n",
    "\n",
    "https://pythontic.com/image-processing/pillow/rotate\n",
    "\n",
    "https://www.askpython.com/python/examples/rotate-an-image-by-an-angle-in-python\n",
    "\n",
    "https://www.pyimagesearch.com/2017/01/02/rotate-images-correctly-with-opencv-and-python/\n",
    "\n",
    "\n"
   ]
  },
  {
   "cell_type": "code",
   "execution_count": null,
   "metadata": {},
   "outputs": [],
   "source": []
  },
  {
   "cell_type": "markdown",
   "metadata": {},
   "source": [
    "---\n",
    "<br />\n",
    "\n",
    "---\n",
    "<br />\n",
    "\n",
    "---\n",
    "<br />\n",
    "\n",
    "---\n",
    "<br />\n",
    "\n",
    "---"
   ]
  },
  {
   "cell_type": "markdown",
   "metadata": {},
   "source": [
    "### 🔵(Incomplete) 4. Flip: Flip image so that 3rd max pT is in right-half plane\n",
    "Flip all the constituents such that the constituents with the 3rd highest pT is on the right, i.e. at (φ’,η’)=(f,e) with f > 0"
   ]
  },
  {
   "cell_type": "code",
   "execution_count": null,
   "metadata": {},
   "outputs": [],
   "source": []
  },
  {
   "cell_type": "markdown",
   "metadata": {},
   "source": [
    "---\n",
    "<br />\n",
    "\n",
    "---\n",
    "<br />\n",
    "\n",
    "---\n",
    "<br />\n",
    "\n",
    "---\n",
    "<br />\n",
    "\n",
    "---"
   ]
  },
  {
   "cell_type": "markdown",
   "metadata": {},
   "source": [
    "### 🔵5. Image: Create 40x40 Image\n",
    "1. Define Data that will create the bins (η, φ) and will weigh the bins (pT)\n",
    "2. Using the bins, create a 2D histogram using numpy's histogram2d()\n",
    "3. Input the histogram as a DataFrame into Seaborn's heatmap()\n",
    "4. Tadaaaa\n"
   ]
  },
  {
   "cell_type": "markdown",
   "metadata": {},
   "source": [
    "---"
   ]
  },
  {
   "cell_type": "code",
   "execution_count": null,
   "metadata": {},
   "outputs": [],
   "source": []
  },
  {
   "cell_type": "markdown",
   "metadata": {},
   "source": [
    "#### 🔴 Define Bins Data (for histogram in the next step)\n",
    "\n",
    "This is done by combining all rows (events) into a single row for each coordinate (η, φ, pT). <br />"
   ]
  },
  {
   "cell_type": "markdown",
   "metadata": {},
   "source": [
    "#### 🔴 Old code to check if bins are crated correctly"
   ]
  },
  {
   "cell_type": "code",
   "execution_count": 12,
   "metadata": {},
   "outputs": [
    {
     "ename": "NameError",
     "evalue": "name 'bin_h' is not defined",
     "output_type": "error",
     "traceback": [
      "\u001b[1;31m---------------------------------------------------------------------------\u001b[0m",
      "\u001b[1;31mNameError\u001b[0m                                 Traceback (most recent call last)",
      "\u001b[1;32m<ipython-input-12-82a9069660c5>\u001b[0m in \u001b[0;36m<module>\u001b[1;34m\u001b[0m\n\u001b[0;32m      1\u001b[0m \u001b[1;31m# Test if bin lengths match\u001b[0m\u001b[1;33m\u001b[0m\u001b[1;33m\u001b[0m\u001b[1;33m\u001b[0m\u001b[0m\n\u001b[1;32m----> 2\u001b[1;33m \u001b[1;32mif\u001b[0m \u001b[1;33m(\u001b[0m\u001b[0mlen\u001b[0m\u001b[1;33m(\u001b[0m\u001b[0mbin_h\u001b[0m\u001b[1;33m)\u001b[0m \u001b[1;33m==\u001b[0m \u001b[0mlen\u001b[0m\u001b[1;33m(\u001b[0m\u001b[0mbin_f\u001b[0m\u001b[1;33m)\u001b[0m\u001b[1;33m)\u001b[0m \u001b[1;32mand\u001b[0m \u001b[1;33m(\u001b[0m\u001b[0mlen\u001b[0m\u001b[1;33m(\u001b[0m\u001b[0mbin_f\u001b[0m\u001b[1;33m)\u001b[0m \u001b[1;33m==\u001b[0m \u001b[0mlen\u001b[0m\u001b[1;33m(\u001b[0m\u001b[0mbin_p\u001b[0m\u001b[1;33m)\u001b[0m\u001b[1;33m)\u001b[0m\u001b[1;33m:\u001b[0m\u001b[1;33m\u001b[0m\u001b[1;33m\u001b[0m\u001b[0m\n\u001b[0m\u001b[0;32m      3\u001b[0m     \u001b[0mprint\u001b[0m\u001b[1;33m(\u001b[0m\u001b[1;34m'\\nSuccess: Bin lengths match! :D'\u001b[0m\u001b[1;33m)\u001b[0m\u001b[1;33m\u001b[0m\u001b[1;33m\u001b[0m\u001b[0m\n\u001b[0;32m      4\u001b[0m \u001b[1;32melse\u001b[0m\u001b[1;33m:\u001b[0m\u001b[1;33m\u001b[0m\u001b[1;33m\u001b[0m\u001b[0m\n\u001b[0;32m      5\u001b[0m     \u001b[0mprint\u001b[0m\u001b[1;33m(\u001b[0m\u001b[1;34m'\\nError: Bin lengths don\\'t match!!! :  -  ('\u001b[0m\u001b[1;33m)\u001b[0m\u001b[1;33m\u001b[0m\u001b[1;33m\u001b[0m\u001b[0m\n",
      "\u001b[1;31mNameError\u001b[0m: name 'bin_h' is not defined"
     ]
    }
   ],
   "source": [
    "# Test if bin lengths match\n",
    "if (len(bin_h) == len(bin_f)) and (len(bin_f) == len(bin_p)):\n",
    "    print('\\nSuccess: Bin lengths match! :D')\n",
    "else:\n",
    "    print('\\nError: Bin lengths don\\'t match!!! :  -  (')\n",
    "    assert (len(bin_h) == len(bin_f)) and (len(bin_f) == len(bin_p))\n",
    "\n",
    "# Test if max and min values make sense\n",
    "print('\\nη bin range: [', round(min(bin_h), 2), ', ', round(max(bin_h), 2), ']')\n",
    "print('φ bin range: [', round(min(bin_f), 2), ', ', round(max(bin_f), 2), ']')\n",
    "print('p bin range: [', round(min(bin_p), 2), ', ', round(max(bin_p), 2), ']')"
   ]
  },
  {
   "cell_type": "markdown",
   "metadata": {},
   "source": [
    "---"
   ]
  },
  {
   "cell_type": "markdown",
   "metadata": {},
   "source": [
    "#### 🔴 Create 2D Histogram 🔴 Create Heatmap"
   ]
  },
  {
   "cell_type": "markdown",
   "metadata": {},
   "source": [
    "---"
   ]
  },
  {
   "cell_type": "markdown",
   "metadata": {},
   "source": [
    "---"
   ]
  },
  {
   "cell_type": "code",
   "execution_count": null,
   "metadata": {},
   "outputs": [],
   "source": []
  }
 ],
 "metadata": {
  "kernelspec": {
   "display_name": "Python 3",
   "language": "python",
   "name": "python3"
  },
  "language_info": {
   "codemirror_mode": {
    "name": "ipython",
    "version": 3
   },
   "file_extension": ".py",
   "mimetype": "text/x-python",
   "name": "python",
   "nbconvert_exporter": "python",
   "pygments_lexer": "ipython3",
   "version": "3.7.7"
  }
 },
 "nbformat": 4,
 "nbformat_minor": 4
}

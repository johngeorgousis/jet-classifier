{
 "cells": [
  {
   "cell_type": "markdown",
   "metadata": {},
   "source": [
    "# ⭐Jonas Questions\n",
    "- \n",
    "- \n",
    "- \n"
   ]
  },
  {
   "cell_type": "markdown",
   "metadata": {},
   "source": [
    "# ⭐Imports\n"
   ]
  },
  {
   "cell_type": "code",
   "execution_count": 1,
   "metadata": {},
   "outputs": [
    {
     "name": "stdout",
     "output_type": "stream",
     "text": [
      "TensorFlow Version:  2.1.0\n"
     ]
    }
   ],
   "source": [
    "from processing_functions import *\n",
    "%matplotlib inline"
   ]
  },
  {
   "cell_type": "markdown",
   "metadata": {},
   "source": [
    "---"
   ]
  },
  {
   "cell_type": "markdown",
   "metadata": {},
   "source": [
    "# ⭐Step 1: Preprocessing"
   ]
  },
  {
   "cell_type": "markdown",
   "metadata": {},
   "source": [
    "🔴 Define helper function that\n",
    "- drops the constituents column \n",
    "- converts NaN to 0\n",
    "- converts values to floats"
   ]
  },
  {
   "cell_type": "code",
   "execution_count": 2,
   "metadata": {},
   "outputs": [],
   "source": [
    "# preprocess(event)"
   ]
  },
  {
   "cell_type": "markdown",
   "metadata": {},
   "source": [
    "# ⭐Step 2: Create Image & Average Image"
   ]
  },
  {
   "cell_type": "markdown",
   "metadata": {},
   "source": [
    "### 🔵 Create Image"
   ]
  },
  {
   "cell_type": "markdown",
   "metadata": {},
   "source": [
    "🔴 Define Helper Function that takes an event as input and returns an image\n",
    "- Bins coordinates (η, φ, pT)\n",
    "- Creates image using np.histogram2d()"
   ]
  },
  {
   "cell_type": "code",
   "execution_count": 3,
   "metadata": {},
   "outputs": [],
   "source": [
    "#create_image(event, R=1.5, pixels=60)"
   ]
  },
  {
   "cell_type": "markdown",
   "metadata": {},
   "source": [
    "### 🔵 Create Average Image"
   ]
  },
  {
   "cell_type": "markdown",
   "metadata": {},
   "source": [
    "🔴 Define Helper Function that reads events directly from a file and returns an average image\n",
    "\n",
    "\n",
    "**NOTE:** event_no list implementation for multiple images is not working properly"
   ]
  },
  {
   "cell_type": "code",
   "execution_count": 4,
   "metadata": {},
   "outputs": [],
   "source": [
    "#average_image(pixels=60, R=1.5, event_no=12178, display=False):"
   ]
  },
  {
   "cell_type": "markdown",
   "metadata": {},
   "source": [
    "Example (Image Progression)"
   ]
  },
  {
   "cell_type": "code",
   "execution_count": 5,
   "metadata": {},
   "outputs": [],
   "source": [
    "#average_image(pixels = 100, event_no=[25, 300, 3000, 12000], display=True)"
   ]
  },
  {
   "cell_type": "markdown",
   "metadata": {},
   "source": [
    "# ⭐Step 3: Extract Maxima"
   ]
  },
  {
   "cell_type": "markdown",
   "metadata": {},
   "source": [
    "🔴 Define 3 Helper Functions that \n",
    "\n",
    "Return one vector each with the highest pT and its η, φ. (For the three maximum pT's)\n",
    "\n",
    "- **1st function**: 1st maximum pT and its η, φ\n",
    "- **2nd function**: 2nd maximum pT and its η, φ\n",
    "- **3rd function**: 3rd maximum pT and its η, φ"
   ]
  },
  {
   "cell_type": "code",
   "execution_count": 6,
   "metadata": {},
   "outputs": [],
   "source": [
    "#find_max1(event)\n",
    "#find_max2(event)\n",
    "#find_max3(event)"
   ]
  },
  {
   "cell_type": "markdown",
   "metadata": {},
   "source": [
    "---"
   ]
  },
  {
   "cell_type": "markdown",
   "metadata": {},
   "source": [
    "# ⭐Step 4: Centre Image"
   ]
  },
  {
   "cell_type": "markdown",
   "metadata": {},
   "source": [
    "For each row, we centre a new coordinate system so that the highest pT constituent's coordinates are (φ', η') = (0, 0). <br />\n",
    "This corresponds to rotating and boosting along the beam direction to center the jet.\n",
    "\n",
    "**φ Tranformation**<br />\n",
    "For the φ transformation, we subtract the φ (of the max pT) from all φ's in that row. <br />\n",
    "If the values exceed [-π, π], we add 2π to the final result (if it's <-π) or subtract 2π from the final result (if it's >π). This makes sure that no values exceed the original φ interval. <br />\n",
    "This has the effect of making the φ (corresponding to the max pT for that row) equal to 0 in each row, and shifting the other φ's by that same angle, while maintaining a range of 2π. <br />\n",
    "\n",
    "**η Transformation**<br />\n",
    "How does η transform? We need a Lorentz Transformation. \n",
    "\n",
    "P7: \"η-rotation is a Lorentz-boost along the z-axis, so replace Ei\n",
    "with pT,i = Ei/ cosh(ηi)\"\n",
    "\n",
    "**Paper** (E) <br />\n",
    "Histograms binned in\n",
    "either the angular separation of events or the rapidity separation of events can\n",
    "be contributed to by events whose centre of mass frames are boosted by arbitrary velocities with respect to the rest frame of the detector, the lab frame.\n",
    "The resulting histograms are undistorted by these centre of mass frame boosts\n",
    "parallel to the beam axis, as the dependent variable is invariant with respect\n",
    "to this sub–class of Lorentz boosts.\n",
    "\n",
    "**Paper** (F): make code cell below markdown to display\n"
   ]
  },
  {
   "cell_type": "code",
   "execution_count": 7,
   "metadata": {},
   "outputs": [],
   "source": [
    "#<img src=\"h1.png\" width=\"500\"> <img src=\"h2.png\" width=\"500\">"
   ]
  },
  {
   "cell_type": "markdown",
   "metadata": {},
   "source": [
    "🔴 Define Helper Function <br />\n",
    "Centers image around (φ', η') = (0, 0). Both transformations are linear (so far). \n"
   ]
  },
  {
   "cell_type": "code",
   "execution_count": 8,
   "metadata": {},
   "outputs": [],
   "source": [
    "#center(event, max123, output='event', R=1.5, pixels=60):"
   ]
  },
  {
   "cell_type": "markdown",
   "metadata": {},
   "source": [
    "# ⭐Step 5: Rotate Image\n",
    "\n",
    "Rotate all constituents around (φ’,η’)=0 such that the constituent with the 2nd highest pT is at 12 o’clock, i.e. at  (φ’,η’)=(0,e) with e > 0.\n",
    "\n",
    "**Paper (C)** <br />\n",
    "\"Rotation: Rotation is performed to remove the stochastic nature of the decay\n",
    "angle relative to the η − φ coordinate system.\""
   ]
  },
  {
   "cell_type": "markdown",
   "metadata": {},
   "source": [
    "🔴 Define Helper Function that\n",
    "\n",
    "- \n",
    "- \n",
    "- "
   ]
  },
  {
   "cell_type": "code",
   "execution_count": 9,
   "metadata": {},
   "outputs": [],
   "source": [
    "#rotate(event, max2)"
   ]
  },
  {
   "cell_type": "markdown",
   "metadata": {},
   "source": [
    "# ⭐Step 6: Flip Image"
   ]
  },
  {
   "cell_type": "markdown",
   "metadata": {},
   "source": [
    "flip so harder side is consistent (P7)\n",
    "\n",
    "Flip all the constituents such that the constituents with the 3rd highest pT is on the right-half plane, i.e. at (φ’,η’)=(f,e) with f > 0"
   ]
  },
  {
   "cell_type": "markdown",
   "metadata": {},
   "source": [
    "🔴 Define Helper Function that\n",
    "\n",
    "- \n",
    "- \n",
    "- "
   ]
  },
  {
   "cell_type": "code",
   "execution_count": 10,
   "metadata": {},
   "outputs": [],
   "source": [
    "#flip(event, max3)"
   ]
  },
  {
   "cell_type": "markdown",
   "metadata": {},
   "source": [
    "---"
   ]
  },
  {
   "cell_type": "markdown",
   "metadata": {},
   "source": [
    "# ⭐ Building Classifier"
   ]
  },
  {
   "cell_type": "markdown",
   "metadata": {},
   "source": [
    "## 🔵 Step 1: Preprocess Data (Create Dataset)"
   ]
  },
  {
   "cell_type": "markdown",
   "metadata": {},
   "source": [
    "1. Preprocess Signal & Background Data\n",
    "2. Concatenate & Shuffle signal/background data\n",
    "3. Convert to tf.data.Dataset object\n",
    "\n"
   ]
  },
  {
   "cell_type": "code",
   "execution_count": 11,
   "metadata": {},
   "outputs": [],
   "source": [
    "# Load Previously saved data\n",
    "# MAIN\n",
    "data_s = np.array(pd.read_csv('data_s_csv').iloc[:, 1:])\n",
    "data_b = np.array(pd.read_csv('data_b_csv').iloc[:, 1:])\n",
    "\n",
    "# # LOG\n",
    "# data_s = np.array(pd.read_csv('data_s_log_csv').iloc[:, 1:])\n",
    "# data_b = np.array(pd.read_csv('data_b__log_csv').iloc[:, 1:])\n",
    "\n",
    "# # NORMAL\n",
    "# data_s = np.array(pd.read_csv('data_s_normal_csv').iloc[:, 1:])\n",
    "# data_b = np.array(pd.read_csv('data_b_normal_csv').iloc[:, 1:])\n",
    "\n",
    "# # Import, Preprocess, Create Dataset\n",
    "# start = time.time()\n",
    "# data_s = create_dataset_CNN('dataset_signal.dat')\n",
    "# data_b = create_dataset_CNN('dataset_background.dat')\n",
    "# end = time.time()\n",
    "# print('Time taken: {:.2f} mins'.format((end-start)/60))\n",
    "\n",
    "# # Save Datasets\n",
    "# pd.DataFrame(data_s).to_csv('data_s_log_csv')\n",
    "# pd.DataFrame(data_b).to_csv('data_b_log_csv')"
   ]
  },
  {
   "cell_type": "code",
   "execution_count": 12,
   "metadata": {},
   "outputs": [
    {
     "name": "stdout",
     "output_type": "stream",
     "text": [
      "Total Events: 29449\n",
      "Total Labels: 29449\n",
      "Shape:  (29449, 40, 40, 1)\n"
     ]
    }
   ],
   "source": [
    "# Create s&b labels\n",
    "slabels = np.ones(data_s.shape[0]//40)\n",
    "blabels = np.zeros(data_b.shape[0]//40)\n",
    "\n",
    "# Concatenate examples and labels\n",
    "data = np.concatenate((data_s, data_b), axis=0)\n",
    "labels = np.concatenate((slabels, blabels), axis=0)\n",
    "\n",
    "# Define useful quantities\n",
    "num_of_examples = data.shape[0] // 40     # divide by 40 because 1st dim is 40 * num_of_examples\n",
    "num_of_labels = labels.shape[0]\n",
    "print('Total Events:', num_of_examples)\n",
    "print('Total Labels:', num_of_labels)\n",
    "\n",
    "# Reshape examples (for CNN)\n",
    "examples = data.reshape(num_of_examples, 40, 40, 1)\n",
    "print('Shape: ', examples.shape)"
   ]
  },
  {
   "cell_type": "markdown",
   "metadata": {},
   "source": [
    "### 🔴 Train-Val-Test Split"
   ]
  },
  {
   "cell_type": "code",
   "execution_count": 13,
   "metadata": {},
   "outputs": [
    {
     "name": "stdout",
     "output_type": "stream",
     "text": [
      "Train:  (20525, 40, 40, 1) (20525,)\n",
      "Val:  (4506, 40, 40, 1) (4506,)\n",
      "Test:  (4418, 40, 40, 1) (4418,)\n"
     ]
    }
   ],
   "source": [
    "from sklearn.model_selection import train_test_split\n",
    "\n",
    "train_examples, test_examples, train_labels, test_labels = train_test_split(examples, labels, test_size=0.15, random_state=42)\n",
    "train_examples, val_examples, train_labels, val_labels = train_test_split(train_examples, train_labels, test_size=0.18, random_state=42)\n",
    "\n",
    "print('Train: ', train_examples.shape, train_labels.shape)\n",
    "print('Val: ', val_examples.shape, val_labels.shape)\n",
    "print('Test: ', test_examples.shape, test_labels.shape)"
   ]
  },
  {
   "cell_type": "markdown",
   "metadata": {},
   "source": [
    "### 🔴 Convert to tf.data.Dataset"
   ]
  },
  {
   "cell_type": "code",
   "execution_count": 14,
   "metadata": {},
   "outputs": [
    {
     "name": "stdout",
     "output_type": "stream",
     "text": [
      "<TensorSliceDataset shapes: ((40, 40, 1), ()), types: (tf.float64, tf.float64)>\n",
      "<TensorSliceDataset shapes: ((40, 40, 1), ()), types: (tf.float64, tf.float64)>\n",
      "<TensorSliceDataset shapes: ((40, 40, 1), ()), types: (tf.float64, tf.float64)>\n"
     ]
    }
   ],
   "source": [
    "train_data = tf.data.Dataset.from_tensor_slices((train_examples, train_labels))\n",
    "val_data = tf.data.Dataset.from_tensor_slices((val_examples, val_labels))\n",
    "test_data = tf.data.Dataset.from_tensor_slices((test_examples, test_labels))\n",
    "\n",
    "print(train_data)\n",
    "print(val_data)\n",
    "print(test_data)"
   ]
  },
  {
   "cell_type": "markdown",
   "metadata": {},
   "source": [
    "## 🔵 Step 2: Create Batches\n",
    "\n",
    "Baatches: number of events with which you update trained parameters once\n",
    "\n",
    "- `Dataset.prefetch()` overlaps data preprocessing and model execution while training.\n",
    "\n",
    "- `Dataset.cache()` keeps the images in memory after they're loaded off disk during the first epoch. This will ensure the dataset does not become a bottleneck while training your model. If your dataset is too large to fit into memory, you can also use this method to create a performant on-disk cache.\n",
    "\n",
    "Theory guide: https://www.tensorflow.org/guide/data_performance#prefetching"
   ]
  },
  {
   "cell_type": "code",
   "execution_count": 15,
   "metadata": {},
   "outputs": [],
   "source": [
    "batch_size = 64\n",
    "\n",
    "def normalise(image, label):\n",
    "    image = tf.cast(image, tf.int64)                 # Set dtype to int64\n",
    "    label = tf.cast(label, tf.int64)\n",
    "    #image /= np.amax(image.numpy())                    # Normalise Image\n",
    "    #image = tf.image.resize(image, (pixels, pixels, 1))   # Resize image to 40x40\n",
    "    return image, label\n",
    "\n",
    "\n",
    "\n",
    "train_batches = train_data.cache().shuffle(num_of_examples).map(normalise).batch(batch_size, drop_remainder=True).prefetch(1)\n",
    "\n",
    "val_batches = val_data.cache().shuffle(num_of_examples).map(normalise).batch(batch_size, drop_remainder=True).prefetch(1)  # or prefetch(buffer_size=tf.data.experimental.AUTOTUNE) \n",
    "\n",
    "test_batches = test_data.cache().shuffle(num_of_examples).map(normalise).batch(batch_size, drop_remainder=True).prefetch(1)"
   ]
  },
  {
   "cell_type": "code",
   "execution_count": 16,
   "metadata": {},
   "outputs": [
    {
     "name": "stdout",
     "output_type": "stream",
     "text": [
      "<PrefetchDataset shapes: ((64, 40, 40, 1), (64,)), types: (tf.int64, tf.int64)>\n",
      "\n",
      "train, val, test:  320 70 69\n"
     ]
    }
   ],
   "source": [
    "num_of_batches_train = len(train_labels) // batch_size\n",
    "num_of_batches_val = len(val_labels) // batch_size\n",
    "num_of_batches_test = len(test_labels) // batch_size\n",
    "\n",
    "print(train_batches)\n",
    "print('\\ntrain, val, test: ', num_of_batches_train, num_of_batches_val, num_of_batches_test)"
   ]
  },
  {
   "cell_type": "markdown",
   "metadata": {},
   "source": [
    "### 🔴 Visualise Data  \n",
    "(TRY REMOVING NORMALISATION FROM PREPROCESSING (create_dataset), THEN DISPLAY IMAGE, THEN WHEN CREATING BATCHES USE .MAP(NORMALISE) TO NORMALISE IMAGES)"
   ]
  },
  {
   "cell_type": "code",
   "execution_count": 18,
   "metadata": {},
   "outputs": [
    {
     "data": {
      "image/png": "[encoded data removed]",
      "text/plain": [
       "<Figure size 1080x1080 with 18 Axes>"
      ]
     },
     "metadata": {
      "needs_background": "light"
     },
     "output_type": "display_data"
    }
   ],
   "source": [
    "plt.figure(figsize=(15,15))\n",
    "\n",
    "for images, labels in train_batches.take(1):\n",
    "      for i in range(9):\n",
    "        ax = plt.subplot(3, 3, i + 1)\n",
    "        sns.heatmap(images[i].numpy().reshape(40, 40))\n",
    "        #plt.imshow(images[i].numpy().astype(\"uint8\"))\n",
    "        plt.title('Image {}'.format(i+1))\n",
    "        plt.axis(\"off\")"
   ]
  },
  {
   "cell_type": "markdown",
   "metadata": {},
   "source": [
    "## 🔵 Step 3: Build the Model"
   ]
  },
  {
   "cell_type": "markdown",
   "metadata": {},
   "source": [
    "### 🔴 Learning Curve\n",
    "Determine whether a larger dataset could improve performance"
   ]
  },
  {
   "cell_type": "code",
   "execution_count": 22,
   "metadata": {},
   "outputs": [],
   "source": [
    "# input_shape=(40, 40, 1)\n",
    "# kernel_size = 2\n",
    "# padding='valid'\n",
    "# activation = 'tanh'\n",
    "\n",
    "# prop = [0.1, 0.2, 0.4, 0.6, 0.8, 1]\n",
    "# loss_list = []\n",
    "# accuracy_list = []\n",
    "\n",
    "# for i in prop:\n",
    "#     model = tf.keras.Sequential([\n",
    "#                   tf.keras.Input(shape=input_shape),\n",
    "#                   tf.keras.layers.Conv2D(16, kernel_size=kernel_size, padding=padding, activation=activation),\n",
    "#                   tf.keras.layers.MaxPooling2D(),\n",
    "#                   tf.keras.layers.Conv2D(32, kernel_size=kernel_size, padding=padding, activation=activation),\n",
    "#                   tf.keras.layers.MaxPooling2D(),\n",
    "#                   tf.keras.layers.Conv2D(64, kernel_size=kernel_size, padding=padding, activation=activation),\n",
    "#                   tf.keras.layers.MaxPooling2D(),\n",
    "#                   tf.keras.layers.Flatten(),\n",
    "#                   tf.keras.layers.Dense(128, activation=activation),\n",
    "#                   tf.keras.layers.Dense(2, activation = 'softmax')\n",
    "#         ])\n",
    "\n",
    "\n",
    "#     # Compile Model\n",
    "#     model.compile(optimizer='adam',\n",
    "#                   loss=tf.keras.losses.SparseCategoricalCrossentropy(from_logits=True),\n",
    "#                   metrics=['accuracy'])\n",
    "\n",
    "\n",
    "#     print('\\n\\n', i, '\\n')\n",
    "\n",
    "#     # Fit model to training data\n",
    "#     EPOCHS = 4\n",
    "\n",
    "#     history = model.fit(train_batches.take(int(i*num_of_batches_train)), \n",
    "#               epochs=EPOCHS,\n",
    "#               validation_data=val_batches.take(int(i*num_of_batches_val)), \n",
    "#               verbose=0\n",
    "#               )\n",
    "    \n",
    "#     loss, accuracy = model.evaluate(test_batches, verbose=0)\n",
    "#     loss_list.append(loss)\n",
    "#     accuracy_list.append(accuracy)\n",
    "    \n",
    "#     loss, accuracy = model.evaluate(test_batches, verbose=0)\n",
    "#     print('Accuracy on the Test Set: {:.1%}'.format(accuracy))"
   ]
  },
  {
   "cell_type": "code",
   "execution_count": 23,
   "metadata": {},
   "outputs": [],
   "source": [
    "# plt.plot(np.array(prop)*100, accuracy_list, linestyle='--', marker='o')\n",
    "# plt.xlabel('% of Dataset Used')\n",
    "# plt.ylabel('Accuracy')\n",
    "# plt.title('Learning Curve')\n",
    "# plt.show()"
   ]
  },
  {
   "cell_type": "markdown",
   "metadata": {},
   "source": [
    "### 🔴 Compile the Model\n",
    "- **Optimizer** -- Determines how the model is updated based on the data it sees and its loss function\n",
    "- **Loss Function** -- Measures how accurate the model is during training\n",
    "- **Metrics** -- Monitors the training and testing steps. "
   ]
  },
  {
   "cell_type": "markdown",
   "metadata": {},
   "source": [
    "### 🔴 Fit the Model"
   ]
  },
  {
   "cell_type": "markdown",
   "metadata": {},
   "source": [
    "**Early Stopping**: <br /> \n",
    "Stop training when there is no improvement in the validation loss for 5 consecutive epochs or when metric gain is less than 0.001\n",
    "\n",
    "**Save Best**: <br />\n",
    "Saves the best model"
   ]
  },
  {
   "cell_type": "markdown",
   "metadata": {},
   "source": [
    "## Notes\n",
    "#### Activation Function (non normalised)\n",
    "- **Relu**: sometimes results in all predictions being 0 \n",
    "- **tanh**: solves this issue; accuracy (n = 1): 73\n",
    "- **softsign**: solves and performs similarly to tanh\n",
    "- **elu**: solves and performs slightly better than tanh\n",
    "\n",
    "#### Activation Function (log)\n",
    "- **softsign**: only softsign works. accuracy: 67\n",
    "\n",
    "#### Activation Function (normal)\n",
    "- Nothing has worked\n",
    "\n",
    "### Other hyperparameters\n",
    "- kernel_size = 2, 3, 5, 7 perform best (very similarly to one another)\n",
    "- padding = 'valid', 'same' result in very similar performance\n",
    "- filters: tried small (8 in all) to large (256 in all) and they perform similarly to one another. "
   ]
  },
  {
   "cell_type": "code",
   "execution_count": 24,
   "metadata": {},
   "outputs": [],
   "source": [
    "# input_shape=(40, 40, 1)\n",
    "# kernel_size = 2\n",
    "# padding='valid'\n",
    "# activation = 'tanh'\n",
    "\n",
    "# activations = ['elu', 'exponential', 'hard_sigmoid', 'linear', 'relu', 'selu', 'sigmoid', 'softmax', 'softplus', 'softsign', 'tanh']\n",
    "# kernels = [1, 3, 5, 7, 9, 11]\n",
    "# paddings = ['valid', 'same']\n",
    "# filters = [8, 16, 64, 256, 512]\n",
    "\n",
    "# for i in range(1):\n",
    "\n",
    "#     model = tf.keras.Sequential([\n",
    "#               tf.keras.Input(shape=input_shape),\n",
    "#               tf.keras.layers.Conv2D(16, kernel_size=kernel_size, padding=padding, activation=activation),\n",
    "#               tf.keras.layers.Dropout(0.2),\n",
    "#               tf.keras.layers.MaxPooling2D(),\n",
    "#               tf.keras.layers.Conv2D(32, kernel_size=kernel_size, padding=padding, activation=activation),\n",
    "#               tf.keras.layers.Dropout(0.2),\n",
    "#               tf.keras.layers.MaxPooling2D(),\n",
    "#               tf.keras.layers.Conv2D(64, kernel_size=kernel_size, padding=padding, activation=activation),\n",
    "#               tf.keras.layers.Dropout(0.2),\n",
    "#               tf.keras.layers.MaxPooling2D(),\n",
    "#               tf.keras.layers.Flatten(),\n",
    "#               tf.keras.layers.Dense(128, activation=activation),\n",
    "#               tf.keras.layers.Dropout(0.2),\n",
    "#               tf.keras.layers.Dense(2, activation = 'softmax')\n",
    "#     ])\n",
    "\n",
    "#     #model.summary()\n",
    "\n",
    "#     # Compile Model\n",
    "#     model.compile(optimizer='adam',\n",
    "#                   loss=tf.keras.losses.SparseCategoricalCrossentropy(from_logits=True),\n",
    "#                   metrics=['accuracy'])\n",
    "\n",
    "    \n",
    "#     # Callbacks\n",
    "#     early_stopping = tf.keras.callbacks.EarlyStopping(monitor='loss', patience=5, min_delta = 0.001)\n",
    "#     save_best = tf.keras.callbacks.ModelCheckpoint('./model_recent.h5', monitor='loss', save_best_only=True)\n",
    "\n",
    "#     print('\\n\\n', activation, '\\n')\n",
    "\n",
    "#     # Fit model to training data\n",
    "#     EPOCHS = 15\n",
    "\n",
    "#     history = model.fit(train_batches, \n",
    "#               epochs=EPOCHS,\n",
    "#               callbacks= [early_stopping, save_best],\n",
    "#               validation_data=val_batches, \n",
    "#               verbose=1\n",
    "#               )\n",
    "    \n",
    "#     loss, accuracy = model.evaluate(test_batches, verbose=0)\n",
    "\n",
    "#     print('\\nLoss on the Test Set: {:,.3f}'.format(loss))\n",
    "#     print('Accuracy on the Test Set: {:.1%}'.format(accuracy))"
   ]
  },
  {
   "cell_type": "markdown",
   "metadata": {},
   "source": [
    "## 🔵 Step 4: Model-Complexity Graph \n",
    "How performance changes with epochs"
   ]
  },
  {
   "cell_type": "code",
   "execution_count": 25,
   "metadata": {},
   "outputs": [],
   "source": [
    "# training_accuracy = history.history['accuracy']\n",
    "# validation_accuracy = history.history['val_accuracy']\n",
    "\n",
    "# training_loss = history.history['loss']\n",
    "# validation_loss = history.history['val_loss']\n",
    "\n",
    "# epochs_range=range(len(training_accuracy))\n",
    "\n",
    "# plt.figure(figsize=(16, 8))\n",
    "# plt.subplot(1, 2, 1)\n",
    "# plt.plot(epochs_range, training_accuracy, label='Training Accuracy')\n",
    "# plt.plot(epochs_range, validation_accuracy, label='Validation Accuracy')\n",
    "# plt.legend(loc='lower right')\n",
    "# plt.title('Training and Validation Accuracy')\n",
    "\n",
    "# plt.subplot(1, 2, 2)\n",
    "# plt.plot(epochs_range, training_loss, label='Training Loss')\n",
    "# plt.plot(epochs_range, validation_loss, label='Validation Loss')\n",
    "# plt.legend(loc='upper right')\n",
    "# plt.title('Training and Validation Loss')\n",
    "# plt.show()\n"
   ]
  },
  {
   "cell_type": "markdown",
   "metadata": {},
   "source": [
    "## 🔵 Step 5: Evaluate Model on Test Batches"
   ]
  },
  {
   "cell_type": "code",
   "execution_count": 19,
   "metadata": {},
   "outputs": [
    {
     "name": "stdout",
     "output_type": "stream",
     "text": [
      "Model: \"sequential_29\"\n",
      "_________________________________________________________________\n",
      "Layer (type)                 Output Shape              Param #   \n",
      "=================================================================\n",
      "conv2d_84 (Conv2D)           (None, 40, 40, 16)        160       \n",
      "_________________________________________________________________\n",
      "max_pooling2d_84 (MaxPooling (None, 20, 20, 16)        0         \n",
      "_________________________________________________________________\n",
      "conv2d_85 (Conv2D)           (None, 20, 20, 32)        4640      \n",
      "_________________________________________________________________\n",
      "max_pooling2d_85 (MaxPooling (None, 10, 10, 32)        0         \n",
      "_________________________________________________________________\n",
      "conv2d_86 (Conv2D)           (None, 10, 10, 64)        18496     \n",
      "_________________________________________________________________\n",
      "max_pooling2d_86 (MaxPooling (None, 5, 5, 64)          0         \n",
      "_________________________________________________________________\n",
      "flatten_29 (Flatten)         (None, 1600)              0         \n",
      "_________________________________________________________________\n",
      "dense_60 (Dense)             (None, 128)               204928    \n",
      "_________________________________________________________________\n",
      "dense_61 (Dense)             (None, 2)                 258       \n",
      "=================================================================\n",
      "Total params: 228,482\n",
      "Trainable params: 228,482\n",
      "Non-trainable params: 0\n",
      "_________________________________________________________________\n"
     ]
    }
   ],
   "source": [
    "model = tf.keras.models.load_model('model_relu_7570.h5')\n",
    "model.summary()"
   ]
  },
  {
   "cell_type": "code",
   "execution_count": 20,
   "metadata": {},
   "outputs": [
    {
     "name": "stdout",
     "output_type": "stream",
     "text": [
      "\n",
      "Loss on the TEST Set: 0.545\n",
      "Accuracy on the TEST Set: 75.7%\n"
     ]
    }
   ],
   "source": [
    "loss, accuracy = model.evaluate(test_batches, verbose=0)\n",
    "\n",
    "print('\\nLoss on the TEST Set: {:,.3f}'.format(loss))\n",
    "print('Accuracy on the TEST Set: {:.1%}'.format(accuracy))"
   ]
  },
  {
   "cell_type": "markdown",
   "metadata": {},
   "source": [
    "### 🔴 Make Predictions"
   ]
  },
  {
   "cell_type": "code",
   "execution_count": null,
   "metadata": {},
   "outputs": [],
   "source": [
    "# class_names = ['Background', 'Signal']\n",
    "\n",
    "# for event, label in test_batches.take(1):\n",
    "#     ps = model.predict(event)\n",
    "#     images = event.numpy().squeeze()\n",
    "#     labels = label.numpy()\n",
    "\n",
    "\n",
    "# plt.figure(figsize=(20,25))\n",
    "\n",
    "# for n in range(15):\n",
    "#     plt.subplot(6,5,n+1)\n",
    "#     sns.heatmap(images[n])\n",
    "#     #plt.imshow(images[n], cmap = plt.cm.binary)\n",
    "#     color = 'green' if np.argmax(ps[n]) == labels[n] else 'red'\n",
    "#     plt.title(class_names[np.argmax(ps[n])], color=color)\n",
    "#     plt.axis('off')"
   ]
  },
  {
   "cell_type": "code",
   "execution_count": 21,
   "metadata": {},
   "outputs": [],
   "source": [
    "# for event, label in train_batches.take(1):\n",
    "#     ps = model.predict(event)\n",
    "#     first_image = event.numpy().squeeze()[0]\n",
    "  \n",
    "  \n",
    "#     fig, (ax1, ax2) = plt.subplots(figsize=(6,9), ncols=2)\n",
    "#     #sns.heatmap(first_image)\n",
    "#     ax1.imshow(first_image)\n",
    "#     ax1.axis('off')\n",
    "#     ax2.barh(np.arange(2), ps[0])\n",
    "#     ax2.set_aspect(0.1)\n",
    "#     ax2.set_yticks(np.arange(2))\n",
    "#     ax2.set_yticklabels(np.arange(2))\n",
    "#     ax2.set_title('Class Probability')\n",
    "#     ax2.set_xlim(0, 1.1)\n",
    "#     plt.tight_layout()"
   ]
  },
  {
   "cell_type": "markdown",
   "metadata": {},
   "source": [
    "## 🔵 Step 6: Build Confusion Matrix (unseen test data)\n",
    "\n",
    "Guide:\n",
    "https://kapernikov.com/tutorial-image-classification-with-scikit-learn/"
   ]
  },
  {
   "cell_type": "markdown",
   "metadata": {},
   "source": [
    "### 🔴 Create Preds and Labels vectors"
   ]
  },
  {
   "cell_type": "code",
   "execution_count": 231,
   "metadata": {},
   "outputs": [],
   "source": [
    "preds_all = []\n",
    "labels_all = []\n",
    "preds_batch = []\n",
    "labels_batch = []\n",
    "\n",
    "\n",
    "# For all batches\n",
    "for batch, labels in test_batches.take(num_of_batches_test):\n",
    "\n",
    "    # 64 preds and labels added to list\n",
    "    pp = model.predict(batch)\n",
    "    preds_batch = np.array([np.argmax(pp[i]) for i in range(len(pp))])\n",
    "    labels_batch = labels.numpy()\n",
    "\n",
    "    preds_all.append(preds_batch)\n",
    "    labels_all.append(labels_batch)\n",
    "    \n",
    "    \n",
    "# Convert list of lists to ndarray and flatten to get 1D ndarray of all preds and 1D ndarray of all labels\n",
    "preds = np.array(preds_all).flatten()\n",
    "labels = np.array(labels_all).flatten()"
   ]
  },
  {
   "cell_type": "markdown",
   "metadata": {},
   "source": [
    "\n",
    "Signal = 1 <br />\n",
    "Background = 0"
   ]
  },
  {
   "cell_type": "markdown",
   "metadata": {},
   "source": [
    "### 🔴 Create CMX"
   ]
  },
  {
   "cell_type": "code",
   "execution_count": 232,
   "metadata": {},
   "outputs": [
    {
     "name": "stdout",
     "output_type": "stream",
     "text": [
      "[[0.45878623 0.13451087]\n",
      " [0.10869565 0.29800725]] \n",
      "\n"
     ]
    },
    {
     "data": {
      "image/png": "[encoded data removed]",
      "text/plain": [
       "<Figure size 432x288 with 2 Axes>"
      ]
     },
     "metadata": {
      "needs_background": "light"
     },
     "output_type": "display_data"
    },
    {
     "name": "stdout",
     "output_type": "stream",
     "text": [
      "\n",
      "\n",
      "P(signal|signal) = 73%\n",
      "P(signal|background) = 23%\n",
      "P(background|background) = 77%\n",
      "P(background|signal) = 27%\n",
      "Precision = 69\n",
      "Recall = 73\n",
      "\n",
      "\n"
     ]
    }
   ],
   "source": [
    "cmx_non_normal = tf.math.confusion_matrix(labels, preds).numpy() # Create Confusion Matrix\n",
    "cmx = cmx_non_normal / cmx_non_normal.sum()\n",
    "\n",
    "\n",
    "# Normalise it\n",
    "print(cmx, '\\n')\n",
    "\n",
    "\n",
    "# Plot confusion matrix\n",
    "sns.heatmap(cmx, cmap=['skyblue', 'deepskyblue', 'dodgerblue'])\n",
    "plt.title('Confusion Matrix')\n",
    "plt.xlabel('Predictions')\n",
    "plt.ylabel('Labels')\n",
    "plt.show()\n",
    "\n",
    "\n",
    "# Print P(signal|signal) and P(signal|background)\n",
    "pss = cmx[1,1] / (cmx[1,1]+cmx[1,0])\n",
    "pbs = 1 - pss\n",
    "psb = cmx[0,1] / (cmx[0,1]+cmx[0,0])\n",
    "pbb = 1 - psb\n",
    "precision = cmx[1,1] / (cmx[1,1]+cmx[0,1])\n",
    "recall = cmx[1,1] / (cmx[1,1]+cmx[1,0])\n",
    "print('\\n')\n",
    "print('P(signal|signal) = {:.0f}%'.format(100*pss))\n",
    "print('P(signal|background) = {:.0f}%'.format(100*psb)) \n",
    "print('P(background|background) = {:.0f}%'.format(100*pbb))\n",
    "print('P(background|signal) = {:.0f}%'.format(100*pbs))\n",
    "print('Precision = {:.0f}'.format(precision*100))\n",
    "print('Recall = {:.0f}'.format(recall*100))\n",
    "print('\\n')\n",
    "\n",
    "\n"
   ]
  },
  {
   "cell_type": "markdown",
   "metadata": {},
   "source": [
    "## 🔵 Step 7: ROC Curve\n",
    "\n",
    "For relu activation function (i.e. model outputs two probabilities per event, [P(background), P(signal)]"
   ]
  },
  {
   "cell_type": "code",
   "execution_count": 253,
   "metadata": {},
   "outputs": [
    {
     "name": "stdout",
     "output_type": "stream",
     "text": [
      "69/69 [==============================] - 1s 9ms/step - loss: 0.5523 - accuracy: 0.7462\n"
     ]
    },
    {
     "data": {
      "text/plain": [
       "[0.5522752106189728, 0.7461504]"
      ]
     },
     "execution_count": 253,
     "metadata": {},
     "output_type": "execute_result"
    }
   ],
   "source": [
    "model1 = tf.keras.models.load_model('model_elu_7470.h5')\n",
    "model1.evaluate(test_batches)"
   ]
  },
  {
   "cell_type": "code",
   "execution_count": 254,
   "metadata": {},
   "outputs": [],
   "source": [
    "preds_batch = []\n",
    "labels_batch = []\n",
    "preds_all = []\n",
    "labels_all = []\n",
    "\n",
    "\n",
    "# For all batches\n",
    "for batch, labels in test_batches.take(num_of_batches_test):\n",
    "\n",
    "    # 64 preds and labels added to list\n",
    "    pp = model.predict(batch)\n",
    "    preds_batch = np.array([np.argmax(pp[i]) for i in range(len(pp))])\n",
    "    labels_batch = labels.numpy()\n",
    "\n",
    "    preds_all.append(preds_batch)\n",
    "    labels_all.append(labels_batch)\n",
    "    \n",
    "    \n",
    "# Convert list of lists to ndarray and flatten to get 1D ndarray of all preds and 1D ndarray of all labels\n",
    "preds0 = np.array(preds_all).flatten()\n",
    "labels0 = np.array(labels_all).flatten()\n",
    "\n",
    "\n",
    "##########################################################################################################################################################################\n",
    "\n",
    "\n",
    "preds_batch = []\n",
    "labels_batch = []\n",
    "preds_all = []\n",
    "labels_all = []\n",
    "\n",
    "\n",
    "# For all batches\n",
    "for batch, labels in test_batches.take(num_of_batches_test):\n",
    "\n",
    "    # 64 preds and labels added to list\n",
    "    pp = rf.predict(batch)\n",
    "    preds_batch = np.array([np.argmax(pp[i]) for i in range(len(pp))])\n",
    "    labels_batch = labels.numpy()\n",
    "\n",
    "    preds_all.append(preds_batch)\n",
    "    labels_all.append(labels_batch)\n",
    "    \n",
    "    \n",
    "# Convert list of lists to ndarray and flatten to get 1D ndarray of all preds and 1D ndarray of all labels\n",
    "preds1 = np.array(preds_all).flatten()\n",
    "labels1 = np.array(labels_all).flatten()\n",
    "\n",
    "\n"
   ]
  },
  {
   "cell_type": "code",
   "execution_count": 255,
   "metadata": {},
   "outputs": [
    {
     "data": {
      "image/png": "[encoded data removed]",
      "text/plain": [
       "<Figure size 432x288 with 1 Axes>"
      ]
     },
     "metadata": {
      "needs_background": "light"
     },
     "output_type": "display_data"
    },
    {
     "data": {
      "image/png": "[encoded data removed]",
      "text/plain": [
       "<Figure size 432x288 with 1 Axes>"
      ]
     },
     "metadata": {
      "needs_background": "light"
     },
     "output_type": "display_data"
    }
   ],
   "source": [
    "##########################################################################################################################################################################\n",
    "\n",
    "\n",
    "from sklearn.metrics import roc_curve\n",
    "from sklearn.metrics import auc\n",
    "\n",
    "\n",
    "fpr0, tpr0, thresholds = roc_curve(labels0, preds0)\n",
    "auc0 = auc(fpr0, tpr0)\n",
    "\n",
    "fpr1, tpr1, thresholds1 = roc_curve(labels1, preds1)\n",
    "auc1 = auc(fpr1, tpr1)\n",
    "\n",
    "##########################################################################################################################################################################\n",
    "\n",
    "plt.figure(1)\n",
    "plt.plot([0, 1], [0, 1], 'k--')\n",
    "plt.plot(fpr0, tpr0, label='0 (area = {:.3f})'.format(auc0))\n",
    "plt.plot(fpr1, tpr1, label='1 (area = {:.3f})'.format(auc1))\n",
    "plt.xlabel('False positive rate')\n",
    "plt.ylabel('True positive rate')\n",
    "plt.title('ROC curve')\n",
    "plt.legend(loc='best')\n",
    "plt.show()\n",
    "# Zoom in view of the upper left corner.\n",
    "plt.figure(2)\n",
    "plt.xlim(0, 0.2)\n",
    "plt.ylim(0.8, 1)\n",
    "plt.plot([0, 1], [0, 1], 'k--')\n",
    "plt.plot(fpr0, tpr0, label='0 (area = {:.3f})'.format(auc0))\n",
    "plt.plot(fpr1, tpr1, label='1 (area = {:.3f})'.format(auc1))\n",
    "plt.xlabel('False positive rate')\n",
    "plt.ylabel('True positive rate')\n",
    "plt.title('ROC curve (zoomed in at top left)')\n",
    "plt.legend(loc='best')\n",
    "plt.show()\n",
    "\n",
    "##########################################################################################################################################################################\n"
   ]
  },
  {
   "cell_type": "code",
   "execution_count": null,
   "metadata": {},
   "outputs": [],
   "source": [
    "# stats = np.around(np.array([pss, psb, pbb, pbs]), decimals=2)\n",
    "# stats *= 100\n",
    "# stats = stats.astype(int)\n",
    "# pd.DataFrame(data=stats, index=['P(signal|signal)', 'P(signal|background)', 'P(background|background)', 'P(background|signal)'], columns=['%'])"
   ]
  },
  {
   "cell_type": "markdown",
   "metadata": {},
   "source": [
    "#### Different Normalisation"
   ]
  },
  {
   "cell_type": "code",
   "execution_count": null,
   "metadata": {},
   "outputs": [],
   "source": [
    "# cmx = tf.math.confusion_matrix(labels, preds).numpy() # Create Confusion Matrix\n",
    "# cmx0 = cmx[0] / cmx[0].sum()\n",
    "# cmx1 = cmx[1] / cmx[1].sum()\n",
    "# cmx = np.stack((cmx0, cmx1), axis=1)\n",
    "\n",
    "\n",
    "# # Normalise it\n",
    "# print(cmx, '\\n')\n",
    "\n",
    "\n",
    "# # Plot confusion matrix\n",
    "# sns.heatmap(cmx, cmap=['skyblue', 'deepskyblue', 'dodgerblue'])\n",
    "# plt.title('Confusion Matrix')\n",
    "# plt.xlabel('Predictions')\n",
    "# plt.ylabel('Labels')\n",
    "# plt.show()\n",
    "\n"
   ]
  },
  {
   "cell_type": "code",
   "execution_count": null,
   "metadata": {},
   "outputs": [],
   "source": []
  }
 ],
 "metadata": {
  "kernelspec": {
   "display_name": "Python 3",
   "language": "python",
   "name": "python3"
  },
  "language_info": {
   "codemirror_mode": {
    "name": "ipython",
    "version": 3
   },
   "file_extension": ".py",
   "mimetype": "text/x-python",
   "name": "python",
   "nbconvert_exporter": "python",
   "pygments_lexer": "ipython3",
   "version": "3.7.7"
  }
 },
 "nbformat": 4,
 "nbformat_minor": 4
}

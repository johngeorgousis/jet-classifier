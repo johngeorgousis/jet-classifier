{
 "cells": [
  {
   "cell_type": "markdown",
   "metadata": {},
   "source": [
    "# ⭐Jonas Questions\n",
    "- \n",
    "- \n",
    "- \n"
   ]
  },
  {
   "cell_type": "markdown",
   "metadata": {},
   "source": [
    "# ⭐Imports\n"
   ]
  },
  {
   "cell_type": "code",
   "execution_count": 1,
   "metadata": {},
   "outputs": [
    {
     "name": "stdout",
     "output_type": "stream",
     "text": [
      "TensorFlow Version:  2.1.0\n"
     ]
    }
   ],
   "source": [
    "from processing_functions import *\n",
    "%matplotlib inline"
   ]
  },
  {
   "cell_type": "markdown",
   "metadata": {},
   "source": [
    "---"
   ]
  },
  {
   "cell_type": "markdown",
   "metadata": {},
   "source": [
    "# ⭐Step 1: Preprocessing"
   ]
  },
  {
   "cell_type": "markdown",
   "metadata": {},
   "source": [
    "🔴 Define helper function that\n",
    "- drops the constituents column \n",
    "- converts NaN to 0\n",
    "- converts values to floats"
   ]
  },
  {
   "cell_type": "code",
   "execution_count": 2,
   "metadata": {},
   "outputs": [],
   "source": [
    "# preprocess(event)"
   ]
  },
  {
   "cell_type": "markdown",
   "metadata": {},
   "source": [
    "# ⭐Step 2: Create Image & Average Image"
   ]
  },
  {
   "cell_type": "markdown",
   "metadata": {},
   "source": [
    "### 🔵 Create Image"
   ]
  },
  {
   "cell_type": "markdown",
   "metadata": {},
   "source": [
    "🔴 Define Helper Function that takes an event as input and returns an image\n",
    "- Bins coordinates (η, φ, pT)\n",
    "- Creates image using np.histogram2d()"
   ]
  },
  {
   "cell_type": "code",
   "execution_count": 3,
   "metadata": {},
   "outputs": [],
   "source": [
    "#create_image(event, R=1.5, pixels=60)"
   ]
  },
  {
   "cell_type": "markdown",
   "metadata": {},
   "source": [
    "### 🔵 Create Average Image"
   ]
  },
  {
   "cell_type": "markdown",
   "metadata": {},
   "source": [
    "🔴 Define Helper Function that reads events directly from a file and returns an average image\n",
    "\n",
    "\n",
    "**NOTE:** event_no list implementation for multiple images is not working properly"
   ]
  },
  {
   "cell_type": "code",
   "execution_count": 4,
   "metadata": {},
   "outputs": [],
   "source": [
    "#average_image(pixels=60, R=1.5, event_no=12178, display=False):"
   ]
  },
  {
   "cell_type": "markdown",
   "metadata": {},
   "source": [
    "Example (Image Progression)"
   ]
  },
  {
   "cell_type": "code",
   "execution_count": 5,
   "metadata": {},
   "outputs": [],
   "source": [
    "#average_image(pixels = 100, event_no=[25, 300, 3000, 12000], display=True)"
   ]
  },
  {
   "cell_type": "markdown",
   "metadata": {},
   "source": [
    "# ⭐Step 3: Extract Maxima"
   ]
  },
  {
   "cell_type": "markdown",
   "metadata": {},
   "source": [
    "🔴 Define 3 Helper Functions that \n",
    "\n",
    "Return one vector each with the highest pT and its η, φ. (For the three maximum pT's)\n",
    "\n",
    "- **1st function**: 1st maximum pT and its η, φ\n",
    "- **2nd function**: 2nd maximum pT and its η, φ\n",
    "- **3rd function**: 3rd maximum pT and its η, φ"
   ]
  },
  {
   "cell_type": "code",
   "execution_count": 6,
   "metadata": {},
   "outputs": [],
   "source": [
    "#find_max1(event)\n",
    "#find_max2(event)\n",
    "#find_max3(event)"
   ]
  },
  {
   "cell_type": "markdown",
   "metadata": {},
   "source": [
    "---"
   ]
  },
  {
   "cell_type": "markdown",
   "metadata": {},
   "source": [
    "# ⭐Step 4: Centre Image"
   ]
  },
  {
   "cell_type": "markdown",
   "metadata": {},
   "source": [
    "For each row, we centre a new coordinate system so that the highest pT constituent's coordinates are (φ', η') = (0, 0). <br />\n",
    "This corresponds to rotating and boosting along the beam direction to center the jet.\n",
    "\n",
    "**φ Tranformation**<br />\n",
    "For the φ transformation, we subtract the φ (of the max pT) from all φ's in that row. <br />\n",
    "If the values exceed [-π, π], we add 2π to the final result (if it's <-π) or subtract 2π from the final result (if it's >π). This makes sure that no values exceed the original φ interval. <br />\n",
    "This has the effect of making the φ (corresponding to the max pT for that row) equal to 0 in each row, and shifting the other φ's by that same angle, while maintaining a range of 2π. <br />\n",
    "\n",
    "**η Transformation**<br />\n",
    "How does η transform? We need a Lorentz Transformation. \n",
    "\n",
    "**Paper** (E) <br />\n",
    "Histograms binned in\n",
    "either the angular separation of events or the rapidity separation of events can\n",
    "be contributed to by events whose centre of mass frames are boosted by arbitrary velocities with respect to the rest frame of the detector, the lab frame.\n",
    "The resulting histograms are undistorted by these centre of mass frame boosts\n",
    "parallel to the beam axis, as the dependent variable is invariant with respect\n",
    "to this sub–class of Lorentz boosts.\n",
    "\n",
    "**Paper** (F): make code cell below markdown to display\n"
   ]
  },
  {
   "cell_type": "code",
   "execution_count": 7,
   "metadata": {},
   "outputs": [],
   "source": [
    "#<img src=\"h1.png\" width=\"500\"> <img src=\"h2.png\" width=\"500\">"
   ]
  },
  {
   "cell_type": "markdown",
   "metadata": {},
   "source": [
    "🔴 Define Helper Function <br />\n",
    "Centers image around (φ', η') = (0, 0). Both transformations are linear (so far). \n"
   ]
  },
  {
   "cell_type": "code",
   "execution_count": 8,
   "metadata": {},
   "outputs": [],
   "source": [
    "#center(event, max123, output='event', R=1.5, pixels=60):"
   ]
  },
  {
   "cell_type": "markdown",
   "metadata": {},
   "source": [
    "# ⭐Step 5: Rotate Image\n",
    "\n",
    "Rotate all constituents around (φ’,η’)=0 such that the constituent with the 2nd highest pT is at 12 o’clock, i.e. at  (φ’,η’)=(0,e) with e > 0.\n",
    "\n",
    "**Paper (C)** <br />\n",
    "\"Rotation: Rotation is performed to remove the stochastic nature of the decay\n",
    "angle relative to the η − φ coordinate system.\""
   ]
  },
  {
   "cell_type": "markdown",
   "metadata": {},
   "source": [
    "🔴 Define Helper Function that\n",
    "\n",
    "- \n",
    "- \n",
    "- "
   ]
  },
  {
   "cell_type": "code",
   "execution_count": 9,
   "metadata": {},
   "outputs": [],
   "source": [
    "#rotate(event, max2)"
   ]
  },
  {
   "cell_type": "markdown",
   "metadata": {},
   "source": [
    "# ⭐Step 6: Flip Image"
   ]
  },
  {
   "cell_type": "markdown",
   "metadata": {},
   "source": [
    "Flip all the constituents such that the constituents with the 3rd highest pT is on the right-half plane, i.e. at (φ’,η’)=(f,e) with f > 0"
   ]
  },
  {
   "cell_type": "markdown",
   "metadata": {},
   "source": [
    "🔴 Define Helper Function that\n",
    "\n",
    "- \n",
    "- \n",
    "- "
   ]
  },
  {
   "cell_type": "code",
   "execution_count": 10,
   "metadata": {},
   "outputs": [],
   "source": [
    "#flip(event, max3)"
   ]
  },
  {
   "cell_type": "markdown",
   "metadata": {},
   "source": [
    "---"
   ]
  },
  {
   "cell_type": "markdown",
   "metadata": {},
   "source": [
    "# ⭐ Building Classifier"
   ]
  },
  {
   "cell_type": "markdown",
   "metadata": {},
   "source": [
    "### 🔴 Import Data\n",
    "\n",
    "1. Import signal/background data (~7min)\n",
    "2. Concatenate & Shuffle signal/background data\n",
    "3. Convert to tf.data.Dataset object\n",
    "\n",
    "\n",
    "**Save Dataset** **NOTE: PICKLE IMPLEMENTATION DOES NOT WORK YET**\n",
    "\n",
    "The easiest way is to pickle it using to_pickle:\n",
    "\n",
    "`df.to_pickle(file_name)`, where to save it, usually as a .pkl\n",
    "\n",
    "Then you can load it back using:\n",
    "\n",
    "`df = pd.read_pickle(file_name)`\n"
   ]
  },
  {
   "cell_type": "markdown",
   "metadata": {},
   "source": [
    "### 🔴 Load s&b data (~24mins)"
   ]
  },
  {
   "cell_type": "code",
   "execution_count": 66,
   "metadata": {},
   "outputs": [],
   "source": [
    "# # Load Previously saved data\n",
    "# data_s = np.array(pd.read_csv('data_s_normal_csv').iloc[:, 1:])\n",
    "# data_b = np.array(pd.read_csv('data_b_normal_csv').iloc[:, 1:])"
   ]
  },
  {
   "cell_type": "code",
   "execution_count": 94,
   "metadata": {},
   "outputs": [],
   "source": [
    "# Load Previously saved data\n",
    "data_s = np.array(pd.read_csv('data_s_csv').iloc[:, 1:])\n",
    "data_b = np.array(pd.read_csv('data_b_csv').iloc[:, 1:])"
   ]
  },
  {
   "cell_type": "code",
   "execution_count": 95,
   "metadata": {},
   "outputs": [],
   "source": [
    "# # Import, Preprocess, Create Dat|aset\n",
    "# start = time.time()\n",
    "# data_s = create_dataset_CNN('dataset_signal.dat')\n",
    "# data_b = create_dataset_CNN('dataset_background.dat')\n",
    "# end = time.time()\n",
    "# print('Time taken: {:.2f} mins'.format((end-start)/60))\n",
    "\n",
    "# # Save Datasets\n",
    "# pd.DataFrame(data_s).to_csv('data_s_normal_csv')\n",
    "# pd.DataFrame(data_b).to_csv('data_b_normal_csv')"
   ]
  },
  {
   "cell_type": "code",
   "execution_count": 96,
   "metadata": {},
   "outputs": [],
   "source": [
    "# Create s&b labels\n",
    "slabels = np.ones(data_s.shape[0]//40)\n",
    "blabels = np.zeros(data_b.shape[0]//40)"
   ]
  },
  {
   "cell_type": "code",
   "execution_count": 97,
   "metadata": {},
   "outputs": [
    {
     "name": "stdout",
     "output_type": "stream",
     "text": [
      "Total Events: 29449\n",
      "Total Labels: 29449\n"
     ]
    }
   ],
   "source": [
    "# Concatenate examples and labels\n",
    "data = np.concatenate((data_s, data_b), axis=0)\n",
    "labels = np.concatenate((slabels, blabels), axis=0)\n",
    "\n",
    "num_of_examples = data.shape[0] // 40     # divide by 40 because 1st dim is 40 * num_of_examples\n",
    "num_of_labels = labels.shape[0]\n",
    "print('Total Events:', num_of_examples)\n",
    "print('Total Labels:', num_of_labels)"
   ]
  },
  {
   "cell_type": "code",
   "execution_count": 98,
   "metadata": {},
   "outputs": [
    {
     "data": {
      "text/plain": [
       "(29449, 40, 40, 1)"
      ]
     },
     "execution_count": 98,
     "metadata": {},
     "output_type": "execute_result"
    }
   ],
   "source": [
    "# Reshape examples (for CNN)\n",
    "examples = data.reshape(num_of_examples, 40, 40, 1)\n",
    "examples.shape"
   ]
  },
  {
   "cell_type": "markdown",
   "metadata": {},
   "source": [
    "### 🔴 Train-Val-Test Split"
   ]
  },
  {
   "cell_type": "code",
   "execution_count": 99,
   "metadata": {},
   "outputs": [
    {
     "name": "stdout",
     "output_type": "stream",
     "text": [
      "Train:  (20525, 40, 40, 1) (20525,)\n",
      "Val:  (4506, 40, 40, 1) (4506,)\n",
      "Test:  (4418, 40, 40, 1) (4418,)\n"
     ]
    }
   ],
   "source": [
    "from sklearn.model_selection import train_test_split\n",
    "\n",
    "train_examples, test_examples, train_labels, test_labels = train_test_split(examples, labels, test_size=0.15, random_state=42)\n",
    "\n",
    "train_examples, val_examples, train_labels, val_labels = train_test_split(train_examples, train_labels, test_size=0.18, random_state=42)\n",
    "\n",
    "print('Train: ', train_examples.shape, train_labels.shape)\n",
    "print('Val: ', val_examples.shape, val_labels.shape)\n",
    "print('Test: ', test_examples.shape, test_labels.shape)"
   ]
  },
  {
   "cell_type": "markdown",
   "metadata": {},
   "source": [
    "### 🔴 Convert to tf.data.Dataset"
   ]
  },
  {
   "cell_type": "code",
   "execution_count": 100,
   "metadata": {},
   "outputs": [
    {
     "name": "stdout",
     "output_type": "stream",
     "text": [
      "<TensorSliceDataset shapes: ((40, 40, 1), ()), types: (tf.float64, tf.float64)>\n",
      "<TensorSliceDataset shapes: ((40, 40, 1), ()), types: (tf.float64, tf.float64)>\n",
      "<TensorSliceDataset shapes: ((40, 40, 1), ()), types: (tf.float64, tf.float64)>\n"
     ]
    }
   ],
   "source": [
    "train_data = tf.data.Dataset.from_tensor_slices((train_examples, train_labels))\n",
    "val_data = tf.data.Dataset.from_tensor_slices((val_examples, val_labels))\n",
    "test_data = tf.data.Dataset.from_tensor_slices((test_examples, test_labels))\n",
    "\n",
    "print(train_data)\n",
    "print(val_data)\n",
    "print(test_data)"
   ]
  },
  {
   "cell_type": "markdown",
   "metadata": {},
   "source": [
    "#### 🔴 (Old) train-val-test split"
   ]
  },
  {
   "cell_type": "code",
   "execution_count": 101,
   "metadata": {},
   "outputs": [],
   "source": [
    "# train_size = int(0.7 * num_of_examples)\n",
    "# val_size = int(0.15 * num_of_examples)\n",
    "# test_size = int(0.15 * num_of_examples)\n",
    "\n",
    "# print(train_size, val_size, test_size)\n",
    "\n",
    "# train_data = data.take(train_size)\n",
    "# test_data = data.skip(train_size)\n",
    "# val_data = test_data.skip(val_size)\n",
    "# test_data = test_data.take(test_size)\n",
    "\n",
    "# print(train_data)\n",
    "# print(val_data)\n",
    "# print(test_data)"
   ]
  },
  {
   "cell_type": "code",
   "execution_count": 102,
   "metadata": {},
   "outputs": [],
   "source": [
    "# from sklearn.utils import shuffle\n",
    "\n",
    "# # Convert .dat files into DataFrame objects\n",
    "# data_s = pd.DataFrame([i.strip().split() for i in open(\"tth_semihad.dat\").readlines()])\n",
    "# data_b = pd.DataFrame([i.strip().split() for i in open(\"wjets.dat\").readlines()])\n",
    "\n",
    "# # Label data\n",
    "# data_s['label'] = np.ones(data_s.shape[0])\n",
    "# data_b['label'] = np.zeros(data_b.shape[0])\n",
    "\n",
    "# # Concatenate & Shuffle\n",
    "# data = pd.concat([data_s, data_b])\n",
    "# data = shuffle(data)\n",
    "\n",
    "# # Extract labels & drop\n",
    "# labels = np.array(data['label'])\n",
    "# data = data.drop('label', axis=1)"
   ]
  },
  {
   "cell_type": "markdown",
   "metadata": {},
   "source": [
    "#### 🔴 Create Batches\n",
    "\n",
    "- `Dataset.prefetch()` overlaps data preprocessing and model execution while training.\n",
    "\n",
    "- `Dataset.cache()` keeps the images in memory after they're loaded off disk during the first epoch. This will ensure the dataset does not become a bottleneck while training your model. If your dataset is too large to fit into memory, you can also use this method to create a performant on-disk cache.\n",
    "\n",
    "Theory guide: https://www.tensorflow.org/guide/data_performance#prefetching"
   ]
  },
  {
   "cell_type": "code",
   "execution_count": 103,
   "metadata": {},
   "outputs": [
    {
     "data": {
      "text/plain": [
       "<PrefetchDataset shapes: ((64, 40, 40, 1), (64,)), types: (tf.int64, tf.int64)>"
      ]
     },
     "execution_count": 103,
     "metadata": {},
     "output_type": "execute_result"
    }
   ],
   "source": [
    "batch_size = 64\n",
    "\n",
    "def normalise(image, label):\n",
    "    image = tf.cast(image, tf.int64)                 # Set dtype to int64\n",
    "    label = tf.cast(label, tf.int64)\n",
    "    #image /= np.amax(image.numpy())                    # Normalise Image\n",
    "    #image = tf.image.resize(image, (pixels, pixels, 1))   # Resize image to 40x40\n",
    "    return image, label\n",
    "\n",
    "\n",
    "\n",
    "train_batches = train_data.cache().shuffle(num_of_examples).map(normalise).batch(batch_size, drop_remainder=True).prefetch(1)\n",
    "\n",
    "val_batches = val_data.cache().shuffle(num_of_examples).map(normalise).batch(batch_size, drop_remainder=True).prefetch(1)  # or prefetch(buffer_size=tf.data.experimental.AUTOTUNE) \n",
    "\n",
    "test_batches = test_data.cache().shuffle(num_of_examples).map(normalise).batch(batch_size, drop_remainder=True).prefetch(1)\n",
    "\n",
    "train_batches"
   ]
  },
  {
   "cell_type": "code",
   "execution_count": 104,
   "metadata": {},
   "outputs": [
    {
     "name": "stdout",
     "output_type": "stream",
     "text": [
      "(40, 40, 1)\n",
      "()\n"
     ]
    }
   ],
   "source": [
    "for image_batch, labels_batch in train_data:\n",
    "    print(image_batch.shape)\n",
    "    print(labels_batch.shape)\n",
    "    break"
   ]
  },
  {
   "cell_type": "markdown",
   "metadata": {},
   "source": [
    "#### 🔴 Visualise Data  \n",
    "(TRY REMOVING NORMALISATION FROM PREPROCESSING (create_dataset), THEN DISPLAY IMAGE, THEN WHEN CREATING BATCHES USE .MAP(NORMALISE) TO NORMALISE IMAGES)"
   ]
  },
  {
   "cell_type": "code",
   "execution_count": 105,
   "metadata": {},
   "outputs": [
    {
     "data": {
      "image/png": "[encoded data removed]",
      "text/plain": [
       "<Figure size 1080x1080 with 18 Axes>"
      ]
     },
     "metadata": {
      "needs_background": "light"
     },
     "output_type": "display_data"
    }
   ],
   "source": [
    "plt.figure(figsize=(15,15))\n",
    "\n",
    "for images, labels in train_batches.take(1):\n",
    "      for i in range(9):\n",
    "            \n",
    "        ax = plt.subplot(3, 3, i + 1)\n",
    "        sns.heatmap(images[i].numpy().reshape(40, 40))\n",
    "        #plt.imshow(images[i].numpy().astype(\"uint8\"))\n",
    "        plt.title('Image {}'.format(i+1))\n",
    "        plt.axis(\"off\")"
   ]
  },
  {
   "cell_type": "markdown",
   "metadata": {},
   "source": [
    "### 🔴 Build the Model\n",
    "\n",
    "Look up ConvNet TF Tutorial and make a Conv2D model"
   ]
  },
  {
   "cell_type": "markdown",
   "metadata": {},
   "source": [
    "### 🔴 Compile the Model\n",
    "- **Optimizer** -- Determines how the model is updated based on the data it sees and its loss function\n",
    "- **Loss Function** -- Measures how accurate the model is during training\n",
    "- **Metrics** -- Monitors the training and testing steps. "
   ]
  },
  {
   "cell_type": "markdown",
   "metadata": {},
   "source": [
    "### 🔴 Fit the Model"
   ]
  },
  {
   "cell_type": "markdown",
   "metadata": {},
   "source": [
    "**Early Stopping**: <br /> \n",
    "Stop training when there is no improvement in the validation loss for 5 consecutive epochs or when metric gain is less than 0.001\n",
    "\n",
    "**Save Best**: <br />\n",
    "Saves the best model"
   ]
  },
  {
   "cell_type": "markdown",
   "metadata": {},
   "source": [
    "## Notes\n",
    "#### Activation Function (non normalised)\n",
    "- **Relu**: results in all predictions being 0 \n",
    "- **tanh**: solves this issue; accuracy (n = 1): 73.6\n",
    "- **softsign**: solves and performs similarly to tanh\n",
    "- **elu**: solves and performs slightly better than tanh\n",
    "\n",
    "\n",
    "\n",
    "\n",
    "### Other hyperparameters\n",
    "- kernel_size = 2-3 perform best\n",
    "- Activation"
   ]
  },
  {
   "cell_type": "code",
   "execution_count": 124,
   "metadata": {},
   "outputs": [
    {
     "name": "stdout",
     "output_type": "stream",
     "text": [
      "Train for 320 steps, validate for 70 steps\n",
      "Epoch 1/10\n",
      "320/320 [==============================] - 10s 30ms/step - loss: 0.5888 - accuracy: 0.7022 - val_loss: 0.5649 - val_accuracy: 0.7366\n",
      "Epoch 2/10\n",
      "320/320 [==============================] - 9s 29ms/step - loss: 0.5644 - accuracy: 0.7325 - val_loss: 0.5564 - val_accuracy: 0.7433\n",
      "Epoch 3/10\n",
      "320/320 [==============================] - 9s 29ms/step - loss: 0.5539 - accuracy: 0.7438 - val_loss: 0.5644 - val_accuracy: 0.7319\n",
      "Epoch 4/10\n",
      "320/320 [==============================] - 9s 29ms/step - loss: 0.5511 - accuracy: 0.7469 - val_loss: 0.5608 - val_accuracy: 0.7330\n",
      "Epoch 5/10\n",
      "320/320 [==============================] - 9s 29ms/step - loss: 0.5430 - accuracy: 0.7548 - val_loss: 0.5505 - val_accuracy: 0.7496\n",
      "Epoch 6/10\n",
      "320/320 [==============================] - 9s 29ms/step - loss: 0.5378 - accuracy: 0.7627 - val_loss: 0.5520 - val_accuracy: 0.7458\n",
      "Epoch 7/10\n",
      "320/320 [==============================] - 9s 29ms/step - loss: 0.5316 - accuracy: 0.7705 - val_loss: 0.5531 - val_accuracy: 0.7442\n",
      "Epoch 8/10\n",
      "320/320 [==============================] - 9s 29ms/step - loss: 0.5249 - accuracy: 0.7795 - val_loss: 0.5630 - val_accuracy: 0.7337\n",
      "Epoch 9/10\n",
      "320/320 [==============================] - 9s 29ms/step - loss: 0.5234 - accuracy: 0.7799 - val_loss: 0.5557 - val_accuracy: 0.7422\n",
      "Epoch 10/10\n",
      "320/320 [==============================] - 9s 29ms/step - loss: 0.5146 - accuracy: 0.7908 - val_loss: 0.5611 - val_accuracy: 0.7362\n"
     ]
    }
   ],
   "source": [
    "input_shape=(40, 40, 1)\n",
    "kernel_size = 2\n",
    "padding='same'\n",
    "activation = 'elu'\n",
    "\n",
    "\n",
    "model = tf.keras.Sequential([\n",
    "          tf.keras.Input(shape=input_shape),\n",
    "          tf.keras.layers.Conv2D(16, kernel_size=kernel_size, padding=padding, activation=activation),\n",
    "          tf.keras.layers.MaxPooling2D(),\n",
    "          tf.keras.layers.Conv2D(32, kernel_size=kernel_size, padding=padding, activation=activation),\n",
    "          tf.keras.layers.MaxPooling2D(),\n",
    "          tf.keras.layers.Conv2D(64, kernel_size=kernel_size, padding=padding, activation=activation),\n",
    "          tf.keras.layers.MaxPooling2D(),\n",
    "          tf.keras.layers.Flatten(),\n",
    "          tf.keras.layers.Dense(128, activation=activation),\n",
    "          tf.keras.layers.Dense(2, activation = 'softmax')\n",
    "])\n",
    "\n",
    "#model.summary()\n",
    "\n",
    "# Compile Model\n",
    "model.compile(optimizer='adam',\n",
    "              loss=tf.keras.losses.SparseCategoricalCrossentropy(from_logits=True),\n",
    "              metrics=['accuracy'])\n",
    "\n",
    "# Callbacks\n",
    "early_stopping = tf.keras.callbacks.EarlyStopping(monitor='loss', patience=5, min_delta = 0.001)\n",
    "save_best = tf.keras.callbacks.ModelCheckpoint('./model_recent.h5', monitor='loss', save_best_only=True)\n",
    "\n",
    "# Fit model to training data\n",
    "EPOCHS = 10\n",
    "\n",
    "history = model.fit(train_batches, \n",
    "          epochs=EPOCHS,\n",
    "          callbacks= [early_stopping, save_best],\n",
    "          validation_data=val_batches, \n",
    "          verbose=1\n",
    "          )"
   ]
  },
  {
   "cell_type": "markdown",
   "metadata": {},
   "source": [
    "#### Create Model-Complexity Graph "
   ]
  },
  {
   "cell_type": "code",
   "execution_count": 125,
   "metadata": {},
   "outputs": [
    {
     "data": {
      "image/png": "[encoded data removed]",
      "text/plain": [
       "<Figure size 1152x576 with 2 Axes>"
      ]
     },
     "metadata": {
      "needs_background": "light"
     },
     "output_type": "display_data"
    }
   ],
   "source": [
    "training_accuracy = history.history['accuracy']\n",
    "validation_accuracy = history.history['val_accuracy']\n",
    "\n",
    "training_loss = history.history['loss']\n",
    "validation_loss = history.history['val_loss']\n",
    "\n",
    "epochs_range=range(len(training_accuracy))\n",
    "\n",
    "plt.figure(figsize=(16, 8))\n",
    "plt.subplot(1, 2, 1)\n",
    "plt.plot(epochs_range, training_accuracy, label='Training Accuracy')\n",
    "plt.plot(epochs_range, validation_accuracy, label='Validation Accuracy')\n",
    "plt.legend(loc='lower right')\n",
    "plt.title('Training and Validation Accuracy')\n",
    "\n",
    "plt.subplot(1, 2, 2)\n",
    "plt.plot(epochs_range, training_loss, label='Training Loss')\n",
    "plt.plot(epochs_range, validation_loss, label='Validation Loss')\n",
    "plt.legend(loc='upper right')\n",
    "plt.title('Training and Validation Loss')\n",
    "plt.show()\n"
   ]
  },
  {
   "cell_type": "markdown",
   "metadata": {},
   "source": [
    "### 🔴 Evaluate Model on Test Batches"
   ]
  },
  {
   "cell_type": "code",
   "execution_count": 126,
   "metadata": {},
   "outputs": [
    {
     "name": "stdout",
     "output_type": "stream",
     "text": [
      "\n",
      "Loss on the TEST Set: 0.559\n",
      "Accuracy on the TEST Set: 73.6%\n"
     ]
    }
   ],
   "source": [
    "loss, accuracy = model.evaluate(test_batches, verbose=0)\n",
    "\n",
    "print('\\nLoss on the TEST Set: {:,.3f}'.format(loss))\n",
    "print('Accuracy on the TEST Set: {:.1%}'.format(accuracy))"
   ]
  },
  {
   "cell_type": "markdown",
   "metadata": {},
   "source": [
    "### 🔴 Make Predictions"
   ]
  },
  {
   "cell_type": "code",
   "execution_count": 127,
   "metadata": {},
   "outputs": [
    {
     "data": {
      "image/png": "[encoded data removed]",
      "text/plain": [
       "<Figure size 1440x1800 with 30 Axes>"
      ]
     },
     "metadata": {
      "needs_background": "light"
     },
     "output_type": "display_data"
    }
   ],
   "source": [
    "class_names = ['Background', 'Signal']\n",
    "\n",
    "for event, label in test_batches.take(1):\n",
    "    ps = model.predict(event)\n",
    "    images = event.numpy().squeeze()\n",
    "    labels = label.numpy()\n",
    "\n",
    "\n",
    "plt.figure(figsize=(20,25))\n",
    "\n",
    "for n in range(15):\n",
    "    plt.subplot(6,5,n+1)\n",
    "    sns.heatmap(images[n])\n",
    "    #plt.imshow(images[n], cmap = plt.cm.binary)\n",
    "    color = 'green' if np.argmax(ps[n]) == labels[n] else 'red'\n",
    "    plt.title(class_names[np.argmax(ps[n])], color=color)\n",
    "    plt.axis('off')"
   ]
  },
  {
   "cell_type": "code",
   "execution_count": 130,
   "metadata": {},
   "outputs": [
    {
     "data": {
      "image/png": "[encoded data removed]",
      "text/plain": [
       "<Figure size 432x648 with 2 Axes>"
      ]
     },
     "metadata": {
      "needs_background": "light"
     },
     "output_type": "display_data"
    }
   ],
   "source": [
    "for event, label in train_batches.take(1):\n",
    "    ps = model.predict(event)\n",
    "    first_image = event.numpy().squeeze()[0]\n",
    "  \n",
    "  \n",
    "    fig, (ax1, ax2) = plt.subplots(figsize=(6,9), ncols=2)\n",
    "    #sns.heatmap(first_image)\n",
    "    ax1.imshow(first_image)\n",
    "    ax1.axis('off')\n",
    "    ax2.barh(np.arange(2), ps[0])\n",
    "    ax2.set_aspect(0.1)\n",
    "    ax2.set_yticks(np.arange(2))\n",
    "    ax2.set_yticklabels(np.arange(2))\n",
    "    ax2.set_title('Class Probability')\n",
    "    ax2.set_xlim(0, 1.1)\n",
    "    plt.tight_layout()"
   ]
  },
  {
   "cell_type": "markdown",
   "metadata": {},
   "source": [
    "### 🔴 Build Confusion Matrix \n",
    "\n",
    "Guide:\n",
    "https://kapernikov.com/tutorial-image-classification-with-scikit-learn/"
   ]
  },
  {
   "cell_type": "code",
   "execution_count": 168,
   "metadata": {},
   "outputs": [],
   "source": [
    "preds_all = []\n",
    "labels_all = []\n",
    "\n",
    "num_of_batches_test = len(test_labels) // batch_size\n",
    "\n",
    "# For all batches\n",
    "for n in range(10):\n",
    "    \n",
    "    # For all events in a batch\n",
    "    for event, label in test_batches.take(n):\n",
    "        # 64 preds and labels added to list\n",
    "        preds_batch = [np.argmax(model.predict(event)[i]) for i in range(64)]\n",
    "        labels_batch = label.numpy()\n",
    "\n",
    "\n",
    "    #3 lists added to list of lists\n",
    "    preds_all.append(preds_batch)\n",
    "    labels_all.append(labels_batch)\n",
    "    \n",
    "    \n",
    "# Convert list of lists to ndarray and flatten to get 1D ndarray of all preds and 1D ndarray of all labels\n",
    "preds = np.array(preds_all).flatten()\n",
    "labels = np.array(labels_all).flatten()"
   ]
  },
  {
   "cell_type": "markdown",
   "metadata": {},
   "source": [
    "Signal = 1\n",
    "Background = 0"
   ]
  },
  {
   "cell_type": "code",
   "execution_count": 170,
   "metadata": {},
   "outputs": [
    {
     "name": "stdout",
     "output_type": "stream",
     "text": [
      "[[306  68]\n",
      " [111 155]]\n"
     ]
    },
    {
     "data": {
      "image/png": "[encoded data removed]",
      "text/plain": [
       "<Figure size 432x288 with 2 Axes>"
      ]
     },
     "metadata": {
      "needs_background": "light"
     },
     "output_type": "display_data"
    }
   ],
   "source": [
    "cmx = tf.math.confusion_matrix(labels, preds)\n",
    "print(cmx.numpy())\n",
    "sns.heatmap(cmx.numpy())\n",
    "plt.title('Confusion Matrix')\n",
    "plt.xlabel('Predictions')\n",
    "plt.ylabel('Labels')\n",
    "plt.show()"
   ]
  },
  {
   "cell_type": "code",
   "execution_count": null,
   "metadata": {},
   "outputs": [],
   "source": []
  },
  {
   "cell_type": "code",
   "execution_count": null,
   "metadata": {},
   "outputs": [],
   "source": []
  },
  {
   "cell_type": "code",
   "execution_count": null,
   "metadata": {},
   "outputs": [],
   "source": []
  },
  {
   "cell_type": "code",
   "execution_count": null,
   "metadata": {},
   "outputs": [],
   "source": []
  },
  {
   "cell_type": "code",
   "execution_count": null,
   "metadata": {},
   "outputs": [],
   "source": []
  },
  {
   "cell_type": "code",
   "execution_count": null,
   "metadata": {},
   "outputs": [],
   "source": []
  },
  {
   "cell_type": "code",
   "execution_count": null,
   "metadata": {},
   "outputs": [],
   "source": []
  },
  {
   "cell_type": "code",
   "execution_count": null,
   "metadata": {},
   "outputs": [],
   "source": []
  },
  {
   "cell_type": "code",
   "execution_count": null,
   "metadata": {},
   "outputs": [],
   "source": []
  },
  {
   "cell_type": "code",
   "execution_count": null,
   "metadata": {},
   "outputs": [],
   "source": []
  },
  {
   "cell_type": "code",
   "execution_count": null,
   "metadata": {},
   "outputs": [],
   "source": []
  },
  {
   "cell_type": "code",
   "execution_count": null,
   "metadata": {},
   "outputs": [],
   "source": []
  },
  {
   "cell_type": "code",
   "execution_count": null,
   "metadata": {},
   "outputs": [],
   "source": []
  },
  {
   "cell_type": "code",
   "execution_count": null,
   "metadata": {},
   "outputs": [],
   "source": []
  },
  {
   "cell_type": "code",
   "execution_count": null,
   "metadata": {},
   "outputs": [],
   "source": []
  },
  {
   "cell_type": "code",
   "execution_count": null,
   "metadata": {},
   "outputs": [],
   "source": []
  },
  {
   "cell_type": "code",
   "execution_count": null,
   "metadata": {},
   "outputs": [],
   "source": []
  },
  {
   "cell_type": "code",
   "execution_count": null,
   "metadata": {},
   "outputs": [],
   "source": []
  },
  {
   "cell_type": "code",
   "execution_count": null,
   "metadata": {},
   "outputs": [],
   "source": []
  },
  {
   "cell_type": "code",
   "execution_count": null,
   "metadata": {},
   "outputs": [],
   "source": []
  },
  {
   "cell_type": "code",
   "execution_count": null,
   "metadata": {},
   "outputs": [],
   "source": []
  },
  {
   "cell_type": "code",
   "execution_count": null,
   "metadata": {},
   "outputs": [],
   "source": []
  },
  {
   "cell_type": "code",
   "execution_count": null,
   "metadata": {},
   "outputs": [],
   "source": []
  },
  {
   "cell_type": "code",
   "execution_count": null,
   "metadata": {},
   "outputs": [],
   "source": []
  },
  {
   "cell_type": "code",
   "execution_count": null,
   "metadata": {},
   "outputs": [],
   "source": []
  },
  {
   "cell_type": "code",
   "execution_count": null,
   "metadata": {},
   "outputs": [],
   "source": []
  },
  {
   "cell_type": "code",
   "execution_count": null,
   "metadata": {},
   "outputs": [],
   "source": []
  },
  {
   "cell_type": "code",
   "execution_count": null,
   "metadata": {},
   "outputs": [],
   "source": []
  },
  {
   "cell_type": "code",
   "execution_count": null,
   "metadata": {},
   "outputs": [],
   "source": []
  },
  {
   "cell_type": "code",
   "execution_count": null,
   "metadata": {},
   "outputs": [],
   "source": []
  },
  {
   "cell_type": "code",
   "execution_count": null,
   "metadata": {},
   "outputs": [],
   "source": []
  },
  {
   "cell_type": "code",
   "execution_count": null,
   "metadata": {},
   "outputs": [],
   "source": []
  },
  {
   "cell_type": "code",
   "execution_count": null,
   "metadata": {},
   "outputs": [],
   "source": []
  },
  {
   "cell_type": "code",
   "execution_count": null,
   "metadata": {},
   "outputs": [],
   "source": []
  },
  {
   "cell_type": "code",
   "execution_count": null,
   "metadata": {},
   "outputs": [],
   "source": []
  },
  {
   "cell_type": "code",
   "execution_count": null,
   "metadata": {},
   "outputs": [],
   "source": []
  },
  {
   "cell_type": "code",
   "execution_count": null,
   "metadata": {},
   "outputs": [],
   "source": []
  },
  {
   "cell_type": "code",
   "execution_count": null,
   "metadata": {},
   "outputs": [],
   "source": []
  },
  {
   "cell_type": "code",
   "execution_count": null,
   "metadata": {},
   "outputs": [],
   "source": []
  },
  {
   "cell_type": "code",
   "execution_count": null,
   "metadata": {},
   "outputs": [],
   "source": []
  },
  {
   "cell_type": "code",
   "execution_count": null,
   "metadata": {},
   "outputs": [],
   "source": []
  },
  {
   "cell_type": "code",
   "execution_count": null,
   "metadata": {},
   "outputs": [],
   "source": []
  },
  {
   "cell_type": "code",
   "execution_count": null,
   "metadata": {},
   "outputs": [],
   "source": []
  },
  {
   "cell_type": "code",
   "execution_count": null,
   "metadata": {},
   "outputs": [],
   "source": []
  },
  {
   "cell_type": "code",
   "execution_count": null,
   "metadata": {},
   "outputs": [],
   "source": []
  },
  {
   "cell_type": "code",
   "execution_count": null,
   "metadata": {},
   "outputs": [],
   "source": []
  }
 ],
 "metadata": {
  "kernelspec": {
   "display_name": "Python 3",
   "language": "python",
   "name": "python3"
  },
  "language_info": {
   "codemirror_mode": {
    "name": "ipython",
    "version": 3
   },
   "file_extension": ".py",
   "mimetype": "text/x-python",
   "name": "python",
   "nbconvert_exporter": "python",
   "pygments_lexer": "ipython3",
   "version": "3.7.7"
  }
 },
 "nbformat": 4,
 "nbformat_minor": 4
}

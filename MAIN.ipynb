{
 "cells": [
  {
   "cell_type": "markdown",
   "metadata": {},
   "source": [
    "# 🟡Step 0: Imports\n"
   ]
  },
  {
   "cell_type": "markdown",
   "metadata": {},
   "source": [
    "**Most Relevant Papers** <br />\n",
    "https://arxiv.org/pdf/1407.5675.pdf <br />\n",
    "https://arxiv.org/pdf/1701.08784.pdf"
   ]
  },
  {
   "cell_type": "code",
   "execution_count": 7,
   "metadata": {},
   "outputs": [],
   "source": [
    "import numpy as np\n",
    "import scipy as sp\n",
    "import pandas as pd\n",
    "import seaborn as sns\n",
    "import matplotlib.pyplot as plt\n",
    "\n",
    "\n",
    "%matplotlib inline\n",
    "from IPython.display import display\n",
    "import time\n",
    "\n",
    "# Possibly Redundant\n",
    "from scipy import ndimage, misc\n",
    "from skimage.feature import peak_local_max\n",
    "from skimage import data, img_as_float"
   ]
  },
  {
   "cell_type": "markdown",
   "metadata": {},
   "source": [
    "# 🟡Step 1: Read the data (tar.gz file)\n",
    "As a first step, we unzipped the tar.gz file into a .dat file using 7-zip. \n",
    "Then, we convert the .dat file into a string and then into a DataFrame."
   ]
  },
  {
   "cell_type": "markdown",
   "metadata": {},
   "source": [
    ".strip() --> remove spaces on the sides\n",
    "\n",
    ".split() --> separate values by spaces (otherwise we'd get a single conlumn)"
   ]
  },
  {
   "cell_type": "code",
   "execution_count": 8,
   "metadata": {},
   "outputs": [],
   "source": [
    "# Convert .dat file into string (list comprehension)\n",
    "datContent = [i.strip().split() for i in open(\"tth_semihad.dat\").readlines()]\n",
    "\n",
    "# Convert list into DataFrame\n",
    "mydata = pd.DataFrame(datContent)"
   ]
  },
  {
   "cell_type": "markdown",
   "metadata": {},
   "source": [
    "# 🟡Step 2: Explore the data\n",
    "**Physics**\n",
    "\n",
    "Jonas: \"The file was produced from a simulation of pp->tt~H where the top decays hadronically\n",
    "and the anti-top decays leptonically. <br /> I selected events with exactly 1 fat jet with R=1.5.\"\n",
    "\n",
    "\n",
    "**Notes**\n",
    "- The rows represent events (of 1 fat jet each, R = 1.5) \n",
    "- The first column represents the number of constituents of the jet  \n",
    "- The following columns represent the coordinates of the constituents, η, φ, pT, cycling in that order. <br />(e.g. columns 1, 2, 3 are η, φ, pT for the 1st constituent, columns 4, 5, 6 are η, φ, pT for the 2nd constituent etc.)\n",
    "\n",
    "<br />\n",
    "\n",
    "- -infinity < η < infinity \n",
    "- -π < φ < π\n",
    "- pT[GeV] > 0\n",
    "\n"
   ]
  },
  {
   "cell_type": "code",
   "execution_count": 9,
   "metadata": {},
   "outputs": [
    {
     "data": {
      "text/html": [
       "<div>\n",
       "<style scoped>\n",
       "    .dataframe tbody tr th:only-of-type {\n",
       "        vertical-align: middle;\n",
       "    }\n",
       "\n",
       "    .dataframe tbody tr th {\n",
       "        vertical-align: top;\n",
       "    }\n",
       "\n",
       "    .dataframe thead th {\n",
       "        text-align: right;\n",
       "    }\n",
       "</style>\n",
       "<table border=\"1\" class=\"dataframe\">\n",
       "  <thead>\n",
       "    <tr style=\"text-align: right;\">\n",
       "      <th></th>\n",
       "      <th>Const</th>\n",
       "      <th>1</th>\n",
       "      <th>2</th>\n",
       "      <th>3</th>\n",
       "      <th>4</th>\n",
       "      <th>5</th>\n",
       "      <th>6</th>\n",
       "      <th>7</th>\n",
       "      <th>8</th>\n",
       "      <th>9</th>\n",
       "      <th>...</th>\n",
       "      <th>99</th>\n",
       "      <th>100</th>\n",
       "      <th>101</th>\n",
       "      <th>102</th>\n",
       "      <th>103</th>\n",
       "      <th>104</th>\n",
       "      <th>105</th>\n",
       "      <th>106</th>\n",
       "      <th>107</th>\n",
       "      <th>108</th>\n",
       "    </tr>\n",
       "  </thead>\n",
       "  <tbody>\n",
       "    <tr>\n",
       "      <th>0</th>\n",
       "      <td>4</td>\n",
       "      <td>2.30474</td>\n",
       "      <td>0.221042</td>\n",
       "      <td>78.9436</td>\n",
       "      <td>1.00519</td>\n",
       "      <td>0.736657</td>\n",
       "      <td>61.9115</td>\n",
       "      <td>1.25546</td>\n",
       "      <td>0.748395</td>\n",
       "      <td>48.9755</td>\n",
       "      <td>...</td>\n",
       "      <td>None</td>\n",
       "      <td>None</td>\n",
       "      <td>None</td>\n",
       "      <td>None</td>\n",
       "      <td>None</td>\n",
       "      <td>None</td>\n",
       "      <td>None</td>\n",
       "      <td>None</td>\n",
       "      <td>None</td>\n",
       "      <td>None</td>\n",
       "    </tr>\n",
       "    <tr>\n",
       "      <th>1</th>\n",
       "      <td>2</td>\n",
       "      <td>2.35134</td>\n",
       "      <td>-2.18449</td>\n",
       "      <td>176.076</td>\n",
       "      <td>2.46233</td>\n",
       "      <td>-1.50073</td>\n",
       "      <td>47.3355</td>\n",
       "      <td>None</td>\n",
       "      <td>None</td>\n",
       "      <td>None</td>\n",
       "      <td>...</td>\n",
       "      <td>None</td>\n",
       "      <td>None</td>\n",
       "      <td>None</td>\n",
       "      <td>None</td>\n",
       "      <td>None</td>\n",
       "      <td>None</td>\n",
       "      <td>None</td>\n",
       "      <td>None</td>\n",
       "      <td>None</td>\n",
       "      <td>None</td>\n",
       "    </tr>\n",
       "    <tr>\n",
       "      <th>2</th>\n",
       "      <td>6</td>\n",
       "      <td>0.492933</td>\n",
       "      <td>0.766876</td>\n",
       "      <td>51.5247</td>\n",
       "      <td>-0.984489</td>\n",
       "      <td>2.29985</td>\n",
       "      <td>13.7463</td>\n",
       "      <td>0.103217</td>\n",
       "      <td>1.40088</td>\n",
       "      <td>5.31666</td>\n",
       "      <td>...</td>\n",
       "      <td>None</td>\n",
       "      <td>None</td>\n",
       "      <td>None</td>\n",
       "      <td>None</td>\n",
       "      <td>None</td>\n",
       "      <td>None</td>\n",
       "      <td>None</td>\n",
       "      <td>None</td>\n",
       "      <td>None</td>\n",
       "      <td>None</td>\n",
       "    </tr>\n",
       "    <tr>\n",
       "      <th>3</th>\n",
       "      <td>10</td>\n",
       "      <td>-0.624329</td>\n",
       "      <td>0.566723</td>\n",
       "      <td>130.197</td>\n",
       "      <td>-0.602316</td>\n",
       "      <td>0.573666</td>\n",
       "      <td>38.5226</td>\n",
       "      <td>-0.541426</td>\n",
       "      <td>0.449072</td>\n",
       "      <td>15.3244</td>\n",
       "      <td>...</td>\n",
       "      <td>None</td>\n",
       "      <td>None</td>\n",
       "      <td>None</td>\n",
       "      <td>None</td>\n",
       "      <td>None</td>\n",
       "      <td>None</td>\n",
       "      <td>None</td>\n",
       "      <td>None</td>\n",
       "      <td>None</td>\n",
       "      <td>None</td>\n",
       "    </tr>\n",
       "    <tr>\n",
       "      <th>4</th>\n",
       "      <td>15</td>\n",
       "      <td>-0.538961</td>\n",
       "      <td>-0.617644</td>\n",
       "      <td>0.819517</td>\n",
       "      <td>0.527734</td>\n",
       "      <td>1.53319</td>\n",
       "      <td>1.94989</td>\n",
       "      <td>0.20174</td>\n",
       "      <td>0.916744</td>\n",
       "      <td>5.63418</td>\n",
       "      <td>...</td>\n",
       "      <td>None</td>\n",
       "      <td>None</td>\n",
       "      <td>None</td>\n",
       "      <td>None</td>\n",
       "      <td>None</td>\n",
       "      <td>None</td>\n",
       "      <td>None</td>\n",
       "      <td>None</td>\n",
       "      <td>None</td>\n",
       "      <td>None</td>\n",
       "    </tr>\n",
       "  </tbody>\n",
       "</table>\n",
       "<p>5 rows × 109 columns</p>\n",
       "</div>"
      ],
      "text/plain": [
       "  Const          1          2         3          4         5        6  \\\n",
       "0     4    2.30474   0.221042   78.9436    1.00519  0.736657  61.9115   \n",
       "1     2    2.35134   -2.18449   176.076    2.46233  -1.50073  47.3355   \n",
       "2     6   0.492933   0.766876   51.5247  -0.984489   2.29985  13.7463   \n",
       "3    10  -0.624329   0.566723   130.197  -0.602316  0.573666  38.5226   \n",
       "4    15  -0.538961  -0.617644  0.819517   0.527734   1.53319  1.94989   \n",
       "\n",
       "           7         8        9  ...    99   100   101   102   103   104  \\\n",
       "0    1.25546  0.748395  48.9755  ...  None  None  None  None  None  None   \n",
       "1       None      None     None  ...  None  None  None  None  None  None   \n",
       "2   0.103217   1.40088  5.31666  ...  None  None  None  None  None  None   \n",
       "3  -0.541426  0.449072  15.3244  ...  None  None  None  None  None  None   \n",
       "4    0.20174  0.916744  5.63418  ...  None  None  None  None  None  None   \n",
       "\n",
       "    105   106   107   108  \n",
       "0  None  None  None  None  \n",
       "1  None  None  None  None  \n",
       "2  None  None  None  None  \n",
       "3  None  None  None  None  \n",
       "4  None  None  None  None  \n",
       "\n",
       "[5 rows x 109 columns]"
      ]
     },
     "metadata": {},
     "output_type": "display_data"
    },
    {
     "name": "stdout",
     "output_type": "stream",
     "text": [
      "There are 12177 rows (events).\n",
      "The maximum number of constituents in an event is 36.\n"
     ]
    }
   ],
   "source": [
    "# Display the data\n",
    "mydata = mydata.rename(columns={0: 'Const'})\n",
    "display(mydata.head())\n",
    "\n",
    "# Print statements\n",
    "rows = mydata.shape[0]\n",
    "print('There are {} rows (events).'.format(rows))\n",
    "print('The maximum number of constituents in an event is {}.'.format((mydata.shape[1] - 1) // 3))\n",
    "\n",
    "# Display data types\n",
    "#print('\\nData Types: \\n', mydata.dtypes)\n",
    "\n",
    "# Descriptive statistics on data\n",
    "#mydata.describe()"
   ]
  },
  {
   "cell_type": "markdown",
   "metadata": {},
   "source": [
    "# 🟡Step 3: Construct Average Jet Image\n",
    "\n",
    "**Jonas:**\n",
    "\n",
    "The data in each row represents all the constituents of a fat jet in the original (φ,η,pT) coordinate system of the detector. \n",
    "You should now transform all the constituents of one fat jet (i.e. individually for each row in the data file) into a new coordinate system \n",
    "(φ',η’,pT). Consequently you transform/bin this information into a two-dimensional image/Heat Map.   \n",
    "\n",
    "The steps in detail are\n",
    "\n",
    "1. Find the constituent with the highest pT\n",
    "2. Choose the center of the new coordinate system such that this constituent has the coordinates (φ’,η’)=0. This operation corresponds to rotating and boosting along the beam direction to center the jet.  \n",
    "3. Rotate all constituents around (φ’,η’)=0 such that the constituent with the 2nd highest pT is at 12 o’clock, i.e. at  (φ’,η’)=(0,e) with e > 0.\n",
    "4. Flip all the constituents such that the constituents with the 3rd highest pT is on the right, i.e. at (φ’,η’)=(f,e) with f > 0\n",
    "5. Define a 2-dim image with 40x40 pixels which correspond to η', φ' ∈ (−R, R). The jets we are looking at are approximately cone-shaped with radius R. I.e. all the constituents of the jet should end up within this image. For each pixel you now store the sum of the pT of all constituents that are located within this pixel. I.e. you discretise the (φ’,η’) coordinates into pixels and the intensity of the pixel corresponds to the sum of the energy of all constituents in the pixel.\n",
    "\n",
    "As a very first step you can plot the images constructed from just steps 1)+2)+5) for a couple of jets. All the images will only have a few pixels filled. Subsequently you should plot the sum of all these images. This should give a broad peak at the center. \n",
    "\n",
    "Finally you should apply 1)-5) and plot the sum. This should hopefully look like the image from the reference. \n",
    "\n"
   ]
  },
  {
   "cell_type": "markdown",
   "metadata": {},
   "source": [
    "---"
   ]
  },
  {
   "cell_type": "markdown",
   "metadata": {},
   "source": [
    "### 🔵 1. Extract Maxima\n",
    "For each row, extract the maximum pT and its corresponding η and φ. <br />\n",
    "We also extract the 2nd and 3rd maximum pT's for future use. "
   ]
  },
  {
   "cell_type": "markdown",
   "metadata": {},
   "source": [
    "🔴 Mild Prep"
   ]
  },
  {
   "cell_type": "code",
   "execution_count": 10,
   "metadata": {},
   "outputs": [],
   "source": [
    "# Separate Constituents from Coordinates\n",
    "const = mydata['Const']\n",
    "mydata = mydata.drop('Const', axis=1)\n",
    "\n",
    "# Replace NaN with 0\n",
    "mydata = mydata.fillna(0)\n",
    "\n",
    "# Convert values to floats\n",
    "mydata = mydata.astype(float)"
   ]
  },
  {
   "cell_type": "markdown",
   "metadata": {},
   "source": [
    "---"
   ]
  },
  {
   "cell_type": "markdown",
   "metadata": {},
   "source": [
    "🔴 Separate η, φ, p "
   ]
  },
  {
   "cell_type": "code",
   "execution_count": 11,
   "metadata": {},
   "outputs": [],
   "source": [
    "# Separate η, φ, pT\n",
    "hdata = mydata[mydata.columns[::3]]\n",
    "fdata = mydata[mydata.columns[1::3]]\n",
    "pdata1 = mydata[mydata.columns[2::3]]"
   ]
  },
  {
   "cell_type": "markdown",
   "metadata": {},
   "source": [
    "🔴 Extract pT, η, φ for the three maximum pTs"
   ]
  },
  {
   "cell_type": "code",
   "execution_count": null,
   "metadata": {},
   "outputs": [
    {
     "name": "stdout",
     "output_type": "stream",
     "text": [
      "Time taken to extract 1st pT: 8.94s\n"
     ]
    }
   ],
   "source": [
    "# EXTRACT 1ST MAX pT\n",
    "start = time.time()\n",
    "# 1. Extract column number of maximum pT\n",
    "maxid1 = list(pdata1.idxmax(axis=1))\n",
    "maxlist1 = []\n",
    "\n",
    "# 2. Iterate through all rows (events) and all max pT columns to extract η, φ, pT\n",
    "for i, j in zip(range(rows), maxid1):\n",
    "    if pdata1.max(axis=1)[i] != 0:                                                         # Brief explanation of if statement below)\n",
    "        maxlist1.append([mydata.iloc[i, j-1], mydata.iloc[i, j-2], mydata.iloc[i, j-3]])   # From original DF, add to list the max pT, and its η, φ\n",
    "    else:\n",
    "        maxlist1.append([0., mydata.iloc[i, j-2], mydata.iloc[i, j-3]])                    # If max pT is 0, then add it as 0 and not the first value\n",
    "\n",
    "# 3. Create & Display dataframe of maxima, η, φ\n",
    "mydata_max1 = pd.DataFrame(maxlist1, columns=['pT', 'φ', 'η'])\n",
    "#display(mydata_max1)\n",
    "end = time.time()\n",
    "print('Time taken to extract 1st pT: {0:.2f}s'.format(end - start))\n",
    "\n",
    "####################################################################################################################################\n",
    "\n",
    "# EXTRACT 2ND MAX pT\n",
    "start = time.time()\n",
    "# 0. Set Max pT to 0 to find next Max pT\n",
    "pdata2 = pdata1.copy(deep=True)\n",
    "for i, j in zip(range(rows), maxid1):\n",
    "    pdata2.loc[i, j] = 0\n",
    "#display(pdata2)\n",
    "\n",
    "# 1. Extract column number of maximum pT\n",
    "maxid2 = list(pdata2.idxmax(axis=1))\n",
    "maxlist2 = []\n",
    "# 2. Iterate through all rows(events) and all max pT columns to extract η, φ, pT\n",
    "for i, j in zip(range(rows), maxid2):\n",
    "    if pdata2.max(axis=1)[i] != 0:\n",
    "        maxlist2.append([mydata.iloc[i, j-1], mydata.iloc[i, j-2], mydata.iloc[i, j-3]])   # From original DF, add to list the max pT, and its η, φ\n",
    "    else:\n",
    "        maxlist2.append([0., mydata.iloc[i, j-2], mydata.iloc[i, j-3]])                    # If max pT is 0, then add it as 0 and not the first value\n",
    "\n",
    "# 3. Create & Display dataframe of maxima, η, φ\n",
    "mydata_max2 = pd.DataFrame(maxlist2, columns=['pT', 'φ', 'η'])\n",
    "#display(mydata_max2)\n",
    "end = time.time()\n",
    "print('Time taken to extract 2nd pT: {0:.2f}s'.format(end - start))\n",
    "\n",
    "####################################################################################################################################\n",
    "\n",
    "# EXTRACT 3RD MAX pT\n",
    "start = time.time()\n",
    "# 0. Set Max pT to 0 to find next Max pT\n",
    "pdata3 = pdata2.copy(deep=True)\n",
    "for i, j in zip(range(rows), maxid2):\n",
    "    pdata3.loc[i, j] = 0\n",
    "#display(pdata3)\n",
    "\n",
    "# 1. Extract column number of maximum pT\n",
    "maxid3 = list(pdata3.idxmax(axis=1))\n",
    "maxlist3 = []\n",
    "\n",
    "# 2. Iterate through all rows(events) and all max pT columns to extract η, φ, pT\n",
    "for i, j in zip(range(rows), maxid3):\n",
    "    if pdata3.max(axis=1)[i] != 0:\n",
    "        maxlist3.append([mydata.iloc[i, j-1], mydata.iloc[i, j-2], mydata.iloc[i, j-3]])   # From original DF, add to list the max pT, and its η, φ\n",
    "    else:\n",
    "        maxlist3.append([0., mydata.iloc[i, j-2], mydata.iloc[i, j-3]])                    # If max pT is 0, then add it as 0 and not the first value\n",
    "\n",
    "# 3. Create & Display dataframe of maxima, η, φ\n",
    "mydata_max3 = pd.DataFrame(maxlist3, columns=['pT', 'φ', 'η'])\n",
    "#display(mydata_max3)\n",
    "end = time.time()\n",
    "print('Time taken to extract 3rd pT: {0:.2f}s'.format(end - start))"
   ]
  },
  {
   "cell_type": "markdown",
   "metadata": {},
   "source": [
    "**Why the if statement in the loop?** <br />\n",
    "Because if maximum pT is 0 in the pdata dataframe, it picks the ID of the first pT by default as the max (because they're all 0). <br />\n",
    "Then, it goes to the non-zero'd mydata DF and adds its non-zero pT as the max, when the value of that max should clearly have been 0.\n",
    "\n",
    "So the if statement fixes this: <br />\n",
    "- If max pT != 0, then add it as normal.\n",
    "- If max pT = 0, then add '0' as its value instead. (with the coordinates of the first pT, which is incorrect, but this doesn't matter since pT = 0 are not taken into account in the image) <br />\n"
   ]
  },
  {
   "cell_type": "markdown",
   "metadata": {},
   "source": [
    "---"
   ]
  },
  {
   "cell_type": "markdown",
   "metadata": {},
   "source": [
    "### 🔵2. Shift: Centre New Coordinate System\n",
    "For each row, we centre a new coordinate system so that the highest pT constituent's coordinates are (φ', η') = (0, 0). <br />\n",
    "This corresponds to rotating and boosting along the beam direction to center the jet.\n",
    "\n",
    "How does η transform? We need a Lorentz Transformation. \n",
    "\n",
    "**Papers** (E) <br />\n",
    "Histograms binned in\n",
    "either the angular separation of events or the rapidity separation of events can\n",
    "be contributed to by events whose centre of mass frames are boosted by arbitrary velocities with respect to the rest frame of the detector, the lab frame.\n",
    "The resulting histograms are undistorted by these centre of mass frame boosts\n",
    "parallel to the beam axis, as the dependent variable is invariant with respect\n",
    "to this sub–class of Lorentz boosts.\n",
    "\n",
    "Paper (F):\n",
    "\n",
    "![image](h1.png)\n",
    "![image](h2.png)"
   ]
  },
  {
   "cell_type": "code",
   "execution_count": 7,
   "metadata": {},
   "outputs": [
    {
     "data": {
      "text/html": [
       "<div>\n",
       "<style scoped>\n",
       "    .dataframe tbody tr th:only-of-type {\n",
       "        vertical-align: middle;\n",
       "    }\n",
       "\n",
       "    .dataframe tbody tr th {\n",
       "        vertical-align: top;\n",
       "    }\n",
       "\n",
       "    .dataframe thead th {\n",
       "        text-align: right;\n",
       "    }\n",
       "</style>\n",
       "<table border=\"1\" class=\"dataframe\">\n",
       "  <thead>\n",
       "    <tr style=\"text-align: right;\">\n",
       "      <th></th>\n",
       "      <th>1</th>\n",
       "      <th>2</th>\n",
       "      <th>3</th>\n",
       "      <th>4</th>\n",
       "      <th>5</th>\n",
       "      <th>6</th>\n",
       "      <th>7</th>\n",
       "      <th>8</th>\n",
       "      <th>9</th>\n",
       "      <th>10</th>\n",
       "      <th>...</th>\n",
       "      <th>99</th>\n",
       "      <th>100</th>\n",
       "      <th>101</th>\n",
       "      <th>102</th>\n",
       "      <th>103</th>\n",
       "      <th>104</th>\n",
       "      <th>105</th>\n",
       "      <th>106</th>\n",
       "      <th>107</th>\n",
       "      <th>108</th>\n",
       "    </tr>\n",
       "  </thead>\n",
       "  <tbody>\n",
       "    <tr>\n",
       "      <th>0</th>\n",
       "      <td>2.304740</td>\n",
       "      <td>0.221042</td>\n",
       "      <td>78.943600</td>\n",
       "      <td>1.005190</td>\n",
       "      <td>0.736657</td>\n",
       "      <td>61.91150</td>\n",
       "      <td>1.255460</td>\n",
       "      <td>0.748395</td>\n",
       "      <td>48.97550</td>\n",
       "      <td>1.313450</td>\n",
       "      <td>...</td>\n",
       "      <td>0.0</td>\n",
       "      <td>0.0</td>\n",
       "      <td>0.0</td>\n",
       "      <td>0.0</td>\n",
       "      <td>0.0</td>\n",
       "      <td>0.0</td>\n",
       "      <td>0.0</td>\n",
       "      <td>0.0</td>\n",
       "      <td>0.0</td>\n",
       "      <td>0.0</td>\n",
       "    </tr>\n",
       "    <tr>\n",
       "      <th>1</th>\n",
       "      <td>2.351340</td>\n",
       "      <td>-2.184490</td>\n",
       "      <td>176.076000</td>\n",
       "      <td>2.462330</td>\n",
       "      <td>-1.500730</td>\n",
       "      <td>47.33550</td>\n",
       "      <td>0.000000</td>\n",
       "      <td>0.000000</td>\n",
       "      <td>0.00000</td>\n",
       "      <td>0.000000</td>\n",
       "      <td>...</td>\n",
       "      <td>0.0</td>\n",
       "      <td>0.0</td>\n",
       "      <td>0.0</td>\n",
       "      <td>0.0</td>\n",
       "      <td>0.0</td>\n",
       "      <td>0.0</td>\n",
       "      <td>0.0</td>\n",
       "      <td>0.0</td>\n",
       "      <td>0.0</td>\n",
       "      <td>0.0</td>\n",
       "    </tr>\n",
       "    <tr>\n",
       "      <th>2</th>\n",
       "      <td>0.492933</td>\n",
       "      <td>0.766876</td>\n",
       "      <td>51.524700</td>\n",
       "      <td>-0.984489</td>\n",
       "      <td>2.299850</td>\n",
       "      <td>13.74630</td>\n",
       "      <td>0.103217</td>\n",
       "      <td>1.400880</td>\n",
       "      <td>5.31666</td>\n",
       "      <td>-1.033300</td>\n",
       "      <td>...</td>\n",
       "      <td>0.0</td>\n",
       "      <td>0.0</td>\n",
       "      <td>0.0</td>\n",
       "      <td>0.0</td>\n",
       "      <td>0.0</td>\n",
       "      <td>0.0</td>\n",
       "      <td>0.0</td>\n",
       "      <td>0.0</td>\n",
       "      <td>0.0</td>\n",
       "      <td>0.0</td>\n",
       "    </tr>\n",
       "    <tr>\n",
       "      <th>3</th>\n",
       "      <td>-0.624329</td>\n",
       "      <td>0.566723</td>\n",
       "      <td>130.197000</td>\n",
       "      <td>-0.602316</td>\n",
       "      <td>0.573666</td>\n",
       "      <td>38.52260</td>\n",
       "      <td>-0.541426</td>\n",
       "      <td>0.449072</td>\n",
       "      <td>15.32440</td>\n",
       "      <td>-0.653142</td>\n",
       "      <td>...</td>\n",
       "      <td>0.0</td>\n",
       "      <td>0.0</td>\n",
       "      <td>0.0</td>\n",
       "      <td>0.0</td>\n",
       "      <td>0.0</td>\n",
       "      <td>0.0</td>\n",
       "      <td>0.0</td>\n",
       "      <td>0.0</td>\n",
       "      <td>0.0</td>\n",
       "      <td>0.0</td>\n",
       "    </tr>\n",
       "    <tr>\n",
       "      <th>4</th>\n",
       "      <td>-0.538961</td>\n",
       "      <td>-0.617644</td>\n",
       "      <td>0.819517</td>\n",
       "      <td>0.527734</td>\n",
       "      <td>1.533190</td>\n",
       "      <td>1.94989</td>\n",
       "      <td>0.201740</td>\n",
       "      <td>0.916744</td>\n",
       "      <td>5.63418</td>\n",
       "      <td>0.225016</td>\n",
       "      <td>...</td>\n",
       "      <td>0.0</td>\n",
       "      <td>0.0</td>\n",
       "      <td>0.0</td>\n",
       "      <td>0.0</td>\n",
       "      <td>0.0</td>\n",
       "      <td>0.0</td>\n",
       "      <td>0.0</td>\n",
       "      <td>0.0</td>\n",
       "      <td>0.0</td>\n",
       "      <td>0.0</td>\n",
       "    </tr>\n",
       "    <tr>\n",
       "      <th>...</th>\n",
       "      <td>...</td>\n",
       "      <td>...</td>\n",
       "      <td>...</td>\n",
       "      <td>...</td>\n",
       "      <td>...</td>\n",
       "      <td>...</td>\n",
       "      <td>...</td>\n",
       "      <td>...</td>\n",
       "      <td>...</td>\n",
       "      <td>...</td>\n",
       "      <td>...</td>\n",
       "      <td>...</td>\n",
       "      <td>...</td>\n",
       "      <td>...</td>\n",
       "      <td>...</td>\n",
       "      <td>...</td>\n",
       "      <td>...</td>\n",
       "      <td>...</td>\n",
       "      <td>...</td>\n",
       "      <td>...</td>\n",
       "      <td>...</td>\n",
       "    </tr>\n",
       "    <tr>\n",
       "      <th>12172</th>\n",
       "      <td>0.920302</td>\n",
       "      <td>-1.164120</td>\n",
       "      <td>2.733400</td>\n",
       "      <td>1.296590</td>\n",
       "      <td>-0.802425</td>\n",
       "      <td>31.02190</td>\n",
       "      <td>1.439240</td>\n",
       "      <td>-0.331847</td>\n",
       "      <td>41.04580</td>\n",
       "      <td>1.458750</td>\n",
       "      <td>...</td>\n",
       "      <td>0.0</td>\n",
       "      <td>0.0</td>\n",
       "      <td>0.0</td>\n",
       "      <td>0.0</td>\n",
       "      <td>0.0</td>\n",
       "      <td>0.0</td>\n",
       "      <td>0.0</td>\n",
       "      <td>0.0</td>\n",
       "      <td>0.0</td>\n",
       "      <td>0.0</td>\n",
       "    </tr>\n",
       "    <tr>\n",
       "      <th>12173</th>\n",
       "      <td>-3.375520</td>\n",
       "      <td>0.408371</td>\n",
       "      <td>1.104380</td>\n",
       "      <td>-2.201780</td>\n",
       "      <td>-0.384944</td>\n",
       "      <td>9.30608</td>\n",
       "      <td>-2.200330</td>\n",
       "      <td>-0.250145</td>\n",
       "      <td>69.29370</td>\n",
       "      <td>-2.256840</td>\n",
       "      <td>...</td>\n",
       "      <td>0.0</td>\n",
       "      <td>0.0</td>\n",
       "      <td>0.0</td>\n",
       "      <td>0.0</td>\n",
       "      <td>0.0</td>\n",
       "      <td>0.0</td>\n",
       "      <td>0.0</td>\n",
       "      <td>0.0</td>\n",
       "      <td>0.0</td>\n",
       "      <td>0.0</td>\n",
       "    </tr>\n",
       "    <tr>\n",
       "      <th>12174</th>\n",
       "      <td>1.392990</td>\n",
       "      <td>-0.378084</td>\n",
       "      <td>121.604000</td>\n",
       "      <td>0.581470</td>\n",
       "      <td>-0.162943</td>\n",
       "      <td>6.92172</td>\n",
       "      <td>0.480303</td>\n",
       "      <td>-0.159881</td>\n",
       "      <td>15.99220</td>\n",
       "      <td>0.283491</td>\n",
       "      <td>...</td>\n",
       "      <td>0.0</td>\n",
       "      <td>0.0</td>\n",
       "      <td>0.0</td>\n",
       "      <td>0.0</td>\n",
       "      <td>0.0</td>\n",
       "      <td>0.0</td>\n",
       "      <td>0.0</td>\n",
       "      <td>0.0</td>\n",
       "      <td>0.0</td>\n",
       "      <td>0.0</td>\n",
       "    </tr>\n",
       "    <tr>\n",
       "      <th>12175</th>\n",
       "      <td>1.726060</td>\n",
       "      <td>2.992400</td>\n",
       "      <td>2.487510</td>\n",
       "      <td>1.110570</td>\n",
       "      <td>2.811820</td>\n",
       "      <td>1.12000</td>\n",
       "      <td>1.192300</td>\n",
       "      <td>2.665060</td>\n",
       "      <td>148.50200</td>\n",
       "      <td>1.248160</td>\n",
       "      <td>...</td>\n",
       "      <td>0.0</td>\n",
       "      <td>0.0</td>\n",
       "      <td>0.0</td>\n",
       "      <td>0.0</td>\n",
       "      <td>0.0</td>\n",
       "      <td>0.0</td>\n",
       "      <td>0.0</td>\n",
       "      <td>0.0</td>\n",
       "      <td>0.0</td>\n",
       "      <td>0.0</td>\n",
       "    </tr>\n",
       "    <tr>\n",
       "      <th>12176</th>\n",
       "      <td>0.945117</td>\n",
       "      <td>-1.712760</td>\n",
       "      <td>106.430000</td>\n",
       "      <td>0.758524</td>\n",
       "      <td>-2.142970</td>\n",
       "      <td>300.44300</td>\n",
       "      <td>0.779592</td>\n",
       "      <td>-2.206470</td>\n",
       "      <td>20.90690</td>\n",
       "      <td>1.556420</td>\n",
       "      <td>...</td>\n",
       "      <td>0.0</td>\n",
       "      <td>0.0</td>\n",
       "      <td>0.0</td>\n",
       "      <td>0.0</td>\n",
       "      <td>0.0</td>\n",
       "      <td>0.0</td>\n",
       "      <td>0.0</td>\n",
       "      <td>0.0</td>\n",
       "      <td>0.0</td>\n",
       "      <td>0.0</td>\n",
       "    </tr>\n",
       "  </tbody>\n",
       "</table>\n",
       "<p>12177 rows × 108 columns</p>\n",
       "</div>"
      ],
      "text/plain": [
       "            1         2           3         4         5          6    \\\n",
       "0      2.304740  0.221042   78.943600  1.005190  0.736657   61.91150   \n",
       "1      2.351340 -2.184490  176.076000  2.462330 -1.500730   47.33550   \n",
       "2      0.492933  0.766876   51.524700 -0.984489  2.299850   13.74630   \n",
       "3     -0.624329  0.566723  130.197000 -0.602316  0.573666   38.52260   \n",
       "4     -0.538961 -0.617644    0.819517  0.527734  1.533190    1.94989   \n",
       "...         ...       ...         ...       ...       ...        ...   \n",
       "12172  0.920302 -1.164120    2.733400  1.296590 -0.802425   31.02190   \n",
       "12173 -3.375520  0.408371    1.104380 -2.201780 -0.384944    9.30608   \n",
       "12174  1.392990 -0.378084  121.604000  0.581470 -0.162943    6.92172   \n",
       "12175  1.726060  2.992400    2.487510  1.110570  2.811820    1.12000   \n",
       "12176  0.945117 -1.712760  106.430000  0.758524 -2.142970  300.44300   \n",
       "\n",
       "            7         8          9         10   ...  99   100  101  102  103  \\\n",
       "0      1.255460  0.748395   48.97550  1.313450  ...  0.0  0.0  0.0  0.0  0.0   \n",
       "1      0.000000  0.000000    0.00000  0.000000  ...  0.0  0.0  0.0  0.0  0.0   \n",
       "2      0.103217  1.400880    5.31666 -1.033300  ...  0.0  0.0  0.0  0.0  0.0   \n",
       "3     -0.541426  0.449072   15.32440 -0.653142  ...  0.0  0.0  0.0  0.0  0.0   \n",
       "4      0.201740  0.916744    5.63418  0.225016  ...  0.0  0.0  0.0  0.0  0.0   \n",
       "...         ...       ...        ...       ...  ...  ...  ...  ...  ...  ...   \n",
       "12172  1.439240 -0.331847   41.04580  1.458750  ...  0.0  0.0  0.0  0.0  0.0   \n",
       "12173 -2.200330 -0.250145   69.29370 -2.256840  ...  0.0  0.0  0.0  0.0  0.0   \n",
       "12174  0.480303 -0.159881   15.99220  0.283491  ...  0.0  0.0  0.0  0.0  0.0   \n",
       "12175  1.192300  2.665060  148.50200  1.248160  ...  0.0  0.0  0.0  0.0  0.0   \n",
       "12176  0.779592 -2.206470   20.90690  1.556420  ...  0.0  0.0  0.0  0.0  0.0   \n",
       "\n",
       "       104  105  106  107  108  \n",
       "0      0.0  0.0  0.0  0.0  0.0  \n",
       "1      0.0  0.0  0.0  0.0  0.0  \n",
       "2      0.0  0.0  0.0  0.0  0.0  \n",
       "3      0.0  0.0  0.0  0.0  0.0  \n",
       "4      0.0  0.0  0.0  0.0  0.0  \n",
       "...    ...  ...  ...  ...  ...  \n",
       "12172  0.0  0.0  0.0  0.0  0.0  \n",
       "12173  0.0  0.0  0.0  0.0  0.0  \n",
       "12174  0.0  0.0  0.0  0.0  0.0  \n",
       "12175  0.0  0.0  0.0  0.0  0.0  \n",
       "12176  0.0  0.0  0.0  0.0  0.0  \n",
       "\n",
       "[12177 rows x 108 columns]"
      ]
     },
     "execution_count": 7,
     "metadata": {},
     "output_type": "execute_result"
    }
   ],
   "source": [
    "mydata"
   ]
  },
  {
   "cell_type": "code",
   "execution_count": 8,
   "metadata": {},
   "outputs": [
    {
     "name": "stdout",
     "output_type": "stream",
     "text": [
      "Time taken to centre new coordinate system: 6.63s\n"
     ]
    }
   ],
   "source": [
    "# Create centred dataframe\n",
    "mydata_prime = mydata.copy(deep=True)\n",
    "\n",
    "start = time.time()\n",
    "\n",
    "# Centre new coordinate system. i.e. For each row, subtract the φ of its max pT from all φ\n",
    "for i, j, k in zip(range(rows), mydata_max1['η'], mydata_max1['φ']):\n",
    "    mydata_prime.iloc[i][::3] -= j   # This was for η, but it shouldn't be transformed this way\n",
    "    mydata_prime.iloc[i][1::3] -= k   # This is for φ \n",
    "    \n",
    "end = time.time()\n",
    "print('Time taken to centre new coordinate system: {0:.2f}s'.format(end - start))"
   ]
  },
  {
   "cell_type": "code",
   "execution_count": 9,
   "metadata": {},
   "outputs": [
    {
     "data": {
      "text/html": [
       "<div>\n",
       "<style scoped>\n",
       "    .dataframe tbody tr th:only-of-type {\n",
       "        vertical-align: middle;\n",
       "    }\n",
       "\n",
       "    .dataframe tbody tr th {\n",
       "        vertical-align: top;\n",
       "    }\n",
       "\n",
       "    .dataframe thead th {\n",
       "        text-align: right;\n",
       "    }\n",
       "</style>\n",
       "<table border=\"1\" class=\"dataframe\">\n",
       "  <thead>\n",
       "    <tr style=\"text-align: right;\">\n",
       "      <th></th>\n",
       "      <th>1</th>\n",
       "      <th>2</th>\n",
       "      <th>3</th>\n",
       "      <th>4</th>\n",
       "      <th>5</th>\n",
       "      <th>6</th>\n",
       "      <th>7</th>\n",
       "      <th>8</th>\n",
       "      <th>9</th>\n",
       "      <th>10</th>\n",
       "      <th>...</th>\n",
       "      <th>99</th>\n",
       "      <th>100</th>\n",
       "      <th>101</th>\n",
       "      <th>102</th>\n",
       "      <th>103</th>\n",
       "      <th>104</th>\n",
       "      <th>105</th>\n",
       "      <th>106</th>\n",
       "      <th>107</th>\n",
       "      <th>108</th>\n",
       "    </tr>\n",
       "  </thead>\n",
       "  <tbody>\n",
       "    <tr>\n",
       "      <th>0</th>\n",
       "      <td>2.304740</td>\n",
       "      <td>0.000000</td>\n",
       "      <td>78.943600</td>\n",
       "      <td>1.005190</td>\n",
       "      <td>0.515615</td>\n",
       "      <td>61.91150</td>\n",
       "      <td>1.255460</td>\n",
       "      <td>0.527353</td>\n",
       "      <td>48.97550</td>\n",
       "      <td>1.313450</td>\n",
       "      <td>...</td>\n",
       "      <td>0.0</td>\n",
       "      <td>0.0</td>\n",
       "      <td>-0.221042</td>\n",
       "      <td>0.0</td>\n",
       "      <td>0.0</td>\n",
       "      <td>-0.221042</td>\n",
       "      <td>0.0</td>\n",
       "      <td>0.0</td>\n",
       "      <td>-0.221042</td>\n",
       "      <td>0.0</td>\n",
       "    </tr>\n",
       "    <tr>\n",
       "      <th>1</th>\n",
       "      <td>2.351340</td>\n",
       "      <td>0.000000</td>\n",
       "      <td>176.076000</td>\n",
       "      <td>2.462330</td>\n",
       "      <td>0.683760</td>\n",
       "      <td>47.33550</td>\n",
       "      <td>0.000000</td>\n",
       "      <td>2.184490</td>\n",
       "      <td>0.00000</td>\n",
       "      <td>0.000000</td>\n",
       "      <td>...</td>\n",
       "      <td>0.0</td>\n",
       "      <td>0.0</td>\n",
       "      <td>2.184490</td>\n",
       "      <td>0.0</td>\n",
       "      <td>0.0</td>\n",
       "      <td>2.184490</td>\n",
       "      <td>0.0</td>\n",
       "      <td>0.0</td>\n",
       "      <td>2.184490</td>\n",
       "      <td>0.0</td>\n",
       "    </tr>\n",
       "    <tr>\n",
       "      <th>2</th>\n",
       "      <td>0.492933</td>\n",
       "      <td>-0.629554</td>\n",
       "      <td>51.524700</td>\n",
       "      <td>-0.984489</td>\n",
       "      <td>0.903420</td>\n",
       "      <td>13.74630</td>\n",
       "      <td>0.103217</td>\n",
       "      <td>0.004450</td>\n",
       "      <td>5.31666</td>\n",
       "      <td>-1.033300</td>\n",
       "      <td>...</td>\n",
       "      <td>0.0</td>\n",
       "      <td>0.0</td>\n",
       "      <td>-1.396430</td>\n",
       "      <td>0.0</td>\n",
       "      <td>0.0</td>\n",
       "      <td>-1.396430</td>\n",
       "      <td>0.0</td>\n",
       "      <td>0.0</td>\n",
       "      <td>-1.396430</td>\n",
       "      <td>0.0</td>\n",
       "    </tr>\n",
       "    <tr>\n",
       "      <th>3</th>\n",
       "      <td>-0.624329</td>\n",
       "      <td>0.000000</td>\n",
       "      <td>130.197000</td>\n",
       "      <td>-0.602316</td>\n",
       "      <td>0.006943</td>\n",
       "      <td>38.52260</td>\n",
       "      <td>-0.541426</td>\n",
       "      <td>-0.117651</td>\n",
       "      <td>15.32440</td>\n",
       "      <td>-0.653142</td>\n",
       "      <td>...</td>\n",
       "      <td>0.0</td>\n",
       "      <td>0.0</td>\n",
       "      <td>-0.566723</td>\n",
       "      <td>0.0</td>\n",
       "      <td>0.0</td>\n",
       "      <td>-0.566723</td>\n",
       "      <td>0.0</td>\n",
       "      <td>0.0</td>\n",
       "      <td>-0.566723</td>\n",
       "      <td>0.0</td>\n",
       "    </tr>\n",
       "    <tr>\n",
       "      <th>4</th>\n",
       "      <td>-0.538961</td>\n",
       "      <td>-0.922292</td>\n",
       "      <td>0.819517</td>\n",
       "      <td>0.527734</td>\n",
       "      <td>1.228542</td>\n",
       "      <td>1.94989</td>\n",
       "      <td>0.201740</td>\n",
       "      <td>0.612096</td>\n",
       "      <td>5.63418</td>\n",
       "      <td>0.225016</td>\n",
       "      <td>...</td>\n",
       "      <td>0.0</td>\n",
       "      <td>0.0</td>\n",
       "      <td>-0.304648</td>\n",
       "      <td>0.0</td>\n",
       "      <td>0.0</td>\n",
       "      <td>-0.304648</td>\n",
       "      <td>0.0</td>\n",
       "      <td>0.0</td>\n",
       "      <td>-0.304648</td>\n",
       "      <td>0.0</td>\n",
       "    </tr>\n",
       "    <tr>\n",
       "      <th>...</th>\n",
       "      <td>...</td>\n",
       "      <td>...</td>\n",
       "      <td>...</td>\n",
       "      <td>...</td>\n",
       "      <td>...</td>\n",
       "      <td>...</td>\n",
       "      <td>...</td>\n",
       "      <td>...</td>\n",
       "      <td>...</td>\n",
       "      <td>...</td>\n",
       "      <td>...</td>\n",
       "      <td>...</td>\n",
       "      <td>...</td>\n",
       "      <td>...</td>\n",
       "      <td>...</td>\n",
       "      <td>...</td>\n",
       "      <td>...</td>\n",
       "      <td>...</td>\n",
       "      <td>...</td>\n",
       "      <td>...</td>\n",
       "      <td>...</td>\n",
       "    </tr>\n",
       "    <tr>\n",
       "      <th>12172</th>\n",
       "      <td>0.920302</td>\n",
       "      <td>-0.658336</td>\n",
       "      <td>2.733400</td>\n",
       "      <td>1.296590</td>\n",
       "      <td>-0.296641</td>\n",
       "      <td>31.02190</td>\n",
       "      <td>1.439240</td>\n",
       "      <td>0.173937</td>\n",
       "      <td>41.04580</td>\n",
       "      <td>1.458750</td>\n",
       "      <td>...</td>\n",
       "      <td>0.0</td>\n",
       "      <td>0.0</td>\n",
       "      <td>0.505784</td>\n",
       "      <td>0.0</td>\n",
       "      <td>0.0</td>\n",
       "      <td>0.505784</td>\n",
       "      <td>0.0</td>\n",
       "      <td>0.0</td>\n",
       "      <td>0.505784</td>\n",
       "      <td>0.0</td>\n",
       "    </tr>\n",
       "    <tr>\n",
       "      <th>12173</th>\n",
       "      <td>-3.375520</td>\n",
       "      <td>0.481575</td>\n",
       "      <td>1.104380</td>\n",
       "      <td>-2.201780</td>\n",
       "      <td>-0.311740</td>\n",
       "      <td>9.30608</td>\n",
       "      <td>-2.200330</td>\n",
       "      <td>-0.176941</td>\n",
       "      <td>69.29370</td>\n",
       "      <td>-2.256840</td>\n",
       "      <td>...</td>\n",
       "      <td>0.0</td>\n",
       "      <td>0.0</td>\n",
       "      <td>0.073204</td>\n",
       "      <td>0.0</td>\n",
       "      <td>0.0</td>\n",
       "      <td>0.073204</td>\n",
       "      <td>0.0</td>\n",
       "      <td>0.0</td>\n",
       "      <td>0.073204</td>\n",
       "      <td>0.0</td>\n",
       "    </tr>\n",
       "    <tr>\n",
       "      <th>12174</th>\n",
       "      <td>1.392990</td>\n",
       "      <td>0.000000</td>\n",
       "      <td>121.604000</td>\n",
       "      <td>0.581470</td>\n",
       "      <td>0.215141</td>\n",
       "      <td>6.92172</td>\n",
       "      <td>0.480303</td>\n",
       "      <td>0.218203</td>\n",
       "      <td>15.99220</td>\n",
       "      <td>0.283491</td>\n",
       "      <td>...</td>\n",
       "      <td>0.0</td>\n",
       "      <td>0.0</td>\n",
       "      <td>0.378084</td>\n",
       "      <td>0.0</td>\n",
       "      <td>0.0</td>\n",
       "      <td>0.378084</td>\n",
       "      <td>0.0</td>\n",
       "      <td>0.0</td>\n",
       "      <td>0.378084</td>\n",
       "      <td>0.0</td>\n",
       "    </tr>\n",
       "    <tr>\n",
       "      <th>12175</th>\n",
       "      <td>1.726060</td>\n",
       "      <td>0.327340</td>\n",
       "      <td>2.487510</td>\n",
       "      <td>1.110570</td>\n",
       "      <td>0.146760</td>\n",
       "      <td>1.12000</td>\n",
       "      <td>1.192300</td>\n",
       "      <td>0.000000</td>\n",
       "      <td>148.50200</td>\n",
       "      <td>1.248160</td>\n",
       "      <td>...</td>\n",
       "      <td>0.0</td>\n",
       "      <td>0.0</td>\n",
       "      <td>-2.665060</td>\n",
       "      <td>0.0</td>\n",
       "      <td>0.0</td>\n",
       "      <td>-2.665060</td>\n",
       "      <td>0.0</td>\n",
       "      <td>0.0</td>\n",
       "      <td>-2.665060</td>\n",
       "      <td>0.0</td>\n",
       "    </tr>\n",
       "    <tr>\n",
       "      <th>12176</th>\n",
       "      <td>0.945117</td>\n",
       "      <td>0.430210</td>\n",
       "      <td>106.430000</td>\n",
       "      <td>0.758524</td>\n",
       "      <td>0.000000</td>\n",
       "      <td>300.44300</td>\n",
       "      <td>0.779592</td>\n",
       "      <td>-0.063500</td>\n",
       "      <td>20.90690</td>\n",
       "      <td>1.556420</td>\n",
       "      <td>...</td>\n",
       "      <td>0.0</td>\n",
       "      <td>0.0</td>\n",
       "      <td>2.142970</td>\n",
       "      <td>0.0</td>\n",
       "      <td>0.0</td>\n",
       "      <td>2.142970</td>\n",
       "      <td>0.0</td>\n",
       "      <td>0.0</td>\n",
       "      <td>2.142970</td>\n",
       "      <td>0.0</td>\n",
       "    </tr>\n",
       "  </tbody>\n",
       "</table>\n",
       "<p>12177 rows × 108 columns</p>\n",
       "</div>"
      ],
      "text/plain": [
       "            1         2           3         4         5          6    \\\n",
       "0      2.304740  0.000000   78.943600  1.005190  0.515615   61.91150   \n",
       "1      2.351340  0.000000  176.076000  2.462330  0.683760   47.33550   \n",
       "2      0.492933 -0.629554   51.524700 -0.984489  0.903420   13.74630   \n",
       "3     -0.624329  0.000000  130.197000 -0.602316  0.006943   38.52260   \n",
       "4     -0.538961 -0.922292    0.819517  0.527734  1.228542    1.94989   \n",
       "...         ...       ...         ...       ...       ...        ...   \n",
       "12172  0.920302 -0.658336    2.733400  1.296590 -0.296641   31.02190   \n",
       "12173 -3.375520  0.481575    1.104380 -2.201780 -0.311740    9.30608   \n",
       "12174  1.392990  0.000000  121.604000  0.581470  0.215141    6.92172   \n",
       "12175  1.726060  0.327340    2.487510  1.110570  0.146760    1.12000   \n",
       "12176  0.945117  0.430210  106.430000  0.758524  0.000000  300.44300   \n",
       "\n",
       "            7         8          9         10   ...  99   100       101  102  \\\n",
       "0      1.255460  0.527353   48.97550  1.313450  ...  0.0  0.0 -0.221042  0.0   \n",
       "1      0.000000  2.184490    0.00000  0.000000  ...  0.0  0.0  2.184490  0.0   \n",
       "2      0.103217  0.004450    5.31666 -1.033300  ...  0.0  0.0 -1.396430  0.0   \n",
       "3     -0.541426 -0.117651   15.32440 -0.653142  ...  0.0  0.0 -0.566723  0.0   \n",
       "4      0.201740  0.612096    5.63418  0.225016  ...  0.0  0.0 -0.304648  0.0   \n",
       "...         ...       ...        ...       ...  ...  ...  ...       ...  ...   \n",
       "12172  1.439240  0.173937   41.04580  1.458750  ...  0.0  0.0  0.505784  0.0   \n",
       "12173 -2.200330 -0.176941   69.29370 -2.256840  ...  0.0  0.0  0.073204  0.0   \n",
       "12174  0.480303  0.218203   15.99220  0.283491  ...  0.0  0.0  0.378084  0.0   \n",
       "12175  1.192300  0.000000  148.50200  1.248160  ...  0.0  0.0 -2.665060  0.0   \n",
       "12176  0.779592 -0.063500   20.90690  1.556420  ...  0.0  0.0  2.142970  0.0   \n",
       "\n",
       "       103       104  105  106       107  108  \n",
       "0      0.0 -0.221042  0.0  0.0 -0.221042  0.0  \n",
       "1      0.0  2.184490  0.0  0.0  2.184490  0.0  \n",
       "2      0.0 -1.396430  0.0  0.0 -1.396430  0.0  \n",
       "3      0.0 -0.566723  0.0  0.0 -0.566723  0.0  \n",
       "4      0.0 -0.304648  0.0  0.0 -0.304648  0.0  \n",
       "...    ...       ...  ...  ...       ...  ...  \n",
       "12172  0.0  0.505784  0.0  0.0  0.505784  0.0  \n",
       "12173  0.0  0.073204  0.0  0.0  0.073204  0.0  \n",
       "12174  0.0  0.378084  0.0  0.0  0.378084  0.0  \n",
       "12175  0.0 -2.665060  0.0  0.0 -2.665060  0.0  \n",
       "12176  0.0  2.142970  0.0  0.0  2.142970  0.0  \n",
       "\n",
       "[12177 rows x 108 columns]"
      ]
     },
     "execution_count": 9,
     "metadata": {},
     "output_type": "execute_result"
    }
   ],
   "source": [
    "mydata_prime"
   ]
  },
  {
   "cell_type": "markdown",
   "metadata": {},
   "source": [
    "---"
   ]
  },
  {
   "cell_type": "markdown",
   "metadata": {},
   "source": [
    "### 🔵3. Rotation: Rotate image such that 2nd max pT is at 12 o'clock\n",
    "Rotate all constituents around (φ’,η’)=0 such that the constituent with the 2nd highest pT is at 12 o’clock, i.e. at  (φ’,η’)=(0,e) with e > 0.\n",
    "\n",
    "**Paper (C)** <br />\n",
    "\"Rotation: Rotation is performed to remove the stochastic nature of the decay\n",
    "angle relative to the η − φ coordinate system. This alignment can be done very\n",
    "generally, by determining the principle axis [48] of the original image and rotating the imagine around the jet-energy centroid such that the principle axis\n",
    "is always vertical.\"\n",
    "\n",
    "#### Resources\n",
    "https://stackoverflow.com/questions/53854066/pythonhow-to-rotate-an-image-so-that-a-feature-becomes-vertical\n",
    "\n",
    "https://alyssaq.github.io/2015/computing-the-axes-or-orientation-of-a-blob/\n",
    "\n",
    "https://pythontic.com/image-processing/pillow/rotate\n",
    "\n",
    "https://www.askpython.com/python/examples/rotate-an-image-by-an-angle-in-python\n",
    "\n",
    "https://www.pyimagesearch.com/2017/01/02/rotate-images-correctly-with-opencv-and-python/\n",
    "\n",
    "\n"
   ]
  },
  {
   "cell_type": "code",
   "execution_count": null,
   "metadata": {},
   "outputs": [],
   "source": []
  },
  {
   "cell_type": "markdown",
   "metadata": {},
   "source": [
    "---"
   ]
  },
  {
   "cell_type": "markdown",
   "metadata": {},
   "source": [
    "### 🔵4. Flip: Flip image so that 3rd max pT is in right-half plane\n",
    "Flip all the constituents such that the constituents with the 3rd highest pT is on the right, i.e. at (φ’,η’)=(f,e) with f > 0"
   ]
  },
  {
   "cell_type": "code",
   "execution_count": null,
   "metadata": {},
   "outputs": [],
   "source": []
  },
  {
   "cell_type": "markdown",
   "metadata": {},
   "source": [
    "---"
   ]
  },
  {
   "cell_type": "markdown",
   "metadata": {},
   "source": [
    "### 🔵5. Create 40x40 Image\n",
    "1. Define Data that will create the bins (η, φ) and will weigh the bins (pT)\n",
    "2. Using the bins, create a 2D histogram using numpy's histogram2d()\n",
    "3. Input the histogram as a DataFrame into Seaborn's heatmap()\n",
    "4. Tadaaaa\n"
   ]
  },
  {
   "cell_type": "markdown",
   "metadata": {},
   "source": [
    "---"
   ]
  },
  {
   "cell_type": "markdown",
   "metadata": {},
   "source": [
    "🔴 Define Bins Data (for histogram in the next step)\n",
    "\n",
    "This is done by combining all rows (events) into a single row for each coordinate (η, φ, pT). <br />"
   ]
  },
  {
   "cell_type": "code",
   "execution_count": 9,
   "metadata": {},
   "outputs": [
    {
     "name": "stdout",
     "output_type": "stream",
     "text": [
      "Time taken for bin_h: 55.60 seconds\n",
      "Time taken for bin_f: 55.61 seconds\n",
      "Time taken for bin_p: 55.61 seconds\n",
      "\n",
      "Bin lengths match! :D\n"
     ]
    }
   ],
   "source": [
    "# Initiate bin lists\n",
    "bin_h = []\n",
    "bin_f = []\n",
    "bin_p = []\n",
    "\n",
    "# Define max number of constituents \n",
    "max_const = mydata_prime.shape[1] // 3\n",
    "\n",
    "#######################################################################################################################\n",
    "# η Bin \n",
    "#######################################################################################################################\n",
    "\n",
    "start = time.time()\n",
    "\n",
    "# For all rows\n",
    "for i in range(mydata_prime.shape[0]):             \n",
    "\n",
    "    # For all constituents\n",
    "    for j in range(max_const):\n",
    "        # Add constituent's η to η bin\n",
    "        bin_h.append(list(mydata_prime.loc[i][::3])[j])\n",
    "        \n",
    "end = time.time()\n",
    "\n",
    "print('Time taken for bin_h: {0:.2f} seconds'.format(end-start))\n",
    "\n",
    "\n",
    "#######################################################################################################################\n",
    "# φ Bin \n",
    "#######################################################################################################################\n",
    "\n",
    "start = time.time()\n",
    "\n",
    "# For all rows\n",
    "for i in range(mydata_prime.shape[0]):\n",
    "\n",
    "    # For all constituents\n",
    "    for j in range(max_const):\n",
    "        # Add constituent's φ to φ bin\n",
    "        bin_f.append(list(mydata_prime.loc[i][1::3])[j])\n",
    "        \n",
    "end = time.time()\n",
    "\n",
    "print('Time taken for bin_f: {0:.2f} seconds'.format(end-start))\n",
    "\n",
    "#######################################################################################################################\n",
    "# pT Bin \n",
    "#######################################################################################################################\n",
    "\n",
    "start = time.time()\n",
    "\n",
    "# For all rows\n",
    "for i in range(mydata_prime.shape[0]):\n",
    "\n",
    "    # For all constituents\n",
    "    for j in range(max_const):\n",
    "        # Add constituent's pT to p bin\n",
    "        bin_p.append(list(mydata_prime.loc[i][2::3])[j])\n",
    "        \n",
    "end = time.time()\n",
    "\n",
    "print('Time taken for bin_p: {0:.2f} seconds'.format(end-start))\n",
    "\n",
    "#######################################################################################################################\n",
    "\n",
    "if (len(bin_h) == len(bin_f)) and (len(bin_f) == len(bin_p)):\n",
    "    print('\\nBin lengths match! :D')\n",
    "else:\n",
    "    print('\\nBin lengths don\\' match :  -  (')"
   ]
  },
  {
   "cell_type": "markdown",
   "metadata": {},
   "source": [
    "---"
   ]
  },
  {
   "cell_type": "markdown",
   "metadata": {},
   "source": [
    "🔴 Create 2D Histogram 🔴 Create Heatmap"
   ]
  },
  {
   "cell_type": "code",
   "execution_count": 17,
   "metadata": {},
   "outputs": [
    {
     "data": {
      "image/png": "[encoded data removed]",
      "text/plain": [
       "<Figure size 432x288 with 2 Axes>"
      ]
     },
     "metadata": {
      "needs_background": "light"
     },
     "output_type": "display_data"
    },
    {
     "data": {
      "image/png": "[encoded data removed]",
      "text/plain": [
       "<Figure size 432x288 with 2 Axes>"
      ]
     },
     "metadata": {
      "needs_background": "light"
     },
     "output_type": "display_data"
    },
    {
     "data": {
      "image/png": "[encoded data removed]",
      "text/plain": [
       "<Figure size 432x288 with 2 Axes>"
      ]
     },
     "metadata": {
      "needs_background": "light"
     },
     "output_type": "display_data"
    },
    {
     "data": {
      "image/png": "[encoded data removed]",
      "text/plain": [
       "<Figure size 432x288 with 2 Axes>"
      ]
     },
     "metadata": {
      "needs_background": "light"
     },
     "output_type": "display_data"
    },
    {
     "data": {
      "image/png": "[encoded data removed]",
      "text/plain": [
       "<Figure size 432x288 with 2 Axes>"
      ]
     },
     "metadata": {
      "needs_background": "light"
     },
     "output_type": "display_data"
    },
    {
     "data": {
      "image/png": "[encoded data removed]",
      "text/plain": [
       "<Figure size 432x288 with 2 Axes>"
      ]
     },
     "metadata": {
      "needs_background": "light"
     },
     "output_type": "display_data"
    },
    {
     "data": {
      "image/png": "[encoded data removed]",
      "text/plain": [
       "<Figure size 432x288 with 2 Axes>"
      ]
     },
     "metadata": {
      "needs_background": "light"
     },
     "output_type": "display_data"
    },
    {
     "data": {
      "image/png": "[encoded data removed]",
      "text/plain": [
       "<Figure size 432x288 with 2 Axes>"
      ]
     },
     "metadata": {
      "needs_background": "light"
     },
     "output_type": "display_data"
    },
    {
     "data": {
      "image/png": "[encoded data removed]",
      "text/plain": [
       "<Figure size 432x288 with 2 Axes>"
      ]
     },
     "metadata": {
      "needs_background": "light"
     },
     "output_type": "display_data"
    }
   ],
   "source": [
    "# Define bins data\n",
    "bin_h = pd.Series(bin_h)\n",
    "bin_f = pd.Series(bin_f)\n",
    "bin_p = pd.Series(bin_p)\n",
    "\n",
    "for i in [0.1, 1, 3, 5, 10, 100, 500, 1000, 2000]:\n",
    "    # Define bins count vector (jet radius: R, image pixels: 40x40)\n",
    "    R = 1.5\n",
    "    pixels = 40\n",
    "    bin_count = np.linspace(-i*R, i*R, pixels + 1)\n",
    "\n",
    "    # Create bins from -R to R (using bins vector)\n",
    "    bins = np.histogram2d(bin_f, bin_h, bins=bin_count, weights=bin_p)[0]\n",
    "\n",
    "    # Convert to DataFrame\n",
    "    bins = pd.DataFrame(bins)\n",
    "\n",
    "    # Display Full bins DataFrame\n",
    "    #display(bins)\n",
    "    \n",
    "    # Plot Heat Map\n",
    "    sns.heatmap(bins)\n",
    "    plt.title('(φ\\', η\\') ∈ [-{}R, {}R]'.format(i, i))\n",
    "    plt.xlabel('φ\\' pixels')\n",
    "    plt.ylabel('η\\' pixels')\n",
    "    plt.show()"
   ]
  },
  {
   "cell_type": "code",
   "execution_count": 13,
   "metadata": {},
   "outputs": [
    {
     "name": "stdout",
     "output_type": "stream",
     "text": [
      "-4.52544\n",
      "-6.27778\n",
      "4.37115\n",
      "6.2694600000000005\n"
     ]
    }
   ],
   "source": [
    "print(min(bin_h))\n",
    "print(min(bin_f))\n",
    "print(max(bin_h))\n",
    "print(max(bin_f))"
   ]
  },
  {
   "cell_type": "markdown",
   "metadata": {},
   "source": [
    "# With Tranfromed η (not lorentz-transformed, so probably incorrect)"
   ]
  },
  {
   "cell_type": "code",
   "execution_count": 15,
   "metadata": {},
   "outputs": [
    {
     "data": {
      "image/png": "[encoded data removed]",
      "text/plain": [
       "<Figure size 432x288 with 2 Axes>"
      ]
     },
     "metadata": {
      "needs_background": "light"
     },
     "output_type": "display_data"
    },
    {
     "data": {
      "image/png": "[encoded data removed]",
      "text/plain": [
       "<Figure size 432x288 with 2 Axes>"
      ]
     },
     "metadata": {
      "needs_background": "light"
     },
     "output_type": "display_data"
    },
    {
     "data": {
      "image/png": "[encoded data removed]",
      "text/plain": [
       "<Figure size 432x288 with 2 Axes>"
      ]
     },
     "metadata": {
      "needs_background": "light"
     },
     "output_type": "display_data"
    },
    {
     "data": {
      "image/png": "[encoded data removed]",
      "text/plain": [
       "<Figure size 432x288 with 2 Axes>"
      ]
     },
     "metadata": {
      "needs_background": "light"
     },
     "output_type": "display_data"
    },
    {
     "data": {
      "image/png": "[encoded data removed]",
      "text/plain": [
       "<Figure size 432x288 with 2 Axes>"
      ]
     },
     "metadata": {
      "needs_background": "light"
     },
     "output_type": "display_data"
    },
    {
     "data": {
      "image/png": "[encoded data removed]",
      "text/plain": [
       "<Figure size 432x288 with 2 Axes>"
      ]
     },
     "metadata": {
      "needs_background": "light"
     },
     "output_type": "display_data"
    },
    {
     "data": {
      "image/png": "[encoded data removed]",
      "text/plain": [
       "<Figure size 432x288 with 2 Axes>"
      ]
     },
     "metadata": {
      "needs_background": "light"
     },
     "output_type": "display_data"
    },
    {
     "data": {
      "image/png": "[encoded data removed]",
      "text/plain": [
       "<Figure size 432x288 with 2 Axes>"
      ]
     },
     "metadata": {
      "needs_background": "light"
     },
     "output_type": "display_data"
    },
    {
     "data": {
      "image/png": "[encoded data removed]",
      "text/plain": [
       "<Figure size 432x288 with 2 Axes>"
      ]
     },
     "metadata": {
      "needs_background": "light"
     },
     "output_type": "display_data"
    }
   ],
   "source": [
    "# Define bins data\n",
    "bin_h = pd.Series(bin_h)\n",
    "bin_f = pd.Series(bin_f)\n",
    "bin_p = pd.Series(bin_p)\n",
    "\n",
    "for i in [0.1, 1, 3, 5, 10, 100, 500, 1000, 2000]:\n",
    "    # Define bins count vector (jet radius: R, image pixels: 40x40)\n",
    "    R = 1.5\n",
    "    pixels = 40\n",
    "    bin_count = np.linspace(-i*R, i*R, pixels + 1)\n",
    "\n",
    "    # Create bins from -R to R (using bins vector)\n",
    "    bins = np.histogram2d(bin_f, bin_h, bins=bin_count, weights=bin_p)[0]\n",
    "\n",
    "    # Convert to DataFrame\n",
    "    bins = pd.DataFrame(bins)\n",
    "\n",
    "    # Display Full bins DataFrame\n",
    "    #display(bins)\n",
    "    \n",
    "    # Plot Heat Map\n",
    "    sns.heatmap(bins)\n",
    "    plt.title('(φ\\', η\\') ∈ [-{}R, {}R]'.format(i, i))\n",
    "    plt.xlabel('φ\\' pixels')\n",
    "    plt.ylabel('η\\' pixels')\n",
    "    plt.show()"
   ]
  },
  {
   "cell_type": "code",
   "execution_count": 11,
   "metadata": {},
   "outputs": [
    {
     "name": "stdout",
     "output_type": "stream",
     "text": [
      "-4.1471990000000005\n",
      "-6.27778\n",
      "4.052685\n",
      "6.2694600000000005\n"
     ]
    }
   ],
   "source": [
    "print(min(bin_h))\n",
    "print(min(bin_f))\n",
    "print(max(bin_h))\n",
    "print(max(bin_f))"
   ]
  },
  {
   "cell_type": "markdown",
   "metadata": {},
   "source": [
    "---"
   ]
  },
  {
   "cell_type": "markdown",
   "metadata": {},
   "source": [
    "🔴\n"
   ]
  },
  {
   "cell_type": "markdown",
   "metadata": {},
   "source": [
    "---"
   ]
  }
 ],
 "metadata": {
  "kernelspec": {
   "display_name": "Python 3",
   "language": "python",
   "name": "python3"
  },
  "language_info": {
   "codemirror_mode": {
    "name": "ipython",
    "version": 3
   },
   "file_extension": ".py",
   "mimetype": "text/x-python",
   "name": "python",
   "nbconvert_exporter": "python",
   "pygments_lexer": "ipython3",
   "version": "3.7.7"
  }
 },
 "nbformat": 4,
 "nbformat_minor": 4
}

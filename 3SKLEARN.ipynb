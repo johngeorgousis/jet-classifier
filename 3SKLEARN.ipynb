{
 "cells": [
  {
   "cell_type": "markdown",
   "metadata": {},
   "source": [
    "# ⭐Imports"
   ]
  },
  {
   "cell_type": "code",
   "execution_count": 1,
   "metadata": {},
   "outputs": [
    {
     "name": "stdout",
     "output_type": "stream",
     "text": [
      "TensorFlow Version:  2.1.0\n"
     ]
    }
   ],
   "source": [
    "from FUNCTIONS import *\n",
    "%matplotlib inline"
   ]
  },
  {
   "cell_type": "markdown",
   "metadata": {},
   "source": [
    "# ⭐ Build Classifier"
   ]
  },
  {
   "cell_type": "markdown",
   "metadata": {},
   "source": [
    "## 🔵 Preprocess Data "
   ]
  },
  {
   "cell_type": "code",
   "execution_count": 2,
   "metadata": {},
   "outputs": [],
   "source": [
    "# MAIN\n",
    "data_s = np.array(pd.read_csv('data/data_s_180k').iloc[:, 1:])\n",
    "data_b = np.array(pd.read_csv('data/data_b_180k').iloc[:, 1:])\n",
    "\n",
    "# Slice & Save\n",
    "events_no = int(30000)\n",
    "data_s = data_s[0:events_no*40, 0:40]\n",
    "data_b = data_b[0:events_no*40, 0:40]\n",
    "\n",
    "# # Save Datasets\n",
    "# pd.DataFrame(data_s).to_csv('data_s_1000')\n",
    "# pd.DataFrame(data_b).to_csv('data_b_1000')"
   ]
  },
  {
   "cell_type": "code",
   "execution_count": 3,
   "metadata": {},
   "outputs": [
    {
     "name": "stdout",
     "output_type": "stream",
     "text": [
      "Total Events: 60000\n",
      "Total Labels: 60000\n",
      "\n",
      "Shape:  (60000, 1600)\n",
      "\n",
      "Train:  (41820, 1600) (41820,)\n",
      "Val:  (9180, 1600) (9180,)\n",
      "Test:  (9000, 1600) (9000,)\n",
      " \n"
     ]
    },
    {
     "data": {
      "image/png": "[encoded data removed]",
      "text/plain": [
       "<Figure size 432x288 with 2 Axes>"
      ]
     },
     "metadata": {
      "needs_background": "light"
     },
     "output_type": "display_data"
    }
   ],
   "source": [
    "train_examples, train_labels, val_examples, val_labels, test_examples, test_labels = preprocess_ML_sklearn(data_s, data_b)\n",
    "\n",
    "import sklearn.discriminant_analysis\n",
    "random.seed(42)\n",
    "\n",
    "random_forest = RandomForestClassifier(random_state=42, n_jobs=-1)\n",
    "svm = SVC(random_state=42)\n",
    "adaboost = AdaBoostClassifier(random_state=42)\n",
    "KNN = sklearn.neighbors.KNeighborsClassifier()\n",
    "naive_bayes = MultinomialNB()\n",
    "BDT = sklearn.ensemble.GradientBoostingClassifier()\n",
    "decision_tree = DecisionTreeClassifier(random_state=42)\n",
    "naive_bayes_g = GaussianNB()\n",
    "bagging = BaggingClassifier(random_state=42, n_jobs=-1)\n",
    "SGD = sklearn.linear_model.SGDClassifier(random_state=42)\n",
    "LDA = sklearn.discriminant_analysis.LinearDiscriminantAnalysis()\n",
    "\n",
    "\n",
    "models = [naive_bayes, random_forest, svm, adaboost, KNN, BDT, decision_tree, naive_bayes_g, bagging, SGD, LDA]"
   ]
  },
  {
   "cell_type": "markdown",
   "metadata": {},
   "source": [
    "## 🔵 Create Models"
   ]
  },
  {
   "cell_type": "markdown",
   "metadata": {},
   "source": [
    "🔴 Instantiate Models"
   ]
  },
  {
   "cell_type": "code",
   "execution_count": 5,
   "metadata": {},
   "outputs": [],
   "source": [
    "import sklearn.discriminant_analysis\n",
    "random.seed(42)\n",
    "\n",
    "random_forest = RandomForestClassifier(random_state=42, n_jobs=-1)\n",
    "svm = SVC(random_state=42)\n",
    "adaboost = AdaBoostClassifier(random_state=42)\n",
    "KNN = sklearn.neighbors.KNeighborsClassifier()\n",
    "naive_bayes = MultinomialNB()\n",
    "BDT = sklearn.ensemble.GradientBoostingClassifier()\n",
    "decision_tree = DecisionTreeClassifier(random_state=42)\n",
    "naive_bayes_g = GaussianNB()\n",
    "bagging = BaggingClassifier(random_state=42, n_jobs=-1)\n",
    "SGD = sklearn.linear_model.SGDClassifier(random_state=42)\n",
    "LDA = sklearn.discriminant_analysis.LinearDiscriminantAnalysis()\n",
    "\n",
    "\n",
    "models = [naive_bayes, random_forest, svm, adaboost, KNN, BDT, decision_tree, naive_bayes_g, bagging, SGD, LDA]"
   ]
  },
  {
   "cell_type": "markdown",
   "metadata": {},
   "source": [
    "### 🔵 1. First Elimination\n",
    "**Initial Algorithms**: 11 </br>\n",
    "**After Elimination**: 5\n",
    "\n",
    "Also compare training times and see if more data improves accuracy (to justify 200k events)\n",
    "\n",
    "**Notes**\n",
    "- 100k signals and 100k backgrounds\n",
    "- No hyperparameter Tuning\n"
   ]
  },
  {
   "cell_type": "markdown",
   "metadata": {},
   "source": [
    "### 🔵 2. Second Elimination (SVMs, RF, MultiNB, KNN, Bagging, (maybe gradient boosting))\n",
    "\n",
    "**Initial Algorithms**: 5 </br>\n",
    "**After Elimination**: 2\n",
    "\n",
    "Also compare training times and see if more data improves accuracy (to justify 200k events)\n",
    "\n",
    "**Notes**\n",
    "- 100k signals and 100k backgrounds\n",
    "- With (light) Hyperparameter Tuning \n"
   ]
  },
  {
   "cell_type": "code",
   "execution_count": null,
   "metadata": {},
   "outputs": [],
   "source": []
  },
  {
   "cell_type": "markdown",
   "metadata": {},
   "source": [
    "### 🔵 3. Third Elimination\n",
    "**Initial Algorithms**: 5 </br>\n",
    "**After Elimination**: 2\n",
    "\n",
    "Also compare training times and see if more data improves accuracy (to justify 200k events with heavy hyperparameter tuning maybe)\n",
    "\n",
    "**Notes**\n",
    "- 2 mill signals and 2 mill backgrounds\n",
    "- With (light/heavy) Hyperparameter Tuning \n"
   ]
  },
  {
   "cell_type": "markdown",
   "metadata": {},
   "source": [
    "## 🔵 (Prep) Hyperparameter Tuning (Hardcore)"
   ]
  },
  {
   "cell_type": "code",
   "execution_count": 4,
   "metadata": {},
   "outputs": [],
   "source": [
    "# Naive Bayes\n",
    "alpha = [0.001, 0.01, 0.1, 0.5, 1, 1.5, 2]\n",
    "\n",
    "# Bagging\n",
    "n_estimators_bagging = [10, 20, 30, 50, 100, 200, 300]\n",
    "max_samples_bagging = [0.1, 0.2, 0.5, 1.0, 2.0, 3.0, 5.0]\n",
    "max_features_bagging = [0.5, 1.0, 2.0, 3.0, 50.0, 200]\n",
    "\n",
    "# Random Forests\n",
    "criterion = ['gini', 'entropy']\n",
    "n_estimators_rf = [100, 150, 200]\n",
    "max_depth_rf = [None, 1, 3, 5, 10]\n",
    "min_samples_leaf_rf = [5, 10]\n",
    "min_samples_split_rf = [5, 10]\n",
    "\n",
    "\n",
    "# SVC\n",
    "kernel = ['rbf']\n",
    "c_parameter = [0.0001, 0.001, 0.01, 0.1, 1, 10]\n",
    "gamma = [0.0001, 0.001, 0.01, 0.1, 1]\n",
    "\n",
    "\n",
    "# AdaBoost\n",
    "n_estimators_ada = [10, 30, 50, 100, 200, 500]\n",
    "learning_rate = [0.001, 0.01, 0.1, 0.5, 1, 1.5, 2]\n",
    "\n",
    "\n",
    "# Hyperparameters\n",
    "naive_bayes_parameters = {'alpha': alpha}\n",
    "naive_bayes_g_parameters = {'var_smoothing': np.logspace(0,-9, num=1000)}\n",
    "bagging_parameters = {'n_estimators': n_estimators_bagging, 'max_features': max_features_bagging, 'max_samples': max_samples_bagging}\n",
    "random_forest_parameters = {'n_estimators': n_estimators_rf, 'max_depth': max_depth_rf, 'min_samples_leaf': min_samples_leaf_rf, 'min_samples_split': min_samples_split_rf}\n",
    "svm_parameters = {'kernel': kernel, 'C': c_parameter, 'gamma': gamma}\n",
    "adaboost_parameters = {'n_estimators': n_estimators_ada, 'learning_rate': learning_rate}\n",
    "\n",
    "# Scoring object using accuracy\n",
    "scorer = make_scorer(accuracy_score)\n",
    "\n",
    "\n",
    "clfs_param =[(random_forest, random_forest_parameters), \n",
    "             (naive_bayes, naive_bayes_parameters), \n",
    "             (naive_bayes_g, naive_bayes_g_parameters), \n",
    "             (bagging, bagging_parameters),  \n",
    "             (svm, svm_parameters), \n",
    "             (adaboost, adaboost_parameters)]"
   ]
  },
  {
   "cell_type": "markdown",
   "metadata": {},
   "source": [
    "## 🔵 (Prep) Hyperparameter Tuning (Softcore)"
   ]
  },
  {
   "cell_type": "code",
   "execution_count": 5,
   "metadata": {},
   "outputs": [],
   "source": [
    "random_forest = RandomForestClassifier(random_state=42, n_jobs=-1)\n",
    "svm = SVC(random_state=42)\n",
    "KNN = sklearn.neighbors.KNeighborsClassifier()\n",
    "naive_bayes = MultinomialNB()\n",
    "BDT = sklearn.ensemble.GradientBoostingClassifier()\n",
    "bagging = BaggingClassifier(random_state=42, n_jobs=-1)"
   ]
  },
  {
   "cell_type": "code",
   "execution_count": 7,
   "metadata": {},
   "outputs": [],
   "source": [
    "from sklearn.metrics import accuracy_score\n",
    "from sklearn.model_selection import GridSearchCV\n",
    "from sklearn.metrics import make_scorer\n",
    "from time import time\n",
    "\n",
    "\n",
    "# Naive Bayes\n",
    "alpha = [0, 0.001, 0.01, 0.1, 0.5, 1, 1.5, 2, 5, 10, 15, 50]\n",
    "\n",
    "# Bagging\n",
    "n_estimators_bagging = [10, 20, 50, 100, 200, 300]\n",
    "max_samples_bagging = [0.1, 0.2, 0.5, 1.0, 2.0, 3.0]\n",
    "max_features_bagging = [0.5, 1.0, 2.0, 3.0, 50.0, 200]\n",
    "\n",
    "# Random Forests\n",
    "bootstrap = [True, False]\n",
    "criterion = ['gini', 'entropy']\n",
    "n_estimators_rf = [10, 50, 100, 200, 500, 1000, 2000, 5000]\n",
    "max_depth_rf = [10, 20, 40, 50, 70, 100, None]\n",
    "max_features_rf = ['auto', 'sqrt']\n",
    "min_samples_leaf_rf = [1, 2, 4, 8, 15, 40]\n",
    "min_samples_split_rf = [2, 5, 10, 30, 50]\n",
    "\n",
    "# SVC\n",
    "kernel = ['rbf']\n",
    "c_parameter = [0.1, 1, 10]\n",
    "gamma = [0.001, 0.01, 0.1, 1, 5]\n",
    "\n",
    "\n",
    "# KNN\n",
    "n_neighbors=[1, 2, 5, 10, 20, 30]\n",
    "leaf_size_KNN=[1, 5, 10, 20, 30, 50]\n",
    "p=[1, 2]\n",
    "\n",
    "# GradientBoosting\n",
    "n_estimators_GB = [10, 50, 100, 500, 2000]\n",
    "learning_rate_GB = [0.01, 0.1, 1, 3]\n",
    "min_samples_split_GB = [1, 2, 10]\n",
    "min_samples_leaf_GB = [1, 5, 10]\n",
    "max_depth_GB = [1, 3, 10, 50]\n",
    "\n",
    "\n",
    "\n",
    "# Hyperparameters\n",
    "naive_bayes_parameters = {'alpha': alpha}\n",
    "bagging_parameters = {'n_estimators': n_estimators_bagging, 'max_features': max_features_bagging, 'max_samples': max_samples_bagging}\n",
    "random_forest_parameters = {'bootstrap': bootstrap, 'criterion': criterion, 'max_features':max_features_rf, 'n_estimators': n_estimators_rf, 'max_depth': max_depth_rf, 'min_samples_leaf': min_samples_leaf_rf, 'min_samples_split': min_samples_split_rf}\n",
    "svm_parameters = {'kernel': kernel, 'C': c_parameter, 'gamma': gamma}\n",
    "GB_parameters = {'n_estimators_': n_estimators_GB, 'learning_rate': learning_rate_GB, 'min_samples_split': min_samples_split_GB, 'min_samples_split': min_samples_split_GB, 'min_samples_leaf': min_samples_leaf_GB, 'max_depth': max_depth_GB}\n",
    "KNN_parameters = {'n_neighbors': n_neighbors, 'leaf_size': leaf_size_KNN, 'p': p}\n",
    "\n",
    "# Scoring object using accuracy\n",
    "scorer = make_scorer(f1_score)\n",
    "\n",
    "\n",
    "clfs_param =[(naive_bayes, naive_bayes_parameters), \n",
    "             (random_forest, random_forest_parameters),\n",
    "             (KNN, KNN_parameters),\n",
    "             (BDT, GB_parameters),\n",
    "             (bagging, bagging_parameters),\n",
    "             (svm, svm_parameters)]"
   ]
  },
  {
   "cell_type": "markdown",
   "metadata": {},
   "source": [
    "## 🔵 Hyperparameter Tuning"
   ]
  },
  {
   "cell_type": "code",
   "execution_count": null,
   "metadata": {},
   "outputs": [
    {
     "name": "stdout",
     "output_type": "stream",
     "text": [
      "\n",
      "RandomForestClassifier\n",
      "\n"
     ]
    }
   ],
   "source": [
    "# Create list to store models\n",
    "models = []\n",
    "unopt_f1 = []\n",
    "f1 = []\n",
    "\n",
    "# Perform grid search\n",
    "for clf, parameter in clfs_param:\n",
    "    print('\\n{}\\n'.format(clf.__class__.__name__))\n",
    "    \n",
    "    grid_obj = GridSearchCV(clf, parameter, scoring=scorer, n_jobs = 6)\n",
    "    \n",
    "    # Perform grid search\n",
    "    start = time.time()\n",
    "    grid_fit = grid_obj.fit(train_examples, train_labels)\n",
    "    end = time.time()\n",
    "    print('Time to tune: {}s'.format(round(end - start), 2))\n",
    "    \n",
    "    # Get best estimator\n",
    "    best_clf = grid_fit.best_estimator_\n",
    "    models.append(best_clf)\n",
    "    \n",
    "    # Make predictions using the unoptimized and model\n",
    "    start = time.time()\n",
    "    predictions = (clf.fit(train_examples, train_labels)).predict(val_examples)\n",
    "    best_predictions = best_clf.predict(val_examples)\n",
    "    \n",
    "    predictions_train = (clf.fit(train_examples, train_labels)).predict(train_examples)\n",
    "    best_predictions_train = best_clf.predict(train_examples)\n",
    "    end = time.time()\n",
    "    print('Time to fit-predict: {}s\\n'.format(round(end - start), 2))\n",
    "    \n",
    "    # Check hyperparameters\n",
    "    print('Unoptimised: {}\\n'.format(clf.get_params(deep = True)))\n",
    "    print('Optimised: {}\\n'.format(best_clf.get_params(deep = True)))\n",
    "    \n",
    "    # Print Results\n",
    "    print(\"\\nUnoptimised-f1-training: {:.4f}\".format(f1_score(train_labels, predictions_train)))\n",
    "    print(\"Optimised-f1-training: {:.4f}\".format(f1_score(train_labels, best_predictions_train)))\n",
    "    \n",
    "    print(\"\\nUnoptimised-f1-validation: {:.4f}\".format(f1_score(val_labels, predictions)))\n",
    "    print(\"Optimised-f1-validation: {:.4f}\".format(f1_score(val_labels, best_predictions)))\n",
    "    \n",
    "    print('\\n\\n=============================================================================================')\n",
    "    \n",
    "    unopt_f1.append(accuracy_score(val_labels, predictions))\n",
    "    f1.append(accuracy_score(val_labels, best_predictions))\n",
    "    \n",
    "print('All unoptimised f1 (validation): {}'.format(unopt_f1))\n",
    "print('Best unoptimised f1 (validation): {}\\n'.format(max(unopt_f1)))\n",
    "print('All optimised f1 (validation): {}'.format(f1))\n",
    "print('Best optimised f1 (validation): {}'.format(max(f1)))"
   ]
  },
  {
   "cell_type": "markdown",
   "metadata": {},
   "source": [
    "## 🔵 Model Performance"
   ]
  },
  {
   "cell_type": "code",
   "execution_count": null,
   "metadata": {},
   "outputs": [],
   "source": [
    "# Compare f1 score\n",
    "compare_f1(models, test_examples, test_labels)"
   ]
  },
  {
   "cell_type": "code",
   "execution_count": null,
   "metadata": {},
   "outputs": [],
   "source": [
    "# Plot Confusion Matrices\n",
    "cmx_sklearn(models, test_examples, test_labels)"
   ]
  },
  {
   "cell_type": "markdown",
   "metadata": {},
   "source": [
    "## 🔵 Bagging RF"
   ]
  },
  {
   "cell_type": "code",
   "execution_count": null,
   "metadata": {},
   "outputs": [],
   "source": [
    "model_bagg = models[2]\n",
    "model_rf = models[3]\n",
    "\n",
    "\n",
    "bagg_param_final = {'base_estimator': [model_rf], 'n_estimators': [300, 500], 'max_features': [0.2, 0.3, 0.5, 0.7], 'max_samples': [1.0]}\n",
    "\n",
    "\n",
    "print('\\n{}\\n'.format(clf.__class__.__name__))\n",
    "\n",
    "grid_obj = GridSearchCV(model_bagg, bagg_param_final, scoring=scorer, n_jobs = 6, verbose = 5)\n",
    "\n",
    "\n",
    "# Perform grid search\n",
    "start = time.time()\n",
    "grid_fit = grid_obj.fit(train_examples, train_labels)\n",
    "end = time.time()\n",
    "print('Time to tune: {}s\\n'.format(round(end - start), 2))\n",
    "\n",
    "# Get best estimator\n",
    "best_clf = grid_fit.best_estimator_\n",
    "models.append(best_clf)\n",
    "\n",
    "# Make predictions using the unoptimized and model\n",
    "predictions = (model_bagg.fit(train_examples, train_labels)).predict(val_examples)\n",
    "best_predictions = best_clf.predict(val_examples)\n",
    "\n",
    "predictions_train = (model_bagg.fit(train_examples, train_labels)).predict(train_examples)\n",
    "best_predictions_train = best_clf.predict(train_examples)\n",
    "\n",
    "# Check hyperparameters\n",
    "print('Unoptomised: {}\\n'.format(model_bagg.get_params(deep = True)))\n",
    "print('Optomised: {}\\n'.format(best_clf.get_params(deep = True)))\n",
    "\n",
    "# Print Results\n",
    "print(\"\\nUnoptimised-Accuracy-Training: {:.4f}\".format(accuracy_score(train_labels, predictions_train)))\n",
    "print(\"Optimised-Accuracy-training: {:.4f}\".format(accuracy_score(train_labels, best_predictions_train)))\n",
    "\n",
    "print(\"\\nUnoptimised-Accuracy-validation: {:.4f}\".format(accuracy_score(val_labels, predictions)))\n",
    "print(\"Optimised-Accuracy-validation: {:.4f}\".format(accuracy_score(val_labels, best_predictions)))\n",
    "\n",
    "print('\\n \\n \\n=============================================================================================')\n",
    "\n",
    "unopt_f1.append(accuracy_score(val_labels, predictions))\n",
    "f1.append(accuracy_score(val_labels, best_predictions))"
   ]
  },
  {
   "cell_type": "code",
   "execution_count": null,
   "metadata": {},
   "outputs": [],
   "source": []
  },
  {
   "cell_type": "code",
   "execution_count": null,
   "metadata": {},
   "outputs": [],
   "source": []
  },
  {
   "cell_type": "code",
   "execution_count": null,
   "metadata": {},
   "outputs": [],
   "source": []
  },
  {
   "cell_type": "code",
   "execution_count": null,
   "metadata": {},
   "outputs": [],
   "source": []
  },
  {
   "cell_type": "code",
   "execution_count": null,
   "metadata": {},
   "outputs": [],
   "source": []
  },
  {
   "cell_type": "code",
   "execution_count": null,
   "metadata": {},
   "outputs": [],
   "source": []
  },
  {
   "cell_type": "code",
   "execution_count": null,
   "metadata": {},
   "outputs": [],
   "source": []
  },
  {
   "cell_type": "code",
   "execution_count": null,
   "metadata": {},
   "outputs": [],
   "source": []
  },
  {
   "cell_type": "code",
   "execution_count": null,
   "metadata": {},
   "outputs": [],
   "source": []
  },
  {
   "cell_type": "code",
   "execution_count": null,
   "metadata": {},
   "outputs": [],
   "source": []
  },
  {
   "cell_type": "code",
   "execution_count": null,
   "metadata": {},
   "outputs": [],
   "source": []
  },
  {
   "cell_type": "code",
   "execution_count": null,
   "metadata": {},
   "outputs": [],
   "source": []
  },
  {
   "cell_type": "code",
   "execution_count": null,
   "metadata": {},
   "outputs": [],
   "source": []
  },
  {
   "cell_type": "code",
   "execution_count": null,
   "metadata": {},
   "outputs": [],
   "source": []
  },
  {
   "cell_type": "code",
   "execution_count": null,
   "metadata": {},
   "outputs": [],
   "source": []
  },
  {
   "cell_type": "code",
   "execution_count": null,
   "metadata": {},
   "outputs": [],
   "source": []
  },
  {
   "cell_type": "code",
   "execution_count": null,
   "metadata": {},
   "outputs": [],
   "source": []
  },
  {
   "cell_type": "code",
   "execution_count": null,
   "metadata": {},
   "outputs": [],
   "source": []
  },
  {
   "cell_type": "code",
   "execution_count": null,
   "metadata": {},
   "outputs": [],
   "source": []
  },
  {
   "cell_type": "code",
   "execution_count": null,
   "metadata": {},
   "outputs": [],
   "source": []
  },
  {
   "cell_type": "code",
   "execution_count": null,
   "metadata": {},
   "outputs": [],
   "source": []
  },
  {
   "cell_type": "code",
   "execution_count": null,
   "metadata": {},
   "outputs": [],
   "source": []
  },
  {
   "cell_type": "code",
   "execution_count": null,
   "metadata": {},
   "outputs": [],
   "source": []
  },
  {
   "cell_type": "code",
   "execution_count": null,
   "metadata": {},
   "outputs": [],
   "source": []
  },
  {
   "cell_type": "code",
   "execution_count": null,
   "metadata": {},
   "outputs": [],
   "source": []
  },
  {
   "cell_type": "code",
   "execution_count": null,
   "metadata": {},
   "outputs": [],
   "source": []
  },
  {
   "cell_type": "code",
   "execution_count": null,
   "metadata": {},
   "outputs": [],
   "source": []
  },
  {
   "cell_type": "code",
   "execution_count": null,
   "metadata": {},
   "outputs": [],
   "source": []
  },
  {
   "cell_type": "code",
   "execution_count": null,
   "metadata": {},
   "outputs": [],
   "source": []
  },
  {
   "cell_type": "code",
   "execution_count": null,
   "metadata": {},
   "outputs": [],
   "source": []
  },
  {
   "cell_type": "code",
   "execution_count": null,
   "metadata": {},
   "outputs": [],
   "source": []
  },
  {
   "cell_type": "code",
   "execution_count": null,
   "metadata": {},
   "outputs": [],
   "source": []
  },
  {
   "cell_type": "code",
   "execution_count": null,
   "metadata": {},
   "outputs": [],
   "source": []
  },
  {
   "cell_type": "code",
   "execution_count": null,
   "metadata": {},
   "outputs": [],
   "source": []
  },
  {
   "cell_type": "code",
   "execution_count": null,
   "metadata": {},
   "outputs": [],
   "source": []
  },
  {
   "cell_type": "code",
   "execution_count": null,
   "metadata": {},
   "outputs": [],
   "source": []
  },
  {
   "cell_type": "code",
   "execution_count": null,
   "metadata": {},
   "outputs": [],
   "source": []
  },
  {
   "cell_type": "code",
   "execution_count": null,
   "metadata": {},
   "outputs": [],
   "source": []
  },
  {
   "cell_type": "code",
   "execution_count": null,
   "metadata": {},
   "outputs": [],
   "source": []
  },
  {
   "cell_type": "code",
   "execution_count": null,
   "metadata": {},
   "outputs": [],
   "source": []
  },
  {
   "cell_type": "code",
   "execution_count": null,
   "metadata": {},
   "outputs": [],
   "source": []
  },
  {
   "cell_type": "code",
   "execution_count": null,
   "metadata": {},
   "outputs": [],
   "source": []
  },
  {
   "cell_type": "code",
   "execution_count": null,
   "metadata": {},
   "outputs": [],
   "source": []
  },
  {
   "cell_type": "code",
   "execution_count": null,
   "metadata": {},
   "outputs": [],
   "source": []
  },
  {
   "cell_type": "code",
   "execution_count": null,
   "metadata": {},
   "outputs": [],
   "source": []
  },
  {
   "cell_type": "code",
   "execution_count": null,
   "metadata": {},
   "outputs": [],
   "source": []
  },
  {
   "cell_type": "code",
   "execution_count": null,
   "metadata": {},
   "outputs": [],
   "source": []
  }
 ],
 "metadata": {
  "kernelspec": {
   "display_name": "Python 3",
   "language": "python",
   "name": "python3"
  },
  "language_info": {
   "codemirror_mode": {
    "name": "ipython",
    "version": 3
   },
   "file_extension": ".py",
   "mimetype": "text/x-python",
   "name": "python",
   "nbconvert_exporter": "python",
   "pygments_lexer": "ipython3",
   "version": "3.7.7"
  }
 },
 "nbformat": 4,
 "nbformat_minor": 4
}

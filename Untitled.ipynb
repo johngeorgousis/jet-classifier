{
 "cells": [
  {
   "cell_type": "code",
   "execution_count": 39,
   "metadata": {},
   "outputs": [
    {
     "name": "stdout",
     "output_type": "stream",
     "text": [
      "For a in eV: \n",
      "9.213257110376263\n",
      "25.34848702723085\n",
      "49.125431632868285\n",
      "80.63800956641968\n"
     ]
    }
   ],
   "source": [
    "def Z(A, mp=938, mn=940, aa=23.3, ac=0.697):\n",
    "    return A*(4*aa + mn-mp)/(2*ac*A**(2/3)+8*aa)\n",
    "\n",
    "print('For a in eV: ')\n",
    "for A in [19, 55, 113, 198]:\n",
    "    print(Z(A))"
   ]
  },
  {
   "cell_type": "code",
   "execution_count": null,
   "metadata": {},
   "outputs": [],
   "source": []
  }
 ],
 "metadata": {
  "kernelspec": {
   "display_name": "Python 3",
   "language": "python",
   "name": "python3"
  },
  "language_info": {
   "codemirror_mode": {
    "name": "ipython",
    "version": 3
   },
   "file_extension": ".py",
   "mimetype": "text/x-python",
   "name": "python",
   "nbconvert_exporter": "python",
   "pygments_lexer": "ipython3",
   "version": "3.7.7"
  }
 },
 "nbformat": 4,
 "nbformat_minor": 4
}
